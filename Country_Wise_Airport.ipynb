{
 "cells": [
  {
   "cell_type": "code",
   "execution_count": 2,
   "metadata": {},
   "outputs": [],
   "source": [
    "import pandas as pd\n",
    "import numpy as np\n",
    "import matplotlib.pyplot as plt\n",
    "import plotly.express as px"
   ]
  },
  {
   "cell_type": "code",
   "execution_count": 3,
   "metadata": {},
   "outputs": [],
   "source": [
    "df = pd.read_csv('data/Country Wise Airport.csv')"
   ]
  },
  {
   "cell_type": "code",
   "execution_count": 6,
   "metadata": {},
   "outputs": [
    {
     "data": {
      "text/html": [
       "<div>\n",
       "<style scoped>\n",
       "    .dataframe tbody tr th:only-of-type {\n",
       "        vertical-align: middle;\n",
       "    }\n",
       "\n",
       "    .dataframe tbody tr th {\n",
       "        vertical-align: top;\n",
       "    }\n",
       "\n",
       "    .dataframe thead th {\n",
       "        text-align: right;\n",
       "    }\n",
       "</style>\n",
       "<table border=\"1\" class=\"dataframe\">\n",
       "  <thead>\n",
       "    <tr style=\"text-align: right;\">\n",
       "      <th></th>\n",
       "      <th>Country of Nationality</th>\n",
       "      <th>2014 Delhi (Airport)</th>\n",
       "      <th>2014 Mumbai (Airport)</th>\n",
       "      <th>2014 Chennai (Airport)</th>\n",
       "      <th>2014 Calicut (Airport)</th>\n",
       "      <th>2014 Benguluru (Airport)</th>\n",
       "      <th>2014 Kolkata (Airport)</th>\n",
       "      <th>2014 Hyderabad (Airport)</th>\n",
       "      <th>2014 Cochin (Airport)</th>\n",
       "      <th>2015 Delhi (Airport)</th>\n",
       "      <th>...</th>\n",
       "      <th>2019 Hyderabad (Airport)</th>\n",
       "      <th>2019 Cochin (Airport)</th>\n",
       "      <th>2020 Delhi (Airport)</th>\n",
       "      <th>2020 Mumbai (Airport)</th>\n",
       "      <th>2020 Chennai (Airport)</th>\n",
       "      <th>2020 Calicut (Airport)</th>\n",
       "      <th>2020 Benguluru (Airport)</th>\n",
       "      <th>2020 Kolkata (Airport)</th>\n",
       "      <th>2020 Hyderabad (Airport)</th>\n",
       "      <th>2020 Cochin (Airport)</th>\n",
       "    </tr>\n",
       "  </thead>\n",
       "  <tbody>\n",
       "    <tr>\n",
       "      <th>0</th>\n",
       "      <td>Canada</td>\n",
       "      <td>21.1</td>\n",
       "      <td>1.3</td>\n",
       "      <td>6.0</td>\n",
       "      <td>53.5</td>\n",
       "      <td>4.4</td>\n",
       "      <td>2.8</td>\n",
       "      <td>10.9</td>\n",
       "      <td>0</td>\n",
       "      <td>19.7</td>\n",
       "      <td>...</td>\n",
       "      <td>3.3</td>\n",
       "      <td>2.8</td>\n",
       "      <td>71.7</td>\n",
       "      <td>10.5</td>\n",
       "      <td>2.6</td>\n",
       "      <td>0.2</td>\n",
       "      <td>3.9</td>\n",
       "      <td>0.5</td>\n",
       "      <td>2.6</td>\n",
       "      <td>2.5</td>\n",
       "    </tr>\n",
       "    <tr>\n",
       "      <th>1</th>\n",
       "      <td>United States Of America</td>\n",
       "      <td>25.8</td>\n",
       "      <td>2.0</td>\n",
       "      <td>8.3</td>\n",
       "      <td>31.1</td>\n",
       "      <td>10.2</td>\n",
       "      <td>8.9</td>\n",
       "      <td>13.7</td>\n",
       "      <td>0</td>\n",
       "      <td>23.9</td>\n",
       "      <td>...</td>\n",
       "      <td>13.7</td>\n",
       "      <td>2.6</td>\n",
       "      <td>40.1</td>\n",
       "      <td>22.3</td>\n",
       "      <td>7.1</td>\n",
       "      <td>0.1</td>\n",
       "      <td>8.7</td>\n",
       "      <td>1.9</td>\n",
       "      <td>11.7</td>\n",
       "      <td>2.0</td>\n",
       "    </tr>\n",
       "    <tr>\n",
       "      <th>2</th>\n",
       "      <td>Argentina</td>\n",
       "      <td>18.7</td>\n",
       "      <td>3.0</td>\n",
       "      <td>4.1</td>\n",
       "      <td>57.1</td>\n",
       "      <td>5.7</td>\n",
       "      <td>1.5</td>\n",
       "      <td>9.9</td>\n",
       "      <td>0</td>\n",
       "      <td>17.3</td>\n",
       "      <td>...</td>\n",
       "      <td>3.5</td>\n",
       "      <td>1.1</td>\n",
       "      <td>30.4</td>\n",
       "      <td>34.7</td>\n",
       "      <td>6.4</td>\n",
       "      <td>0.0</td>\n",
       "      <td>11.5</td>\n",
       "      <td>2.0</td>\n",
       "      <td>3.7</td>\n",
       "      <td>5.3</td>\n",
       "    </tr>\n",
       "    <tr>\n",
       "      <th>3</th>\n",
       "      <td>Brazil</td>\n",
       "      <td>22.0</td>\n",
       "      <td>2.6</td>\n",
       "      <td>5.6</td>\n",
       "      <td>49.0</td>\n",
       "      <td>10.1</td>\n",
       "      <td>2.8</td>\n",
       "      <td>7.9</td>\n",
       "      <td>0</td>\n",
       "      <td>20.6</td>\n",
       "      <td>...</td>\n",
       "      <td>6.2</td>\n",
       "      <td>3.3</td>\n",
       "      <td>32.8</td>\n",
       "      <td>46.1</td>\n",
       "      <td>4.4</td>\n",
       "      <td>0.1</td>\n",
       "      <td>4.5</td>\n",
       "      <td>0.6</td>\n",
       "      <td>3.1</td>\n",
       "      <td>2.6</td>\n",
       "    </tr>\n",
       "    <tr>\n",
       "      <th>4</th>\n",
       "      <td>Mexico</td>\n",
       "      <td>14.7</td>\n",
       "      <td>2.1</td>\n",
       "      <td>6.1</td>\n",
       "      <td>62.8</td>\n",
       "      <td>5.7</td>\n",
       "      <td>1.9</td>\n",
       "      <td>6.7</td>\n",
       "      <td>0</td>\n",
       "      <td>15.8</td>\n",
       "      <td>...</td>\n",
       "      <td>1.6</td>\n",
       "      <td>1.1</td>\n",
       "      <td>36.8</td>\n",
       "      <td>36.3</td>\n",
       "      <td>7.2</td>\n",
       "      <td>0.1</td>\n",
       "      <td>12.1</td>\n",
       "      <td>1.5</td>\n",
       "      <td>2.8</td>\n",
       "      <td>0.5</td>\n",
       "    </tr>\n",
       "    <tr>\n",
       "      <th>...</th>\n",
       "      <td>...</td>\n",
       "      <td>...</td>\n",
       "      <td>...</td>\n",
       "      <td>...</td>\n",
       "      <td>...</td>\n",
       "      <td>...</td>\n",
       "      <td>...</td>\n",
       "      <td>...</td>\n",
       "      <td>...</td>\n",
       "      <td>...</td>\n",
       "      <td>...</td>\n",
       "      <td>...</td>\n",
       "      <td>...</td>\n",
       "      <td>...</td>\n",
       "      <td>...</td>\n",
       "      <td>...</td>\n",
       "      <td>...</td>\n",
       "      <td>...</td>\n",
       "      <td>...</td>\n",
       "      <td>...</td>\n",
       "      <td>...</td>\n",
       "    </tr>\n",
       "    <tr>\n",
       "      <th>58</th>\n",
       "      <td>Japan</td>\n",
       "      <td>12.2</td>\n",
       "      <td>3.2</td>\n",
       "      <td>8.6</td>\n",
       "      <td>52.1</td>\n",
       "      <td>9.2</td>\n",
       "      <td>1.8</td>\n",
       "      <td>12.9</td>\n",
       "      <td>0</td>\n",
       "      <td>14.9</td>\n",
       "      <td>...</td>\n",
       "      <td>3.9</td>\n",
       "      <td>3.5</td>\n",
       "      <td>48.5</td>\n",
       "      <td>26.7</td>\n",
       "      <td>8.8</td>\n",
       "      <td>0.0</td>\n",
       "      <td>6.8</td>\n",
       "      <td>2.9</td>\n",
       "      <td>1.9</td>\n",
       "      <td>1.5</td>\n",
       "    </tr>\n",
       "    <tr>\n",
       "      <th>59</th>\n",
       "      <td>Korea (Republic Of</td>\n",
       "      <td>12.9</td>\n",
       "      <td>3.0</td>\n",
       "      <td>9.0</td>\n",
       "      <td>61.8</td>\n",
       "      <td>8.6</td>\n",
       "      <td>1.2</td>\n",
       "      <td>3.5</td>\n",
       "      <td>0</td>\n",
       "      <td>13.3</td>\n",
       "      <td>...</td>\n",
       "      <td>3.1</td>\n",
       "      <td>1.6</td>\n",
       "      <td>53.4</td>\n",
       "      <td>21.8</td>\n",
       "      <td>6.0</td>\n",
       "      <td>0.1</td>\n",
       "      <td>7.5</td>\n",
       "      <td>3.5</td>\n",
       "      <td>2.0</td>\n",
       "      <td>1.4</td>\n",
       "    </tr>\n",
       "    <tr>\n",
       "      <th>60</th>\n",
       "      <td>Republic Of China Taiwan</td>\n",
       "      <td>18.2</td>\n",
       "      <td>3.9</td>\n",
       "      <td>18.1</td>\n",
       "      <td>43.1</td>\n",
       "      <td>6.2</td>\n",
       "      <td>1.9</td>\n",
       "      <td>8.6</td>\n",
       "      <td>0</td>\n",
       "      <td>20.2</td>\n",
       "      <td>...</td>\n",
       "      <td>3.8</td>\n",
       "      <td>1.5</td>\n",
       "      <td>33.1</td>\n",
       "      <td>20.5</td>\n",
       "      <td>12.7</td>\n",
       "      <td>0.1</td>\n",
       "      <td>10.2</td>\n",
       "      <td>7.7</td>\n",
       "      <td>4.3</td>\n",
       "      <td>1.6</td>\n",
       "    </tr>\n",
       "    <tr>\n",
       "      <th>61</th>\n",
       "      <td>Australia</td>\n",
       "      <td>17.9</td>\n",
       "      <td>3.9</td>\n",
       "      <td>10.0</td>\n",
       "      <td>37.4</td>\n",
       "      <td>8.6</td>\n",
       "      <td>5.8</td>\n",
       "      <td>16.4</td>\n",
       "      <td>0</td>\n",
       "      <td>3.7</td>\n",
       "      <td>...</td>\n",
       "      <td>6.0</td>\n",
       "      <td>14.3</td>\n",
       "      <td>39.0</td>\n",
       "      <td>13.0</td>\n",
       "      <td>7.2</td>\n",
       "      <td>0.1</td>\n",
       "      <td>7.2</td>\n",
       "      <td>2.2</td>\n",
       "      <td>8.9</td>\n",
       "      <td>2.2</td>\n",
       "    </tr>\n",
       "    <tr>\n",
       "      <th>62</th>\n",
       "      <td>New Zealand</td>\n",
       "      <td>27.5</td>\n",
       "      <td>3.6</td>\n",
       "      <td>7.7</td>\n",
       "      <td>36.9</td>\n",
       "      <td>6.2</td>\n",
       "      <td>5.8</td>\n",
       "      <td>12.3</td>\n",
       "      <td>0</td>\n",
       "      <td>3.3</td>\n",
       "      <td>...</td>\n",
       "      <td>8.3</td>\n",
       "      <td>5.6</td>\n",
       "      <td>48.7</td>\n",
       "      <td>19.5</td>\n",
       "      <td>5.2</td>\n",
       "      <td>0.0</td>\n",
       "      <td>5.9</td>\n",
       "      <td>1.5</td>\n",
       "      <td>3.9</td>\n",
       "      <td>9.0</td>\n",
       "    </tr>\n",
       "  </tbody>\n",
       "</table>\n",
       "<p>63 rows × 57 columns</p>\n",
       "</div>"
      ],
      "text/plain": [
       "      Country of Nationality  2014 Delhi (Airport)   2014 Mumbai (Airport)  \\\n",
       "0                     Canada                  21.1                     1.3   \n",
       "1   United States Of America                  25.8                     2.0   \n",
       "2                  Argentina                  18.7                     3.0   \n",
       "3                     Brazil                  22.0                     2.6   \n",
       "4                     Mexico                  14.7                     2.1   \n",
       "..                       ...                   ...                     ...   \n",
       "58                     Japan                  12.2                     3.2   \n",
       "59       Korea (Republic Of                   12.9                     3.0   \n",
       "60  Republic Of China Taiwan                  18.2                     3.9   \n",
       "61                 Australia                  17.9                     3.9   \n",
       "62               New Zealand                  27.5                     3.6   \n",
       "\n",
       "     2014 Chennai (Airport)  2014 Calicut (Airport)  2014 Benguluru (Airport)  \\\n",
       "0                       6.0                    53.5                       4.4   \n",
       "1                       8.3                    31.1                      10.2   \n",
       "2                       4.1                    57.1                       5.7   \n",
       "3                       5.6                    49.0                      10.1   \n",
       "4                       6.1                    62.8                       5.7   \n",
       "..                      ...                     ...                       ...   \n",
       "58                      8.6                    52.1                       9.2   \n",
       "59                      9.0                    61.8                       8.6   \n",
       "60                     18.1                    43.1                       6.2   \n",
       "61                     10.0                    37.4                       8.6   \n",
       "62                      7.7                    36.9                       6.2   \n",
       "\n",
       "    2014 Kolkata (Airport)  2014 Hyderabad (Airport)  2014 Cochin (Airport)   \\\n",
       "0                      2.8                      10.9                       0   \n",
       "1                      8.9                      13.7                       0   \n",
       "2                      1.5                       9.9                       0   \n",
       "3                      2.8                       7.9                       0   \n",
       "4                      1.9                       6.7                       0   \n",
       "..                     ...                       ...                     ...   \n",
       "58                     1.8                      12.9                       0   \n",
       "59                     1.2                       3.5                       0   \n",
       "60                     1.9                       8.6                       0   \n",
       "61                     5.8                      16.4                       0   \n",
       "62                     5.8                      12.3                       0   \n",
       "\n",
       "    2015 Delhi (Airport)  ...  2019 Hyderabad (Airport)  \\\n",
       "0                   19.7  ...                       3.3   \n",
       "1                   23.9  ...                      13.7   \n",
       "2                   17.3  ...                       3.5   \n",
       "3                   20.6  ...                       6.2   \n",
       "4                   15.8  ...                       1.6   \n",
       "..                   ...  ...                       ...   \n",
       "58                  14.9  ...                       3.9   \n",
       "59                  13.3  ...                       3.1   \n",
       "60                  20.2  ...                       3.8   \n",
       "61                   3.7  ...                       6.0   \n",
       "62                   3.3  ...                       8.3   \n",
       "\n",
       "    2019 Cochin (Airport)  2020 Delhi (Airport)   2020 Mumbai (Airport)  \\\n",
       "0                     2.8                  71.7                    10.5   \n",
       "1                     2.6                  40.1                    22.3   \n",
       "2                     1.1                  30.4                    34.7   \n",
       "3                     3.3                  32.8                    46.1   \n",
       "4                     1.1                  36.8                    36.3   \n",
       "..                    ...                   ...                     ...   \n",
       "58                    3.5                  48.5                    26.7   \n",
       "59                    1.6                  53.4                    21.8   \n",
       "60                    1.5                  33.1                    20.5   \n",
       "61                   14.3                  39.0                    13.0   \n",
       "62                    5.6                  48.7                    19.5   \n",
       "\n",
       "     2020 Chennai (Airport)  2020 Calicut (Airport)  2020 Benguluru (Airport)  \\\n",
       "0                       2.6                     0.2                       3.9   \n",
       "1                       7.1                     0.1                       8.7   \n",
       "2                       6.4                     0.0                      11.5   \n",
       "3                       4.4                     0.1                       4.5   \n",
       "4                       7.2                     0.1                      12.1   \n",
       "..                      ...                     ...                       ...   \n",
       "58                      8.8                     0.0                       6.8   \n",
       "59                      6.0                     0.1                       7.5   \n",
       "60                     12.7                     0.1                      10.2   \n",
       "61                      7.2                     0.1                       7.2   \n",
       "62                      5.2                     0.0                       5.9   \n",
       "\n",
       "   2020 Kolkata (Airport) 2020 Hyderabad (Airport) 2020 Cochin (Airport)  \n",
       "0                     0.5                      2.6                   2.5  \n",
       "1                     1.9                     11.7                   2.0  \n",
       "2                     2.0                      3.7                   5.3  \n",
       "3                     0.6                      3.1                   2.6  \n",
       "4                     1.5                      2.8                   0.5  \n",
       "..                    ...                      ...                   ...  \n",
       "58                    2.9                      1.9                   1.5  \n",
       "59                    3.5                      2.0                   1.4  \n",
       "60                    7.7                      4.3                   1.6  \n",
       "61                    2.2                      8.9                   2.2  \n",
       "62                    1.5                      3.9                   9.0  \n",
       "\n",
       "[63 rows x 57 columns]"
      ]
     },
     "execution_count": 6,
     "metadata": {},
     "output_type": "execute_result"
    }
   ],
   "source": [
    "df"
   ]
  },
  {
   "cell_type": "code",
   "execution_count": 7,
   "metadata": {},
   "outputs": [],
   "source": [
    "df.set_index('Country of Nationality', inplace=True)"
   ]
  },
  {
   "cell_type": "code",
   "execution_count": 9,
   "metadata": {},
   "outputs": [
    {
     "data": {
      "text/html": [
       "<div>\n",
       "<style scoped>\n",
       "    .dataframe tbody tr th:only-of-type {\n",
       "        vertical-align: middle;\n",
       "    }\n",
       "\n",
       "    .dataframe tbody tr th {\n",
       "        vertical-align: top;\n",
       "    }\n",
       "\n",
       "    .dataframe thead th {\n",
       "        text-align: right;\n",
       "    }\n",
       "</style>\n",
       "<table border=\"1\" class=\"dataframe\">\n",
       "  <thead>\n",
       "    <tr style=\"text-align: right;\">\n",
       "      <th></th>\n",
       "      <th>2014 Delhi (Airport)</th>\n",
       "      <th>2014 Mumbai (Airport)</th>\n",
       "      <th>2014 Chennai (Airport)</th>\n",
       "      <th>2014 Calicut (Airport)</th>\n",
       "      <th>2014 Benguluru (Airport)</th>\n",
       "      <th>2014 Kolkata (Airport)</th>\n",
       "      <th>2014 Hyderabad (Airport)</th>\n",
       "      <th>2014 Cochin (Airport)</th>\n",
       "      <th>2015 Delhi (Airport)</th>\n",
       "      <th>2015 Mumbai (Airport)</th>\n",
       "      <th>...</th>\n",
       "      <th>2019 Hyderabad (Airport)</th>\n",
       "      <th>2019 Cochin (Airport)</th>\n",
       "      <th>2020 Delhi (Airport)</th>\n",
       "      <th>2020 Mumbai (Airport)</th>\n",
       "      <th>2020 Chennai (Airport)</th>\n",
       "      <th>2020 Calicut (Airport)</th>\n",
       "      <th>2020 Benguluru (Airport)</th>\n",
       "      <th>2020 Kolkata (Airport)</th>\n",
       "      <th>2020 Hyderabad (Airport)</th>\n",
       "      <th>2020 Cochin (Airport)</th>\n",
       "    </tr>\n",
       "    <tr>\n",
       "      <th>Country of Nationality</th>\n",
       "      <th></th>\n",
       "      <th></th>\n",
       "      <th></th>\n",
       "      <th></th>\n",
       "      <th></th>\n",
       "      <th></th>\n",
       "      <th></th>\n",
       "      <th></th>\n",
       "      <th></th>\n",
       "      <th></th>\n",
       "      <th></th>\n",
       "      <th></th>\n",
       "      <th></th>\n",
       "      <th></th>\n",
       "      <th></th>\n",
       "      <th></th>\n",
       "      <th></th>\n",
       "      <th></th>\n",
       "      <th></th>\n",
       "      <th></th>\n",
       "      <th></th>\n",
       "    </tr>\n",
       "  </thead>\n",
       "  <tbody>\n",
       "    <tr>\n",
       "      <th>Canada</th>\n",
       "      <td>21.1</td>\n",
       "      <td>1.3</td>\n",
       "      <td>6.0</td>\n",
       "      <td>53.5</td>\n",
       "      <td>4.4</td>\n",
       "      <td>2.8</td>\n",
       "      <td>10.9</td>\n",
       "      <td>0</td>\n",
       "      <td>19.7</td>\n",
       "      <td>1.5</td>\n",
       "      <td>...</td>\n",
       "      <td>3.3</td>\n",
       "      <td>2.8</td>\n",
       "      <td>71.7</td>\n",
       "      <td>10.5</td>\n",
       "      <td>2.6</td>\n",
       "      <td>0.2</td>\n",
       "      <td>3.9</td>\n",
       "      <td>0.5</td>\n",
       "      <td>2.6</td>\n",
       "      <td>2.5</td>\n",
       "    </tr>\n",
       "    <tr>\n",
       "      <th>United States Of America</th>\n",
       "      <td>25.8</td>\n",
       "      <td>2.0</td>\n",
       "      <td>8.3</td>\n",
       "      <td>31.1</td>\n",
       "      <td>10.2</td>\n",
       "      <td>8.9</td>\n",
       "      <td>13.7</td>\n",
       "      <td>0</td>\n",
       "      <td>23.9</td>\n",
       "      <td>2.3</td>\n",
       "      <td>...</td>\n",
       "      <td>13.7</td>\n",
       "      <td>2.6</td>\n",
       "      <td>40.1</td>\n",
       "      <td>22.3</td>\n",
       "      <td>7.1</td>\n",
       "      <td>0.1</td>\n",
       "      <td>8.7</td>\n",
       "      <td>1.9</td>\n",
       "      <td>11.7</td>\n",
       "      <td>2.0</td>\n",
       "    </tr>\n",
       "    <tr>\n",
       "      <th>Argentina</th>\n",
       "      <td>18.7</td>\n",
       "      <td>3.0</td>\n",
       "      <td>4.1</td>\n",
       "      <td>57.1</td>\n",
       "      <td>5.7</td>\n",
       "      <td>1.5</td>\n",
       "      <td>9.9</td>\n",
       "      <td>0</td>\n",
       "      <td>17.3</td>\n",
       "      <td>4.6</td>\n",
       "      <td>...</td>\n",
       "      <td>3.5</td>\n",
       "      <td>1.1</td>\n",
       "      <td>30.4</td>\n",
       "      <td>34.7</td>\n",
       "      <td>6.4</td>\n",
       "      <td>0.0</td>\n",
       "      <td>11.5</td>\n",
       "      <td>2.0</td>\n",
       "      <td>3.7</td>\n",
       "      <td>5.3</td>\n",
       "    </tr>\n",
       "    <tr>\n",
       "      <th>Brazil</th>\n",
       "      <td>22.0</td>\n",
       "      <td>2.6</td>\n",
       "      <td>5.6</td>\n",
       "      <td>49.0</td>\n",
       "      <td>10.1</td>\n",
       "      <td>2.8</td>\n",
       "      <td>7.9</td>\n",
       "      <td>0</td>\n",
       "      <td>20.6</td>\n",
       "      <td>3.1</td>\n",
       "      <td>...</td>\n",
       "      <td>6.2</td>\n",
       "      <td>3.3</td>\n",
       "      <td>32.8</td>\n",
       "      <td>46.1</td>\n",
       "      <td>4.4</td>\n",
       "      <td>0.1</td>\n",
       "      <td>4.5</td>\n",
       "      <td>0.6</td>\n",
       "      <td>3.1</td>\n",
       "      <td>2.6</td>\n",
       "    </tr>\n",
       "    <tr>\n",
       "      <th>Mexico</th>\n",
       "      <td>14.7</td>\n",
       "      <td>2.1</td>\n",
       "      <td>6.1</td>\n",
       "      <td>62.8</td>\n",
       "      <td>5.7</td>\n",
       "      <td>1.9</td>\n",
       "      <td>6.7</td>\n",
       "      <td>0</td>\n",
       "      <td>15.8</td>\n",
       "      <td>2.1</td>\n",
       "      <td>...</td>\n",
       "      <td>1.6</td>\n",
       "      <td>1.1</td>\n",
       "      <td>36.8</td>\n",
       "      <td>36.3</td>\n",
       "      <td>7.2</td>\n",
       "      <td>0.1</td>\n",
       "      <td>12.1</td>\n",
       "      <td>1.5</td>\n",
       "      <td>2.8</td>\n",
       "      <td>0.5</td>\n",
       "    </tr>\n",
       "  </tbody>\n",
       "</table>\n",
       "<p>5 rows × 56 columns</p>\n",
       "</div>"
      ],
      "text/plain": [
       "                          2014 Delhi (Airport)   2014 Mumbai (Airport)  \\\n",
       "Country of Nationality                                                   \n",
       "Canada                                    21.1                     1.3   \n",
       "United States Of America                  25.8                     2.0   \n",
       "Argentina                                 18.7                     3.0   \n",
       "Brazil                                    22.0                     2.6   \n",
       "Mexico                                    14.7                     2.1   \n",
       "\n",
       "                           2014 Chennai (Airport)  2014 Calicut (Airport)  \\\n",
       "Country of Nationality                                                      \n",
       "Canada                                        6.0                    53.5   \n",
       "United States Of America                      8.3                    31.1   \n",
       "Argentina                                     4.1                    57.1   \n",
       "Brazil                                        5.6                    49.0   \n",
       "Mexico                                        6.1                    62.8   \n",
       "\n",
       "                          2014 Benguluru (Airport)  2014 Kolkata (Airport)  \\\n",
       "Country of Nationality                                                       \n",
       "Canada                                         4.4                     2.8   \n",
       "United States Of America                      10.2                     8.9   \n",
       "Argentina                                      5.7                     1.5   \n",
       "Brazil                                        10.1                     2.8   \n",
       "Mexico                                         5.7                     1.9   \n",
       "\n",
       "                          2014 Hyderabad (Airport)  2014 Cochin (Airport)   \\\n",
       "Country of Nationality                                                       \n",
       "Canada                                        10.9                       0   \n",
       "United States Of America                      13.7                       0   \n",
       "Argentina                                      9.9                       0   \n",
       "Brazil                                         7.9                       0   \n",
       "Mexico                                         6.7                       0   \n",
       "\n",
       "                          2015 Delhi (Airport)   2015 Mumbai (Airport)  ...  \\\n",
       "Country of Nationality                                                  ...   \n",
       "Canada                                    19.7                     1.5  ...   \n",
       "United States Of America                  23.9                     2.3  ...   \n",
       "Argentina                                 17.3                     4.6  ...   \n",
       "Brazil                                    20.6                     3.1  ...   \n",
       "Mexico                                    15.8                     2.1  ...   \n",
       "\n",
       "                          2019 Hyderabad (Airport)  2019 Cochin (Airport)  \\\n",
       "Country of Nationality                                                      \n",
       "Canada                                         3.3                    2.8   \n",
       "United States Of America                      13.7                    2.6   \n",
       "Argentina                                      3.5                    1.1   \n",
       "Brazil                                         6.2                    3.3   \n",
       "Mexico                                         1.6                    1.1   \n",
       "\n",
       "                          2020 Delhi (Airport)   2020 Mumbai (Airport)  \\\n",
       "Country of Nationality                                                   \n",
       "Canada                                    71.7                    10.5   \n",
       "United States Of America                  40.1                    22.3   \n",
       "Argentina                                 30.4                    34.7   \n",
       "Brazil                                    32.8                    46.1   \n",
       "Mexico                                    36.8                    36.3   \n",
       "\n",
       "                           2020 Chennai (Airport)  2020 Calicut (Airport)  \\\n",
       "Country of Nationality                                                      \n",
       "Canada                                        2.6                     0.2   \n",
       "United States Of America                      7.1                     0.1   \n",
       "Argentina                                     6.4                     0.0   \n",
       "Brazil                                        4.4                     0.1   \n",
       "Mexico                                        7.2                     0.1   \n",
       "\n",
       "                         2020 Benguluru (Airport) 2020 Kolkata (Airport)  \\\n",
       "Country of Nationality                                                     \n",
       "Canada                                        3.9                    0.5   \n",
       "United States Of America                      8.7                    1.9   \n",
       "Argentina                                    11.5                    2.0   \n",
       "Brazil                                        4.5                    0.6   \n",
       "Mexico                                       12.1                    1.5   \n",
       "\n",
       "                         2020 Hyderabad (Airport)  2020 Cochin (Airport)  \n",
       "Country of Nationality                                                    \n",
       "Canada                                        2.6                    2.5  \n",
       "United States Of America                     11.7                    2.0  \n",
       "Argentina                                     3.7                    5.3  \n",
       "Brazil                                        3.1                    2.6  \n",
       "Mexico                                        2.8                    0.5  \n",
       "\n",
       "[5 rows x 56 columns]"
      ]
     },
     "execution_count": 9,
     "metadata": {},
     "output_type": "execute_result"
    }
   ],
   "source": [
    "df.head()"
   ]
  },
  {
   "cell_type": "code",
   "execution_count": 11,
   "metadata": {},
   "outputs": [
    {
     "data": {
      "text/plain": [
       "<bound method IndexOpsMixin.tolist of Index(['2014 Delhi (Airport)', ' 2014 Mumbai (Airport)',\n",
       "       ' 2014 Chennai (Airport)', '2014 Calicut (Airport)',\n",
       "       '2014 Benguluru (Airport)', '2014 Kolkata (Airport)',\n",
       "       '2014 Hyderabad (Airport)', '2014 Cochin (Airport) ',\n",
       "       '2015 Delhi (Airport)', ' 2015 Mumbai (Airport)',\n",
       "       ' 2015 Chennai (Airport)', '2015 Calicut (Airport)',\n",
       "       '2015 Benguluru (Airport)', '2015 Kolkata (Airport)',\n",
       "       '2015 Hyderabad (Airport)', '2015 Cochin (Airport)',\n",
       "       '2016 Delhi (Airport)', ' 2016 Mumbai (Airport)',\n",
       "       ' 2016 Chennai (Airport)', '2016 Calicut (Airport)',\n",
       "       '2016 Benguluru (Airport)', '2016 Kolkata (Airport)',\n",
       "       '2016 Hyderabad (Airport)', '2016 Cochin (Airport)',\n",
       "       '2017 Delhi (Airport)', ' 2017 Mumbai (Airport)',\n",
       "       ' 2017 Chennai (Airport)', '2017 Calicut (Airport)',\n",
       "       '2017 Benguluru (Airport)', '2017 Kolkata (Airport)',\n",
       "       '2017 Hyderabad (Airport)', '2017 Cochin (Airport)',\n",
       "       '2018 Delhi (Airport)', ' 2018 Mumbai (Airport)',\n",
       "       ' 2018 Chennai (Airport)', '2018 Calicut (Airport)',\n",
       "       '2018 Benguluru (Airport)', '2018 Kolkata (Airport)',\n",
       "       '2018 Hyderabad (Airport)', '2018 Cochin (Airport)',\n",
       "       '2019 Delhi (Airport)', ' 2019 Mumbai (Airport)',\n",
       "       ' 2019 Chennai (Airport)', '2019 Calicut (Airport)',\n",
       "       '2019 Benguluru (Airport)', '2019 Kolkata (Airport)',\n",
       "       '2019 Hyderabad (Airport)', '2019 Cochin (Airport)',\n",
       "       '2020 Delhi (Airport)', ' 2020 Mumbai (Airport)',\n",
       "       ' 2020 Chennai (Airport)', '2020 Calicut (Airport)',\n",
       "       '2020 Benguluru (Airport)', '2020 Kolkata (Airport)',\n",
       "       '2020 Hyderabad (Airport)', '2020 Cochin (Airport)'],\n",
       "      dtype='object')>"
      ]
     },
     "execution_count": 11,
     "metadata": {},
     "output_type": "execute_result"
    }
   ],
   "source": [
    "df.columns.to_list"
   ]
  },
  {
   "cell_type": "code",
   "execution_count": 16,
   "metadata": {},
   "outputs": [
    {
     "data": {
      "application/vnd.plotly.v1+json": {
       "config": {
        "plotlyServerURL": "https://plot.ly"
       },
       "data": [
        {
         "hovertemplate": "variable=2014 Delhi (Airport)<br>Country of Nationality=%{x}<br>value=%{y}<extra></extra>",
         "legendgroup": "2014 Delhi (Airport)",
         "line": {
          "color": "#636efa",
          "dash": "solid"
         },
         "marker": {
          "symbol": "circle"
         },
         "mode": "lines",
         "name": "2014 Delhi (Airport)",
         "orientation": "v",
         "showlegend": true,
         "type": "scatter",
         "x": [
          "Canada",
          "United States Of America",
          "Argentina",
          "Brazil",
          "Mexico",
          "Austria",
          "Belgium",
          "Denmark",
          "Finland",
          "France",
          "Germany",
          "Greece",
          "Ireland",
          "Italy",
          "Netherlands",
          "Norway",
          "Portugal",
          "Spain",
          "Sweden",
          "Switzerland",
          "United Kingdom",
          "Czech Rep.",
          "Hungary",
          "Kazakhstan",
          "Poland",
          "Russian Federation",
          "Ukraine",
          "Egypt",
          "Kenya",
          "Mauritius",
          "Nigeria",
          "South Africa",
          "Sudan",
          "Tanzania",
          "Bahrain",
          "Iraq",
          "Israel",
          "Oman",
          "Saudi Arabia",
          "Turkey",
          "United Arab Emirates",
          "Yemen",
          "Afghanistan",
          "Bangladesh",
          "Bhutan",
          "Iran",
          "Maldives",
          "Nepal",
          "Pakistan",
          "Sri Lanka",
          "Indonesia",
          "Malaysia",
          "Myanmar",
          "Philippines",
          "Singapore",
          "Thailand",
          "Vietnam",
          "China",
          "Japan",
          "Korea (Republic Of ",
          "Republic Of China Taiwan",
          "Australia",
          "New Zealand"
         ],
         "xaxis": "x",
         "y": [
          21.1,
          25.8,
          18.7,
          22,
          14.7,
          14.6,
          35.1,
          22.3,
          15.5,
          19.6,
          21.5,
          21.4,
          20.5,
          19.7,
          25.1,
          17.5,
          47,
          20.7,
          23.3,
          26.9,
          29.6,
          22.8,
          null,
          1.2,
          26.2,
          2.8,
          10.3,
          38,
          58.2,
          46.9,
          34.2,
          61.1,
          34.3,
          49.8,
          33.4,
          13.1,
          57.8,
          36.7,
          24.1,
          36.9,
          41.5,
          63.1,
          0.4,
          34.8,
          1.4,
          8.8,
          8.6,
          0.7,
          9.3,
          3,
          25.7,
          10.1,
          2.4,
          22,
          20.4,
          10.1,
          11.3,
          17.8,
          12.2,
          12.9,
          18.2,
          17.9,
          27.5
         ],
         "yaxis": "y"
        },
        {
         "hovertemplate": "variable= 2014 Mumbai (Airport)<br>Country of Nationality=%{x}<br>value=%{y}<extra></extra>",
         "legendgroup": " 2014 Mumbai (Airport)",
         "line": {
          "color": "#EF553B",
          "dash": "solid"
         },
         "marker": {
          "symbol": "circle"
         },
         "mode": "lines",
         "name": " 2014 Mumbai (Airport)",
         "orientation": "v",
         "showlegend": true,
         "type": "scatter",
         "x": [
          "Canada",
          "United States Of America",
          "Argentina",
          "Brazil",
          "Mexico",
          "Austria",
          "Belgium",
          "Denmark",
          "Finland",
          "France",
          "Germany",
          "Greece",
          "Ireland",
          "Italy",
          "Netherlands",
          "Norway",
          "Portugal",
          "Spain",
          "Sweden",
          "Switzerland",
          "United Kingdom",
          "Czech Rep.",
          "Hungary",
          "Kazakhstan",
          "Poland",
          "Russian Federation",
          "Ukraine",
          "Egypt",
          "Kenya",
          "Mauritius",
          "Nigeria",
          "South Africa",
          "Sudan",
          "Tanzania",
          "Bahrain",
          "Iraq",
          "Israel",
          "Oman",
          "Saudi Arabia",
          "Turkey",
          "United Arab Emirates",
          "Yemen",
          "Afghanistan",
          "Bangladesh",
          "Bhutan",
          "Iran",
          "Maldives",
          "Nepal",
          "Pakistan",
          "Sri Lanka",
          "Indonesia",
          "Malaysia",
          "Myanmar",
          "Philippines",
          "Singapore",
          "Thailand",
          "Vietnam",
          "China",
          "Japan",
          "Korea (Republic Of ",
          "Republic Of China Taiwan",
          "Australia",
          "New Zealand"
         ],
         "xaxis": "x",
         "y": [
          1.3,
          2,
          3,
          2.6,
          2.1,
          1.7,
          1.3,
          1.8,
          1,
          1.2,
          2.2,
          2.9,
          4.1,
          2.8,
          1.9,
          1.1,
          0.6,
          2.5,
          2.1,
          1.9,
          2,
          3.5,
          null,
          0.2,
          2.7,
          0.5,
          1.1,
          2.6,
          0.6,
          0.7,
          0.3,
          1.6,
          0.5,
          0.3,
          0.7,
          0.1,
          0.6,
          0,
          0.2,
          0.6,
          0.3,
          0.4,
          0.1,
          0.6,
          0,
          4.3,
          0,
          10.8,
          0.1,
          26.3,
          5.2,
          2,
          7.4,
          3.2,
          2.2,
          20.8,
          13.3,
          6.7,
          3.2,
          3,
          3.9,
          3.9,
          3.6
         ],
         "yaxis": "y"
        },
        {
         "hovertemplate": "variable= 2014 Chennai (Airport)<br>Country of Nationality=%{x}<br>value=%{y}<extra></extra>",
         "legendgroup": " 2014 Chennai (Airport)",
         "line": {
          "color": "#00cc96",
          "dash": "solid"
         },
         "marker": {
          "symbol": "circle"
         },
         "mode": "lines",
         "name": " 2014 Chennai (Airport)",
         "orientation": "v",
         "showlegend": true,
         "type": "scatter",
         "x": [
          "Canada",
          "United States Of America",
          "Argentina",
          "Brazil",
          "Mexico",
          "Austria",
          "Belgium",
          "Denmark",
          "Finland",
          "France",
          "Germany",
          "Greece",
          "Ireland",
          "Italy",
          "Netherlands",
          "Norway",
          "Portugal",
          "Spain",
          "Sweden",
          "Switzerland",
          "United Kingdom",
          "Czech Rep.",
          "Hungary",
          "Kazakhstan",
          "Poland",
          "Russian Federation",
          "Ukraine",
          "Egypt",
          "Kenya",
          "Mauritius",
          "Nigeria",
          "South Africa",
          "Sudan",
          "Tanzania",
          "Bahrain",
          "Iraq",
          "Israel",
          "Oman",
          "Saudi Arabia",
          "Turkey",
          "United Arab Emirates",
          "Yemen",
          "Afghanistan",
          "Bangladesh",
          "Bhutan",
          "Iran",
          "Maldives",
          "Nepal",
          "Pakistan",
          "Sri Lanka",
          "Indonesia",
          "Malaysia",
          "Myanmar",
          "Philippines",
          "Singapore",
          "Thailand",
          "Vietnam",
          "China",
          "Japan",
          "Korea (Republic Of ",
          "Republic Of China Taiwan",
          "Australia",
          "New Zealand"
         ],
         "xaxis": "x",
         "y": [
          6,
          8.3,
          4.1,
          5.6,
          6.1,
          6.2,
          7.1,
          10.9,
          5,
          20.2,
          9,
          6.5,
          7.3,
          9.3,
          5.7,
          6.8,
          2.2,
          5.4,
          5.4,
          7.9,
          5.4,
          6.6,
          null,
          1.3,
          5.4,
          1.6,
          3.7,
          6.7,
          2.4,
          8.2,
          7.8,
          4.7,
          13.5,
          7.1,
          8.8,
          3.2,
          1.4,
          15.6,
          3.8,
          3.2,
          1.7,
          1.6,
          0,
          1.4,
          4.9,
          0.9,
          0.5,
          0.8,
          43.8,
          0.9,
          8.6,
          25.3,
          4.6,
          10.7,
          28,
          3.6,
          4.1,
          7.7,
          8.6,
          9,
          18.1,
          10,
          7.7
         ],
         "yaxis": "y"
        },
        {
         "hovertemplate": "variable=2014 Calicut (Airport)<br>Country of Nationality=%{x}<br>value=%{y}<extra></extra>",
         "legendgroup": "2014 Calicut (Airport)",
         "line": {
          "color": "#ab63fa",
          "dash": "solid"
         },
         "marker": {
          "symbol": "circle"
         },
         "mode": "lines",
         "name": "2014 Calicut (Airport)",
         "orientation": "v",
         "showlegend": true,
         "type": "scatter",
         "x": [
          "Canada",
          "United States Of America",
          "Argentina",
          "Brazil",
          "Mexico",
          "Austria",
          "Belgium",
          "Denmark",
          "Finland",
          "France",
          "Germany",
          "Greece",
          "Ireland",
          "Italy",
          "Netherlands",
          "Norway",
          "Portugal",
          "Spain",
          "Sweden",
          "Switzerland",
          "United Kingdom",
          "Czech Rep.",
          "Hungary",
          "Kazakhstan",
          "Poland",
          "Russian Federation",
          "Ukraine",
          "Egypt",
          "Kenya",
          "Mauritius",
          "Nigeria",
          "South Africa",
          "Sudan",
          "Tanzania",
          "Bahrain",
          "Iraq",
          "Israel",
          "Oman",
          "Saudi Arabia",
          "Turkey",
          "United Arab Emirates",
          "Yemen",
          "Afghanistan",
          "Bangladesh",
          "Bhutan",
          "Iran",
          "Maldives",
          "Nepal",
          "Pakistan",
          "Sri Lanka",
          "Indonesia",
          "Malaysia",
          "Myanmar",
          "Philippines",
          "Singapore",
          "Thailand",
          "Vietnam",
          "China",
          "Japan",
          "Korea (Republic Of ",
          "Republic Of China Taiwan",
          "Australia",
          "New Zealand"
         ],
         "xaxis": "x",
         "y": [
          53.5,
          31.1,
          57.1,
          49,
          62.8,
          54.7,
          42.9,
          37.6,
          56.9,
          42.9,
          40.2,
          36.3,
          28.1,
          48.7,
          49.7,
          58,
          21.8,
          55.7,
          37.8,
          40.7,
          29.8,
          48.3,
          null,
          49.6,
          43.5,
          18,
          25,
          22.2,
          15,
          33.2,
          43,
          20.2,
          12.1,
          14.1,
          11.2,
          68.4,
          29.7,
          4.6,
          13.8,
          47.2,
          3.9,
          7.6,
          99,
          38.3,
          1.4,
          74.7,
          5.8,
          1.9,
          6.1,
          47,
          34.3,
          15.1,
          5.2,
          19.3,
          21.9,
          27.8,
          24.2,
          51.5,
          52.1,
          61.8,
          43.1,
          37.4,
          36.9
         ],
         "yaxis": "y"
        },
        {
         "hovertemplate": "variable=2014 Benguluru (Airport)<br>Country of Nationality=%{x}<br>value=%{y}<extra></extra>",
         "legendgroup": "2014 Benguluru (Airport)",
         "line": {
          "color": "#FFA15A",
          "dash": "solid"
         },
         "marker": {
          "symbol": "circle"
         },
         "mode": "lines",
         "name": "2014 Benguluru (Airport)",
         "orientation": "v",
         "showlegend": true,
         "type": "scatter",
         "x": [
          "Canada",
          "United States Of America",
          "Argentina",
          "Brazil",
          "Mexico",
          "Austria",
          "Belgium",
          "Denmark",
          "Finland",
          "France",
          "Germany",
          "Greece",
          "Ireland",
          "Italy",
          "Netherlands",
          "Norway",
          "Portugal",
          "Spain",
          "Sweden",
          "Switzerland",
          "United Kingdom",
          "Czech Rep.",
          "Hungary",
          "Kazakhstan",
          "Poland",
          "Russian Federation",
          "Ukraine",
          "Egypt",
          "Kenya",
          "Mauritius",
          "Nigeria",
          "South Africa",
          "Sudan",
          "Tanzania",
          "Bahrain",
          "Iraq",
          "Israel",
          "Oman",
          "Saudi Arabia",
          "Turkey",
          "United Arab Emirates",
          "Yemen",
          "Afghanistan",
          "Bangladesh",
          "Bhutan",
          "Iran",
          "Maldives",
          "Nepal",
          "Pakistan",
          "Sri Lanka",
          "Indonesia",
          "Malaysia",
          "Myanmar",
          "Philippines",
          "Singapore",
          "Thailand",
          "Vietnam",
          "China",
          "Japan",
          "Korea (Republic Of ",
          "Republic Of China Taiwan",
          "Australia",
          "New Zealand"
         ],
         "xaxis": "x",
         "y": [
          4.4,
          10.2,
          5.7,
          10.1,
          5.7,
          6.3,
          5,
          10,
          5.3,
          8.9,
          11.8,
          7.3,
          9.9,
          6.5,
          9.5,
          5.2,
          2,
          5.8,
          10.4,
          6.5,
          5.6,
          6.3,
          null,
          0.7,
          6.5,
          1.3,
          2.6,
          5,
          2.1,
          8.5,
          9.5,
          4.5,
          15.4,
          10.1,
          6,
          7.5,
          2.7,
          0.3,
          10.1,
          2.2,
          12.2,
          13.5,
          0.1,
          13.5,
          15.3,
          0.6,
          0,
          0,
          10.6,
          0.2,
          9,
          6.5,
          0.5,
          6.8,
          7.3,
          4.6,
          6,
          8.4,
          9.2,
          8.6,
          6.2,
          8.6,
          6.2
         ],
         "yaxis": "y"
        },
        {
         "hovertemplate": "variable=2014 Kolkata (Airport)<br>Country of Nationality=%{x}<br>value=%{y}<extra></extra>",
         "legendgroup": "2014 Kolkata (Airport)",
         "line": {
          "color": "#19d3f3",
          "dash": "solid"
         },
         "marker": {
          "symbol": "circle"
         },
         "mode": "lines",
         "name": "2014 Kolkata (Airport)",
         "orientation": "v",
         "showlegend": true,
         "type": "scatter",
         "x": [
          "Canada",
          "United States Of America",
          "Argentina",
          "Brazil",
          "Mexico",
          "Austria",
          "Belgium",
          "Denmark",
          "Finland",
          "France",
          "Germany",
          "Greece",
          "Ireland",
          "Italy",
          "Netherlands",
          "Norway",
          "Portugal",
          "Spain",
          "Sweden",
          "Switzerland",
          "United Kingdom",
          "Czech Rep.",
          "Hungary",
          "Kazakhstan",
          "Poland",
          "Russian Federation",
          "Ukraine",
          "Egypt",
          "Kenya",
          "Mauritius",
          "Nigeria",
          "South Africa",
          "Sudan",
          "Tanzania",
          "Bahrain",
          "Iraq",
          "Israel",
          "Oman",
          "Saudi Arabia",
          "Turkey",
          "United Arab Emirates",
          "Yemen",
          "Afghanistan",
          "Bangladesh",
          "Bhutan",
          "Iran",
          "Maldives",
          "Nepal",
          "Pakistan",
          "Sri Lanka",
          "Indonesia",
          "Malaysia",
          "Myanmar",
          "Philippines",
          "Singapore",
          "Thailand",
          "Vietnam",
          "China",
          "Japan",
          "Korea (Republic Of ",
          "Republic Of China Taiwan",
          "Australia",
          "New Zealand"
         ],
         "xaxis": "x",
         "y": [
          2.8,
          8.9,
          1.5,
          2.8,
          1.9,
          1,
          1.5,
          1.5,
          0.8,
          0.9,
          1.2,
          4.1,
          4.5,
          1.5,
          2.2,
          1.6,
          0.7,
          1.4,
          1.7,
          1.4,
          2.5,
          1.4,
          null,
          0.2,
          1.5,
          0.4,
          0.8,
          6.1,
          1.6,
          0.5,
          2.7,
          1.8,
          16.6,
          5.2,
          12.4,
          6.6,
          0.2,
          11.5,
          6.3,
          1.6,
          24.8,
          9.8,
          0.1,
          2.5,
          0,
          0.2,
          0,
          0,
          0.1,
          0,
          4,
          2.3,
          0.4,
          5,
          2.2,
          0.8,
          2.2,
          2.7,
          1.8,
          1.2,
          1.9,
          5.8,
          5.8
         ],
         "yaxis": "y"
        },
        {
         "hovertemplate": "variable=2014 Hyderabad (Airport)<br>Country of Nationality=%{x}<br>value=%{y}<extra></extra>",
         "legendgroup": "2014 Hyderabad (Airport)",
         "line": {
          "color": "#FF6692",
          "dash": "solid"
         },
         "marker": {
          "symbol": "circle"
         },
         "mode": "lines",
         "name": "2014 Hyderabad (Airport)",
         "orientation": "v",
         "showlegend": true,
         "type": "scatter",
         "x": [
          "Canada",
          "United States Of America",
          "Argentina",
          "Brazil",
          "Mexico",
          "Austria",
          "Belgium",
          "Denmark",
          "Finland",
          "France",
          "Germany",
          "Greece",
          "Ireland",
          "Italy",
          "Netherlands",
          "Norway",
          "Portugal",
          "Spain",
          "Sweden",
          "Switzerland",
          "United Kingdom",
          "Czech Rep.",
          "Hungary",
          "Kazakhstan",
          "Poland",
          "Russian Federation",
          "Ukraine",
          "Egypt",
          "Kenya",
          "Mauritius",
          "Nigeria",
          "South Africa",
          "Sudan",
          "Tanzania",
          "Bahrain",
          "Iraq",
          "Israel",
          "Oman",
          "Saudi Arabia",
          "Turkey",
          "United Arab Emirates",
          "Yemen",
          "Afghanistan",
          "Bangladesh",
          "Bhutan",
          "Iran",
          "Maldives",
          "Nepal",
          "Pakistan",
          "Sri Lanka",
          "Indonesia",
          "Malaysia",
          "Myanmar",
          "Philippines",
          "Singapore",
          "Thailand",
          "Vietnam",
          "China",
          "Japan",
          "Korea (Republic Of ",
          "Republic Of China Taiwan",
          "Australia",
          "New Zealand"
         ],
         "xaxis": "x",
         "y": [
          10.9,
          13.7,
          9.9,
          7.9,
          6.7,
          15.5,
          7.1,
          15.9,
          15.5,
          6.3,
          14.1,
          21.5,
          25.6,
          11.5,
          5.9,
          9.8,
          25.7,
          8.5,
          19.3,
          14.7,
          25.1,
          11.1,
          null,
          46.8,
          14.2,
          75.4,
          56.5,
          19.4,
          20.1,
          2,
          2.5,
          6.1,
          7.6,
          13.4,
          27.5,
          1.1,
          7.6,
          31.3,
          41.7,
          8.3,
          15.6,
          4,
          0.3,
          8.9,
          77,
          10.5,
          85.1,
          85.8,
          30,
          22.6,
          13.2,
          38.7,
          79.5,
          33,
          18,
          32.3,
          38.9,
          5.2,
          12.9,
          3.5,
          8.6,
          16.4,
          12.3
         ],
         "yaxis": "y"
        },
        {
         "hovertemplate": "variable=2014 Cochin (Airport) <br>Country of Nationality=%{x}<br>value=%{y}<extra></extra>",
         "legendgroup": "2014 Cochin (Airport) ",
         "line": {
          "color": "#B6E880",
          "dash": "solid"
         },
         "marker": {
          "symbol": "circle"
         },
         "mode": "lines",
         "name": "2014 Cochin (Airport) ",
         "orientation": "v",
         "showlegend": true,
         "type": "scatter",
         "x": [
          "Canada",
          "United States Of America",
          "Argentina",
          "Brazil",
          "Mexico",
          "Austria",
          "Belgium",
          "Denmark",
          "Finland",
          "France",
          "Germany",
          "Greece",
          "Ireland",
          "Italy",
          "Netherlands",
          "Norway",
          "Portugal",
          "Spain",
          "Sweden",
          "Switzerland",
          "United Kingdom",
          "Czech Rep.",
          "Hungary",
          "Kazakhstan",
          "Poland",
          "Russian Federation",
          "Ukraine",
          "Egypt",
          "Kenya",
          "Mauritius",
          "Nigeria",
          "South Africa",
          "Sudan",
          "Tanzania",
          "Bahrain",
          "Iraq",
          "Israel",
          "Oman",
          "Saudi Arabia",
          "Turkey",
          "United Arab Emirates",
          "Yemen",
          "Afghanistan",
          "Bangladesh",
          "Bhutan",
          "Iran",
          "Maldives",
          "Nepal",
          "Pakistan",
          "Sri Lanka",
          "Indonesia",
          "Malaysia",
          "Myanmar",
          "Philippines",
          "Singapore",
          "Thailand",
          "Vietnam",
          "China",
          "Japan",
          "Korea (Republic Of ",
          "Republic Of China Taiwan",
          "Australia",
          "New Zealand"
         ],
         "xaxis": "x",
         "y": [
          0,
          0,
          0,
          0,
          0,
          0,
          0,
          0,
          0,
          0,
          0,
          0,
          0,
          0,
          0,
          0,
          0,
          0,
          0,
          0,
          0,
          0,
          0,
          0,
          0,
          0,
          0,
          0,
          0,
          0,
          0,
          0,
          0,
          0,
          0,
          0,
          0,
          0,
          0,
          0,
          0,
          0,
          0,
          0,
          0,
          0,
          0,
          0,
          0,
          0,
          0,
          0,
          0,
          0,
          0,
          0,
          0,
          0,
          0,
          0,
          0,
          0,
          0
         ],
         "yaxis": "y"
        }
       ],
       "layout": {
        "legend": {
         "title": {
          "text": "variable"
         },
         "tracegroupgap": 0
        },
        "template": {
         "data": {
          "bar": [
           {
            "error_x": {
             "color": "#2a3f5f"
            },
            "error_y": {
             "color": "#2a3f5f"
            },
            "marker": {
             "line": {
              "color": "#E5ECF6",
              "width": 0.5
             },
             "pattern": {
              "fillmode": "overlay",
              "size": 10,
              "solidity": 0.2
             }
            },
            "type": "bar"
           }
          ],
          "barpolar": [
           {
            "marker": {
             "line": {
              "color": "#E5ECF6",
              "width": 0.5
             },
             "pattern": {
              "fillmode": "overlay",
              "size": 10,
              "solidity": 0.2
             }
            },
            "type": "barpolar"
           }
          ],
          "carpet": [
           {
            "aaxis": {
             "endlinecolor": "#2a3f5f",
             "gridcolor": "white",
             "linecolor": "white",
             "minorgridcolor": "white",
             "startlinecolor": "#2a3f5f"
            },
            "baxis": {
             "endlinecolor": "#2a3f5f",
             "gridcolor": "white",
             "linecolor": "white",
             "minorgridcolor": "white",
             "startlinecolor": "#2a3f5f"
            },
            "type": "carpet"
           }
          ],
          "choropleth": [
           {
            "colorbar": {
             "outlinewidth": 0,
             "ticks": ""
            },
            "type": "choropleth"
           }
          ],
          "contour": [
           {
            "colorbar": {
             "outlinewidth": 0,
             "ticks": ""
            },
            "colorscale": [
             [
              0,
              "#0d0887"
             ],
             [
              0.1111111111111111,
              "#46039f"
             ],
             [
              0.2222222222222222,
              "#7201a8"
             ],
             [
              0.3333333333333333,
              "#9c179e"
             ],
             [
              0.4444444444444444,
              "#bd3786"
             ],
             [
              0.5555555555555556,
              "#d8576b"
             ],
             [
              0.6666666666666666,
              "#ed7953"
             ],
             [
              0.7777777777777778,
              "#fb9f3a"
             ],
             [
              0.8888888888888888,
              "#fdca26"
             ],
             [
              1,
              "#f0f921"
             ]
            ],
            "type": "contour"
           }
          ],
          "contourcarpet": [
           {
            "colorbar": {
             "outlinewidth": 0,
             "ticks": ""
            },
            "type": "contourcarpet"
           }
          ],
          "heatmap": [
           {
            "colorbar": {
             "outlinewidth": 0,
             "ticks": ""
            },
            "colorscale": [
             [
              0,
              "#0d0887"
             ],
             [
              0.1111111111111111,
              "#46039f"
             ],
             [
              0.2222222222222222,
              "#7201a8"
             ],
             [
              0.3333333333333333,
              "#9c179e"
             ],
             [
              0.4444444444444444,
              "#bd3786"
             ],
             [
              0.5555555555555556,
              "#d8576b"
             ],
             [
              0.6666666666666666,
              "#ed7953"
             ],
             [
              0.7777777777777778,
              "#fb9f3a"
             ],
             [
              0.8888888888888888,
              "#fdca26"
             ],
             [
              1,
              "#f0f921"
             ]
            ],
            "type": "heatmap"
           }
          ],
          "heatmapgl": [
           {
            "colorbar": {
             "outlinewidth": 0,
             "ticks": ""
            },
            "colorscale": [
             [
              0,
              "#0d0887"
             ],
             [
              0.1111111111111111,
              "#46039f"
             ],
             [
              0.2222222222222222,
              "#7201a8"
             ],
             [
              0.3333333333333333,
              "#9c179e"
             ],
             [
              0.4444444444444444,
              "#bd3786"
             ],
             [
              0.5555555555555556,
              "#d8576b"
             ],
             [
              0.6666666666666666,
              "#ed7953"
             ],
             [
              0.7777777777777778,
              "#fb9f3a"
             ],
             [
              0.8888888888888888,
              "#fdca26"
             ],
             [
              1,
              "#f0f921"
             ]
            ],
            "type": "heatmapgl"
           }
          ],
          "histogram": [
           {
            "marker": {
             "pattern": {
              "fillmode": "overlay",
              "size": 10,
              "solidity": 0.2
             }
            },
            "type": "histogram"
           }
          ],
          "histogram2d": [
           {
            "colorbar": {
             "outlinewidth": 0,
             "ticks": ""
            },
            "colorscale": [
             [
              0,
              "#0d0887"
             ],
             [
              0.1111111111111111,
              "#46039f"
             ],
             [
              0.2222222222222222,
              "#7201a8"
             ],
             [
              0.3333333333333333,
              "#9c179e"
             ],
             [
              0.4444444444444444,
              "#bd3786"
             ],
             [
              0.5555555555555556,
              "#d8576b"
             ],
             [
              0.6666666666666666,
              "#ed7953"
             ],
             [
              0.7777777777777778,
              "#fb9f3a"
             ],
             [
              0.8888888888888888,
              "#fdca26"
             ],
             [
              1,
              "#f0f921"
             ]
            ],
            "type": "histogram2d"
           }
          ],
          "histogram2dcontour": [
           {
            "colorbar": {
             "outlinewidth": 0,
             "ticks": ""
            },
            "colorscale": [
             [
              0,
              "#0d0887"
             ],
             [
              0.1111111111111111,
              "#46039f"
             ],
             [
              0.2222222222222222,
              "#7201a8"
             ],
             [
              0.3333333333333333,
              "#9c179e"
             ],
             [
              0.4444444444444444,
              "#bd3786"
             ],
             [
              0.5555555555555556,
              "#d8576b"
             ],
             [
              0.6666666666666666,
              "#ed7953"
             ],
             [
              0.7777777777777778,
              "#fb9f3a"
             ],
             [
              0.8888888888888888,
              "#fdca26"
             ],
             [
              1,
              "#f0f921"
             ]
            ],
            "type": "histogram2dcontour"
           }
          ],
          "mesh3d": [
           {
            "colorbar": {
             "outlinewidth": 0,
             "ticks": ""
            },
            "type": "mesh3d"
           }
          ],
          "parcoords": [
           {
            "line": {
             "colorbar": {
              "outlinewidth": 0,
              "ticks": ""
             }
            },
            "type": "parcoords"
           }
          ],
          "pie": [
           {
            "automargin": true,
            "type": "pie"
           }
          ],
          "scatter": [
           {
            "fillpattern": {
             "fillmode": "overlay",
             "size": 10,
             "solidity": 0.2
            },
            "type": "scatter"
           }
          ],
          "scatter3d": [
           {
            "line": {
             "colorbar": {
              "outlinewidth": 0,
              "ticks": ""
             }
            },
            "marker": {
             "colorbar": {
              "outlinewidth": 0,
              "ticks": ""
             }
            },
            "type": "scatter3d"
           }
          ],
          "scattercarpet": [
           {
            "marker": {
             "colorbar": {
              "outlinewidth": 0,
              "ticks": ""
             }
            },
            "type": "scattercarpet"
           }
          ],
          "scattergeo": [
           {
            "marker": {
             "colorbar": {
              "outlinewidth": 0,
              "ticks": ""
             }
            },
            "type": "scattergeo"
           }
          ],
          "scattergl": [
           {
            "marker": {
             "colorbar": {
              "outlinewidth": 0,
              "ticks": ""
             }
            },
            "type": "scattergl"
           }
          ],
          "scattermapbox": [
           {
            "marker": {
             "colorbar": {
              "outlinewidth": 0,
              "ticks": ""
             }
            },
            "type": "scattermapbox"
           }
          ],
          "scatterpolar": [
           {
            "marker": {
             "colorbar": {
              "outlinewidth": 0,
              "ticks": ""
             }
            },
            "type": "scatterpolar"
           }
          ],
          "scatterpolargl": [
           {
            "marker": {
             "colorbar": {
              "outlinewidth": 0,
              "ticks": ""
             }
            },
            "type": "scatterpolargl"
           }
          ],
          "scatterternary": [
           {
            "marker": {
             "colorbar": {
              "outlinewidth": 0,
              "ticks": ""
             }
            },
            "type": "scatterternary"
           }
          ],
          "surface": [
           {
            "colorbar": {
             "outlinewidth": 0,
             "ticks": ""
            },
            "colorscale": [
             [
              0,
              "#0d0887"
             ],
             [
              0.1111111111111111,
              "#46039f"
             ],
             [
              0.2222222222222222,
              "#7201a8"
             ],
             [
              0.3333333333333333,
              "#9c179e"
             ],
             [
              0.4444444444444444,
              "#bd3786"
             ],
             [
              0.5555555555555556,
              "#d8576b"
             ],
             [
              0.6666666666666666,
              "#ed7953"
             ],
             [
              0.7777777777777778,
              "#fb9f3a"
             ],
             [
              0.8888888888888888,
              "#fdca26"
             ],
             [
              1,
              "#f0f921"
             ]
            ],
            "type": "surface"
           }
          ],
          "table": [
           {
            "cells": {
             "fill": {
              "color": "#EBF0F8"
             },
             "line": {
              "color": "white"
             }
            },
            "header": {
             "fill": {
              "color": "#C8D4E3"
             },
             "line": {
              "color": "white"
             }
            },
            "type": "table"
           }
          ]
         },
         "layout": {
          "annotationdefaults": {
           "arrowcolor": "#2a3f5f",
           "arrowhead": 0,
           "arrowwidth": 1
          },
          "autotypenumbers": "strict",
          "coloraxis": {
           "colorbar": {
            "outlinewidth": 0,
            "ticks": ""
           }
          },
          "colorscale": {
           "diverging": [
            [
             0,
             "#8e0152"
            ],
            [
             0.1,
             "#c51b7d"
            ],
            [
             0.2,
             "#de77ae"
            ],
            [
             0.3,
             "#f1b6da"
            ],
            [
             0.4,
             "#fde0ef"
            ],
            [
             0.5,
             "#f7f7f7"
            ],
            [
             0.6,
             "#e6f5d0"
            ],
            [
             0.7,
             "#b8e186"
            ],
            [
             0.8,
             "#7fbc41"
            ],
            [
             0.9,
             "#4d9221"
            ],
            [
             1,
             "#276419"
            ]
           ],
           "sequential": [
            [
             0,
             "#0d0887"
            ],
            [
             0.1111111111111111,
             "#46039f"
            ],
            [
             0.2222222222222222,
             "#7201a8"
            ],
            [
             0.3333333333333333,
             "#9c179e"
            ],
            [
             0.4444444444444444,
             "#bd3786"
            ],
            [
             0.5555555555555556,
             "#d8576b"
            ],
            [
             0.6666666666666666,
             "#ed7953"
            ],
            [
             0.7777777777777778,
             "#fb9f3a"
            ],
            [
             0.8888888888888888,
             "#fdca26"
            ],
            [
             1,
             "#f0f921"
            ]
           ],
           "sequentialminus": [
            [
             0,
             "#0d0887"
            ],
            [
             0.1111111111111111,
             "#46039f"
            ],
            [
             0.2222222222222222,
             "#7201a8"
            ],
            [
             0.3333333333333333,
             "#9c179e"
            ],
            [
             0.4444444444444444,
             "#bd3786"
            ],
            [
             0.5555555555555556,
             "#d8576b"
            ],
            [
             0.6666666666666666,
             "#ed7953"
            ],
            [
             0.7777777777777778,
             "#fb9f3a"
            ],
            [
             0.8888888888888888,
             "#fdca26"
            ],
            [
             1,
             "#f0f921"
            ]
           ]
          },
          "colorway": [
           "#636efa",
           "#EF553B",
           "#00cc96",
           "#ab63fa",
           "#FFA15A",
           "#19d3f3",
           "#FF6692",
           "#B6E880",
           "#FF97FF",
           "#FECB52"
          ],
          "font": {
           "color": "#2a3f5f"
          },
          "geo": {
           "bgcolor": "white",
           "lakecolor": "white",
           "landcolor": "#E5ECF6",
           "showlakes": true,
           "showland": true,
           "subunitcolor": "white"
          },
          "hoverlabel": {
           "align": "left"
          },
          "hovermode": "closest",
          "mapbox": {
           "style": "light"
          },
          "paper_bgcolor": "white",
          "plot_bgcolor": "#E5ECF6",
          "polar": {
           "angularaxis": {
            "gridcolor": "white",
            "linecolor": "white",
            "ticks": ""
           },
           "bgcolor": "#E5ECF6",
           "radialaxis": {
            "gridcolor": "white",
            "linecolor": "white",
            "ticks": ""
           }
          },
          "scene": {
           "xaxis": {
            "backgroundcolor": "#E5ECF6",
            "gridcolor": "white",
            "gridwidth": 2,
            "linecolor": "white",
            "showbackground": true,
            "ticks": "",
            "zerolinecolor": "white"
           },
           "yaxis": {
            "backgroundcolor": "#E5ECF6",
            "gridcolor": "white",
            "gridwidth": 2,
            "linecolor": "white",
            "showbackground": true,
            "ticks": "",
            "zerolinecolor": "white"
           },
           "zaxis": {
            "backgroundcolor": "#E5ECF6",
            "gridcolor": "white",
            "gridwidth": 2,
            "linecolor": "white",
            "showbackground": true,
            "ticks": "",
            "zerolinecolor": "white"
           }
          },
          "shapedefaults": {
           "line": {
            "color": "#2a3f5f"
           }
          },
          "ternary": {
           "aaxis": {
            "gridcolor": "white",
            "linecolor": "white",
            "ticks": ""
           },
           "baxis": {
            "gridcolor": "white",
            "linecolor": "white",
            "ticks": ""
           },
           "bgcolor": "#E5ECF6",
           "caxis": {
            "gridcolor": "white",
            "linecolor": "white",
            "ticks": ""
           }
          },
          "title": {
           "x": 0.05
          },
          "xaxis": {
           "automargin": true,
           "gridcolor": "white",
           "linecolor": "white",
           "ticks": "",
           "title": {
            "standoff": 15
           },
           "zerolinecolor": "white",
           "zerolinewidth": 2
          },
          "yaxis": {
           "automargin": true,
           "gridcolor": "white",
           "linecolor": "white",
           "ticks": "",
           "title": {
            "standoff": 15
           },
           "zerolinecolor": "white",
           "zerolinewidth": 2
          }
         }
        },
        "title": {
         "text": "Country wise airport"
        },
        "xaxis": {
         "anchor": "y",
         "domain": [
          0,
          1
         ],
         "title": {
          "text": "Country of Nationality"
         }
        },
        "yaxis": {
         "anchor": "x",
         "domain": [
          0,
          1
         ],
         "title": {
          "text": "value"
         }
        }
       }
      }
     },
     "metadata": {},
     "output_type": "display_data"
    }
   ],
   "source": [
    "px.line(df,df.index,['2014 Delhi (Airport)', ' 2014 Mumbai (Airport)',\n",
    "       ' 2014 Chennai (Airport)', '2014 Calicut (Airport)',\n",
    "       '2014 Benguluru (Airport)', '2014 Kolkata (Airport)',\n",
    "       '2014 Hyderabad (Airport)', '2014 Cochin (Airport) '], title='Country wise airport')"
   ]
  },
  {
   "cell_type": "code",
   "execution_count": 17,
   "metadata": {},
   "outputs": [
    {
     "data": {
      "application/vnd.plotly.v1+json": {
       "config": {
        "plotlyServerURL": "https://plot.ly"
       },
       "data": [
        {
         "hovertemplate": "variable=2015 Delhi (Airport)<br>Country of Nationality=%{x}<br>value=%{y}<extra></extra>",
         "legendgroup": "2015 Delhi (Airport)",
         "line": {
          "color": "#636efa",
          "dash": "solid"
         },
         "marker": {
          "symbol": "circle"
         },
         "mode": "lines",
         "name": "2015 Delhi (Airport)",
         "orientation": "v",
         "showlegend": true,
         "type": "scatter",
         "x": [
          "Canada",
          "United States Of America",
          "Argentina",
          "Brazil",
          "Mexico",
          "Austria",
          "Belgium",
          "Denmark",
          "Finland",
          "France",
          "Germany",
          "Greece",
          "Ireland",
          "Italy",
          "Netherlands",
          "Norway",
          "Portugal",
          "Spain",
          "Sweden",
          "Switzerland",
          "United Kingdom",
          "Czech Rep.",
          "Hungary",
          "Kazakhstan",
          "Poland",
          "Russian Federation",
          "Ukraine",
          "Egypt",
          "Kenya",
          "Mauritius",
          "Nigeria",
          "South Africa",
          "Sudan",
          "Tanzania",
          "Bahrain",
          "Iraq",
          "Israel",
          "Oman",
          "Saudi Arabia",
          "Turkey",
          "United Arab Emirates",
          "Yemen",
          "Afghanistan",
          "Bangladesh",
          "Bhutan",
          "Iran",
          "Maldives",
          "Nepal",
          "Pakistan",
          "Sri Lanka",
          "Indonesia",
          "Malaysia",
          "Myanmar",
          "Philippines",
          "Singapore",
          "Thailand",
          "Vietnam",
          "China",
          "Japan",
          "Korea (Republic Of ",
          "Republic Of China Taiwan",
          "Australia",
          "New Zealand"
         ],
         "xaxis": "x",
         "y": [
          19.7,
          23.9,
          17.3,
          20.6,
          15.8,
          14.8,
          34.7,
          23.1,
          14.1,
          21.6,
          21.9,
          22.6,
          17.9,
          18.2,
          23.7,
          18.5,
          48.6,
          20.5,
          22.2,
          26.4,
          28.4,
          22.6,
          null,
          28.7,
          4.1,
          13.9,
          2,
          34.9,
          55.3,
          48.9,
          30.9,
          50.1,
          33,
          48.5,
          31.3,
          13.3,
          59.9,
          32.8,
          22.4,
          39.4,
          39,
          49.5,
          0,
          32.5,
          0.7,
          9.4,
          5.8,
          0.6,
          10.5,
          1.5,
          28.5,
          10.4,
          2.8,
          22,
          20.9,
          12,
          13.7,
          18.8,
          14.9,
          13.3,
          20.2,
          3.7,
          3.3
         ],
         "yaxis": "y"
        },
        {
         "hovertemplate": "variable= 2015 Mumbai (Airport)<br>Country of Nationality=%{x}<br>value=%{y}<extra></extra>",
         "legendgroup": " 2015 Mumbai (Airport)",
         "line": {
          "color": "#EF553B",
          "dash": "solid"
         },
         "marker": {
          "symbol": "circle"
         },
         "mode": "lines",
         "name": " 2015 Mumbai (Airport)",
         "orientation": "v",
         "showlegend": true,
         "type": "scatter",
         "x": [
          "Canada",
          "United States Of America",
          "Argentina",
          "Brazil",
          "Mexico",
          "Austria",
          "Belgium",
          "Denmark",
          "Finland",
          "France",
          "Germany",
          "Greece",
          "Ireland",
          "Italy",
          "Netherlands",
          "Norway",
          "Portugal",
          "Spain",
          "Sweden",
          "Switzerland",
          "United Kingdom",
          "Czech Rep.",
          "Hungary",
          "Kazakhstan",
          "Poland",
          "Russian Federation",
          "Ukraine",
          "Egypt",
          "Kenya",
          "Mauritius",
          "Nigeria",
          "South Africa",
          "Sudan",
          "Tanzania",
          "Bahrain",
          "Iraq",
          "Israel",
          "Oman",
          "Saudi Arabia",
          "Turkey",
          "United Arab Emirates",
          "Yemen",
          "Afghanistan",
          "Bangladesh",
          "Bhutan",
          "Iran",
          "Maldives",
          "Nepal",
          "Pakistan",
          "Sri Lanka",
          "Indonesia",
          "Malaysia",
          "Myanmar",
          "Philippines",
          "Singapore",
          "Thailand",
          "Vietnam",
          "China",
          "Japan",
          "Korea (Republic Of ",
          "Republic Of China Taiwan",
          "Australia",
          "New Zealand"
         ],
         "xaxis": "x",
         "y": [
          1.5,
          2.3,
          4.6,
          3.1,
          2.1,
          2,
          1.3,
          2.1,
          1,
          1.3,
          2.1,
          3.3,
          4.3,
          3.2,
          2.1,
          2.1,
          0.5,
          2.5,
          2.2,
          2.1,
          2.1,
          3,
          null,
          2.9,
          0.8,
          1.4,
          0.2,
          3,
          0.7,
          0.5,
          0.5,
          1.8,
          0.4,
          0.3,
          0.3,
          0.1,
          1.1,
          0.1,
          0.2,
          1.1,
          0.4,
          0.5,
          0.2,
          0.8,
          0.1,
          4.5,
          0.1,
          11.7,
          0.7,
          27.8,
          6.3,
          1.9,
          5,
          3.3,
          2.6,
          21.6,
          7.8,
          6.4,
          3.6,
          2.7,
          4.2,
          8.9,
          6.4
         ],
         "yaxis": "y"
        },
        {
         "hovertemplate": "variable= 2015 Chennai (Airport)<br>Country of Nationality=%{x}<br>value=%{y}<extra></extra>",
         "legendgroup": " 2015 Chennai (Airport)",
         "line": {
          "color": "#00cc96",
          "dash": "solid"
         },
         "marker": {
          "symbol": "circle"
         },
         "mode": "lines",
         "name": " 2015 Chennai (Airport)",
         "orientation": "v",
         "showlegend": true,
         "type": "scatter",
         "x": [
          "Canada",
          "United States Of America",
          "Argentina",
          "Brazil",
          "Mexico",
          "Austria",
          "Belgium",
          "Denmark",
          "Finland",
          "France",
          "Germany",
          "Greece",
          "Ireland",
          "Italy",
          "Netherlands",
          "Norway",
          "Portugal",
          "Spain",
          "Sweden",
          "Switzerland",
          "United Kingdom",
          "Czech Rep.",
          "Hungary",
          "Kazakhstan",
          "Poland",
          "Russian Federation",
          "Ukraine",
          "Egypt",
          "Kenya",
          "Mauritius",
          "Nigeria",
          "South Africa",
          "Sudan",
          "Tanzania",
          "Bahrain",
          "Iraq",
          "Israel",
          "Oman",
          "Saudi Arabia",
          "Turkey",
          "United Arab Emirates",
          "Yemen",
          "Afghanistan",
          "Bangladesh",
          "Bhutan",
          "Iran",
          "Maldives",
          "Nepal",
          "Pakistan",
          "Sri Lanka",
          "Indonesia",
          "Malaysia",
          "Myanmar",
          "Philippines",
          "Singapore",
          "Thailand",
          "Vietnam",
          "China",
          "Japan",
          "Korea (Republic Of ",
          "Republic Of China Taiwan",
          "Australia",
          "New Zealand"
         ],
         "xaxis": "x",
         "y": [
          6,
          8.1,
          4.5,
          6.5,
          6.2,
          4.9,
          7.2,
          11.3,
          3.9,
          19.3,
          8.7,
          6.2,
          7,
          9.3,
          5.8,
          7.5,
          2,
          5.5,
          5.5,
          7.1,
          5.4,
          7,
          null,
          6.2,
          1.5,
          3.2,
          1.4,
          7.9,
          2.7,
          0.8,
          6.2,
          5.6,
          14.2,
          7.5,
          8.6,
          2.6,
          1.6,
          12.7,
          3.4,
          2.7,
          1.6,
          1.9,
          0.2,
          1.2,
          4.4,
          0.9,
          0.3,
          0.9,
          47.3,
          0.4,
          7.5,
          22.4,
          5.1,
          9.1,
          25.2,
          3.8,
          4.4,
          7.7,
          8.6,
          9.6,
          17.5,
          37.3,
          39.7
         ],
         "yaxis": "y"
        },
        {
         "hovertemplate": "variable=2015 Calicut (Airport)<br>Country of Nationality=%{x}<br>value=%{y}<extra></extra>",
         "legendgroup": "2015 Calicut (Airport)",
         "line": {
          "color": "#ab63fa",
          "dash": "solid"
         },
         "marker": {
          "symbol": "circle"
         },
         "mode": "lines",
         "name": "2015 Calicut (Airport)",
         "orientation": "v",
         "showlegend": true,
         "type": "scatter",
         "x": [
          "Canada",
          "United States Of America",
          "Argentina",
          "Brazil",
          "Mexico",
          "Austria",
          "Belgium",
          "Denmark",
          "Finland",
          "France",
          "Germany",
          "Greece",
          "Ireland",
          "Italy",
          "Netherlands",
          "Norway",
          "Portugal",
          "Spain",
          "Sweden",
          "Switzerland",
          "United Kingdom",
          "Czech Rep.",
          "Hungary",
          "Kazakhstan",
          "Poland",
          "Russian Federation",
          "Ukraine",
          "Egypt",
          "Kenya",
          "Mauritius",
          "Nigeria",
          "South Africa",
          "Sudan",
          "Tanzania",
          "Bahrain",
          "Iraq",
          "Israel",
          "Oman",
          "Saudi Arabia",
          "Turkey",
          "United Arab Emirates",
          "Yemen",
          "Afghanistan",
          "Bangladesh",
          "Bhutan",
          "Iran",
          "Maldives",
          "Nepal",
          "Pakistan",
          "Sri Lanka",
          "Indonesia",
          "Malaysia",
          "Myanmar",
          "Philippines",
          "Singapore",
          "Thailand",
          "Vietnam",
          "China",
          "Japan",
          "Korea (Republic Of ",
          "Republic Of China Taiwan",
          "Australia",
          "New Zealand"
         ],
         "xaxis": "x",
         "y": [
          54.5,
          31.1,
          56.7,
          48.1,
          59.1,
          54,
          40.7,
          36,
          59.2,
          40.4,
          38.1,
          35.6,
          26.7,
          47.3,
          49.2,
          55.1,
          18.3,
          55.4,
          39.1,
          40.7,
          30.4,
          47.4,
          null,
          39.8,
          27,
          31.2,
          50.1,
          20.7,
          13.3,
          31.8,
          46.5,
          23.6,
          13.8,
          15.6,
          8.6,
          69.4,
          28.9,
          4.7,
          11.6,
          45.4,
          3.9,
          8.1,
          98.7,
          34.4,
          1.4,
          74.7,
          3.8,
          1.4,
          7.7,
          51.1,
          33.5,
          14.4,
          5.5,
          16,
          20.7,
          23.9,
          31.9,
          52.1,
          52.9,
          58.7,
          43.6,
          8.8,
          6.1
         ],
         "yaxis": "y"
        },
        {
         "hovertemplate": "variable=2015 Benguluru (Airport)<br>Country of Nationality=%{x}<br>value=%{y}<extra></extra>",
         "legendgroup": "2015 Benguluru (Airport)",
         "line": {
          "color": "#FFA15A",
          "dash": "solid"
         },
         "marker": {
          "symbol": "circle"
         },
         "mode": "lines",
         "name": "2015 Benguluru (Airport)",
         "orientation": "v",
         "showlegend": true,
         "type": "scatter",
         "x": [
          "Canada",
          "United States Of America",
          "Argentina",
          "Brazil",
          "Mexico",
          "Austria",
          "Belgium",
          "Denmark",
          "Finland",
          "France",
          "Germany",
          "Greece",
          "Ireland",
          "Italy",
          "Netherlands",
          "Norway",
          "Portugal",
          "Spain",
          "Sweden",
          "Switzerland",
          "United Kingdom",
          "Czech Rep.",
          "Hungary",
          "Kazakhstan",
          "Poland",
          "Russian Federation",
          "Ukraine",
          "Egypt",
          "Kenya",
          "Mauritius",
          "Nigeria",
          "South Africa",
          "Sudan",
          "Tanzania",
          "Bahrain",
          "Iraq",
          "Israel",
          "Oman",
          "Saudi Arabia",
          "Turkey",
          "United Arab Emirates",
          "Yemen",
          "Afghanistan",
          "Bangladesh",
          "Bhutan",
          "Iran",
          "Maldives",
          "Nepal",
          "Pakistan",
          "Sri Lanka",
          "Indonesia",
          "Malaysia",
          "Myanmar",
          "Philippines",
          "Singapore",
          "Thailand",
          "Vietnam",
          "China",
          "Japan",
          "Korea (Republic Of ",
          "Republic Of China Taiwan",
          "Australia",
          "New Zealand"
         ],
         "xaxis": "x",
         "y": [
          4.6,
          10.5,
          7.5,
          10.1,
          6.2,
          6.5,
          5.7,
          11.2,
          4.7,
          10,
          12.3,
          8.1,
          10.1,
          7.1,
          10.2,
          5.7,
          2.3,
          6.6,
          11.4,
          6.6,
          5.8,
          6.2,
          null,
          7.7,
          1.8,
          2.8,
          1.1,
          5.5,
          2.5,
          8.9,
          10.1,
          6.8,
          13.8,
          10.3,
          7.7,
          8.1,
          3.6,
          5.6,
          15.5,
          2.9,
          12.3,
          18.9,
          0.4,
          16.1,
          17.9,
          3.7,
          0,
          0,
          5.2,
          0.3,
          8.8,
          6.2,
          0.6,
          7,
          7.8,
          5.2,
          7.1,
          7.8,
          10,
          9.7,
          6.5,
          0,
          0
         ],
         "yaxis": "y"
        },
        {
         "hovertemplate": "variable=2015 Kolkata (Airport)<br>Country of Nationality=%{x}<br>value=%{y}<extra></extra>",
         "legendgroup": "2015 Kolkata (Airport)",
         "line": {
          "color": "#19d3f3",
          "dash": "solid"
         },
         "marker": {
          "symbol": "circle"
         },
         "mode": "lines",
         "name": "2015 Kolkata (Airport)",
         "orientation": "v",
         "showlegend": true,
         "type": "scatter",
         "x": [
          "Canada",
          "United States Of America",
          "Argentina",
          "Brazil",
          "Mexico",
          "Austria",
          "Belgium",
          "Denmark",
          "Finland",
          "France",
          "Germany",
          "Greece",
          "Ireland",
          "Italy",
          "Netherlands",
          "Norway",
          "Portugal",
          "Spain",
          "Sweden",
          "Switzerland",
          "United Kingdom",
          "Czech Rep.",
          "Hungary",
          "Kazakhstan",
          "Poland",
          "Russian Federation",
          "Ukraine",
          "Egypt",
          "Kenya",
          "Mauritius",
          "Nigeria",
          "South Africa",
          "Sudan",
          "Tanzania",
          "Bahrain",
          "Iraq",
          "Israel",
          "Oman",
          "Saudi Arabia",
          "Turkey",
          "United Arab Emirates",
          "Yemen",
          "Afghanistan",
          "Bangladesh",
          "Bhutan",
          "Iran",
          "Maldives",
          "Nepal",
          "Pakistan",
          "Sri Lanka",
          "Indonesia",
          "Malaysia",
          "Myanmar",
          "Philippines",
          "Singapore",
          "Thailand",
          "Vietnam",
          "China",
          "Japan",
          "Korea (Republic Of ",
          "Republic Of China Taiwan",
          "Australia",
          "New Zealand"
         ],
         "xaxis": "x",
         "y": [
          3.1,
          9.5,
          1.1,
          2.6,
          2.6,
          1.2,
          1.7,
          1.5,
          1,
          0.9,
          1.4,
          3.5,
          4.9,
          1.5,
          2.4,
          2.3,
          0.7,
          1.5,
          2,
          1.4,
          2.8,
          1.6,
          null,
          1.8,
          0.6,
          1.1,
          0.2,
          5.3,
          2.8,
          0.3,
          2.8,
          2.6,
          18.2,
          5.6,
          16.6,
          5.3,
          0.3,
          10,
          5.3,
          1.1,
          26.6,
          13.6,
          0.1,
          2.3,
          0,
          0.3,
          0,
          0,
          0.1,
          0,
          4.3,
          3,
          0.5,
          5.6,
          2.5,
          1.1,
          2.3,
          2.4,
          1.8,
          1.6,
          1.8,
          6.4,
          5.9
         ],
         "yaxis": "y"
        },
        {
         "hovertemplate": "variable=2015 Hyderabad (Airport)<br>Country of Nationality=%{x}<br>value=%{y}<extra></extra>",
         "legendgroup": "2015 Hyderabad (Airport)",
         "line": {
          "color": "#FF6692",
          "dash": "solid"
         },
         "marker": {
          "symbol": "circle"
         },
         "mode": "lines",
         "name": "2015 Hyderabad (Airport)",
         "orientation": "v",
         "showlegend": true,
         "type": "scatter",
         "x": [
          "Canada",
          "United States Of America",
          "Argentina",
          "Brazil",
          "Mexico",
          "Austria",
          "Belgium",
          "Denmark",
          "Finland",
          "France",
          "Germany",
          "Greece",
          "Ireland",
          "Italy",
          "Netherlands",
          "Norway",
          "Portugal",
          "Spain",
          "Sweden",
          "Switzerland",
          "United Kingdom",
          "Czech Rep.",
          "Hungary",
          "Kazakhstan",
          "Poland",
          "Russian Federation",
          "Ukraine",
          "Egypt",
          "Kenya",
          "Mauritius",
          "Nigeria",
          "South Africa",
          "Sudan",
          "Tanzania",
          "Bahrain",
          "Iraq",
          "Israel",
          "Oman",
          "Saudi Arabia",
          "Turkey",
          "United Arab Emirates",
          "Yemen",
          "Afghanistan",
          "Bangladesh",
          "Bhutan",
          "Iran",
          "Maldives",
          "Nepal",
          "Pakistan",
          "Sri Lanka",
          "Indonesia",
          "Malaysia",
          "Myanmar",
          "Philippines",
          "Singapore",
          "Thailand",
          "Vietnam",
          "China",
          "Japan",
          "Korea (Republic Of ",
          "Republic Of China Taiwan",
          "Australia",
          "New Zealand"
         ],
         "xaxis": "x",
         "y": [
          10.6,
          14.6,
          8.3,
          9,
          8,
          16.6,
          8.7,
          14.8,
          16.1,
          6.5,
          15.5,
          20.7,
          29.1,
          13.4,
          6.6,
          8.8,
          27.6,
          8,
          17.6,
          15.7,
          25.1,
          12.2,
          null,
          12.9,
          64.2,
          46.4,
          45,
          22.7,
          22.7,
          1.6,
          3,
          9.5,
          6.6,
          12.2,
          26.9,
          1.2,
          5.5,
          34.1,
          41.6,
          7.4,
          16.2,
          7.5,
          0.4,
          12.7,
          75.5,
          6.5,
          90,
          85.4,
          28.5,
          18.9,
          11.1,
          41.7,
          80.5,
          37,
          20.3,
          32.4,
          32.8,
          4.8,
          8.2,
          4.4,
          6.2,
          17,
          12.7
         ],
         "yaxis": "y"
        },
        {
         "hovertemplate": "variable=2015 Cochin (Airport)<br>Country of Nationality=%{x}<br>value=%{y}<extra></extra>",
         "legendgroup": "2015 Cochin (Airport)",
         "line": {
          "color": "#B6E880",
          "dash": "solid"
         },
         "marker": {
          "symbol": "circle"
         },
         "mode": "lines",
         "name": "2015 Cochin (Airport)",
         "orientation": "v",
         "showlegend": true,
         "type": "scatter",
         "x": [
          "Canada",
          "United States Of America",
          "Argentina",
          "Brazil",
          "Mexico",
          "Austria",
          "Belgium",
          "Denmark",
          "Finland",
          "France",
          "Germany",
          "Greece",
          "Ireland",
          "Italy",
          "Netherlands",
          "Norway",
          "Portugal",
          "Spain",
          "Sweden",
          "Switzerland",
          "United Kingdom",
          "Czech Rep.",
          "Hungary",
          "Kazakhstan",
          "Poland",
          "Russian Federation",
          "Ukraine",
          "Egypt",
          "Kenya",
          "Mauritius",
          "Nigeria",
          "South Africa",
          "Sudan",
          "Tanzania",
          "Bahrain",
          "Iraq",
          "Israel",
          "Oman",
          "Saudi Arabia",
          "Turkey",
          "United Arab Emirates",
          "Yemen",
          "Afghanistan",
          "Bangladesh",
          "Bhutan",
          "Iran",
          "Maldives",
          "Nepal",
          "Pakistan",
          "Sri Lanka",
          "Indonesia",
          "Malaysia",
          "Myanmar",
          "Philippines",
          "Singapore",
          "Thailand",
          "Vietnam",
          "China",
          "Japan",
          "Korea (Republic Of ",
          "Republic Of China Taiwan",
          "Australia",
          "New Zealand"
         ],
         "xaxis": "x",
         "y": [
          0,
          0,
          0,
          0,
          0,
          0,
          0,
          0,
          0,
          0,
          0,
          0,
          0,
          0,
          0,
          0,
          0,
          0,
          0,
          0,
          0,
          0,
          0,
          0,
          0,
          0,
          0,
          0,
          0,
          0,
          0,
          0,
          0,
          0,
          0,
          0,
          0,
          0,
          0,
          0,
          0,
          0,
          0,
          0,
          0,
          0,
          0,
          0,
          0,
          0,
          0,
          0,
          0,
          0,
          0,
          0,
          0,
          0,
          0,
          0,
          0,
          0,
          0
         ],
         "yaxis": "y"
        }
       ],
       "layout": {
        "legend": {
         "title": {
          "text": "variable"
         },
         "tracegroupgap": 0
        },
        "template": {
         "data": {
          "bar": [
           {
            "error_x": {
             "color": "#2a3f5f"
            },
            "error_y": {
             "color": "#2a3f5f"
            },
            "marker": {
             "line": {
              "color": "#E5ECF6",
              "width": 0.5
             },
             "pattern": {
              "fillmode": "overlay",
              "size": 10,
              "solidity": 0.2
             }
            },
            "type": "bar"
           }
          ],
          "barpolar": [
           {
            "marker": {
             "line": {
              "color": "#E5ECF6",
              "width": 0.5
             },
             "pattern": {
              "fillmode": "overlay",
              "size": 10,
              "solidity": 0.2
             }
            },
            "type": "barpolar"
           }
          ],
          "carpet": [
           {
            "aaxis": {
             "endlinecolor": "#2a3f5f",
             "gridcolor": "white",
             "linecolor": "white",
             "minorgridcolor": "white",
             "startlinecolor": "#2a3f5f"
            },
            "baxis": {
             "endlinecolor": "#2a3f5f",
             "gridcolor": "white",
             "linecolor": "white",
             "minorgridcolor": "white",
             "startlinecolor": "#2a3f5f"
            },
            "type": "carpet"
           }
          ],
          "choropleth": [
           {
            "colorbar": {
             "outlinewidth": 0,
             "ticks": ""
            },
            "type": "choropleth"
           }
          ],
          "contour": [
           {
            "colorbar": {
             "outlinewidth": 0,
             "ticks": ""
            },
            "colorscale": [
             [
              0,
              "#0d0887"
             ],
             [
              0.1111111111111111,
              "#46039f"
             ],
             [
              0.2222222222222222,
              "#7201a8"
             ],
             [
              0.3333333333333333,
              "#9c179e"
             ],
             [
              0.4444444444444444,
              "#bd3786"
             ],
             [
              0.5555555555555556,
              "#d8576b"
             ],
             [
              0.6666666666666666,
              "#ed7953"
             ],
             [
              0.7777777777777778,
              "#fb9f3a"
             ],
             [
              0.8888888888888888,
              "#fdca26"
             ],
             [
              1,
              "#f0f921"
             ]
            ],
            "type": "contour"
           }
          ],
          "contourcarpet": [
           {
            "colorbar": {
             "outlinewidth": 0,
             "ticks": ""
            },
            "type": "contourcarpet"
           }
          ],
          "heatmap": [
           {
            "colorbar": {
             "outlinewidth": 0,
             "ticks": ""
            },
            "colorscale": [
             [
              0,
              "#0d0887"
             ],
             [
              0.1111111111111111,
              "#46039f"
             ],
             [
              0.2222222222222222,
              "#7201a8"
             ],
             [
              0.3333333333333333,
              "#9c179e"
             ],
             [
              0.4444444444444444,
              "#bd3786"
             ],
             [
              0.5555555555555556,
              "#d8576b"
             ],
             [
              0.6666666666666666,
              "#ed7953"
             ],
             [
              0.7777777777777778,
              "#fb9f3a"
             ],
             [
              0.8888888888888888,
              "#fdca26"
             ],
             [
              1,
              "#f0f921"
             ]
            ],
            "type": "heatmap"
           }
          ],
          "heatmapgl": [
           {
            "colorbar": {
             "outlinewidth": 0,
             "ticks": ""
            },
            "colorscale": [
             [
              0,
              "#0d0887"
             ],
             [
              0.1111111111111111,
              "#46039f"
             ],
             [
              0.2222222222222222,
              "#7201a8"
             ],
             [
              0.3333333333333333,
              "#9c179e"
             ],
             [
              0.4444444444444444,
              "#bd3786"
             ],
             [
              0.5555555555555556,
              "#d8576b"
             ],
             [
              0.6666666666666666,
              "#ed7953"
             ],
             [
              0.7777777777777778,
              "#fb9f3a"
             ],
             [
              0.8888888888888888,
              "#fdca26"
             ],
             [
              1,
              "#f0f921"
             ]
            ],
            "type": "heatmapgl"
           }
          ],
          "histogram": [
           {
            "marker": {
             "pattern": {
              "fillmode": "overlay",
              "size": 10,
              "solidity": 0.2
             }
            },
            "type": "histogram"
           }
          ],
          "histogram2d": [
           {
            "colorbar": {
             "outlinewidth": 0,
             "ticks": ""
            },
            "colorscale": [
             [
              0,
              "#0d0887"
             ],
             [
              0.1111111111111111,
              "#46039f"
             ],
             [
              0.2222222222222222,
              "#7201a8"
             ],
             [
              0.3333333333333333,
              "#9c179e"
             ],
             [
              0.4444444444444444,
              "#bd3786"
             ],
             [
              0.5555555555555556,
              "#d8576b"
             ],
             [
              0.6666666666666666,
              "#ed7953"
             ],
             [
              0.7777777777777778,
              "#fb9f3a"
             ],
             [
              0.8888888888888888,
              "#fdca26"
             ],
             [
              1,
              "#f0f921"
             ]
            ],
            "type": "histogram2d"
           }
          ],
          "histogram2dcontour": [
           {
            "colorbar": {
             "outlinewidth": 0,
             "ticks": ""
            },
            "colorscale": [
             [
              0,
              "#0d0887"
             ],
             [
              0.1111111111111111,
              "#46039f"
             ],
             [
              0.2222222222222222,
              "#7201a8"
             ],
             [
              0.3333333333333333,
              "#9c179e"
             ],
             [
              0.4444444444444444,
              "#bd3786"
             ],
             [
              0.5555555555555556,
              "#d8576b"
             ],
             [
              0.6666666666666666,
              "#ed7953"
             ],
             [
              0.7777777777777778,
              "#fb9f3a"
             ],
             [
              0.8888888888888888,
              "#fdca26"
             ],
             [
              1,
              "#f0f921"
             ]
            ],
            "type": "histogram2dcontour"
           }
          ],
          "mesh3d": [
           {
            "colorbar": {
             "outlinewidth": 0,
             "ticks": ""
            },
            "type": "mesh3d"
           }
          ],
          "parcoords": [
           {
            "line": {
             "colorbar": {
              "outlinewidth": 0,
              "ticks": ""
             }
            },
            "type": "parcoords"
           }
          ],
          "pie": [
           {
            "automargin": true,
            "type": "pie"
           }
          ],
          "scatter": [
           {
            "fillpattern": {
             "fillmode": "overlay",
             "size": 10,
             "solidity": 0.2
            },
            "type": "scatter"
           }
          ],
          "scatter3d": [
           {
            "line": {
             "colorbar": {
              "outlinewidth": 0,
              "ticks": ""
             }
            },
            "marker": {
             "colorbar": {
              "outlinewidth": 0,
              "ticks": ""
             }
            },
            "type": "scatter3d"
           }
          ],
          "scattercarpet": [
           {
            "marker": {
             "colorbar": {
              "outlinewidth": 0,
              "ticks": ""
             }
            },
            "type": "scattercarpet"
           }
          ],
          "scattergeo": [
           {
            "marker": {
             "colorbar": {
              "outlinewidth": 0,
              "ticks": ""
             }
            },
            "type": "scattergeo"
           }
          ],
          "scattergl": [
           {
            "marker": {
             "colorbar": {
              "outlinewidth": 0,
              "ticks": ""
             }
            },
            "type": "scattergl"
           }
          ],
          "scattermapbox": [
           {
            "marker": {
             "colorbar": {
              "outlinewidth": 0,
              "ticks": ""
             }
            },
            "type": "scattermapbox"
           }
          ],
          "scatterpolar": [
           {
            "marker": {
             "colorbar": {
              "outlinewidth": 0,
              "ticks": ""
             }
            },
            "type": "scatterpolar"
           }
          ],
          "scatterpolargl": [
           {
            "marker": {
             "colorbar": {
              "outlinewidth": 0,
              "ticks": ""
             }
            },
            "type": "scatterpolargl"
           }
          ],
          "scatterternary": [
           {
            "marker": {
             "colorbar": {
              "outlinewidth": 0,
              "ticks": ""
             }
            },
            "type": "scatterternary"
           }
          ],
          "surface": [
           {
            "colorbar": {
             "outlinewidth": 0,
             "ticks": ""
            },
            "colorscale": [
             [
              0,
              "#0d0887"
             ],
             [
              0.1111111111111111,
              "#46039f"
             ],
             [
              0.2222222222222222,
              "#7201a8"
             ],
             [
              0.3333333333333333,
              "#9c179e"
             ],
             [
              0.4444444444444444,
              "#bd3786"
             ],
             [
              0.5555555555555556,
              "#d8576b"
             ],
             [
              0.6666666666666666,
              "#ed7953"
             ],
             [
              0.7777777777777778,
              "#fb9f3a"
             ],
             [
              0.8888888888888888,
              "#fdca26"
             ],
             [
              1,
              "#f0f921"
             ]
            ],
            "type": "surface"
           }
          ],
          "table": [
           {
            "cells": {
             "fill": {
              "color": "#EBF0F8"
             },
             "line": {
              "color": "white"
             }
            },
            "header": {
             "fill": {
              "color": "#C8D4E3"
             },
             "line": {
              "color": "white"
             }
            },
            "type": "table"
           }
          ]
         },
         "layout": {
          "annotationdefaults": {
           "arrowcolor": "#2a3f5f",
           "arrowhead": 0,
           "arrowwidth": 1
          },
          "autotypenumbers": "strict",
          "coloraxis": {
           "colorbar": {
            "outlinewidth": 0,
            "ticks": ""
           }
          },
          "colorscale": {
           "diverging": [
            [
             0,
             "#8e0152"
            ],
            [
             0.1,
             "#c51b7d"
            ],
            [
             0.2,
             "#de77ae"
            ],
            [
             0.3,
             "#f1b6da"
            ],
            [
             0.4,
             "#fde0ef"
            ],
            [
             0.5,
             "#f7f7f7"
            ],
            [
             0.6,
             "#e6f5d0"
            ],
            [
             0.7,
             "#b8e186"
            ],
            [
             0.8,
             "#7fbc41"
            ],
            [
             0.9,
             "#4d9221"
            ],
            [
             1,
             "#276419"
            ]
           ],
           "sequential": [
            [
             0,
             "#0d0887"
            ],
            [
             0.1111111111111111,
             "#46039f"
            ],
            [
             0.2222222222222222,
             "#7201a8"
            ],
            [
             0.3333333333333333,
             "#9c179e"
            ],
            [
             0.4444444444444444,
             "#bd3786"
            ],
            [
             0.5555555555555556,
             "#d8576b"
            ],
            [
             0.6666666666666666,
             "#ed7953"
            ],
            [
             0.7777777777777778,
             "#fb9f3a"
            ],
            [
             0.8888888888888888,
             "#fdca26"
            ],
            [
             1,
             "#f0f921"
            ]
           ],
           "sequentialminus": [
            [
             0,
             "#0d0887"
            ],
            [
             0.1111111111111111,
             "#46039f"
            ],
            [
             0.2222222222222222,
             "#7201a8"
            ],
            [
             0.3333333333333333,
             "#9c179e"
            ],
            [
             0.4444444444444444,
             "#bd3786"
            ],
            [
             0.5555555555555556,
             "#d8576b"
            ],
            [
             0.6666666666666666,
             "#ed7953"
            ],
            [
             0.7777777777777778,
             "#fb9f3a"
            ],
            [
             0.8888888888888888,
             "#fdca26"
            ],
            [
             1,
             "#f0f921"
            ]
           ]
          },
          "colorway": [
           "#636efa",
           "#EF553B",
           "#00cc96",
           "#ab63fa",
           "#FFA15A",
           "#19d3f3",
           "#FF6692",
           "#B6E880",
           "#FF97FF",
           "#FECB52"
          ],
          "font": {
           "color": "#2a3f5f"
          },
          "geo": {
           "bgcolor": "white",
           "lakecolor": "white",
           "landcolor": "#E5ECF6",
           "showlakes": true,
           "showland": true,
           "subunitcolor": "white"
          },
          "hoverlabel": {
           "align": "left"
          },
          "hovermode": "closest",
          "mapbox": {
           "style": "light"
          },
          "paper_bgcolor": "white",
          "plot_bgcolor": "#E5ECF6",
          "polar": {
           "angularaxis": {
            "gridcolor": "white",
            "linecolor": "white",
            "ticks": ""
           },
           "bgcolor": "#E5ECF6",
           "radialaxis": {
            "gridcolor": "white",
            "linecolor": "white",
            "ticks": ""
           }
          },
          "scene": {
           "xaxis": {
            "backgroundcolor": "#E5ECF6",
            "gridcolor": "white",
            "gridwidth": 2,
            "linecolor": "white",
            "showbackground": true,
            "ticks": "",
            "zerolinecolor": "white"
           },
           "yaxis": {
            "backgroundcolor": "#E5ECF6",
            "gridcolor": "white",
            "gridwidth": 2,
            "linecolor": "white",
            "showbackground": true,
            "ticks": "",
            "zerolinecolor": "white"
           },
           "zaxis": {
            "backgroundcolor": "#E5ECF6",
            "gridcolor": "white",
            "gridwidth": 2,
            "linecolor": "white",
            "showbackground": true,
            "ticks": "",
            "zerolinecolor": "white"
           }
          },
          "shapedefaults": {
           "line": {
            "color": "#2a3f5f"
           }
          },
          "ternary": {
           "aaxis": {
            "gridcolor": "white",
            "linecolor": "white",
            "ticks": ""
           },
           "baxis": {
            "gridcolor": "white",
            "linecolor": "white",
            "ticks": ""
           },
           "bgcolor": "#E5ECF6",
           "caxis": {
            "gridcolor": "white",
            "linecolor": "white",
            "ticks": ""
           }
          },
          "title": {
           "x": 0.05
          },
          "xaxis": {
           "automargin": true,
           "gridcolor": "white",
           "linecolor": "white",
           "ticks": "",
           "title": {
            "standoff": 15
           },
           "zerolinecolor": "white",
           "zerolinewidth": 2
          },
          "yaxis": {
           "automargin": true,
           "gridcolor": "white",
           "linecolor": "white",
           "ticks": "",
           "title": {
            "standoff": 15
           },
           "zerolinecolor": "white",
           "zerolinewidth": 2
          }
         }
        },
        "title": {
         "text": "Country wise airport"
        },
        "xaxis": {
         "anchor": "y",
         "domain": [
          0,
          1
         ],
         "title": {
          "text": "Country of Nationality"
         }
        },
        "yaxis": {
         "anchor": "x",
         "domain": [
          0,
          1
         ],
         "title": {
          "text": "value"
         }
        }
       }
      }
     },
     "metadata": {},
     "output_type": "display_data"
    }
   ],
   "source": [
    "px.line(df,df.index,['2015 Delhi (Airport)', ' 2015 Mumbai (Airport)',\n",
    "       ' 2015 Chennai (Airport)', '2015 Calicut (Airport)',\n",
    "       '2015 Benguluru (Airport)', '2015 Kolkata (Airport)',\n",
    "       '2015 Hyderabad (Airport)', '2015 Cochin (Airport)'], title='Country wise airport')"
   ]
  },
  {
   "cell_type": "code",
   "execution_count": 32,
   "metadata": {},
   "outputs": [],
   "source": [
    "def clean_2017(x):\n",
    "    if isinstance(x, (int,float)): return x\n",
    "    elif isinstance(x, str): return np.nan\n",
    "    return x\n",
    "df['2016 Kolkata (Airport)'] = df['2016 Kolkata (Airport)'].apply(clean_2017).astype('float')"
   ]
  },
  {
   "cell_type": "code",
   "execution_count": 34,
   "metadata": {},
   "outputs": [
    {
     "data": {
      "application/vnd.plotly.v1+json": {
       "config": {
        "plotlyServerURL": "https://plot.ly"
       },
       "data": [
        {
         "hovertemplate": "variable=2016 Delhi (Airport)<br>Country of Nationality=%{x}<br>value=%{y}<extra></extra>",
         "legendgroup": "2016 Delhi (Airport)",
         "line": {
          "color": "#636efa",
          "dash": "solid"
         },
         "marker": {
          "symbol": "circle"
         },
         "mode": "lines",
         "name": "2016 Delhi (Airport)",
         "orientation": "v",
         "showlegend": true,
         "type": "scatter",
         "x": [
          "Canada",
          "United States Of America",
          "Argentina",
          "Brazil",
          "Mexico",
          "Austria",
          "Belgium",
          "Denmark",
          "Finland",
          "France",
          "Germany",
          "Greece",
          "Ireland",
          "Italy",
          "Netherlands",
          "Norway",
          "Portugal",
          "Spain",
          "Sweden",
          "Switzerland",
          "United Kingdom",
          "Czech Rep.",
          "Hungary",
          "Kazakhstan",
          "Poland",
          "Russian Federation",
          "Ukraine",
          "Egypt",
          "Kenya",
          "Mauritius",
          "Nigeria",
          "South Africa",
          "Sudan",
          "Tanzania",
          "Bahrain",
          "Iraq",
          "Israel",
          "Oman",
          "Saudi Arabia",
          "Turkey",
          "United Arab Emirates",
          "Yemen",
          "Afghanistan",
          "Bangladesh",
          "Bhutan",
          "Iran",
          "Maldives",
          "Nepal",
          "Pakistan",
          "Sri Lanka",
          "Indonesia",
          "Malaysia",
          "Myanmar",
          "Philippines",
          "Singapore",
          "Thailand",
          "Vietnam",
          "China",
          "Japan",
          "Korea (Republic Of ",
          "Republic Of China Taiwan",
          "Australia",
          "New Zealand"
         ],
         "xaxis": "x",
         "y": [
          null,
          null,
          null,
          null,
          null,
          null,
          null,
          null,
          null,
          null,
          null,
          null,
          null,
          null,
          null,
          null,
          null,
          null,
          null,
          null,
          null,
          null,
          null,
          null,
          null,
          null,
          null,
          null,
          null,
          null,
          null,
          null,
          null,
          null,
          null,
          null,
          null,
          null,
          null,
          null,
          null,
          null,
          null,
          null,
          null,
          null,
          null,
          null,
          null,
          null,
          null,
          null,
          null,
          null,
          null,
          null,
          null,
          null,
          null,
          null,
          null,
          null,
          null
         ],
         "yaxis": "y"
        },
        {
         "hovertemplate": "variable= 2016 Mumbai (Airport)<br>Country of Nationality=%{x}<br>value=%{y}<extra></extra>",
         "legendgroup": " 2016 Mumbai (Airport)",
         "line": {
          "color": "#EF553B",
          "dash": "solid"
         },
         "marker": {
          "symbol": "circle"
         },
         "mode": "lines",
         "name": " 2016 Mumbai (Airport)",
         "orientation": "v",
         "showlegend": true,
         "type": "scatter",
         "x": [
          "Canada",
          "United States Of America",
          "Argentina",
          "Brazil",
          "Mexico",
          "Austria",
          "Belgium",
          "Denmark",
          "Finland",
          "France",
          "Germany",
          "Greece",
          "Ireland",
          "Italy",
          "Netherlands",
          "Norway",
          "Portugal",
          "Spain",
          "Sweden",
          "Switzerland",
          "United Kingdom",
          "Czech Rep.",
          "Hungary",
          "Kazakhstan",
          "Poland",
          "Russian Federation",
          "Ukraine",
          "Egypt",
          "Kenya",
          "Mauritius",
          "Nigeria",
          "South Africa",
          "Sudan",
          "Tanzania",
          "Bahrain",
          "Iraq",
          "Israel",
          "Oman",
          "Saudi Arabia",
          "Turkey",
          "United Arab Emirates",
          "Yemen",
          "Afghanistan",
          "Bangladesh",
          "Bhutan",
          "Iran",
          "Maldives",
          "Nepal",
          "Pakistan",
          "Sri Lanka",
          "Indonesia",
          "Malaysia",
          "Myanmar",
          "Philippines",
          "Singapore",
          "Thailand",
          "Vietnam",
          "China",
          "Japan",
          "Korea (Republic Of ",
          "Republic Of China Taiwan",
          "Australia",
          "New Zealand"
         ],
         "xaxis": "x",
         "y": [
          null,
          null,
          null,
          null,
          null,
          null,
          null,
          null,
          null,
          null,
          null,
          null,
          null,
          null,
          null,
          null,
          null,
          null,
          null,
          null,
          null,
          null,
          null,
          null,
          null,
          null,
          null,
          null,
          null,
          null,
          null,
          null,
          null,
          null,
          null,
          null,
          null,
          null,
          null,
          null,
          null,
          null,
          null,
          null,
          null,
          null,
          null,
          null,
          null,
          null,
          null,
          null,
          null,
          null,
          null,
          null,
          null,
          null,
          null,
          null,
          null,
          null,
          null
         ],
         "yaxis": "y"
        },
        {
         "hovertemplate": "variable= 2016 Chennai (Airport)<br>Country of Nationality=%{x}<br>value=%{y}<extra></extra>",
         "legendgroup": " 2016 Chennai (Airport)",
         "line": {
          "color": "#00cc96",
          "dash": "solid"
         },
         "marker": {
          "symbol": "circle"
         },
         "mode": "lines",
         "name": " 2016 Chennai (Airport)",
         "orientation": "v",
         "showlegend": true,
         "type": "scatter",
         "x": [
          "Canada",
          "United States Of America",
          "Argentina",
          "Brazil",
          "Mexico",
          "Austria",
          "Belgium",
          "Denmark",
          "Finland",
          "France",
          "Germany",
          "Greece",
          "Ireland",
          "Italy",
          "Netherlands",
          "Norway",
          "Portugal",
          "Spain",
          "Sweden",
          "Switzerland",
          "United Kingdom",
          "Czech Rep.",
          "Hungary",
          "Kazakhstan",
          "Poland",
          "Russian Federation",
          "Ukraine",
          "Egypt",
          "Kenya",
          "Mauritius",
          "Nigeria",
          "South Africa",
          "Sudan",
          "Tanzania",
          "Bahrain",
          "Iraq",
          "Israel",
          "Oman",
          "Saudi Arabia",
          "Turkey",
          "United Arab Emirates",
          "Yemen",
          "Afghanistan",
          "Bangladesh",
          "Bhutan",
          "Iran",
          "Maldives",
          "Nepal",
          "Pakistan",
          "Sri Lanka",
          "Indonesia",
          "Malaysia",
          "Myanmar",
          "Philippines",
          "Singapore",
          "Thailand",
          "Vietnam",
          "China",
          "Japan",
          "Korea (Republic Of ",
          "Republic Of China Taiwan",
          "Australia",
          "New Zealand"
         ],
         "xaxis": "x",
         "y": [
          null,
          null,
          null,
          null,
          null,
          null,
          null,
          null,
          null,
          null,
          null,
          null,
          null,
          null,
          null,
          null,
          null,
          null,
          null,
          null,
          null,
          null,
          null,
          null,
          null,
          null,
          null,
          null,
          null,
          null,
          null,
          null,
          null,
          null,
          null,
          null,
          null,
          null,
          null,
          null,
          null,
          null,
          null,
          null,
          null,
          null,
          null,
          null,
          null,
          null,
          null,
          null,
          null,
          null,
          null,
          null,
          null,
          null,
          null,
          null,
          null,
          null,
          null
         ],
         "yaxis": "y"
        },
        {
         "hovertemplate": "variable=2016 Calicut (Airport)<br>Country of Nationality=%{x}<br>value=%{y}<extra></extra>",
         "legendgroup": "2016 Calicut (Airport)",
         "line": {
          "color": "#ab63fa",
          "dash": "solid"
         },
         "marker": {
          "symbol": "circle"
         },
         "mode": "lines",
         "name": "2016 Calicut (Airport)",
         "orientation": "v",
         "showlegend": true,
         "type": "scatter",
         "x": [
          "Canada",
          "United States Of America",
          "Argentina",
          "Brazil",
          "Mexico",
          "Austria",
          "Belgium",
          "Denmark",
          "Finland",
          "France",
          "Germany",
          "Greece",
          "Ireland",
          "Italy",
          "Netherlands",
          "Norway",
          "Portugal",
          "Spain",
          "Sweden",
          "Switzerland",
          "United Kingdom",
          "Czech Rep.",
          "Hungary",
          "Kazakhstan",
          "Poland",
          "Russian Federation",
          "Ukraine",
          "Egypt",
          "Kenya",
          "Mauritius",
          "Nigeria",
          "South Africa",
          "Sudan",
          "Tanzania",
          "Bahrain",
          "Iraq",
          "Israel",
          "Oman",
          "Saudi Arabia",
          "Turkey",
          "United Arab Emirates",
          "Yemen",
          "Afghanistan",
          "Bangladesh",
          "Bhutan",
          "Iran",
          "Maldives",
          "Nepal",
          "Pakistan",
          "Sri Lanka",
          "Indonesia",
          "Malaysia",
          "Myanmar",
          "Philippines",
          "Singapore",
          "Thailand",
          "Vietnam",
          "China",
          "Japan",
          "Korea (Republic Of ",
          "Republic Of China Taiwan",
          "Australia",
          "New Zealand"
         ],
         "xaxis": "x",
         "y": [
          0,
          0,
          0,
          0.1,
          0,
          0.1,
          0,
          0,
          0.1,
          0,
          0,
          0,
          0,
          0.1,
          0,
          0,
          0,
          0,
          0.1,
          0,
          0,
          0,
          0,
          0,
          0,
          0,
          0,
          0,
          0,
          0,
          0,
          0.1,
          0,
          0,
          0,
          0,
          0,
          0,
          0,
          0,
          0,
          0,
          0,
          54.7,
          0,
          0,
          0,
          0.2,
          0,
          0.1,
          0.1,
          0,
          0,
          0,
          0,
          0,
          0,
          0,
          0,
          0,
          0,
          0,
          0
         ],
         "yaxis": "y"
        },
        {
         "hovertemplate": "variable=2016 Benguluru (Airport)<br>Country of Nationality=%{x}<br>value=%{y}<extra></extra>",
         "legendgroup": "2016 Benguluru (Airport)",
         "line": {
          "color": "#FFA15A",
          "dash": "solid"
         },
         "marker": {
          "symbol": "circle"
         },
         "mode": "lines",
         "name": "2016 Benguluru (Airport)",
         "orientation": "v",
         "showlegend": true,
         "type": "scatter",
         "x": [
          "Canada",
          "United States Of America",
          "Argentina",
          "Brazil",
          "Mexico",
          "Austria",
          "Belgium",
          "Denmark",
          "Finland",
          "France",
          "Germany",
          "Greece",
          "Ireland",
          "Italy",
          "Netherlands",
          "Norway",
          "Portugal",
          "Spain",
          "Sweden",
          "Switzerland",
          "United Kingdom",
          "Czech Rep.",
          "Hungary",
          "Kazakhstan",
          "Poland",
          "Russian Federation",
          "Ukraine",
          "Egypt",
          "Kenya",
          "Mauritius",
          "Nigeria",
          "South Africa",
          "Sudan",
          "Tanzania",
          "Bahrain",
          "Iraq",
          "Israel",
          "Oman",
          "Saudi Arabia",
          "Turkey",
          "United Arab Emirates",
          "Yemen",
          "Afghanistan",
          "Bangladesh",
          "Bhutan",
          "Iran",
          "Maldives",
          "Nepal",
          "Pakistan",
          "Sri Lanka",
          "Indonesia",
          "Malaysia",
          "Myanmar",
          "Philippines",
          "Singapore",
          "Thailand",
          "Vietnam",
          "China",
          "Japan",
          "Korea (Republic Of ",
          "Republic Of China Taiwan",
          "Australia",
          "New Zealand"
         ],
         "xaxis": "x",
         "y": [
          4.3,
          10.3,
          9.1,
          9.1,
          6.3,
          7,
          6.6,
          10.7,
          4,
          9.9,
          11.9,
          7.9,
          9.8,
          6.4,
          9.4,
          5.3,
          2.2,
          5.8,
          11.1,
          6.5,
          5.7,
          5.9,
          9.6,
          1,
          8.1,
          1.3,
          3.2,
          6.1,
          2.9,
          9.1,
          8.6,
          6.5,
          11.5,
          8.9,
          6.5,
          8.1,
          3.3,
          6.4,
          12.1,
          3.1,
          13.9,
          16.8,
          0.2,
          0,
          0.3,
          13.3,
          17.5,
          9.1,
          0,
          4.8,
          8.2,
          5.9,
          0.8,
          6.2,
          7.6,
          5.3,
          6.7,
          7.3,
          9.6,
          6,
          7.8,
          8.2,
          5.9
         ],
         "yaxis": "y"
        },
        {
         "hovertemplate": "variable=2016 Kolkata (Airport)<br>Country of Nationality=%{x}<br>value=%{y}<extra></extra>",
         "legendgroup": "2016 Kolkata (Airport)",
         "line": {
          "color": "#19d3f3",
          "dash": "solid"
         },
         "marker": {
          "symbol": "circle"
         },
         "mode": "lines",
         "name": "2016 Kolkata (Airport)",
         "orientation": "v",
         "showlegend": true,
         "type": "scatter",
         "x": [
          "Canada",
          "United States Of America",
          "Argentina",
          "Brazil",
          "Mexico",
          "Austria",
          "Belgium",
          "Denmark",
          "Finland",
          "France",
          "Germany",
          "Greece",
          "Ireland",
          "Italy",
          "Netherlands",
          "Norway",
          "Portugal",
          "Spain",
          "Sweden",
          "Switzerland",
          "United Kingdom",
          "Czech Rep.",
          "Hungary",
          "Kazakhstan",
          "Poland",
          "Russian Federation",
          "Ukraine",
          "Egypt",
          "Kenya",
          "Mauritius",
          "Nigeria",
          "South Africa",
          "Sudan",
          "Tanzania",
          "Bahrain",
          "Iraq",
          "Israel",
          "Oman",
          "Saudi Arabia",
          "Turkey",
          "United Arab Emirates",
          "Yemen",
          "Afghanistan",
          "Bangladesh",
          "Bhutan",
          "Iran",
          "Maldives",
          "Nepal",
          "Pakistan",
          "Sri Lanka",
          "Indonesia",
          "Malaysia",
          "Myanmar",
          "Philippines",
          "Singapore",
          "Thailand",
          "Vietnam",
          "China",
          "Japan",
          "Korea (Republic Of ",
          "Republic Of China Taiwan",
          "Australia",
          "New Zealand"
         ],
         "xaxis": "x",
         "y": [
          null,
          null,
          null,
          null,
          null,
          null,
          null,
          null,
          null,
          null,
          null,
          null,
          null,
          null,
          null,
          null,
          null,
          null,
          null,
          null,
          null,
          null,
          null,
          null,
          null,
          null,
          null,
          null,
          null,
          null,
          null,
          null,
          null,
          null,
          null,
          null,
          null,
          null,
          null,
          null,
          null,
          null,
          null,
          null,
          null,
          null,
          null,
          null,
          null,
          null,
          null,
          null,
          null,
          null,
          null,
          null,
          null,
          null,
          null,
          null,
          null,
          null,
          null
         ],
         "yaxis": "y"
        },
        {
         "hovertemplate": "variable=2016 Hyderabad (Airport)<br>Country of Nationality=%{x}<br>value=%{y}<extra></extra>",
         "legendgroup": "2016 Hyderabad (Airport)",
         "line": {
          "color": "#FF6692",
          "dash": "solid"
         },
         "marker": {
          "symbol": "circle"
         },
         "mode": "lines",
         "name": "2016 Hyderabad (Airport)",
         "orientation": "v",
         "showlegend": true,
         "type": "scatter",
         "x": [
          "Canada",
          "United States Of America",
          "Argentina",
          "Brazil",
          "Mexico",
          "Austria",
          "Belgium",
          "Denmark",
          "Finland",
          "France",
          "Germany",
          "Greece",
          "Ireland",
          "Italy",
          "Netherlands",
          "Norway",
          "Portugal",
          "Spain",
          "Sweden",
          "Switzerland",
          "United Kingdom",
          "Czech Rep.",
          "Hungary",
          "Kazakhstan",
          "Poland",
          "Russian Federation",
          "Ukraine",
          "Egypt",
          "Kenya",
          "Mauritius",
          "Nigeria",
          "South Africa",
          "Sudan",
          "Tanzania",
          "Bahrain",
          "Iraq",
          "Israel",
          "Oman",
          "Saudi Arabia",
          "Turkey",
          "United Arab Emirates",
          "Yemen",
          "Afghanistan",
          "Bangladesh",
          "Bhutan",
          "Iran",
          "Maldives",
          "Nepal",
          "Pakistan",
          "Sri Lanka",
          "Indonesia",
          "Malaysia",
          "Myanmar",
          "Philippines",
          "Singapore",
          "Thailand",
          "Vietnam",
          "China",
          "Japan",
          "Korea (Republic Of ",
          "Republic Of China Taiwan",
          "Australia",
          "New Zealand"
         ],
         "xaxis": "x",
         "y": [
          null,
          null,
          null,
          null,
          null,
          null,
          null,
          null,
          null,
          null,
          null,
          null,
          null,
          null,
          null,
          null,
          null,
          null,
          null,
          null,
          null,
          null,
          null,
          null,
          null,
          null,
          null,
          null,
          null,
          null,
          null,
          null,
          null,
          null,
          null,
          null,
          null,
          null,
          null,
          null,
          null,
          null,
          null,
          null,
          null,
          null,
          null,
          null,
          null,
          null,
          null,
          null,
          null,
          null,
          null,
          null,
          null,
          null,
          null,
          null,
          null,
          null,
          null
         ],
         "yaxis": "y"
        },
        {
         "hovertemplate": "variable=2016 Cochin (Airport)<br>Country of Nationality=%{x}<br>value=%{y}<extra></extra>",
         "legendgroup": "2016 Cochin (Airport)",
         "line": {
          "color": "#B6E880",
          "dash": "solid"
         },
         "marker": {
          "symbol": "circle"
         },
         "mode": "lines",
         "name": "2016 Cochin (Airport)",
         "orientation": "v",
         "showlegend": true,
         "type": "scatter",
         "x": [
          "Canada",
          "United States Of America",
          "Argentina",
          "Brazil",
          "Mexico",
          "Austria",
          "Belgium",
          "Denmark",
          "Finland",
          "France",
          "Germany",
          "Greece",
          "Ireland",
          "Italy",
          "Netherlands",
          "Norway",
          "Portugal",
          "Spain",
          "Sweden",
          "Switzerland",
          "United Kingdom",
          "Czech Rep.",
          "Hungary",
          "Kazakhstan",
          "Poland",
          "Russian Federation",
          "Ukraine",
          "Egypt",
          "Kenya",
          "Mauritius",
          "Nigeria",
          "South Africa",
          "Sudan",
          "Tanzania",
          "Bahrain",
          "Iraq",
          "Israel",
          "Oman",
          "Saudi Arabia",
          "Turkey",
          "United Arab Emirates",
          "Yemen",
          "Afghanistan",
          "Bangladesh",
          "Bhutan",
          "Iran",
          "Maldives",
          "Nepal",
          "Pakistan",
          "Sri Lanka",
          "Indonesia",
          "Malaysia",
          "Myanmar",
          "Philippines",
          "Singapore",
          "Thailand",
          "Vietnam",
          "China",
          "Japan",
          "Korea (Republic Of ",
          "Republic Of China Taiwan",
          "Australia",
          "New Zealand"
         ],
         "xaxis": "x",
         "y": [
          null,
          null,
          null,
          null,
          null,
          null,
          null,
          null,
          null,
          null,
          null,
          null,
          null,
          null,
          null,
          null,
          null,
          null,
          null,
          null,
          null,
          null,
          null,
          null,
          null,
          null,
          null,
          null,
          null,
          null,
          null,
          null,
          null,
          null,
          null,
          null,
          null,
          null,
          null,
          null,
          null,
          null,
          null,
          null,
          null,
          null,
          null,
          null,
          null,
          null,
          null,
          null,
          null,
          null,
          null,
          null,
          null,
          null,
          null,
          null,
          null,
          null,
          null
         ],
         "yaxis": "y"
        }
       ],
       "layout": {
        "legend": {
         "title": {
          "text": "variable"
         },
         "tracegroupgap": 0
        },
        "template": {
         "data": {
          "bar": [
           {
            "error_x": {
             "color": "#2a3f5f"
            },
            "error_y": {
             "color": "#2a3f5f"
            },
            "marker": {
             "line": {
              "color": "#E5ECF6",
              "width": 0.5
             },
             "pattern": {
              "fillmode": "overlay",
              "size": 10,
              "solidity": 0.2
             }
            },
            "type": "bar"
           }
          ],
          "barpolar": [
           {
            "marker": {
             "line": {
              "color": "#E5ECF6",
              "width": 0.5
             },
             "pattern": {
              "fillmode": "overlay",
              "size": 10,
              "solidity": 0.2
             }
            },
            "type": "barpolar"
           }
          ],
          "carpet": [
           {
            "aaxis": {
             "endlinecolor": "#2a3f5f",
             "gridcolor": "white",
             "linecolor": "white",
             "minorgridcolor": "white",
             "startlinecolor": "#2a3f5f"
            },
            "baxis": {
             "endlinecolor": "#2a3f5f",
             "gridcolor": "white",
             "linecolor": "white",
             "minorgridcolor": "white",
             "startlinecolor": "#2a3f5f"
            },
            "type": "carpet"
           }
          ],
          "choropleth": [
           {
            "colorbar": {
             "outlinewidth": 0,
             "ticks": ""
            },
            "type": "choropleth"
           }
          ],
          "contour": [
           {
            "colorbar": {
             "outlinewidth": 0,
             "ticks": ""
            },
            "colorscale": [
             [
              0,
              "#0d0887"
             ],
             [
              0.1111111111111111,
              "#46039f"
             ],
             [
              0.2222222222222222,
              "#7201a8"
             ],
             [
              0.3333333333333333,
              "#9c179e"
             ],
             [
              0.4444444444444444,
              "#bd3786"
             ],
             [
              0.5555555555555556,
              "#d8576b"
             ],
             [
              0.6666666666666666,
              "#ed7953"
             ],
             [
              0.7777777777777778,
              "#fb9f3a"
             ],
             [
              0.8888888888888888,
              "#fdca26"
             ],
             [
              1,
              "#f0f921"
             ]
            ],
            "type": "contour"
           }
          ],
          "contourcarpet": [
           {
            "colorbar": {
             "outlinewidth": 0,
             "ticks": ""
            },
            "type": "contourcarpet"
           }
          ],
          "heatmap": [
           {
            "colorbar": {
             "outlinewidth": 0,
             "ticks": ""
            },
            "colorscale": [
             [
              0,
              "#0d0887"
             ],
             [
              0.1111111111111111,
              "#46039f"
             ],
             [
              0.2222222222222222,
              "#7201a8"
             ],
             [
              0.3333333333333333,
              "#9c179e"
             ],
             [
              0.4444444444444444,
              "#bd3786"
             ],
             [
              0.5555555555555556,
              "#d8576b"
             ],
             [
              0.6666666666666666,
              "#ed7953"
             ],
             [
              0.7777777777777778,
              "#fb9f3a"
             ],
             [
              0.8888888888888888,
              "#fdca26"
             ],
             [
              1,
              "#f0f921"
             ]
            ],
            "type": "heatmap"
           }
          ],
          "heatmapgl": [
           {
            "colorbar": {
             "outlinewidth": 0,
             "ticks": ""
            },
            "colorscale": [
             [
              0,
              "#0d0887"
             ],
             [
              0.1111111111111111,
              "#46039f"
             ],
             [
              0.2222222222222222,
              "#7201a8"
             ],
             [
              0.3333333333333333,
              "#9c179e"
             ],
             [
              0.4444444444444444,
              "#bd3786"
             ],
             [
              0.5555555555555556,
              "#d8576b"
             ],
             [
              0.6666666666666666,
              "#ed7953"
             ],
             [
              0.7777777777777778,
              "#fb9f3a"
             ],
             [
              0.8888888888888888,
              "#fdca26"
             ],
             [
              1,
              "#f0f921"
             ]
            ],
            "type": "heatmapgl"
           }
          ],
          "histogram": [
           {
            "marker": {
             "pattern": {
              "fillmode": "overlay",
              "size": 10,
              "solidity": 0.2
             }
            },
            "type": "histogram"
           }
          ],
          "histogram2d": [
           {
            "colorbar": {
             "outlinewidth": 0,
             "ticks": ""
            },
            "colorscale": [
             [
              0,
              "#0d0887"
             ],
             [
              0.1111111111111111,
              "#46039f"
             ],
             [
              0.2222222222222222,
              "#7201a8"
             ],
             [
              0.3333333333333333,
              "#9c179e"
             ],
             [
              0.4444444444444444,
              "#bd3786"
             ],
             [
              0.5555555555555556,
              "#d8576b"
             ],
             [
              0.6666666666666666,
              "#ed7953"
             ],
             [
              0.7777777777777778,
              "#fb9f3a"
             ],
             [
              0.8888888888888888,
              "#fdca26"
             ],
             [
              1,
              "#f0f921"
             ]
            ],
            "type": "histogram2d"
           }
          ],
          "histogram2dcontour": [
           {
            "colorbar": {
             "outlinewidth": 0,
             "ticks": ""
            },
            "colorscale": [
             [
              0,
              "#0d0887"
             ],
             [
              0.1111111111111111,
              "#46039f"
             ],
             [
              0.2222222222222222,
              "#7201a8"
             ],
             [
              0.3333333333333333,
              "#9c179e"
             ],
             [
              0.4444444444444444,
              "#bd3786"
             ],
             [
              0.5555555555555556,
              "#d8576b"
             ],
             [
              0.6666666666666666,
              "#ed7953"
             ],
             [
              0.7777777777777778,
              "#fb9f3a"
             ],
             [
              0.8888888888888888,
              "#fdca26"
             ],
             [
              1,
              "#f0f921"
             ]
            ],
            "type": "histogram2dcontour"
           }
          ],
          "mesh3d": [
           {
            "colorbar": {
             "outlinewidth": 0,
             "ticks": ""
            },
            "type": "mesh3d"
           }
          ],
          "parcoords": [
           {
            "line": {
             "colorbar": {
              "outlinewidth": 0,
              "ticks": ""
             }
            },
            "type": "parcoords"
           }
          ],
          "pie": [
           {
            "automargin": true,
            "type": "pie"
           }
          ],
          "scatter": [
           {
            "fillpattern": {
             "fillmode": "overlay",
             "size": 10,
             "solidity": 0.2
            },
            "type": "scatter"
           }
          ],
          "scatter3d": [
           {
            "line": {
             "colorbar": {
              "outlinewidth": 0,
              "ticks": ""
             }
            },
            "marker": {
             "colorbar": {
              "outlinewidth": 0,
              "ticks": ""
             }
            },
            "type": "scatter3d"
           }
          ],
          "scattercarpet": [
           {
            "marker": {
             "colorbar": {
              "outlinewidth": 0,
              "ticks": ""
             }
            },
            "type": "scattercarpet"
           }
          ],
          "scattergeo": [
           {
            "marker": {
             "colorbar": {
              "outlinewidth": 0,
              "ticks": ""
             }
            },
            "type": "scattergeo"
           }
          ],
          "scattergl": [
           {
            "marker": {
             "colorbar": {
              "outlinewidth": 0,
              "ticks": ""
             }
            },
            "type": "scattergl"
           }
          ],
          "scattermapbox": [
           {
            "marker": {
             "colorbar": {
              "outlinewidth": 0,
              "ticks": ""
             }
            },
            "type": "scattermapbox"
           }
          ],
          "scatterpolar": [
           {
            "marker": {
             "colorbar": {
              "outlinewidth": 0,
              "ticks": ""
             }
            },
            "type": "scatterpolar"
           }
          ],
          "scatterpolargl": [
           {
            "marker": {
             "colorbar": {
              "outlinewidth": 0,
              "ticks": ""
             }
            },
            "type": "scatterpolargl"
           }
          ],
          "scatterternary": [
           {
            "marker": {
             "colorbar": {
              "outlinewidth": 0,
              "ticks": ""
             }
            },
            "type": "scatterternary"
           }
          ],
          "surface": [
           {
            "colorbar": {
             "outlinewidth": 0,
             "ticks": ""
            },
            "colorscale": [
             [
              0,
              "#0d0887"
             ],
             [
              0.1111111111111111,
              "#46039f"
             ],
             [
              0.2222222222222222,
              "#7201a8"
             ],
             [
              0.3333333333333333,
              "#9c179e"
             ],
             [
              0.4444444444444444,
              "#bd3786"
             ],
             [
              0.5555555555555556,
              "#d8576b"
             ],
             [
              0.6666666666666666,
              "#ed7953"
             ],
             [
              0.7777777777777778,
              "#fb9f3a"
             ],
             [
              0.8888888888888888,
              "#fdca26"
             ],
             [
              1,
              "#f0f921"
             ]
            ],
            "type": "surface"
           }
          ],
          "table": [
           {
            "cells": {
             "fill": {
              "color": "#EBF0F8"
             },
             "line": {
              "color": "white"
             }
            },
            "header": {
             "fill": {
              "color": "#C8D4E3"
             },
             "line": {
              "color": "white"
             }
            },
            "type": "table"
           }
          ]
         },
         "layout": {
          "annotationdefaults": {
           "arrowcolor": "#2a3f5f",
           "arrowhead": 0,
           "arrowwidth": 1
          },
          "autotypenumbers": "strict",
          "coloraxis": {
           "colorbar": {
            "outlinewidth": 0,
            "ticks": ""
           }
          },
          "colorscale": {
           "diverging": [
            [
             0,
             "#8e0152"
            ],
            [
             0.1,
             "#c51b7d"
            ],
            [
             0.2,
             "#de77ae"
            ],
            [
             0.3,
             "#f1b6da"
            ],
            [
             0.4,
             "#fde0ef"
            ],
            [
             0.5,
             "#f7f7f7"
            ],
            [
             0.6,
             "#e6f5d0"
            ],
            [
             0.7,
             "#b8e186"
            ],
            [
             0.8,
             "#7fbc41"
            ],
            [
             0.9,
             "#4d9221"
            ],
            [
             1,
             "#276419"
            ]
           ],
           "sequential": [
            [
             0,
             "#0d0887"
            ],
            [
             0.1111111111111111,
             "#46039f"
            ],
            [
             0.2222222222222222,
             "#7201a8"
            ],
            [
             0.3333333333333333,
             "#9c179e"
            ],
            [
             0.4444444444444444,
             "#bd3786"
            ],
            [
             0.5555555555555556,
             "#d8576b"
            ],
            [
             0.6666666666666666,
             "#ed7953"
            ],
            [
             0.7777777777777778,
             "#fb9f3a"
            ],
            [
             0.8888888888888888,
             "#fdca26"
            ],
            [
             1,
             "#f0f921"
            ]
           ],
           "sequentialminus": [
            [
             0,
             "#0d0887"
            ],
            [
             0.1111111111111111,
             "#46039f"
            ],
            [
             0.2222222222222222,
             "#7201a8"
            ],
            [
             0.3333333333333333,
             "#9c179e"
            ],
            [
             0.4444444444444444,
             "#bd3786"
            ],
            [
             0.5555555555555556,
             "#d8576b"
            ],
            [
             0.6666666666666666,
             "#ed7953"
            ],
            [
             0.7777777777777778,
             "#fb9f3a"
            ],
            [
             0.8888888888888888,
             "#fdca26"
            ],
            [
             1,
             "#f0f921"
            ]
           ]
          },
          "colorway": [
           "#636efa",
           "#EF553B",
           "#00cc96",
           "#ab63fa",
           "#FFA15A",
           "#19d3f3",
           "#FF6692",
           "#B6E880",
           "#FF97FF",
           "#FECB52"
          ],
          "font": {
           "color": "#2a3f5f"
          },
          "geo": {
           "bgcolor": "white",
           "lakecolor": "white",
           "landcolor": "#E5ECF6",
           "showlakes": true,
           "showland": true,
           "subunitcolor": "white"
          },
          "hoverlabel": {
           "align": "left"
          },
          "hovermode": "closest",
          "mapbox": {
           "style": "light"
          },
          "paper_bgcolor": "white",
          "plot_bgcolor": "#E5ECF6",
          "polar": {
           "angularaxis": {
            "gridcolor": "white",
            "linecolor": "white",
            "ticks": ""
           },
           "bgcolor": "#E5ECF6",
           "radialaxis": {
            "gridcolor": "white",
            "linecolor": "white",
            "ticks": ""
           }
          },
          "scene": {
           "xaxis": {
            "backgroundcolor": "#E5ECF6",
            "gridcolor": "white",
            "gridwidth": 2,
            "linecolor": "white",
            "showbackground": true,
            "ticks": "",
            "zerolinecolor": "white"
           },
           "yaxis": {
            "backgroundcolor": "#E5ECF6",
            "gridcolor": "white",
            "gridwidth": 2,
            "linecolor": "white",
            "showbackground": true,
            "ticks": "",
            "zerolinecolor": "white"
           },
           "zaxis": {
            "backgroundcolor": "#E5ECF6",
            "gridcolor": "white",
            "gridwidth": 2,
            "linecolor": "white",
            "showbackground": true,
            "ticks": "",
            "zerolinecolor": "white"
           }
          },
          "shapedefaults": {
           "line": {
            "color": "#2a3f5f"
           }
          },
          "ternary": {
           "aaxis": {
            "gridcolor": "white",
            "linecolor": "white",
            "ticks": ""
           },
           "baxis": {
            "gridcolor": "white",
            "linecolor": "white",
            "ticks": ""
           },
           "bgcolor": "#E5ECF6",
           "caxis": {
            "gridcolor": "white",
            "linecolor": "white",
            "ticks": ""
           }
          },
          "title": {
           "x": 0.05
          },
          "xaxis": {
           "automargin": true,
           "gridcolor": "white",
           "linecolor": "white",
           "ticks": "",
           "title": {
            "standoff": 15
           },
           "zerolinecolor": "white",
           "zerolinewidth": 2
          },
          "yaxis": {
           "automargin": true,
           "gridcolor": "white",
           "linecolor": "white",
           "ticks": "",
           "title": {
            "standoff": 15
           },
           "zerolinecolor": "white",
           "zerolinewidth": 2
          }
         }
        },
        "title": {
         "text": "Country wise airport"
        },
        "xaxis": {
         "anchor": "y",
         "domain": [
          0,
          1
         ],
         "title": {
          "text": "Country of Nationality"
         }
        },
        "yaxis": {
         "anchor": "x",
         "domain": [
          0,
          1
         ],
         "title": {
          "text": "value"
         }
        }
       }
      }
     },
     "metadata": {},
     "output_type": "display_data"
    }
   ],
   "source": [
    "cols = ['2016 Delhi (Airport)', ' 2016 Mumbai (Airport)',\n",
    "       ' 2016 Chennai (Airport)', '2016 Calicut (Airport)',\n",
    "       '2016 Benguluru (Airport)', '2016 Kolkata (Airport)',\n",
    "       '2016 Hyderabad (Airport)', '2016 Cochin (Airport)']\n",
    "px.line(df, df.index, cols,title='Country wise airport')"
   ]
  },
  {
   "cell_type": "code",
   "execution_count": 49,
   "metadata": {},
   "outputs": [],
   "source": [
    "def clean_2017(x):\n",
    "    if isinstance(x, (int,float)): return x\n",
    "    elif isinstance(x, str): return np.nan\n",
    "    return x\n",
    "df['2017 Delhi (Airport)'] = df['2017 Delhi (Airport)'].apply(clean_2017).astype('float')"
   ]
  },
  {
   "cell_type": "code",
   "execution_count": 50,
   "metadata": {},
   "outputs": [
    {
     "data": {
      "application/vnd.plotly.v1+json": {
       "config": {
        "plotlyServerURL": "https://plot.ly"
       },
       "data": [
        {
         "hovertemplate": "variable=2017 Delhi (Airport)<br>Country of Nationality=%{x}<br>value=%{y}<extra></extra>",
         "legendgroup": "2017 Delhi (Airport)",
         "line": {
          "color": "#636efa",
          "dash": "solid"
         },
         "marker": {
          "symbol": "circle"
         },
         "mode": "lines",
         "name": "2017 Delhi (Airport)",
         "orientation": "v",
         "showlegend": true,
         "type": "scatter",
         "x": [
          "Canada",
          "United States Of America",
          "Argentina",
          "Brazil",
          "Mexico",
          "Austria",
          "Belgium",
          "Denmark",
          "Finland",
          "France",
          "Germany",
          "Greece",
          "Ireland",
          "Italy",
          "Netherlands",
          "Norway",
          "Portugal",
          "Spain",
          "Sweden",
          "Switzerland",
          "United Kingdom",
          "Czech Rep.",
          "Hungary",
          "Kazakhstan",
          "Poland",
          "Russian Federation",
          "Ukraine",
          "Egypt",
          "Kenya",
          "Mauritius",
          "Nigeria",
          "South Africa",
          "Sudan",
          "Tanzania",
          "Bahrain",
          "Iraq",
          "Israel",
          "Oman",
          "Saudi Arabia",
          "Turkey",
          "United Arab Emirates",
          "Yemen",
          "Afghanistan",
          "Bangladesh",
          "Bhutan",
          "Iran",
          "Maldives",
          "Nepal",
          "Pakistan",
          "Sri Lanka",
          "Indonesia",
          "Malaysia",
          "Myanmar",
          "Philippines",
          "Singapore",
          "Thailand",
          "Vietnam",
          "China",
          "Japan",
          "Korea (Republic Of ",
          "Republic Of China Taiwan",
          "Australia",
          "New Zealand"
         ],
         "xaxis": "x",
         "y": [
          56.7,
          31,
          68,
          51.7,
          65.3,
          45,
          36.8,
          41.5,
          55.5,
          38.6,
          39.5,
          37.5,
          28.4,
          49,
          48.8,
          56.4,
          14.7,
          60.6,
          43.4,
          40.1,
          29.8,
          45.4,
          45.4,
          51.7,
          46.4,
          22.2,
          29.7,
          21.1,
          14.2,
          29.3,
          51.6,
          24.3,
          15.3,
          17,
          7.2,
          73.5,
          38.1,
          4.9,
          12.2,
          43.2,
          4.5,
          8.6,
          99,
          1,
          53.6,
          44.3,
          2.5,
          70.1,
          5,
          11.7,
          39.7,
          15.2,
          6.7,
          17.5,
          18.4,
          26.7,
          34.6,
          53.1,
          58.1,
          58.7,
          58.7,
          37.8,
          38.5
         ],
         "yaxis": "y"
        },
        {
         "hovertemplate": "variable= 2017 Mumbai (Airport)<br>Country of Nationality=%{x}<br>value=%{y}<extra></extra>",
         "legendgroup": " 2017 Mumbai (Airport)",
         "line": {
          "color": "#EF553B",
          "dash": "solid"
         },
         "marker": {
          "symbol": "circle"
         },
         "mode": "lines",
         "name": " 2017 Mumbai (Airport)",
         "orientation": "v",
         "showlegend": true,
         "type": "scatter",
         "x": [
          "Canada",
          "United States Of America",
          "Argentina",
          "Brazil",
          "Mexico",
          "Austria",
          "Belgium",
          "Denmark",
          "Finland",
          "France",
          "Germany",
          "Greece",
          "Ireland",
          "Italy",
          "Netherlands",
          "Norway",
          "Portugal",
          "Spain",
          "Sweden",
          "Switzerland",
          "United Kingdom",
          "Czech Rep.",
          "Hungary",
          "Kazakhstan",
          "Poland",
          "Russian Federation",
          "Ukraine",
          "Egypt",
          "Kenya",
          "Mauritius",
          "Nigeria",
          "South Africa",
          "Sudan",
          "Tanzania",
          "Bahrain",
          "Iraq",
          "Israel",
          "Oman",
          "Saudi Arabia",
          "Turkey",
          "United Arab Emirates",
          "Yemen",
          "Afghanistan",
          "Bangladesh",
          "Bhutan",
          "Iran",
          "Maldives",
          "Nepal",
          "Pakistan",
          "Sri Lanka",
          "Indonesia",
          "Malaysia",
          "Myanmar",
          "Philippines",
          "Singapore",
          "Thailand",
          "Vietnam",
          "China",
          "Japan",
          "Korea (Republic Of ",
          "Republic Of China Taiwan",
          "Australia",
          "New Zealand"
         ],
         "xaxis": "x",
         "y": [
          null,
          null,
          null,
          null,
          null,
          null,
          null,
          null,
          null,
          null,
          null,
          null,
          null,
          null,
          null,
          null,
          null,
          null,
          null,
          null,
          null,
          null,
          null,
          null,
          null,
          null,
          null,
          null,
          null,
          null,
          null,
          null,
          null,
          null,
          null,
          null,
          null,
          null,
          null,
          null,
          null,
          null,
          null,
          null,
          null,
          null,
          null,
          null,
          null,
          null,
          null,
          null,
          null,
          null,
          null,
          null,
          null,
          null,
          null,
          null,
          null,
          null,
          null
         ],
         "yaxis": "y"
        },
        {
         "hovertemplate": "variable= 2017 Chennai (Airport)<br>Country of Nationality=%{x}<br>value=%{y}<extra></extra>",
         "legendgroup": " 2017 Chennai (Airport)",
         "line": {
          "color": "#00cc96",
          "dash": "solid"
         },
         "marker": {
          "symbol": "circle"
         },
         "mode": "lines",
         "name": " 2017 Chennai (Airport)",
         "orientation": "v",
         "showlegend": true,
         "type": "scatter",
         "x": [
          "Canada",
          "United States Of America",
          "Argentina",
          "Brazil",
          "Mexico",
          "Austria",
          "Belgium",
          "Denmark",
          "Finland",
          "France",
          "Germany",
          "Greece",
          "Ireland",
          "Italy",
          "Netherlands",
          "Norway",
          "Portugal",
          "Spain",
          "Sweden",
          "Switzerland",
          "United Kingdom",
          "Czech Rep.",
          "Hungary",
          "Kazakhstan",
          "Poland",
          "Russian Federation",
          "Ukraine",
          "Egypt",
          "Kenya",
          "Mauritius",
          "Nigeria",
          "South Africa",
          "Sudan",
          "Tanzania",
          "Bahrain",
          "Iraq",
          "Israel",
          "Oman",
          "Saudi Arabia",
          "Turkey",
          "United Arab Emirates",
          "Yemen",
          "Afghanistan",
          "Bangladesh",
          "Bhutan",
          "Iran",
          "Maldives",
          "Nepal",
          "Pakistan",
          "Sri Lanka",
          "Indonesia",
          "Malaysia",
          "Myanmar",
          "Philippines",
          "Singapore",
          "Thailand",
          "Vietnam",
          "China",
          "Japan",
          "Korea (Republic Of ",
          "Republic Of China Taiwan",
          "Australia",
          "New Zealand"
         ],
         "xaxis": "x",
         "y": [
          5.4,
          8.1,
          3.9,
          6.8,
          4.8,
          4.9,
          6.8,
          9.9,
          4.3,
          19.8,
          8.2,
          7.2,
          6.8,
          6.9,
          5.3,
          6.9,
          1.6,
          5.5,
          5,
          7.6,
          5.6,
          7.5,
          7.3,
          0.8,
          6.1,
          0.9,
          4,
          8.3,
          2.4,
          14.7,
          4.9,
          5.6,
          12.9,
          6.6,
          11.8,
          1.9,
          1.6,
          8.5,
          4.2,
          2.7,
          1.9,
          2.1,
          0,
          0.4,
          1,
          1.3,
          4.5,
          0.7,
          0.4,
          43.2,
          6.8,
          21.5,
          5.9,
          8,
          24.7,
          3.7,
          3,
          6.8,
          8.4,
          13.3,
          7.9,
          8.5,
          6.5
         ],
         "yaxis": "y"
        },
        {
         "hovertemplate": "variable=2017 Calicut (Airport)<br>Country of Nationality=%{x}<br>value=%{y}<extra></extra>",
         "legendgroup": "2017 Calicut (Airport)",
         "line": {
          "color": "#ab63fa",
          "dash": "solid"
         },
         "marker": {
          "symbol": "circle"
         },
         "mode": "lines",
         "name": "2017 Calicut (Airport)",
         "orientation": "v",
         "showlegend": true,
         "type": "scatter",
         "x": [
          "Canada",
          "United States Of America",
          "Argentina",
          "Brazil",
          "Mexico",
          "Austria",
          "Belgium",
          "Denmark",
          "Finland",
          "France",
          "Germany",
          "Greece",
          "Ireland",
          "Italy",
          "Netherlands",
          "Norway",
          "Portugal",
          "Spain",
          "Sweden",
          "Switzerland",
          "United Kingdom",
          "Czech Rep.",
          "Hungary",
          "Kazakhstan",
          "Poland",
          "Russian Federation",
          "Ukraine",
          "Egypt",
          "Kenya",
          "Mauritius",
          "Nigeria",
          "South Africa",
          "Sudan",
          "Tanzania",
          "Bahrain",
          "Iraq",
          "Israel",
          "Oman",
          "Saudi Arabia",
          "Turkey",
          "United Arab Emirates",
          "Yemen",
          "Afghanistan",
          "Bangladesh",
          "Bhutan",
          "Iran",
          "Maldives",
          "Nepal",
          "Pakistan",
          "Sri Lanka",
          "Indonesia",
          "Malaysia",
          "Myanmar",
          "Philippines",
          "Singapore",
          "Thailand",
          "Vietnam",
          "China",
          "Japan",
          "Korea (Republic Of ",
          "Republic Of China Taiwan",
          "Australia",
          "New Zealand"
         ],
         "xaxis": "x",
         "y": [
          0,
          0,
          0,
          0,
          0,
          0,
          0,
          0,
          0,
          0,
          0,
          0,
          0,
          0.1,
          0,
          0,
          0,
          0,
          0.1,
          0,
          0,
          0,
          0,
          0,
          0,
          0,
          0,
          0,
          0,
          0,
          0,
          0,
          0,
          0.1,
          0,
          0,
          0,
          0,
          0,
          0,
          0,
          0,
          0,
          54.3,
          0,
          0,
          0,
          0.1,
          0,
          0,
          0.1,
          0,
          0,
          0,
          0,
          0,
          0,
          0,
          0,
          0,
          0,
          0,
          0
         ],
         "yaxis": "y"
        },
        {
         "hovertemplate": "variable=2017 Benguluru (Airport)<br>Country of Nationality=%{x}<br>value=%{y}<extra></extra>",
         "legendgroup": "2017 Benguluru (Airport)",
         "line": {
          "color": "#FFA15A",
          "dash": "solid"
         },
         "marker": {
          "symbol": "circle"
         },
         "mode": "lines",
         "name": "2017 Benguluru (Airport)",
         "orientation": "v",
         "showlegend": true,
         "type": "scatter",
         "x": [
          "Canada",
          "United States Of America",
          "Argentina",
          "Brazil",
          "Mexico",
          "Austria",
          "Belgium",
          "Denmark",
          "Finland",
          "France",
          "Germany",
          "Greece",
          "Ireland",
          "Italy",
          "Netherlands",
          "Norway",
          "Portugal",
          "Spain",
          "Sweden",
          "Switzerland",
          "United Kingdom",
          "Czech Rep.",
          "Hungary",
          "Kazakhstan",
          "Poland",
          "Russian Federation",
          "Ukraine",
          "Egypt",
          "Kenya",
          "Mauritius",
          "Nigeria",
          "South Africa",
          "Sudan",
          "Tanzania",
          "Bahrain",
          "Iraq",
          "Israel",
          "Oman",
          "Saudi Arabia",
          "Turkey",
          "United Arab Emirates",
          "Yemen",
          "Afghanistan",
          "Bangladesh",
          "Bhutan",
          "Iran",
          "Maldives",
          "Nepal",
          "Pakistan",
          "Sri Lanka",
          "Indonesia",
          "Malaysia",
          "Myanmar",
          "Philippines",
          "Singapore",
          "Thailand",
          "Vietnam",
          "China",
          "Japan",
          "Korea (Republic Of ",
          "Republic Of China Taiwan",
          "Australia",
          "New Zealand"
         ],
         "xaxis": "x",
         "y": [
          4.3,
          10.2,
          5.7,
          8.2,
          5.3,
          7.5,
          6.2,
          11,
          4.1,
          10.3,
          12,
          7.5,
          9.5,
          5.9,
          9.3,
          5.1,
          1.8,
          5.9,
          11.4,
          6.4,
          5.7,
          7.2,
          9.2,
          1.1,
          7.5,
          1.1,
          3.2,
          6.6,
          2.8,
          8.3,
          7.6,
          6.5,
          11.7,
          7.4,
          6.7,
          8.5,
          3.9,
          6.1,
          13.7,
          2.9,
          11.4,
          14.8,
          0.1,
          0,
          0.4,
          10.8,
          16.7,
          7.7,
          0,
          6.8,
          8.3,
          5.9,
          0.6,
          7.1,
          7.8,
          4.7,
          5.7,
          7.8,
          8.7,
          4.8,
          8,
          8.1,
          6
         ],
         "yaxis": "y"
        },
        {
         "hovertemplate": "variable=2017 Kolkata (Airport)<br>Country of Nationality=%{x}<br>value=%{y}<extra></extra>",
         "legendgroup": "2017 Kolkata (Airport)",
         "line": {
          "color": "#19d3f3",
          "dash": "solid"
         },
         "marker": {
          "symbol": "circle"
         },
         "mode": "lines",
         "name": "2017 Kolkata (Airport)",
         "orientation": "v",
         "showlegend": true,
         "type": "scatter",
         "x": [
          "Canada",
          "United States Of America",
          "Argentina",
          "Brazil",
          "Mexico",
          "Austria",
          "Belgium",
          "Denmark",
          "Finland",
          "France",
          "Germany",
          "Greece",
          "Ireland",
          "Italy",
          "Netherlands",
          "Norway",
          "Portugal",
          "Spain",
          "Sweden",
          "Switzerland",
          "United Kingdom",
          "Czech Rep.",
          "Hungary",
          "Kazakhstan",
          "Poland",
          "Russian Federation",
          "Ukraine",
          "Egypt",
          "Kenya",
          "Mauritius",
          "Nigeria",
          "South Africa",
          "Sudan",
          "Tanzania",
          "Bahrain",
          "Iraq",
          "Israel",
          "Oman",
          "Saudi Arabia",
          "Turkey",
          "United Arab Emirates",
          "Yemen",
          "Afghanistan",
          "Bangladesh",
          "Bhutan",
          "Iran",
          "Maldives",
          "Nepal",
          "Pakistan",
          "Sri Lanka",
          "Indonesia",
          "Malaysia",
          "Myanmar",
          "Philippines",
          "Singapore",
          "Thailand",
          "Vietnam",
          "China",
          "Japan",
          "Korea (Republic Of ",
          "Republic Of China Taiwan",
          "Australia",
          "New Zealand"
         ],
         "xaxis": "x",
         "y": [
          2.7,
          9.4,
          3.1,
          2.9,
          2.2,
          2,
          1.3,
          2,
          0.8,
          1.1,
          1.9,
          2.7,
          4.2,
          2.4,
          1.7,
          1.5,
          0.5,
          2,
          2,
          1.7,
          2,
          3.1,
          2.3,
          0.2,
          2.2,
          0.4,
          1.3,
          2.6,
          0.6,
          0.4,
          0.9,
          1.9,
          0.2,
          0.4,
          0.4,
          0.2,
          0.9,
          0,
          0.3,
          0.8,
          0.3,
          0.2,
          0.1,
          12.4,
          21.6,
          0.6,
          0.1,
          4.1,
          0,
          1,
          3.8,
          1.7,
          6.2,
          3.4,
          2.1,
          20.3,
          6.1,
          6.3,
          2.4,
          2.5,
          2.6,
          3.2,
          3.2
         ],
         "yaxis": "y"
        },
        {
         "hovertemplate": "variable=2017 Hyderabad (Airport)<br>Country of Nationality=%{x}<br>value=%{y}<extra></extra>",
         "legendgroup": "2017 Hyderabad (Airport)",
         "line": {
          "color": "#FF6692",
          "dash": "solid"
         },
         "marker": {
          "symbol": "circle"
         },
         "mode": "lines",
         "name": "2017 Hyderabad (Airport)",
         "orientation": "v",
         "showlegend": true,
         "type": "scatter",
         "x": [
          "Canada",
          "United States Of America",
          "Argentina",
          "Brazil",
          "Mexico",
          "Austria",
          "Belgium",
          "Denmark",
          "Finland",
          "France",
          "Germany",
          "Greece",
          "Ireland",
          "Italy",
          "Netherlands",
          "Norway",
          "Portugal",
          "Spain",
          "Sweden",
          "Switzerland",
          "United Kingdom",
          "Czech Rep.",
          "Hungary",
          "Kazakhstan",
          "Poland",
          "Russian Federation",
          "Ukraine",
          "Egypt",
          "Kenya",
          "Mauritius",
          "Nigeria",
          "South Africa",
          "Sudan",
          "Tanzania",
          "Bahrain",
          "Iraq",
          "Israel",
          "Oman",
          "Saudi Arabia",
          "Turkey",
          "United Arab Emirates",
          "Yemen",
          "Afghanistan",
          "Bangladesh",
          "Bhutan",
          "Iran",
          "Maldives",
          "Nepal",
          "Pakistan",
          "Sri Lanka",
          "Indonesia",
          "Malaysia",
          "Myanmar",
          "Philippines",
          "Singapore",
          "Thailand",
          "Vietnam",
          "China",
          "Japan",
          "Korea (Republic Of ",
          "Republic Of China Taiwan",
          "Australia",
          "New Zealand"
         ],
         "xaxis": "x",
         "y": [
          2.6,
          4.4,
          1,
          2.8,
          2,
          1.5,
          1.8,
          1.8,
          1.2,
          1.2,
          1.4,
          4.6,
          4.5,
          1.6,
          2.3,
          1.9,
          0.6,
          1.4,
          2.1,
          1.4,
          3.2,
          2,
          1.7,
          0.2,
          2,
          0.3,
          2.1,
          5.6,
          3,
          0.3,
          3,
          2.4,
          17,
          5,
          20.3,
          2.5,
          0.4,
          8.7,
          7.6,
          2.1,
          24.4,
          11.6,
          0.1,
          0,
          0,
          2.4,
          0.1,
          0.4,
          0,
          0.4,
          3.4,
          2.3,
          0.9,
          5.6,
          2.5,
          1.2,
          2.1,
          2.7,
          1.2,
          1.4,
          1.4,
          6.4,
          5.9
         ],
         "yaxis": "y"
        },
        {
         "hovertemplate": "variable=2017 Cochin (Airport)<br>Country of Nationality=%{x}<br>value=%{y}<extra></extra>",
         "legendgroup": "2017 Cochin (Airport)",
         "line": {
          "color": "#B6E880",
          "dash": "solid"
         },
         "marker": {
          "symbol": "circle"
         },
         "mode": "lines",
         "name": "2017 Cochin (Airport)",
         "orientation": "v",
         "showlegend": true,
         "type": "scatter",
         "x": [
          "Canada",
          "United States Of America",
          "Argentina",
          "Brazil",
          "Mexico",
          "Austria",
          "Belgium",
          "Denmark",
          "Finland",
          "France",
          "Germany",
          "Greece",
          "Ireland",
          "Italy",
          "Netherlands",
          "Norway",
          "Portugal",
          "Spain",
          "Sweden",
          "Switzerland",
          "United Kingdom",
          "Czech Rep.",
          "Hungary",
          "Kazakhstan",
          "Poland",
          "Russian Federation",
          "Ukraine",
          "Egypt",
          "Kenya",
          "Mauritius",
          "Nigeria",
          "South Africa",
          "Sudan",
          "Tanzania",
          "Bahrain",
          "Iraq",
          "Israel",
          "Oman",
          "Saudi Arabia",
          "Turkey",
          "United Arab Emirates",
          "Yemen",
          "Afghanistan",
          "Bangladesh",
          "Bhutan",
          "Iran",
          "Maldives",
          "Nepal",
          "Pakistan",
          "Sri Lanka",
          "Indonesia",
          "Malaysia",
          "Myanmar",
          "Philippines",
          "Singapore",
          "Thailand",
          "Vietnam",
          "China",
          "Japan",
          "Korea (Republic Of ",
          "Republic Of China Taiwan",
          "Australia",
          "New Zealand"
         ],
         "xaxis": "x",
         "y": [
          null,
          null,
          null,
          null,
          null,
          null,
          null,
          null,
          null,
          null,
          null,
          null,
          null,
          null,
          null,
          null,
          null,
          null,
          null,
          null,
          null,
          null,
          null,
          null,
          null,
          null,
          null,
          null,
          null,
          null,
          null,
          null,
          null,
          null,
          null,
          null,
          null,
          null,
          null,
          null,
          null,
          null,
          null,
          null,
          null,
          null,
          null,
          null,
          null,
          null,
          null,
          null,
          null,
          null,
          null,
          null,
          null,
          null,
          null,
          null,
          null,
          null,
          null
         ],
         "yaxis": "y"
        }
       ],
       "layout": {
        "legend": {
         "title": {
          "text": "variable"
         },
         "tracegroupgap": 0
        },
        "template": {
         "data": {
          "bar": [
           {
            "error_x": {
             "color": "#2a3f5f"
            },
            "error_y": {
             "color": "#2a3f5f"
            },
            "marker": {
             "line": {
              "color": "#E5ECF6",
              "width": 0.5
             },
             "pattern": {
              "fillmode": "overlay",
              "size": 10,
              "solidity": 0.2
             }
            },
            "type": "bar"
           }
          ],
          "barpolar": [
           {
            "marker": {
             "line": {
              "color": "#E5ECF6",
              "width": 0.5
             },
             "pattern": {
              "fillmode": "overlay",
              "size": 10,
              "solidity": 0.2
             }
            },
            "type": "barpolar"
           }
          ],
          "carpet": [
           {
            "aaxis": {
             "endlinecolor": "#2a3f5f",
             "gridcolor": "white",
             "linecolor": "white",
             "minorgridcolor": "white",
             "startlinecolor": "#2a3f5f"
            },
            "baxis": {
             "endlinecolor": "#2a3f5f",
             "gridcolor": "white",
             "linecolor": "white",
             "minorgridcolor": "white",
             "startlinecolor": "#2a3f5f"
            },
            "type": "carpet"
           }
          ],
          "choropleth": [
           {
            "colorbar": {
             "outlinewidth": 0,
             "ticks": ""
            },
            "type": "choropleth"
           }
          ],
          "contour": [
           {
            "colorbar": {
             "outlinewidth": 0,
             "ticks": ""
            },
            "colorscale": [
             [
              0,
              "#0d0887"
             ],
             [
              0.1111111111111111,
              "#46039f"
             ],
             [
              0.2222222222222222,
              "#7201a8"
             ],
             [
              0.3333333333333333,
              "#9c179e"
             ],
             [
              0.4444444444444444,
              "#bd3786"
             ],
             [
              0.5555555555555556,
              "#d8576b"
             ],
             [
              0.6666666666666666,
              "#ed7953"
             ],
             [
              0.7777777777777778,
              "#fb9f3a"
             ],
             [
              0.8888888888888888,
              "#fdca26"
             ],
             [
              1,
              "#f0f921"
             ]
            ],
            "type": "contour"
           }
          ],
          "contourcarpet": [
           {
            "colorbar": {
             "outlinewidth": 0,
             "ticks": ""
            },
            "type": "contourcarpet"
           }
          ],
          "heatmap": [
           {
            "colorbar": {
             "outlinewidth": 0,
             "ticks": ""
            },
            "colorscale": [
             [
              0,
              "#0d0887"
             ],
             [
              0.1111111111111111,
              "#46039f"
             ],
             [
              0.2222222222222222,
              "#7201a8"
             ],
             [
              0.3333333333333333,
              "#9c179e"
             ],
             [
              0.4444444444444444,
              "#bd3786"
             ],
             [
              0.5555555555555556,
              "#d8576b"
             ],
             [
              0.6666666666666666,
              "#ed7953"
             ],
             [
              0.7777777777777778,
              "#fb9f3a"
             ],
             [
              0.8888888888888888,
              "#fdca26"
             ],
             [
              1,
              "#f0f921"
             ]
            ],
            "type": "heatmap"
           }
          ],
          "heatmapgl": [
           {
            "colorbar": {
             "outlinewidth": 0,
             "ticks": ""
            },
            "colorscale": [
             [
              0,
              "#0d0887"
             ],
             [
              0.1111111111111111,
              "#46039f"
             ],
             [
              0.2222222222222222,
              "#7201a8"
             ],
             [
              0.3333333333333333,
              "#9c179e"
             ],
             [
              0.4444444444444444,
              "#bd3786"
             ],
             [
              0.5555555555555556,
              "#d8576b"
             ],
             [
              0.6666666666666666,
              "#ed7953"
             ],
             [
              0.7777777777777778,
              "#fb9f3a"
             ],
             [
              0.8888888888888888,
              "#fdca26"
             ],
             [
              1,
              "#f0f921"
             ]
            ],
            "type": "heatmapgl"
           }
          ],
          "histogram": [
           {
            "marker": {
             "pattern": {
              "fillmode": "overlay",
              "size": 10,
              "solidity": 0.2
             }
            },
            "type": "histogram"
           }
          ],
          "histogram2d": [
           {
            "colorbar": {
             "outlinewidth": 0,
             "ticks": ""
            },
            "colorscale": [
             [
              0,
              "#0d0887"
             ],
             [
              0.1111111111111111,
              "#46039f"
             ],
             [
              0.2222222222222222,
              "#7201a8"
             ],
             [
              0.3333333333333333,
              "#9c179e"
             ],
             [
              0.4444444444444444,
              "#bd3786"
             ],
             [
              0.5555555555555556,
              "#d8576b"
             ],
             [
              0.6666666666666666,
              "#ed7953"
             ],
             [
              0.7777777777777778,
              "#fb9f3a"
             ],
             [
              0.8888888888888888,
              "#fdca26"
             ],
             [
              1,
              "#f0f921"
             ]
            ],
            "type": "histogram2d"
           }
          ],
          "histogram2dcontour": [
           {
            "colorbar": {
             "outlinewidth": 0,
             "ticks": ""
            },
            "colorscale": [
             [
              0,
              "#0d0887"
             ],
             [
              0.1111111111111111,
              "#46039f"
             ],
             [
              0.2222222222222222,
              "#7201a8"
             ],
             [
              0.3333333333333333,
              "#9c179e"
             ],
             [
              0.4444444444444444,
              "#bd3786"
             ],
             [
              0.5555555555555556,
              "#d8576b"
             ],
             [
              0.6666666666666666,
              "#ed7953"
             ],
             [
              0.7777777777777778,
              "#fb9f3a"
             ],
             [
              0.8888888888888888,
              "#fdca26"
             ],
             [
              1,
              "#f0f921"
             ]
            ],
            "type": "histogram2dcontour"
           }
          ],
          "mesh3d": [
           {
            "colorbar": {
             "outlinewidth": 0,
             "ticks": ""
            },
            "type": "mesh3d"
           }
          ],
          "parcoords": [
           {
            "line": {
             "colorbar": {
              "outlinewidth": 0,
              "ticks": ""
             }
            },
            "type": "parcoords"
           }
          ],
          "pie": [
           {
            "automargin": true,
            "type": "pie"
           }
          ],
          "scatter": [
           {
            "fillpattern": {
             "fillmode": "overlay",
             "size": 10,
             "solidity": 0.2
            },
            "type": "scatter"
           }
          ],
          "scatter3d": [
           {
            "line": {
             "colorbar": {
              "outlinewidth": 0,
              "ticks": ""
             }
            },
            "marker": {
             "colorbar": {
              "outlinewidth": 0,
              "ticks": ""
             }
            },
            "type": "scatter3d"
           }
          ],
          "scattercarpet": [
           {
            "marker": {
             "colorbar": {
              "outlinewidth": 0,
              "ticks": ""
             }
            },
            "type": "scattercarpet"
           }
          ],
          "scattergeo": [
           {
            "marker": {
             "colorbar": {
              "outlinewidth": 0,
              "ticks": ""
             }
            },
            "type": "scattergeo"
           }
          ],
          "scattergl": [
           {
            "marker": {
             "colorbar": {
              "outlinewidth": 0,
              "ticks": ""
             }
            },
            "type": "scattergl"
           }
          ],
          "scattermapbox": [
           {
            "marker": {
             "colorbar": {
              "outlinewidth": 0,
              "ticks": ""
             }
            },
            "type": "scattermapbox"
           }
          ],
          "scatterpolar": [
           {
            "marker": {
             "colorbar": {
              "outlinewidth": 0,
              "ticks": ""
             }
            },
            "type": "scatterpolar"
           }
          ],
          "scatterpolargl": [
           {
            "marker": {
             "colorbar": {
              "outlinewidth": 0,
              "ticks": ""
             }
            },
            "type": "scatterpolargl"
           }
          ],
          "scatterternary": [
           {
            "marker": {
             "colorbar": {
              "outlinewidth": 0,
              "ticks": ""
             }
            },
            "type": "scatterternary"
           }
          ],
          "surface": [
           {
            "colorbar": {
             "outlinewidth": 0,
             "ticks": ""
            },
            "colorscale": [
             [
              0,
              "#0d0887"
             ],
             [
              0.1111111111111111,
              "#46039f"
             ],
             [
              0.2222222222222222,
              "#7201a8"
             ],
             [
              0.3333333333333333,
              "#9c179e"
             ],
             [
              0.4444444444444444,
              "#bd3786"
             ],
             [
              0.5555555555555556,
              "#d8576b"
             ],
             [
              0.6666666666666666,
              "#ed7953"
             ],
             [
              0.7777777777777778,
              "#fb9f3a"
             ],
             [
              0.8888888888888888,
              "#fdca26"
             ],
             [
              1,
              "#f0f921"
             ]
            ],
            "type": "surface"
           }
          ],
          "table": [
           {
            "cells": {
             "fill": {
              "color": "#EBF0F8"
             },
             "line": {
              "color": "white"
             }
            },
            "header": {
             "fill": {
              "color": "#C8D4E3"
             },
             "line": {
              "color": "white"
             }
            },
            "type": "table"
           }
          ]
         },
         "layout": {
          "annotationdefaults": {
           "arrowcolor": "#2a3f5f",
           "arrowhead": 0,
           "arrowwidth": 1
          },
          "autotypenumbers": "strict",
          "coloraxis": {
           "colorbar": {
            "outlinewidth": 0,
            "ticks": ""
           }
          },
          "colorscale": {
           "diverging": [
            [
             0,
             "#8e0152"
            ],
            [
             0.1,
             "#c51b7d"
            ],
            [
             0.2,
             "#de77ae"
            ],
            [
             0.3,
             "#f1b6da"
            ],
            [
             0.4,
             "#fde0ef"
            ],
            [
             0.5,
             "#f7f7f7"
            ],
            [
             0.6,
             "#e6f5d0"
            ],
            [
             0.7,
             "#b8e186"
            ],
            [
             0.8,
             "#7fbc41"
            ],
            [
             0.9,
             "#4d9221"
            ],
            [
             1,
             "#276419"
            ]
           ],
           "sequential": [
            [
             0,
             "#0d0887"
            ],
            [
             0.1111111111111111,
             "#46039f"
            ],
            [
             0.2222222222222222,
             "#7201a8"
            ],
            [
             0.3333333333333333,
             "#9c179e"
            ],
            [
             0.4444444444444444,
             "#bd3786"
            ],
            [
             0.5555555555555556,
             "#d8576b"
            ],
            [
             0.6666666666666666,
             "#ed7953"
            ],
            [
             0.7777777777777778,
             "#fb9f3a"
            ],
            [
             0.8888888888888888,
             "#fdca26"
            ],
            [
             1,
             "#f0f921"
            ]
           ],
           "sequentialminus": [
            [
             0,
             "#0d0887"
            ],
            [
             0.1111111111111111,
             "#46039f"
            ],
            [
             0.2222222222222222,
             "#7201a8"
            ],
            [
             0.3333333333333333,
             "#9c179e"
            ],
            [
             0.4444444444444444,
             "#bd3786"
            ],
            [
             0.5555555555555556,
             "#d8576b"
            ],
            [
             0.6666666666666666,
             "#ed7953"
            ],
            [
             0.7777777777777778,
             "#fb9f3a"
            ],
            [
             0.8888888888888888,
             "#fdca26"
            ],
            [
             1,
             "#f0f921"
            ]
           ]
          },
          "colorway": [
           "#636efa",
           "#EF553B",
           "#00cc96",
           "#ab63fa",
           "#FFA15A",
           "#19d3f3",
           "#FF6692",
           "#B6E880",
           "#FF97FF",
           "#FECB52"
          ],
          "font": {
           "color": "#2a3f5f"
          },
          "geo": {
           "bgcolor": "white",
           "lakecolor": "white",
           "landcolor": "#E5ECF6",
           "showlakes": true,
           "showland": true,
           "subunitcolor": "white"
          },
          "hoverlabel": {
           "align": "left"
          },
          "hovermode": "closest",
          "mapbox": {
           "style": "light"
          },
          "paper_bgcolor": "white",
          "plot_bgcolor": "#E5ECF6",
          "polar": {
           "angularaxis": {
            "gridcolor": "white",
            "linecolor": "white",
            "ticks": ""
           },
           "bgcolor": "#E5ECF6",
           "radialaxis": {
            "gridcolor": "white",
            "linecolor": "white",
            "ticks": ""
           }
          },
          "scene": {
           "xaxis": {
            "backgroundcolor": "#E5ECF6",
            "gridcolor": "white",
            "gridwidth": 2,
            "linecolor": "white",
            "showbackground": true,
            "ticks": "",
            "zerolinecolor": "white"
           },
           "yaxis": {
            "backgroundcolor": "#E5ECF6",
            "gridcolor": "white",
            "gridwidth": 2,
            "linecolor": "white",
            "showbackground": true,
            "ticks": "",
            "zerolinecolor": "white"
           },
           "zaxis": {
            "backgroundcolor": "#E5ECF6",
            "gridcolor": "white",
            "gridwidth": 2,
            "linecolor": "white",
            "showbackground": true,
            "ticks": "",
            "zerolinecolor": "white"
           }
          },
          "shapedefaults": {
           "line": {
            "color": "#2a3f5f"
           }
          },
          "ternary": {
           "aaxis": {
            "gridcolor": "white",
            "linecolor": "white",
            "ticks": ""
           },
           "baxis": {
            "gridcolor": "white",
            "linecolor": "white",
            "ticks": ""
           },
           "bgcolor": "#E5ECF6",
           "caxis": {
            "gridcolor": "white",
            "linecolor": "white",
            "ticks": ""
           }
          },
          "title": {
           "x": 0.05
          },
          "xaxis": {
           "automargin": true,
           "gridcolor": "white",
           "linecolor": "white",
           "ticks": "",
           "title": {
            "standoff": 15
           },
           "zerolinecolor": "white",
           "zerolinewidth": 2
          },
          "yaxis": {
           "automargin": true,
           "gridcolor": "white",
           "linecolor": "white",
           "ticks": "",
           "title": {
            "standoff": 15
           },
           "zerolinecolor": "white",
           "zerolinewidth": 2
          }
         }
        },
        "title": {
         "text": "Country wise airport"
        },
        "xaxis": {
         "anchor": "y",
         "domain": [
          0,
          1
         ],
         "title": {
          "text": "Country of Nationality"
         }
        },
        "yaxis": {
         "anchor": "x",
         "domain": [
          0,
          1
         ],
         "title": {
          "text": "value"
         }
        }
       }
      }
     },
     "metadata": {},
     "output_type": "display_data"
    }
   ],
   "source": [
    "cols = ['2017 Delhi (Airport)', ' 2017 Mumbai (Airport)',\n",
    "       ' 2017 Chennai (Airport)', '2017 Calicut (Airport)',\n",
    "       '2017 Benguluru (Airport)', '2017 Kolkata (Airport)',\n",
    "       '2017 Hyderabad (Airport)', '2017 Cochin (Airport)']\n",
    "px.line(df, df.index, cols,title='Country wise airport')"
   ]
  },
  {
   "cell_type": "code",
   "execution_count": 51,
   "metadata": {},
   "outputs": [
    {
     "data": {
      "application/vnd.plotly.v1+json": {
       "config": {
        "plotlyServerURL": "https://plot.ly"
       },
       "data": [
        {
         "hovertemplate": "variable=2018 Delhi (Airport)<br>Country of Nationality=%{x}<br>value=%{y}<extra></extra>",
         "legendgroup": "2018 Delhi (Airport)",
         "line": {
          "color": "#636efa",
          "dash": "solid"
         },
         "marker": {
          "symbol": "circle"
         },
         "mode": "lines",
         "name": "2018 Delhi (Airport)",
         "orientation": "v",
         "showlegend": true,
         "type": "scatter",
         "x": [
          "Canada",
          "United States Of America",
          "Argentina",
          "Brazil",
          "Mexico",
          "Austria",
          "Belgium",
          "Denmark",
          "Finland",
          "France",
          "Germany",
          "Greece",
          "Ireland",
          "Italy",
          "Netherlands",
          "Norway",
          "Portugal",
          "Spain",
          "Sweden",
          "Switzerland",
          "United Kingdom",
          "Czech Rep.",
          "Hungary",
          "Kazakhstan",
          "Poland",
          "Russian Federation",
          "Ukraine",
          "Egypt",
          "Kenya",
          "Mauritius",
          "Nigeria",
          "South Africa",
          "Sudan",
          "Tanzania",
          "Bahrain",
          "Iraq",
          "Israel",
          "Oman",
          "Saudi Arabia",
          "Turkey",
          "United Arab Emirates",
          "Yemen",
          "Afghanistan",
          "Bangladesh",
          "Bhutan",
          "Iran",
          "Maldives",
          "Nepal",
          "Pakistan",
          "Sri Lanka",
          "Indonesia",
          "Malaysia",
          "Myanmar",
          "Philippines",
          "Singapore",
          "Thailand",
          "Vietnam",
          "China",
          "Japan",
          "Korea (Republic Of ",
          "Republic Of China Taiwan",
          "Australia",
          "New Zealand"
         ],
         "xaxis": "x",
         "y": [
          55.2,
          31.1,
          71.1,
          53.5,
          61.8,
          49.4,
          38.2,
          45.7,
          57.3,
          39,
          40.9,
          43.2,
          28.7,
          52.7,
          46.7,
          59.5,
          14.8,
          61.1,
          47.6,
          40,
          29.3,
          50.8,
          48.6,
          55,
          51.4,
          25,
          39.8,
          20.9,
          13.3,
          29.5,
          55.4,
          27.8,
          13.3,
          16,
          8.7,
          79.6,
          48.4,
          4.8,
          15.8,
          42.9,
          4.4,
          7.9,
          98.6,
          0.8,
          54.2,
          44.8,
          2.6,
          68.5,
          3.8,
          11.7,
          39.4,
          17.2,
          6.5,
          20.7,
          19.7,
          25.1,
          31.3,
          53.8,
          57.8,
          54.8,
          57.3,
          38.2,
          39.9
         ],
         "yaxis": "y"
        },
        {
         "hovertemplate": "variable= 2018 Mumbai (Airport)<br>Country of Nationality=%{x}<br>value=%{y}<extra></extra>",
         "legendgroup": " 2018 Mumbai (Airport)",
         "line": {
          "color": "#EF553B",
          "dash": "solid"
         },
         "marker": {
          "symbol": "circle"
         },
         "mode": "lines",
         "name": " 2018 Mumbai (Airport)",
         "orientation": "v",
         "showlegend": true,
         "type": "scatter",
         "x": [
          "Canada",
          "United States Of America",
          "Argentina",
          "Brazil",
          "Mexico",
          "Austria",
          "Belgium",
          "Denmark",
          "Finland",
          "France",
          "Germany",
          "Greece",
          "Ireland",
          "Italy",
          "Netherlands",
          "Norway",
          "Portugal",
          "Spain",
          "Sweden",
          "Switzerland",
          "United Kingdom",
          "Czech Rep.",
          "Hungary",
          "Kazakhstan",
          "Poland",
          "Russian Federation",
          "Ukraine",
          "Egypt",
          "Kenya",
          "Mauritius",
          "Nigeria",
          "South Africa",
          "Sudan",
          "Tanzania",
          "Bahrain",
          "Iraq",
          "Israel",
          "Oman",
          "Saudi Arabia",
          "Turkey",
          "United Arab Emirates",
          "Yemen",
          "Afghanistan",
          "Bangladesh",
          "Bhutan",
          "Iran",
          "Maldives",
          "Nepal",
          "Pakistan",
          "Sri Lanka",
          "Indonesia",
          "Malaysia",
          "Myanmar",
          "Philippines",
          "Singapore",
          "Thailand",
          "Vietnam",
          "China",
          "Japan",
          "Korea (Republic Of ",
          "Republic Of China Taiwan",
          "Australia",
          "New Zealand"
         ],
         "xaxis": "x",
         "y": [
          20.8,
          23.1,
          9.9,
          17.9,
          12.8,
          15.6,
          38.3,
          14.9,
          7.7,
          18.4,
          22.7,
          16.3,
          15.2,
          15.4,
          26.6,
          16,
          44.5,
          15.9,
          15.9,
          24.1,
          27.1,
          18.6,
          18.4,
          1.7,
          18.4,
          2.6,
          14.9,
          32.3,
          60.4,
          47.7,
          25.9,
          44.8,
          55.2,
          54.3,
          26.9,
          9.2,
          40.4,
          29,
          19.5,
          31.6,
          42.9,
          59.1,
          0.6,
          0.3,
          1.3,
          33,
          1.2,
          11.6,
          8.5,
          7.5,
          22,
          8.4,
          2.5,
          19.8,
          19.3,
          9.6,
          8.8,
          18.7,
          17.6,
          13.7,
          11.8,
          15.7,
          25
         ],
         "yaxis": "y"
        },
        {
         "hovertemplate": "variable= 2018 Chennai (Airport)<br>Country of Nationality=%{x}<br>value=%{y}<extra></extra>",
         "legendgroup": " 2018 Chennai (Airport)",
         "line": {
          "color": "#00cc96",
          "dash": "solid"
         },
         "marker": {
          "symbol": "circle"
         },
         "mode": "lines",
         "name": " 2018 Chennai (Airport)",
         "orientation": "v",
         "showlegend": true,
         "type": "scatter",
         "x": [
          "Canada",
          "United States Of America",
          "Argentina",
          "Brazil",
          "Mexico",
          "Austria",
          "Belgium",
          "Denmark",
          "Finland",
          "France",
          "Germany",
          "Greece",
          "Ireland",
          "Italy",
          "Netherlands",
          "Norway",
          "Portugal",
          "Spain",
          "Sweden",
          "Switzerland",
          "United Kingdom",
          "Czech Rep.",
          "Hungary",
          "Kazakhstan",
          "Poland",
          "Russian Federation",
          "Ukraine",
          "Egypt",
          "Kenya",
          "Mauritius",
          "Nigeria",
          "South Africa",
          "Sudan",
          "Tanzania",
          "Bahrain",
          "Iraq",
          "Israel",
          "Oman",
          "Saudi Arabia",
          "Turkey",
          "United Arab Emirates",
          "Yemen",
          "Afghanistan",
          "Bangladesh",
          "Bhutan",
          "Iran",
          "Maldives",
          "Nepal",
          "Pakistan",
          "Sri Lanka",
          "Indonesia",
          "Malaysia",
          "Myanmar",
          "Philippines",
          "Singapore",
          "Thailand",
          "Vietnam",
          "China",
          "Japan",
          "Korea (Republic Of ",
          "Republic Of China Taiwan",
          "Australia",
          "New Zealand"
         ],
         "xaxis": "x",
         "y": [
          5.1,
          8.4,
          3.5,
          6,
          4.6,
          4.7,
          6.5,
          9.1,
          3.4,
          22.2,
          8,
          6.8,
          6.8,
          6.1,
          4.7,
          5.7,
          1.6,
          5.3,
          4.6,
          7.8,
          5.6,
          7.1,
          6.6,
          0.7,
          5.9,
          1.1,
          5,
          8.7,
          2.4,
          14.3,
          4.6,
          6.2,
          8.1,
          6.3,
          12.7,
          1.4,
          2,
          8,
          3.4,
          2.3,
          2,
          1.7,
          0.1,
          0.4,
          0.6,
          1.7,
          4.4,
          0.6,
          0.4,
          46.1,
          6.8,
          24.8,
          4.9,
          9.1,
          23.6,
          3.2,
          3.3,
          6.9,
          8.2,
          13.9,
          8,
          8.6,
          6.4
         ],
         "yaxis": "y"
        },
        {
         "hovertemplate": "variable=2018 Calicut (Airport)<br>Country of Nationality=%{x}<br>value=%{y}<extra></extra>",
         "legendgroup": "2018 Calicut (Airport)",
         "line": {
          "color": "#ab63fa",
          "dash": "solid"
         },
         "marker": {
          "symbol": "circle"
         },
         "mode": "lines",
         "name": "2018 Calicut (Airport)",
         "orientation": "v",
         "showlegend": true,
         "type": "scatter",
         "x": [
          "Canada",
          "United States Of America",
          "Argentina",
          "Brazil",
          "Mexico",
          "Austria",
          "Belgium",
          "Denmark",
          "Finland",
          "France",
          "Germany",
          "Greece",
          "Ireland",
          "Italy",
          "Netherlands",
          "Norway",
          "Portugal",
          "Spain",
          "Sweden",
          "Switzerland",
          "United Kingdom",
          "Czech Rep.",
          "Hungary",
          "Kazakhstan",
          "Poland",
          "Russian Federation",
          "Ukraine",
          "Egypt",
          "Kenya",
          "Mauritius",
          "Nigeria",
          "South Africa",
          "Sudan",
          "Tanzania",
          "Bahrain",
          "Iraq",
          "Israel",
          "Oman",
          "Saudi Arabia",
          "Turkey",
          "United Arab Emirates",
          "Yemen",
          "Afghanistan",
          "Bangladesh",
          "Bhutan",
          "Iran",
          "Maldives",
          "Nepal",
          "Pakistan",
          "Sri Lanka",
          "Indonesia",
          "Malaysia",
          "Myanmar",
          "Philippines",
          "Singapore",
          "Thailand",
          "Vietnam",
          "China",
          "Japan",
          "Korea (Republic Of ",
          "Republic Of China Taiwan",
          "Australia",
          "New Zealand"
         ],
         "xaxis": "x",
         "y": [
          0,
          0,
          0,
          0,
          0,
          0,
          0,
          0,
          0,
          0,
          0,
          0,
          0,
          0,
          0,
          0,
          0,
          0,
          0,
          0,
          0,
          0.1,
          0,
          0,
          0.1,
          0,
          0,
          0,
          0,
          0,
          0,
          0,
          0,
          0,
          0,
          0,
          0,
          0,
          0,
          0,
          0,
          0,
          0.1,
          45.9,
          0,
          0,
          0,
          0.1,
          0,
          0,
          0,
          0,
          0,
          0,
          0,
          0,
          0,
          0,
          0,
          0,
          0,
          0,
          0
         ],
         "yaxis": "y"
        },
        {
         "hovertemplate": "variable=2018 Benguluru (Airport)<br>Country of Nationality=%{x}<br>value=%{y}<extra></extra>",
         "legendgroup": "2018 Benguluru (Airport)",
         "line": {
          "color": "#FFA15A",
          "dash": "solid"
         },
         "marker": {
          "symbol": "circle"
         },
         "mode": "lines",
         "name": "2018 Benguluru (Airport)",
         "orientation": "v",
         "showlegend": true,
         "type": "scatter",
         "x": [
          "Canada",
          "United States Of America",
          "Argentina",
          "Brazil",
          "Mexico",
          "Austria",
          "Belgium",
          "Denmark",
          "Finland",
          "France",
          "Germany",
          "Greece",
          "Ireland",
          "Italy",
          "Netherlands",
          "Norway",
          "Portugal",
          "Spain",
          "Sweden",
          "Switzerland",
          "United Kingdom",
          "Czech Rep.",
          "Hungary",
          "Kazakhstan",
          "Poland",
          "Russian Federation",
          "Ukraine",
          "Egypt",
          "Kenya",
          "Mauritius",
          "Nigeria",
          "South Africa",
          "Sudan",
          "Tanzania",
          "Bahrain",
          "Iraq",
          "Israel",
          "Oman",
          "Saudi Arabia",
          "Turkey",
          "United Arab Emirates",
          "Yemen",
          "Afghanistan",
          "Bangladesh",
          "Bhutan",
          "Iran",
          "Maldives",
          "Nepal",
          "Pakistan",
          "Sri Lanka",
          "Indonesia",
          "Malaysia",
          "Myanmar",
          "Philippines",
          "Singapore",
          "Thailand",
          "Vietnam",
          "China",
          "Japan",
          "Korea (Republic Of ",
          "Republic Of China Taiwan",
          "Australia",
          "New Zealand"
         ],
         "xaxis": "x",
         "y": [
          5.1,
          10.5,
          5,
          8.4,
          9.2,
          6.6,
          6.4,
          10.4,
          3.7,
          10.2,
          12.1,
          7.5,
          10.2,
          5.6,
          11.5,
          4.7,
          2.2,
          5.8,
          10.1,
          6.6,
          5.9,
          7,
          10.4,
          1.1,
          8.2,
          1.3,
          4,
          7.1,
          2.6,
          6.3,
          7.5,
          8.1,
          8,
          6.1,
          6.7,
          6.5,
          3,
          6.3,
          14.3,
          3.5,
          9.6,
          12.8,
          0.1,
          0.1,
          0.4,
          10,
          15.7,
          7.6,
          0,
          5.3,
          9.4,
          5.7,
          0.5,
          9.2,
          9,
          4,
          5.3,
          8.1,
          8.3,
          7.7,
          8.8,
          8.5,
          6.6
         ],
         "yaxis": "y"
        },
        {
         "hovertemplate": "variable=2018 Kolkata (Airport)<br>Country of Nationality=%{x}<br>value=%{y}<extra></extra>",
         "legendgroup": "2018 Kolkata (Airport)",
         "line": {
          "color": "#19d3f3",
          "dash": "solid"
         },
         "marker": {
          "symbol": "circle"
         },
         "mode": "lines",
         "name": "2018 Kolkata (Airport)",
         "orientation": "v",
         "showlegend": true,
         "type": "scatter",
         "x": [
          "Canada",
          "United States Of America",
          "Argentina",
          "Brazil",
          "Mexico",
          "Austria",
          "Belgium",
          "Denmark",
          "Finland",
          "France",
          "Germany",
          "Greece",
          "Ireland",
          "Italy",
          "Netherlands",
          "Norway",
          "Portugal",
          "Spain",
          "Sweden",
          "Switzerland",
          "United Kingdom",
          "Czech Rep.",
          "Hungary",
          "Kazakhstan",
          "Poland",
          "Russian Federation",
          "Ukraine",
          "Egypt",
          "Kenya",
          "Mauritius",
          "Nigeria",
          "South Africa",
          "Sudan",
          "Tanzania",
          "Bahrain",
          "Iraq",
          "Israel",
          "Oman",
          "Saudi Arabia",
          "Turkey",
          "United Arab Emirates",
          "Yemen",
          "Afghanistan",
          "Bangladesh",
          "Bhutan",
          "Iran",
          "Maldives",
          "Nepal",
          "Pakistan",
          "Sri Lanka",
          "Indonesia",
          "Malaysia",
          "Myanmar",
          "Philippines",
          "Singapore",
          "Thailand",
          "Vietnam",
          "China",
          "Japan",
          "Korea (Republic Of ",
          "Republic Of China Taiwan",
          "Australia",
          "New Zealand"
         ],
         "xaxis": "x",
         "y": [
          1.5,
          2.3,
          1.8,
          2.1,
          2.1,
          2,
          1.2,
          1.9,
          0.8,
          1.2,
          1.7,
          2.9,
          3.9,
          2.2,
          1.7,
          1.7,
          0.6,
          2,
          2.1,
          1.9,
          1.8,
          2.5,
          2.2,
          0.4,
          2.1,
          0.5,
          2.4,
          2.5,
          0.5,
          0.4,
          0.6,
          1.8,
          0.2,
          0.3,
          0.5,
          0.1,
          0.7,
          0.1,
          0.3,
          0.8,
          0.4,
          0.2,
          0.2,
          15.4,
          21,
          0.5,
          0.1,
          3.5,
          0,
          0.5,
          3.7,
          1.6,
          6.8,
          8.7,
          2.3,
          15.2,
          7.5,
          5.6,
          2.4,
          1.9,
          2.4,
          3,
          2.6
         ],
         "yaxis": "y"
        },
        {
         "hovertemplate": "variable=2018 Hyderabad (Airport)<br>Country of Nationality=%{x}<br>value=%{y}<extra></extra>",
         "legendgroup": "2018 Hyderabad (Airport)",
         "line": {
          "color": "#FF6692",
          "dash": "solid"
         },
         "marker": {
          "symbol": "circle"
         },
         "mode": "lines",
         "name": "2018 Hyderabad (Airport)",
         "orientation": "v",
         "showlegend": true,
         "type": "scatter",
         "x": [
          "Canada",
          "United States Of America",
          "Argentina",
          "Brazil",
          "Mexico",
          "Austria",
          "Belgium",
          "Denmark",
          "Finland",
          "France",
          "Germany",
          "Greece",
          "Ireland",
          "Italy",
          "Netherlands",
          "Norway",
          "Portugal",
          "Spain",
          "Sweden",
          "Switzerland",
          "United Kingdom",
          "Czech Rep.",
          "Hungary",
          "Kazakhstan",
          "Poland",
          "Russian Federation",
          "Ukraine",
          "Egypt",
          "Kenya",
          "Mauritius",
          "Nigeria",
          "South Africa",
          "Sudan",
          "Tanzania",
          "Bahrain",
          "Iraq",
          "Israel",
          "Oman",
          "Saudi Arabia",
          "Turkey",
          "United Arab Emirates",
          "Yemen",
          "Afghanistan",
          "Bangladesh",
          "Bhutan",
          "Iran",
          "Maldives",
          "Nepal",
          "Pakistan",
          "Sri Lanka",
          "Indonesia",
          "Malaysia",
          "Myanmar",
          "Philippines",
          "Singapore",
          "Thailand",
          "Vietnam",
          "China",
          "Japan",
          "Korea (Republic Of ",
          "Republic Of China Taiwan",
          "Australia",
          "New Zealand"
         ],
         "xaxis": "x",
         "y": [
          2.9,
          9.6,
          0.8,
          3.1,
          1.9,
          1.7,
          1.7,
          1.4,
          1.1,
          1.2,
          1.5,
          4.5,
          4.7,
          1.3,
          2.2,
          1.3,
          0.6,
          1.3,
          1.8,
          1.5,
          3.2,
          1.5,
          2.1,
          0.3,
          1.6,
          0.4,
          1.5,
          6.2,
          3,
          0.2,
          2.4,
          2,
          12,
          3.7,
          17.8,
          1.8,
          0.3,
          8.8,
          9.2,
          3.1,
          26.2,
          12.5,
          0,
          0,
          0.1,
          2.6,
          0.2,
          0.4,
          0,
          0.6,
          2.9,
          2.3,
          0.6,
          6,
          2.4,
          1.2,
          1.7,
          2.6,
          1.5,
          1.7,
          1.8,
          6.4,
          5.7
         ],
         "yaxis": "y"
        },
        {
         "hovertemplate": "variable=2018 Cochin (Airport)<br>Country of Nationality=%{x}<br>value=%{y}<extra></extra>",
         "legendgroup": "2018 Cochin (Airport)",
         "line": {
          "color": "#B6E880",
          "dash": "solid"
         },
         "marker": {
          "symbol": "circle"
         },
         "mode": "lines",
         "name": "2018 Cochin (Airport)",
         "orientation": "v",
         "showlegend": true,
         "type": "scatter",
         "x": [
          "Canada",
          "United States Of America",
          "Argentina",
          "Brazil",
          "Mexico",
          "Austria",
          "Belgium",
          "Denmark",
          "Finland",
          "France",
          "Germany",
          "Greece",
          "Ireland",
          "Italy",
          "Netherlands",
          "Norway",
          "Portugal",
          "Spain",
          "Sweden",
          "Switzerland",
          "United Kingdom",
          "Czech Rep.",
          "Hungary",
          "Kazakhstan",
          "Poland",
          "Russian Federation",
          "Ukraine",
          "Egypt",
          "Kenya",
          "Mauritius",
          "Nigeria",
          "South Africa",
          "Sudan",
          "Tanzania",
          "Bahrain",
          "Iraq",
          "Israel",
          "Oman",
          "Saudi Arabia",
          "Turkey",
          "United Arab Emirates",
          "Yemen",
          "Afghanistan",
          "Bangladesh",
          "Bhutan",
          "Iran",
          "Maldives",
          "Nepal",
          "Pakistan",
          "Sri Lanka",
          "Indonesia",
          "Malaysia",
          "Myanmar",
          "Philippines",
          "Singapore",
          "Thailand",
          "Vietnam",
          "China",
          "Japan",
          "Korea (Republic Of ",
          "Republic Of China Taiwan",
          "Australia",
          "New Zealand"
         ],
         "xaxis": "x",
         "y": [
          3,
          4.5,
          2.1,
          2.4,
          2.2,
          9,
          1.8,
          2.3,
          1.8,
          2.6,
          3.8,
          6.6,
          18.8,
          2.6,
          1.5,
          2.1,
          0.9,
          2.5,
          3.2,
          8.1,
          5.8,
          3.3,
          3.1,
          0.8,
          3,
          0.8,
          4.3,
          8.9,
          1,
          0.3,
          0.9,
          4.1,
          1.3,
          0.6,
          12.7,
          0.2,
          0.5,
          29.3,
          21.9,
          1,
          5.8,
          2.2,
          0,
          0,
          0.1,
          0.9,
          17.3,
          0.3,
          0,
          1.3,
          2,
          6,
          0.3,
          8.9,
          2.6,
          0.8,
          1,
          0.6,
          0.8,
          0.7,
          0.8,
          8.6,
          6.6
         ],
         "yaxis": "y"
        }
       ],
       "layout": {
        "legend": {
         "title": {
          "text": "variable"
         },
         "tracegroupgap": 0
        },
        "template": {
         "data": {
          "bar": [
           {
            "error_x": {
             "color": "#2a3f5f"
            },
            "error_y": {
             "color": "#2a3f5f"
            },
            "marker": {
             "line": {
              "color": "#E5ECF6",
              "width": 0.5
             },
             "pattern": {
              "fillmode": "overlay",
              "size": 10,
              "solidity": 0.2
             }
            },
            "type": "bar"
           }
          ],
          "barpolar": [
           {
            "marker": {
             "line": {
              "color": "#E5ECF6",
              "width": 0.5
             },
             "pattern": {
              "fillmode": "overlay",
              "size": 10,
              "solidity": 0.2
             }
            },
            "type": "barpolar"
           }
          ],
          "carpet": [
           {
            "aaxis": {
             "endlinecolor": "#2a3f5f",
             "gridcolor": "white",
             "linecolor": "white",
             "minorgridcolor": "white",
             "startlinecolor": "#2a3f5f"
            },
            "baxis": {
             "endlinecolor": "#2a3f5f",
             "gridcolor": "white",
             "linecolor": "white",
             "minorgridcolor": "white",
             "startlinecolor": "#2a3f5f"
            },
            "type": "carpet"
           }
          ],
          "choropleth": [
           {
            "colorbar": {
             "outlinewidth": 0,
             "ticks": ""
            },
            "type": "choropleth"
           }
          ],
          "contour": [
           {
            "colorbar": {
             "outlinewidth": 0,
             "ticks": ""
            },
            "colorscale": [
             [
              0,
              "#0d0887"
             ],
             [
              0.1111111111111111,
              "#46039f"
             ],
             [
              0.2222222222222222,
              "#7201a8"
             ],
             [
              0.3333333333333333,
              "#9c179e"
             ],
             [
              0.4444444444444444,
              "#bd3786"
             ],
             [
              0.5555555555555556,
              "#d8576b"
             ],
             [
              0.6666666666666666,
              "#ed7953"
             ],
             [
              0.7777777777777778,
              "#fb9f3a"
             ],
             [
              0.8888888888888888,
              "#fdca26"
             ],
             [
              1,
              "#f0f921"
             ]
            ],
            "type": "contour"
           }
          ],
          "contourcarpet": [
           {
            "colorbar": {
             "outlinewidth": 0,
             "ticks": ""
            },
            "type": "contourcarpet"
           }
          ],
          "heatmap": [
           {
            "colorbar": {
             "outlinewidth": 0,
             "ticks": ""
            },
            "colorscale": [
             [
              0,
              "#0d0887"
             ],
             [
              0.1111111111111111,
              "#46039f"
             ],
             [
              0.2222222222222222,
              "#7201a8"
             ],
             [
              0.3333333333333333,
              "#9c179e"
             ],
             [
              0.4444444444444444,
              "#bd3786"
             ],
             [
              0.5555555555555556,
              "#d8576b"
             ],
             [
              0.6666666666666666,
              "#ed7953"
             ],
             [
              0.7777777777777778,
              "#fb9f3a"
             ],
             [
              0.8888888888888888,
              "#fdca26"
             ],
             [
              1,
              "#f0f921"
             ]
            ],
            "type": "heatmap"
           }
          ],
          "heatmapgl": [
           {
            "colorbar": {
             "outlinewidth": 0,
             "ticks": ""
            },
            "colorscale": [
             [
              0,
              "#0d0887"
             ],
             [
              0.1111111111111111,
              "#46039f"
             ],
             [
              0.2222222222222222,
              "#7201a8"
             ],
             [
              0.3333333333333333,
              "#9c179e"
             ],
             [
              0.4444444444444444,
              "#bd3786"
             ],
             [
              0.5555555555555556,
              "#d8576b"
             ],
             [
              0.6666666666666666,
              "#ed7953"
             ],
             [
              0.7777777777777778,
              "#fb9f3a"
             ],
             [
              0.8888888888888888,
              "#fdca26"
             ],
             [
              1,
              "#f0f921"
             ]
            ],
            "type": "heatmapgl"
           }
          ],
          "histogram": [
           {
            "marker": {
             "pattern": {
              "fillmode": "overlay",
              "size": 10,
              "solidity": 0.2
             }
            },
            "type": "histogram"
           }
          ],
          "histogram2d": [
           {
            "colorbar": {
             "outlinewidth": 0,
             "ticks": ""
            },
            "colorscale": [
             [
              0,
              "#0d0887"
             ],
             [
              0.1111111111111111,
              "#46039f"
             ],
             [
              0.2222222222222222,
              "#7201a8"
             ],
             [
              0.3333333333333333,
              "#9c179e"
             ],
             [
              0.4444444444444444,
              "#bd3786"
             ],
             [
              0.5555555555555556,
              "#d8576b"
             ],
             [
              0.6666666666666666,
              "#ed7953"
             ],
             [
              0.7777777777777778,
              "#fb9f3a"
             ],
             [
              0.8888888888888888,
              "#fdca26"
             ],
             [
              1,
              "#f0f921"
             ]
            ],
            "type": "histogram2d"
           }
          ],
          "histogram2dcontour": [
           {
            "colorbar": {
             "outlinewidth": 0,
             "ticks": ""
            },
            "colorscale": [
             [
              0,
              "#0d0887"
             ],
             [
              0.1111111111111111,
              "#46039f"
             ],
             [
              0.2222222222222222,
              "#7201a8"
             ],
             [
              0.3333333333333333,
              "#9c179e"
             ],
             [
              0.4444444444444444,
              "#bd3786"
             ],
             [
              0.5555555555555556,
              "#d8576b"
             ],
             [
              0.6666666666666666,
              "#ed7953"
             ],
             [
              0.7777777777777778,
              "#fb9f3a"
             ],
             [
              0.8888888888888888,
              "#fdca26"
             ],
             [
              1,
              "#f0f921"
             ]
            ],
            "type": "histogram2dcontour"
           }
          ],
          "mesh3d": [
           {
            "colorbar": {
             "outlinewidth": 0,
             "ticks": ""
            },
            "type": "mesh3d"
           }
          ],
          "parcoords": [
           {
            "line": {
             "colorbar": {
              "outlinewidth": 0,
              "ticks": ""
             }
            },
            "type": "parcoords"
           }
          ],
          "pie": [
           {
            "automargin": true,
            "type": "pie"
           }
          ],
          "scatter": [
           {
            "fillpattern": {
             "fillmode": "overlay",
             "size": 10,
             "solidity": 0.2
            },
            "type": "scatter"
           }
          ],
          "scatter3d": [
           {
            "line": {
             "colorbar": {
              "outlinewidth": 0,
              "ticks": ""
             }
            },
            "marker": {
             "colorbar": {
              "outlinewidth": 0,
              "ticks": ""
             }
            },
            "type": "scatter3d"
           }
          ],
          "scattercarpet": [
           {
            "marker": {
             "colorbar": {
              "outlinewidth": 0,
              "ticks": ""
             }
            },
            "type": "scattercarpet"
           }
          ],
          "scattergeo": [
           {
            "marker": {
             "colorbar": {
              "outlinewidth": 0,
              "ticks": ""
             }
            },
            "type": "scattergeo"
           }
          ],
          "scattergl": [
           {
            "marker": {
             "colorbar": {
              "outlinewidth": 0,
              "ticks": ""
             }
            },
            "type": "scattergl"
           }
          ],
          "scattermapbox": [
           {
            "marker": {
             "colorbar": {
              "outlinewidth": 0,
              "ticks": ""
             }
            },
            "type": "scattermapbox"
           }
          ],
          "scatterpolar": [
           {
            "marker": {
             "colorbar": {
              "outlinewidth": 0,
              "ticks": ""
             }
            },
            "type": "scatterpolar"
           }
          ],
          "scatterpolargl": [
           {
            "marker": {
             "colorbar": {
              "outlinewidth": 0,
              "ticks": ""
             }
            },
            "type": "scatterpolargl"
           }
          ],
          "scatterternary": [
           {
            "marker": {
             "colorbar": {
              "outlinewidth": 0,
              "ticks": ""
             }
            },
            "type": "scatterternary"
           }
          ],
          "surface": [
           {
            "colorbar": {
             "outlinewidth": 0,
             "ticks": ""
            },
            "colorscale": [
             [
              0,
              "#0d0887"
             ],
             [
              0.1111111111111111,
              "#46039f"
             ],
             [
              0.2222222222222222,
              "#7201a8"
             ],
             [
              0.3333333333333333,
              "#9c179e"
             ],
             [
              0.4444444444444444,
              "#bd3786"
             ],
             [
              0.5555555555555556,
              "#d8576b"
             ],
             [
              0.6666666666666666,
              "#ed7953"
             ],
             [
              0.7777777777777778,
              "#fb9f3a"
             ],
             [
              0.8888888888888888,
              "#fdca26"
             ],
             [
              1,
              "#f0f921"
             ]
            ],
            "type": "surface"
           }
          ],
          "table": [
           {
            "cells": {
             "fill": {
              "color": "#EBF0F8"
             },
             "line": {
              "color": "white"
             }
            },
            "header": {
             "fill": {
              "color": "#C8D4E3"
             },
             "line": {
              "color": "white"
             }
            },
            "type": "table"
           }
          ]
         },
         "layout": {
          "annotationdefaults": {
           "arrowcolor": "#2a3f5f",
           "arrowhead": 0,
           "arrowwidth": 1
          },
          "autotypenumbers": "strict",
          "coloraxis": {
           "colorbar": {
            "outlinewidth": 0,
            "ticks": ""
           }
          },
          "colorscale": {
           "diverging": [
            [
             0,
             "#8e0152"
            ],
            [
             0.1,
             "#c51b7d"
            ],
            [
             0.2,
             "#de77ae"
            ],
            [
             0.3,
             "#f1b6da"
            ],
            [
             0.4,
             "#fde0ef"
            ],
            [
             0.5,
             "#f7f7f7"
            ],
            [
             0.6,
             "#e6f5d0"
            ],
            [
             0.7,
             "#b8e186"
            ],
            [
             0.8,
             "#7fbc41"
            ],
            [
             0.9,
             "#4d9221"
            ],
            [
             1,
             "#276419"
            ]
           ],
           "sequential": [
            [
             0,
             "#0d0887"
            ],
            [
             0.1111111111111111,
             "#46039f"
            ],
            [
             0.2222222222222222,
             "#7201a8"
            ],
            [
             0.3333333333333333,
             "#9c179e"
            ],
            [
             0.4444444444444444,
             "#bd3786"
            ],
            [
             0.5555555555555556,
             "#d8576b"
            ],
            [
             0.6666666666666666,
             "#ed7953"
            ],
            [
             0.7777777777777778,
             "#fb9f3a"
            ],
            [
             0.8888888888888888,
             "#fdca26"
            ],
            [
             1,
             "#f0f921"
            ]
           ],
           "sequentialminus": [
            [
             0,
             "#0d0887"
            ],
            [
             0.1111111111111111,
             "#46039f"
            ],
            [
             0.2222222222222222,
             "#7201a8"
            ],
            [
             0.3333333333333333,
             "#9c179e"
            ],
            [
             0.4444444444444444,
             "#bd3786"
            ],
            [
             0.5555555555555556,
             "#d8576b"
            ],
            [
             0.6666666666666666,
             "#ed7953"
            ],
            [
             0.7777777777777778,
             "#fb9f3a"
            ],
            [
             0.8888888888888888,
             "#fdca26"
            ],
            [
             1,
             "#f0f921"
            ]
           ]
          },
          "colorway": [
           "#636efa",
           "#EF553B",
           "#00cc96",
           "#ab63fa",
           "#FFA15A",
           "#19d3f3",
           "#FF6692",
           "#B6E880",
           "#FF97FF",
           "#FECB52"
          ],
          "font": {
           "color": "#2a3f5f"
          },
          "geo": {
           "bgcolor": "white",
           "lakecolor": "white",
           "landcolor": "#E5ECF6",
           "showlakes": true,
           "showland": true,
           "subunitcolor": "white"
          },
          "hoverlabel": {
           "align": "left"
          },
          "hovermode": "closest",
          "mapbox": {
           "style": "light"
          },
          "paper_bgcolor": "white",
          "plot_bgcolor": "#E5ECF6",
          "polar": {
           "angularaxis": {
            "gridcolor": "white",
            "linecolor": "white",
            "ticks": ""
           },
           "bgcolor": "#E5ECF6",
           "radialaxis": {
            "gridcolor": "white",
            "linecolor": "white",
            "ticks": ""
           }
          },
          "scene": {
           "xaxis": {
            "backgroundcolor": "#E5ECF6",
            "gridcolor": "white",
            "gridwidth": 2,
            "linecolor": "white",
            "showbackground": true,
            "ticks": "",
            "zerolinecolor": "white"
           },
           "yaxis": {
            "backgroundcolor": "#E5ECF6",
            "gridcolor": "white",
            "gridwidth": 2,
            "linecolor": "white",
            "showbackground": true,
            "ticks": "",
            "zerolinecolor": "white"
           },
           "zaxis": {
            "backgroundcolor": "#E5ECF6",
            "gridcolor": "white",
            "gridwidth": 2,
            "linecolor": "white",
            "showbackground": true,
            "ticks": "",
            "zerolinecolor": "white"
           }
          },
          "shapedefaults": {
           "line": {
            "color": "#2a3f5f"
           }
          },
          "ternary": {
           "aaxis": {
            "gridcolor": "white",
            "linecolor": "white",
            "ticks": ""
           },
           "baxis": {
            "gridcolor": "white",
            "linecolor": "white",
            "ticks": ""
           },
           "bgcolor": "#E5ECF6",
           "caxis": {
            "gridcolor": "white",
            "linecolor": "white",
            "ticks": ""
           }
          },
          "title": {
           "x": 0.05
          },
          "xaxis": {
           "automargin": true,
           "gridcolor": "white",
           "linecolor": "white",
           "ticks": "",
           "title": {
            "standoff": 15
           },
           "zerolinecolor": "white",
           "zerolinewidth": 2
          },
          "yaxis": {
           "automargin": true,
           "gridcolor": "white",
           "linecolor": "white",
           "ticks": "",
           "title": {
            "standoff": 15
           },
           "zerolinecolor": "white",
           "zerolinewidth": 2
          }
         }
        },
        "title": {
         "text": "Country wise airport"
        },
        "xaxis": {
         "anchor": "y",
         "domain": [
          0,
          1
         ],
         "title": {
          "text": "Country of Nationality"
         }
        },
        "yaxis": {
         "anchor": "x",
         "domain": [
          0,
          1
         ],
         "title": {
          "text": "value"
         }
        }
       }
      }
     },
     "metadata": {},
     "output_type": "display_data"
    }
   ],
   "source": [
    "px.line(df,df.index,['2018 Delhi (Airport)', ' 2018 Mumbai (Airport)',\n",
    "       ' 2018 Chennai (Airport)', '2018 Calicut (Airport)',\n",
    "       '2018 Benguluru (Airport)', '2018 Kolkata (Airport)',\n",
    "       '2018 Hyderabad (Airport)', '2018 Cochin (Airport)'], title='Country wise airport')"
   ]
  },
  {
   "cell_type": "code",
   "execution_count": 53,
   "metadata": {},
   "outputs": [
    {
     "data": {
      "application/vnd.plotly.v1+json": {
       "config": {
        "plotlyServerURL": "https://plot.ly"
       },
       "data": [
        {
         "hovertemplate": "variable=2019 Delhi (Airport)<br>Country of Nationality=%{x}<br>value=%{y}<extra></extra>",
         "legendgroup": "2019 Delhi (Airport)",
         "line": {
          "color": "#636efa",
          "dash": "solid"
         },
         "marker": {
          "symbol": "circle"
         },
         "mode": "lines",
         "name": "2019 Delhi (Airport)",
         "orientation": "v",
         "showlegend": true,
         "type": "scatter",
         "x": [
          "Canada",
          "United States Of America",
          "Argentina",
          "Brazil",
          "Mexico",
          "Austria",
          "Belgium",
          "Denmark",
          "Finland",
          "France",
          "Germany",
          "Greece",
          "Ireland",
          "Italy",
          "Netherlands",
          "Norway",
          "Portugal",
          "Spain",
          "Sweden",
          "Switzerland",
          "United Kingdom",
          "Czech Rep.",
          "Hungary",
          "Kazakhstan",
          "Poland",
          "Russian Federation",
          "Ukraine",
          "Egypt",
          "Kenya",
          "Mauritius",
          "Nigeria",
          "South Africa",
          "Sudan",
          "Tanzania",
          "Bahrain",
          "Iraq",
          "Israel",
          "Oman",
          "Saudi Arabia",
          "Turkey",
          "United Arab Emirates",
          "Yemen",
          "Afghanistan",
          "Bangladesh",
          "Bhutan",
          "Iran",
          "Maldives",
          "Nepal",
          "Pakistan",
          "Sri Lanka",
          "Indonesia",
          "Malaysia",
          "Myanmar",
          "Philippines",
          "Singapore",
          "Thailand",
          "Vietnam",
          "China",
          "Japan",
          "Korea (Republic Of ",
          "Republic Of China Taiwan",
          "Australia",
          "New Zealand"
         ],
         "xaxis": "x",
         "y": [
          63.8,
          27.6,
          31.8,
          26.6,
          36.1,
          57.7,
          25.7,
          54.2,
          58.7,
          38.5,
          34,
          56.3,
          25.9,
          59.5,
          32.1,
          44.7,
          54.4,
          49.9,
          55.1,
          36,
          31.3,
          30.4,
          41.6,
          42.3,
          83.8,
          44.6,
          70,
          65.1,
          16.2,
          12.2,
          26.2,
          32.3,
          14.1,
          27.3,
          13.2,
          11.9,
          13.9,
          17.7,
          58.5,
          19.4,
          10.6,
          8.2,
          72.9,
          4.9,
          46.2,
          37.8,
          12.3,
          79.7,
          1.9,
          13.7,
          20.5,
          24.8,
          13.2,
          14.4,
          27.8,
          14.8,
          27.2,
          19.7,
          37.7,
          39.4,
          43.6,
          39.9,
          49.6
         ],
         "yaxis": "y"
        },
        {
         "hovertemplate": "variable= 2019 Mumbai (Airport)<br>Country of Nationality=%{x}<br>value=%{y}<extra></extra>",
         "legendgroup": " 2019 Mumbai (Airport)",
         "line": {
          "color": "#EF553B",
          "dash": "solid"
         },
         "marker": {
          "symbol": "circle"
         },
         "mode": "lines",
         "name": " 2019 Mumbai (Airport)",
         "orientation": "v",
         "showlegend": true,
         "type": "scatter",
         "x": [
          "Canada",
          "United States Of America",
          "Argentina",
          "Brazil",
          "Mexico",
          "Austria",
          "Belgium",
          "Denmark",
          "Finland",
          "France",
          "Germany",
          "Greece",
          "Ireland",
          "Italy",
          "Netherlands",
          "Norway",
          "Portugal",
          "Spain",
          "Sweden",
          "Switzerland",
          "United Kingdom",
          "Czech Rep.",
          "Hungary",
          "Kazakhstan",
          "Poland",
          "Russian Federation",
          "Ukraine",
          "Egypt",
          "Kenya",
          "Mauritius",
          "Nigeria",
          "South Africa",
          "Sudan",
          "Tanzania",
          "Bahrain",
          "Iraq",
          "Israel",
          "Oman",
          "Saudi Arabia",
          "Turkey",
          "United Arab Emirates",
          "Yemen",
          "Afghanistan",
          "Bangladesh",
          "Bhutan",
          "Iran",
          "Maldives",
          "Nepal",
          "Pakistan",
          "Sri Lanka",
          "Indonesia",
          "Malaysia",
          "Myanmar",
          "Philippines",
          "Singapore",
          "Thailand",
          "Vietnam",
          "China",
          "Japan",
          "Korea (Republic Of ",
          "Republic Of China Taiwan",
          "Australia",
          "New Zealand"
         ],
         "xaxis": "x",
         "y": [
          15.1,
          23.4,
          39.9,
          38.3,
          37.3,
          20.7,
          43.1,
          16.8,
          17.6,
          24.9,
          30.8,
          24.9,
          20.1,
          13.5,
          30.3,
          26.7,
          26.8,
          26.3,
          14.1,
          35.4,
          25.5,
          30,
          28.6,
          32.4,
          5.7,
          26.6,
          13.6,
          10.2,
          52.2,
          60.5,
          52.5,
          44.4,
          66,
          37.5,
          59.1,
          64,
          12,
          33.5,
          26.6,
          25.5,
          14.4,
          18.4,
          5.4,
          1.7,
          6.1,
          43.2,
          22.2,
          6.8,
          3.4,
          11.9,
          17.8,
          22.3,
          7.2,
          9.4,
          17,
          14.7,
          19.3,
          19.3,
          22.9,
          27.5,
          20.2,
          12.8,
          18.3
         ],
         "yaxis": "y"
        },
        {
         "hovertemplate": "variable= 2019 Chennai (Airport)<br>Country of Nationality=%{x}<br>value=%{y}<extra></extra>",
         "legendgroup": " 2019 Chennai (Airport)",
         "line": {
          "color": "#00cc96",
          "dash": "solid"
         },
         "marker": {
          "symbol": "circle"
         },
         "mode": "lines",
         "name": " 2019 Chennai (Airport)",
         "orientation": "v",
         "showlegend": true,
         "type": "scatter",
         "x": [
          "Canada",
          "United States Of America",
          "Argentina",
          "Brazil",
          "Mexico",
          "Austria",
          "Belgium",
          "Denmark",
          "Finland",
          "France",
          "Germany",
          "Greece",
          "Ireland",
          "Italy",
          "Netherlands",
          "Norway",
          "Portugal",
          "Spain",
          "Sweden",
          "Switzerland",
          "United Kingdom",
          "Czech Rep.",
          "Hungary",
          "Kazakhstan",
          "Poland",
          "Russian Federation",
          "Ukraine",
          "Egypt",
          "Kenya",
          "Mauritius",
          "Nigeria",
          "South Africa",
          "Sudan",
          "Tanzania",
          "Bahrain",
          "Iraq",
          "Israel",
          "Oman",
          "Saudi Arabia",
          "Turkey",
          "United Arab Emirates",
          "Yemen",
          "Afghanistan",
          "Bangladesh",
          "Bhutan",
          "Iran",
          "Maldives",
          "Nepal",
          "Pakistan",
          "Sri Lanka",
          "Indonesia",
          "Malaysia",
          "Myanmar",
          "Philippines",
          "Singapore",
          "Thailand",
          "Vietnam",
          "China",
          "Japan",
          "Korea (Republic Of ",
          "Republic Of China Taiwan",
          "Australia",
          "New Zealand"
         ],
         "xaxis": "x",
         "y": [
          4,
          10.5,
          5.7,
          7.7,
          8,
          3.5,
          7.5,
          8.5,
          7.1,
          10.6,
          6.9,
          2.2,
          8.7,
          3,
          7,
          7.4,
          3.2,
          3.6,
          8.2,
          4.7,
          7.6,
          5.1,
          4.5,
          5.3,
          1.9,
          7.1,
          3.5,
          4.5,
          8.2,
          3.3,
          12,
          5.5,
          3.4,
          6.8,
          4.7,
          2.4,
          7,
          5.5,
          2.5,
          8.4,
          18.1,
          9.2,
          3,
          0.5,
          0,
          1,
          5.5,
          0.4,
          0.2,
          43.1,
          14.3,
          9.5,
          17.5,
          9.2,
          12.3,
          20.2,
          7.8,
          9,
          7.7,
          9.8,
          9.6,
          6.6,
          5.3
         ],
         "yaxis": "y"
        },
        {
         "hovertemplate": "variable=2019 Calicut (Airport)<br>Country of Nationality=%{x}<br>value=%{y}<extra></extra>",
         "legendgroup": "2019 Calicut (Airport)",
         "line": {
          "color": "#ab63fa",
          "dash": "solid"
         },
         "marker": {
          "symbol": "circle"
         },
         "mode": "lines",
         "name": "2019 Calicut (Airport)",
         "orientation": "v",
         "showlegend": true,
         "type": "scatter",
         "x": [
          "Canada",
          "United States Of America",
          "Argentina",
          "Brazil",
          "Mexico",
          "Austria",
          "Belgium",
          "Denmark",
          "Finland",
          "France",
          "Germany",
          "Greece",
          "Ireland",
          "Italy",
          "Netherlands",
          "Norway",
          "Portugal",
          "Spain",
          "Sweden",
          "Switzerland",
          "United Kingdom",
          "Czech Rep.",
          "Hungary",
          "Kazakhstan",
          "Poland",
          "Russian Federation",
          "Ukraine",
          "Egypt",
          "Kenya",
          "Mauritius",
          "Nigeria",
          "South Africa",
          "Sudan",
          "Tanzania",
          "Bahrain",
          "Iraq",
          "Israel",
          "Oman",
          "Saudi Arabia",
          "Turkey",
          "United Arab Emirates",
          "Yemen",
          "Afghanistan",
          "Bangladesh",
          "Bhutan",
          "Iran",
          "Maldives",
          "Nepal",
          "Pakistan",
          "Sri Lanka",
          "Indonesia",
          "Malaysia",
          "Myanmar",
          "Philippines",
          "Singapore",
          "Thailand",
          "Vietnam",
          "China",
          "Japan",
          "Korea (Republic Of ",
          "Republic Of China Taiwan",
          "Australia",
          "New Zealand"
         ],
         "xaxis": "x",
         "y": [
          0.3,
          0.2,
          0.1,
          0.3,
          0.1,
          0.5,
          0.2,
          0.2,
          0.2,
          0.2,
          0.4,
          0.1,
          1.1,
          0.2,
          0.2,
          0.3,
          0,
          0.1,
          0.2,
          0.2,
          0.6,
          1.1,
          0.3,
          0.2,
          0.5,
          0.4,
          0.4,
          1.3,
          0.7,
          0.4,
          0,
          0.3,
          0.1,
          1.4,
          0.5,
          1.4,
          14.3,
          1.1,
          1.4,
          2.3,
          4.5,
          11,
          1.2,
          0,
          0,
          0.1,
          0,
          0,
          0.1,
          0,
          0,
          0,
          0,
          0,
          0,
          0,
          0,
          0,
          0,
          0,
          0.1,
          0.1,
          0
         ],
         "yaxis": "y"
        },
        {
         "hovertemplate": "variable=2019 Benguluru (Airport)<br>Country of Nationality=%{x}<br>value=%{y}<extra></extra>",
         "legendgroup": "2019 Benguluru (Airport)",
         "line": {
          "color": "#FFA15A",
          "dash": "solid"
         },
         "marker": {
          "symbol": "circle"
         },
         "mode": "lines",
         "name": "2019 Benguluru (Airport)",
         "orientation": "v",
         "showlegend": true,
         "type": "scatter",
         "x": [
          "Canada",
          "United States Of America",
          "Argentina",
          "Brazil",
          "Mexico",
          "Austria",
          "Belgium",
          "Denmark",
          "Finland",
          "France",
          "Germany",
          "Greece",
          "Ireland",
          "Italy",
          "Netherlands",
          "Norway",
          "Portugal",
          "Spain",
          "Sweden",
          "Switzerland",
          "United Kingdom",
          "Czech Rep.",
          "Hungary",
          "Kazakhstan",
          "Poland",
          "Russian Federation",
          "Ukraine",
          "Egypt",
          "Kenya",
          "Mauritius",
          "Nigeria",
          "South Africa",
          "Sudan",
          "Tanzania",
          "Bahrain",
          "Iraq",
          "Israel",
          "Oman",
          "Saudi Arabia",
          "Turkey",
          "United Arab Emirates",
          "Yemen",
          "Afghanistan",
          "Bangladesh",
          "Bhutan",
          "Iran",
          "Maldives",
          "Nepal",
          "Pakistan",
          "Sri Lanka",
          "Indonesia",
          "Malaysia",
          "Myanmar",
          "Philippines",
          "Singapore",
          "Thailand",
          "Vietnam",
          "China",
          "Japan",
          "Korea (Republic Of ",
          "Republic Of China Taiwan",
          "Australia",
          "New Zealand"
         ],
         "xaxis": "x",
         "y": [
          4.6,
          12,
          10.9,
          8.9,
          13.4,
          5.4,
          9.8,
          10.3,
          8.3,
          12.4,
          15.6,
          6.5,
          13.5,
          4.6,
          19.7,
          8.7,
          7.9,
          7.2,
          12.6,
          9.6,
          10.5,
          7.6,
          11.3,
          8.7,
          0.8,
          11.8,
          3.5,
          2.1,
          8.4,
          3.7,
          7.9,
          4.4,
          4.3,
          2,
          3.3,
          2.3,
          3.4,
          3.1,
          1.7,
          6.4,
          2.8,
          2.9,
          1,
          0.1,
          0,
          3.1,
          20.3,
          4.2,
          0.2,
          16.8,
          14.5,
          11.7,
          10.5,
          5,
          8.9,
          10.7,
          12.7,
          13.5,
          7.8,
          11.7,
          13.3,
          2.5,
          2.1
         ],
         "yaxis": "y"
        },
        {
         "hovertemplate": "variable=2019 Kolkata (Airport)<br>Country of Nationality=%{x}<br>value=%{y}<extra></extra>",
         "legendgroup": "2019 Kolkata (Airport)",
         "line": {
          "color": "#19d3f3",
          "dash": "solid"
         },
         "marker": {
          "symbol": "circle"
         },
         "mode": "lines",
         "name": "2019 Kolkata (Airport)",
         "orientation": "v",
         "showlegend": true,
         "type": "scatter",
         "x": [
          "Canada",
          "United States Of America",
          "Argentina",
          "Brazil",
          "Mexico",
          "Austria",
          "Belgium",
          "Denmark",
          "Finland",
          "France",
          "Germany",
          "Greece",
          "Ireland",
          "Italy",
          "Netherlands",
          "Norway",
          "Portugal",
          "Spain",
          "Sweden",
          "Switzerland",
          "United Kingdom",
          "Czech Rep.",
          "Hungary",
          "Kazakhstan",
          "Poland",
          "Russian Federation",
          "Ukraine",
          "Egypt",
          "Kenya",
          "Mauritius",
          "Nigeria",
          "South Africa",
          "Sudan",
          "Tanzania",
          "Bahrain",
          "Iraq",
          "Israel",
          "Oman",
          "Saudi Arabia",
          "Turkey",
          "United Arab Emirates",
          "Yemen",
          "Afghanistan",
          "Bangladesh",
          "Bhutan",
          "Iran",
          "Maldives",
          "Nepal",
          "Pakistan",
          "Sri Lanka",
          "Indonesia",
          "Malaysia",
          "Myanmar",
          "Philippines",
          "Singapore",
          "Thailand",
          "Vietnam",
          "China",
          "Japan",
          "Korea (Republic Of ",
          "Republic Of China Taiwan",
          "Australia",
          "New Zealand"
         ],
         "xaxis": "x",
         "y": [
          0.9,
          2.7,
          3.8,
          2.4,
          1.2,
          3,
          2.4,
          2.5,
          2.1,
          3.4,
          2.1,
          3.1,
          2.1,
          2.1,
          2.8,
          3,
          1.4,
          2.3,
          2.5,
          2.7,
          3.3,
          1.1,
          2,
          2.7,
          0.3,
          1.3,
          2,
          0.2,
          3.2,
          0.9,
          0.7,
          2.7,
          1.5,
          1.7,
          1.1,
          0.5,
          1.2,
          1.7,
          1.8,
          1.2,
          1,
          0.8,
          3.1,
          22.3,
          38.8,
          0.8,
          0.3,
          7.4,
          0.1,
          1.2,
          12,
          7.9,
          6,
          49.5,
          4.4,
          5.7,
          16.5,
          23,
          11.6,
          3.8,
          4.2,
          9.5,
          4.5
         ],
         "yaxis": "y"
        },
        {
         "hovertemplate": "variable=2019 Hyderabad (Airport)<br>Country of Nationality=%{x}<br>value=%{y}<extra></extra>",
         "legendgroup": "2019 Hyderabad (Airport)",
         "line": {
          "color": "#FF6692",
          "dash": "solid"
         },
         "marker": {
          "symbol": "circle"
         },
         "mode": "lines",
         "name": "2019 Hyderabad (Airport)",
         "orientation": "v",
         "showlegend": true,
         "type": "scatter",
         "x": [
          "Canada",
          "United States Of America",
          "Argentina",
          "Brazil",
          "Mexico",
          "Austria",
          "Belgium",
          "Denmark",
          "Finland",
          "France",
          "Germany",
          "Greece",
          "Ireland",
          "Italy",
          "Netherlands",
          "Norway",
          "Portugal",
          "Spain",
          "Sweden",
          "Switzerland",
          "United Kingdom",
          "Czech Rep.",
          "Hungary",
          "Kazakhstan",
          "Poland",
          "Russian Federation",
          "Ukraine",
          "Egypt",
          "Kenya",
          "Mauritius",
          "Nigeria",
          "South Africa",
          "Sudan",
          "Tanzania",
          "Bahrain",
          "Iraq",
          "Israel",
          "Oman",
          "Saudi Arabia",
          "Turkey",
          "United Arab Emirates",
          "Yemen",
          "Afghanistan",
          "Bangladesh",
          "Bhutan",
          "Iran",
          "Maldives",
          "Nepal",
          "Pakistan",
          "Sri Lanka",
          "Indonesia",
          "Malaysia",
          "Myanmar",
          "Philippines",
          "Singapore",
          "Thailand",
          "Vietnam",
          "China",
          "Japan",
          "Korea (Republic Of ",
          "Republic Of China Taiwan",
          "Australia",
          "New Zealand"
         ],
         "xaxis": "x",
         "y": [
          3.3,
          13.7,
          3.5,
          6.2,
          1.6,
          1.6,
          5.3,
          2.2,
          2.5,
          3.3,
          3.1,
          2.5,
          6.7,
          1.7,
          3.4,
          2.6,
          2.3,
          2.4,
          3,
          4,
          5.8,
          10.1,
          4.3,
          2.2,
          0.9,
          3.1,
          1.9,
          3.9,
          4.2,
          3.1,
          0.3,
          3.6,
          3.5,
          9,
          6.5,
          5.6,
          7,
          7.2,
          1,
          4.6,
          6.8,
          5.6,
          2.2,
          0,
          0,
          2.7,
          0.6,
          0,
          0.2,
          3.5,
          5,
          6.8,
          4.9,
          1.8,
          7.2,
          4.5,
          3.3,
          4.8,
          3.9,
          3.1,
          3.8,
          6,
          8.3
         ],
         "yaxis": "y"
        },
        {
         "hovertemplate": "variable=2019 Cochin (Airport)<br>Country of Nationality=%{x}<br>value=%{y}<extra></extra>",
         "legendgroup": "2019 Cochin (Airport)",
         "line": {
          "color": "#B6E880",
          "dash": "solid"
         },
         "marker": {
          "symbol": "circle"
         },
         "mode": "lines",
         "name": "2019 Cochin (Airport)",
         "orientation": "v",
         "showlegend": true,
         "type": "scatter",
         "x": [
          "Canada",
          "United States Of America",
          "Argentina",
          "Brazil",
          "Mexico",
          "Austria",
          "Belgium",
          "Denmark",
          "Finland",
          "France",
          "Germany",
          "Greece",
          "Ireland",
          "Italy",
          "Netherlands",
          "Norway",
          "Portugal",
          "Spain",
          "Sweden",
          "Switzerland",
          "United Kingdom",
          "Czech Rep.",
          "Hungary",
          "Kazakhstan",
          "Poland",
          "Russian Federation",
          "Ukraine",
          "Egypt",
          "Kenya",
          "Mauritius",
          "Nigeria",
          "South Africa",
          "Sudan",
          "Tanzania",
          "Bahrain",
          "Iraq",
          "Israel",
          "Oman",
          "Saudi Arabia",
          "Turkey",
          "United Arab Emirates",
          "Yemen",
          "Afghanistan",
          "Bangladesh",
          "Bhutan",
          "Iran",
          "Maldives",
          "Nepal",
          "Pakistan",
          "Sri Lanka",
          "Indonesia",
          "Malaysia",
          "Myanmar",
          "Philippines",
          "Singapore",
          "Thailand",
          "Vietnam",
          "China",
          "Japan",
          "Korea (Republic Of ",
          "Republic Of China Taiwan",
          "Australia",
          "New Zealand"
         ],
         "xaxis": "x",
         "y": [
          2.8,
          2.6,
          1.1,
          3.3,
          1.1,
          2.3,
          2.1,
          1.7,
          1.2,
          2.4,
          2.7,
          1.5,
          18.3,
          5.6,
          1.4,
          2.2,
          0.9,
          2.1,
          1.4,
          3.2,
          4,
          3.7,
          2.1,
          1.4,
          2.1,
          1.8,
          1.8,
          4.2,
          2.8,
          1.9,
          0.2,
          2.6,
          3.3,
          3.9,
          3.3,
          1.7,
          18.7,
          2.9,
          3.8,
          23,
          17.4,
          13.5,
          2.3,
          0,
          0,
          0.6,
          25.4,
          0.1,
          0,
          1.4,
          6.4,
          5.2,
          11,
          1.6,
          3.2,
          3.4,
          2.4,
          4.2,
          3.5,
          1.6,
          1.5,
          14.3,
          5.6
         ],
         "yaxis": "y"
        }
       ],
       "layout": {
        "legend": {
         "title": {
          "text": "variable"
         },
         "tracegroupgap": 0
        },
        "template": {
         "data": {
          "bar": [
           {
            "error_x": {
             "color": "#2a3f5f"
            },
            "error_y": {
             "color": "#2a3f5f"
            },
            "marker": {
             "line": {
              "color": "#E5ECF6",
              "width": 0.5
             },
             "pattern": {
              "fillmode": "overlay",
              "size": 10,
              "solidity": 0.2
             }
            },
            "type": "bar"
           }
          ],
          "barpolar": [
           {
            "marker": {
             "line": {
              "color": "#E5ECF6",
              "width": 0.5
             },
             "pattern": {
              "fillmode": "overlay",
              "size": 10,
              "solidity": 0.2
             }
            },
            "type": "barpolar"
           }
          ],
          "carpet": [
           {
            "aaxis": {
             "endlinecolor": "#2a3f5f",
             "gridcolor": "white",
             "linecolor": "white",
             "minorgridcolor": "white",
             "startlinecolor": "#2a3f5f"
            },
            "baxis": {
             "endlinecolor": "#2a3f5f",
             "gridcolor": "white",
             "linecolor": "white",
             "minorgridcolor": "white",
             "startlinecolor": "#2a3f5f"
            },
            "type": "carpet"
           }
          ],
          "choropleth": [
           {
            "colorbar": {
             "outlinewidth": 0,
             "ticks": ""
            },
            "type": "choropleth"
           }
          ],
          "contour": [
           {
            "colorbar": {
             "outlinewidth": 0,
             "ticks": ""
            },
            "colorscale": [
             [
              0,
              "#0d0887"
             ],
             [
              0.1111111111111111,
              "#46039f"
             ],
             [
              0.2222222222222222,
              "#7201a8"
             ],
             [
              0.3333333333333333,
              "#9c179e"
             ],
             [
              0.4444444444444444,
              "#bd3786"
             ],
             [
              0.5555555555555556,
              "#d8576b"
             ],
             [
              0.6666666666666666,
              "#ed7953"
             ],
             [
              0.7777777777777778,
              "#fb9f3a"
             ],
             [
              0.8888888888888888,
              "#fdca26"
             ],
             [
              1,
              "#f0f921"
             ]
            ],
            "type": "contour"
           }
          ],
          "contourcarpet": [
           {
            "colorbar": {
             "outlinewidth": 0,
             "ticks": ""
            },
            "type": "contourcarpet"
           }
          ],
          "heatmap": [
           {
            "colorbar": {
             "outlinewidth": 0,
             "ticks": ""
            },
            "colorscale": [
             [
              0,
              "#0d0887"
             ],
             [
              0.1111111111111111,
              "#46039f"
             ],
             [
              0.2222222222222222,
              "#7201a8"
             ],
             [
              0.3333333333333333,
              "#9c179e"
             ],
             [
              0.4444444444444444,
              "#bd3786"
             ],
             [
              0.5555555555555556,
              "#d8576b"
             ],
             [
              0.6666666666666666,
              "#ed7953"
             ],
             [
              0.7777777777777778,
              "#fb9f3a"
             ],
             [
              0.8888888888888888,
              "#fdca26"
             ],
             [
              1,
              "#f0f921"
             ]
            ],
            "type": "heatmap"
           }
          ],
          "heatmapgl": [
           {
            "colorbar": {
             "outlinewidth": 0,
             "ticks": ""
            },
            "colorscale": [
             [
              0,
              "#0d0887"
             ],
             [
              0.1111111111111111,
              "#46039f"
             ],
             [
              0.2222222222222222,
              "#7201a8"
             ],
             [
              0.3333333333333333,
              "#9c179e"
             ],
             [
              0.4444444444444444,
              "#bd3786"
             ],
             [
              0.5555555555555556,
              "#d8576b"
             ],
             [
              0.6666666666666666,
              "#ed7953"
             ],
             [
              0.7777777777777778,
              "#fb9f3a"
             ],
             [
              0.8888888888888888,
              "#fdca26"
             ],
             [
              1,
              "#f0f921"
             ]
            ],
            "type": "heatmapgl"
           }
          ],
          "histogram": [
           {
            "marker": {
             "pattern": {
              "fillmode": "overlay",
              "size": 10,
              "solidity": 0.2
             }
            },
            "type": "histogram"
           }
          ],
          "histogram2d": [
           {
            "colorbar": {
             "outlinewidth": 0,
             "ticks": ""
            },
            "colorscale": [
             [
              0,
              "#0d0887"
             ],
             [
              0.1111111111111111,
              "#46039f"
             ],
             [
              0.2222222222222222,
              "#7201a8"
             ],
             [
              0.3333333333333333,
              "#9c179e"
             ],
             [
              0.4444444444444444,
              "#bd3786"
             ],
             [
              0.5555555555555556,
              "#d8576b"
             ],
             [
              0.6666666666666666,
              "#ed7953"
             ],
             [
              0.7777777777777778,
              "#fb9f3a"
             ],
             [
              0.8888888888888888,
              "#fdca26"
             ],
             [
              1,
              "#f0f921"
             ]
            ],
            "type": "histogram2d"
           }
          ],
          "histogram2dcontour": [
           {
            "colorbar": {
             "outlinewidth": 0,
             "ticks": ""
            },
            "colorscale": [
             [
              0,
              "#0d0887"
             ],
             [
              0.1111111111111111,
              "#46039f"
             ],
             [
              0.2222222222222222,
              "#7201a8"
             ],
             [
              0.3333333333333333,
              "#9c179e"
             ],
             [
              0.4444444444444444,
              "#bd3786"
             ],
             [
              0.5555555555555556,
              "#d8576b"
             ],
             [
              0.6666666666666666,
              "#ed7953"
             ],
             [
              0.7777777777777778,
              "#fb9f3a"
             ],
             [
              0.8888888888888888,
              "#fdca26"
             ],
             [
              1,
              "#f0f921"
             ]
            ],
            "type": "histogram2dcontour"
           }
          ],
          "mesh3d": [
           {
            "colorbar": {
             "outlinewidth": 0,
             "ticks": ""
            },
            "type": "mesh3d"
           }
          ],
          "parcoords": [
           {
            "line": {
             "colorbar": {
              "outlinewidth": 0,
              "ticks": ""
             }
            },
            "type": "parcoords"
           }
          ],
          "pie": [
           {
            "automargin": true,
            "type": "pie"
           }
          ],
          "scatter": [
           {
            "fillpattern": {
             "fillmode": "overlay",
             "size": 10,
             "solidity": 0.2
            },
            "type": "scatter"
           }
          ],
          "scatter3d": [
           {
            "line": {
             "colorbar": {
              "outlinewidth": 0,
              "ticks": ""
             }
            },
            "marker": {
             "colorbar": {
              "outlinewidth": 0,
              "ticks": ""
             }
            },
            "type": "scatter3d"
           }
          ],
          "scattercarpet": [
           {
            "marker": {
             "colorbar": {
              "outlinewidth": 0,
              "ticks": ""
             }
            },
            "type": "scattercarpet"
           }
          ],
          "scattergeo": [
           {
            "marker": {
             "colorbar": {
              "outlinewidth": 0,
              "ticks": ""
             }
            },
            "type": "scattergeo"
           }
          ],
          "scattergl": [
           {
            "marker": {
             "colorbar": {
              "outlinewidth": 0,
              "ticks": ""
             }
            },
            "type": "scattergl"
           }
          ],
          "scattermapbox": [
           {
            "marker": {
             "colorbar": {
              "outlinewidth": 0,
              "ticks": ""
             }
            },
            "type": "scattermapbox"
           }
          ],
          "scatterpolar": [
           {
            "marker": {
             "colorbar": {
              "outlinewidth": 0,
              "ticks": ""
             }
            },
            "type": "scatterpolar"
           }
          ],
          "scatterpolargl": [
           {
            "marker": {
             "colorbar": {
              "outlinewidth": 0,
              "ticks": ""
             }
            },
            "type": "scatterpolargl"
           }
          ],
          "scatterternary": [
           {
            "marker": {
             "colorbar": {
              "outlinewidth": 0,
              "ticks": ""
             }
            },
            "type": "scatterternary"
           }
          ],
          "surface": [
           {
            "colorbar": {
             "outlinewidth": 0,
             "ticks": ""
            },
            "colorscale": [
             [
              0,
              "#0d0887"
             ],
             [
              0.1111111111111111,
              "#46039f"
             ],
             [
              0.2222222222222222,
              "#7201a8"
             ],
             [
              0.3333333333333333,
              "#9c179e"
             ],
             [
              0.4444444444444444,
              "#bd3786"
             ],
             [
              0.5555555555555556,
              "#d8576b"
             ],
             [
              0.6666666666666666,
              "#ed7953"
             ],
             [
              0.7777777777777778,
              "#fb9f3a"
             ],
             [
              0.8888888888888888,
              "#fdca26"
             ],
             [
              1,
              "#f0f921"
             ]
            ],
            "type": "surface"
           }
          ],
          "table": [
           {
            "cells": {
             "fill": {
              "color": "#EBF0F8"
             },
             "line": {
              "color": "white"
             }
            },
            "header": {
             "fill": {
              "color": "#C8D4E3"
             },
             "line": {
              "color": "white"
             }
            },
            "type": "table"
           }
          ]
         },
         "layout": {
          "annotationdefaults": {
           "arrowcolor": "#2a3f5f",
           "arrowhead": 0,
           "arrowwidth": 1
          },
          "autotypenumbers": "strict",
          "coloraxis": {
           "colorbar": {
            "outlinewidth": 0,
            "ticks": ""
           }
          },
          "colorscale": {
           "diverging": [
            [
             0,
             "#8e0152"
            ],
            [
             0.1,
             "#c51b7d"
            ],
            [
             0.2,
             "#de77ae"
            ],
            [
             0.3,
             "#f1b6da"
            ],
            [
             0.4,
             "#fde0ef"
            ],
            [
             0.5,
             "#f7f7f7"
            ],
            [
             0.6,
             "#e6f5d0"
            ],
            [
             0.7,
             "#b8e186"
            ],
            [
             0.8,
             "#7fbc41"
            ],
            [
             0.9,
             "#4d9221"
            ],
            [
             1,
             "#276419"
            ]
           ],
           "sequential": [
            [
             0,
             "#0d0887"
            ],
            [
             0.1111111111111111,
             "#46039f"
            ],
            [
             0.2222222222222222,
             "#7201a8"
            ],
            [
             0.3333333333333333,
             "#9c179e"
            ],
            [
             0.4444444444444444,
             "#bd3786"
            ],
            [
             0.5555555555555556,
             "#d8576b"
            ],
            [
             0.6666666666666666,
             "#ed7953"
            ],
            [
             0.7777777777777778,
             "#fb9f3a"
            ],
            [
             0.8888888888888888,
             "#fdca26"
            ],
            [
             1,
             "#f0f921"
            ]
           ],
           "sequentialminus": [
            [
             0,
             "#0d0887"
            ],
            [
             0.1111111111111111,
             "#46039f"
            ],
            [
             0.2222222222222222,
             "#7201a8"
            ],
            [
             0.3333333333333333,
             "#9c179e"
            ],
            [
             0.4444444444444444,
             "#bd3786"
            ],
            [
             0.5555555555555556,
             "#d8576b"
            ],
            [
             0.6666666666666666,
             "#ed7953"
            ],
            [
             0.7777777777777778,
             "#fb9f3a"
            ],
            [
             0.8888888888888888,
             "#fdca26"
            ],
            [
             1,
             "#f0f921"
            ]
           ]
          },
          "colorway": [
           "#636efa",
           "#EF553B",
           "#00cc96",
           "#ab63fa",
           "#FFA15A",
           "#19d3f3",
           "#FF6692",
           "#B6E880",
           "#FF97FF",
           "#FECB52"
          ],
          "font": {
           "color": "#2a3f5f"
          },
          "geo": {
           "bgcolor": "white",
           "lakecolor": "white",
           "landcolor": "#E5ECF6",
           "showlakes": true,
           "showland": true,
           "subunitcolor": "white"
          },
          "hoverlabel": {
           "align": "left"
          },
          "hovermode": "closest",
          "mapbox": {
           "style": "light"
          },
          "paper_bgcolor": "white",
          "plot_bgcolor": "#E5ECF6",
          "polar": {
           "angularaxis": {
            "gridcolor": "white",
            "linecolor": "white",
            "ticks": ""
           },
           "bgcolor": "#E5ECF6",
           "radialaxis": {
            "gridcolor": "white",
            "linecolor": "white",
            "ticks": ""
           }
          },
          "scene": {
           "xaxis": {
            "backgroundcolor": "#E5ECF6",
            "gridcolor": "white",
            "gridwidth": 2,
            "linecolor": "white",
            "showbackground": true,
            "ticks": "",
            "zerolinecolor": "white"
           },
           "yaxis": {
            "backgroundcolor": "#E5ECF6",
            "gridcolor": "white",
            "gridwidth": 2,
            "linecolor": "white",
            "showbackground": true,
            "ticks": "",
            "zerolinecolor": "white"
           },
           "zaxis": {
            "backgroundcolor": "#E5ECF6",
            "gridcolor": "white",
            "gridwidth": 2,
            "linecolor": "white",
            "showbackground": true,
            "ticks": "",
            "zerolinecolor": "white"
           }
          },
          "shapedefaults": {
           "line": {
            "color": "#2a3f5f"
           }
          },
          "ternary": {
           "aaxis": {
            "gridcolor": "white",
            "linecolor": "white",
            "ticks": ""
           },
           "baxis": {
            "gridcolor": "white",
            "linecolor": "white",
            "ticks": ""
           },
           "bgcolor": "#E5ECF6",
           "caxis": {
            "gridcolor": "white",
            "linecolor": "white",
            "ticks": ""
           }
          },
          "title": {
           "x": 0.05
          },
          "xaxis": {
           "automargin": true,
           "gridcolor": "white",
           "linecolor": "white",
           "ticks": "",
           "title": {
            "standoff": 15
           },
           "zerolinecolor": "white",
           "zerolinewidth": 2
          },
          "yaxis": {
           "automargin": true,
           "gridcolor": "white",
           "linecolor": "white",
           "ticks": "",
           "title": {
            "standoff": 15
           },
           "zerolinecolor": "white",
           "zerolinewidth": 2
          }
         }
        },
        "title": {
         "text": "Country wise airport"
        },
        "xaxis": {
         "anchor": "y",
         "domain": [
          0,
          1
         ],
         "title": {
          "text": "Country of Nationality"
         }
        },
        "yaxis": {
         "anchor": "x",
         "domain": [
          0,
          1
         ],
         "title": {
          "text": "value"
         }
        }
       }
      }
     },
     "metadata": {},
     "output_type": "display_data"
    }
   ],
   "source": [
    "px.line(df,df.index,['2019 Delhi (Airport)', ' 2019 Mumbai (Airport)',\n",
    "       ' 2019 Chennai (Airport)', '2019 Calicut (Airport)',\n",
    "       '2019 Benguluru (Airport)', '2019 Kolkata (Airport)',\n",
    "       '2019 Hyderabad (Airport)', '2019 Cochin (Airport)'], title='Country wise airport')"
   ]
  },
  {
   "cell_type": "code",
   "execution_count": 54,
   "metadata": {},
   "outputs": [
    {
     "data": {
      "application/vnd.plotly.v1+json": {
       "config": {
        "plotlyServerURL": "https://plot.ly"
       },
       "data": [
        {
         "hovertemplate": "variable=2020 Delhi (Airport)<br>Country of Nationality=%{x}<br>value=%{y}<extra></extra>",
         "legendgroup": "2020 Delhi (Airport)",
         "line": {
          "color": "#636efa",
          "dash": "solid"
         },
         "marker": {
          "symbol": "circle"
         },
         "mode": "lines",
         "name": "2020 Delhi (Airport)",
         "orientation": "v",
         "showlegend": true,
         "type": "scatter",
         "x": [
          "Canada",
          "United States Of America",
          "Argentina",
          "Brazil",
          "Mexico",
          "Austria",
          "Belgium",
          "Denmark",
          "Finland",
          "France",
          "Germany",
          "Greece",
          "Ireland",
          "Italy",
          "Netherlands",
          "Norway",
          "Portugal",
          "Spain",
          "Sweden",
          "Switzerland",
          "United Kingdom",
          "Czech Rep.",
          "Hungary",
          "Kazakhstan",
          "Poland",
          "Russian Federation",
          "Ukraine",
          "Egypt",
          "Kenya",
          "Mauritius",
          "Nigeria",
          "South Africa",
          "Sudan",
          "Tanzania",
          "Bahrain",
          "Iraq",
          "Israel",
          "Oman",
          "Saudi Arabia",
          "Turkey",
          "United Arab Emirates",
          "Yemen",
          "Afghanistan",
          "Bangladesh",
          "Bhutan",
          "Iran",
          "Maldives",
          "Nepal",
          "Pakistan",
          "Sri Lanka",
          "Indonesia",
          "Malaysia",
          "Myanmar",
          "Philippines",
          "Singapore",
          "Thailand",
          "Vietnam",
          "China",
          "Japan",
          "Korea (Republic Of ",
          "Republic Of China Taiwan",
          "Australia",
          "New Zealand"
         ],
         "xaxis": "x",
         "y": [
          71.7,
          40.1,
          30.4,
          32.8,
          36.8,
          63.4,
          34.5,
          49.8,
          61.4,
          45.9,
          41.7,
          71.4,
          33.2,
          69.6,
          37.1,
          48,
          82.5,
          68.5,
          51,
          41.4,
          33.8,
          47.8,
          56.3,
          93.9,
          60.7,
          79.9,
          71.6,
          22.6,
          13.4,
          31.7,
          44.5,
          16.6,
          42.7,
          8.7,
          15.8,
          34.3,
          63.6,
          9.9,
          21,
          53.5,
          14.9,
          28.6,
          85.8,
          8.7,
          46.3,
          52.8,
          15.1,
          85.5,
          2.6,
          17.7,
          28.2,
          12.5,
          9.1,
          31.9,
          14.5,
          28.6,
          30.5,
          43.6,
          48.5,
          53.4,
          33.1,
          39,
          48.7
         ],
         "yaxis": "y"
        },
        {
         "hovertemplate": "variable= 2020 Mumbai (Airport)<br>Country of Nationality=%{x}<br>value=%{y}<extra></extra>",
         "legendgroup": " 2020 Mumbai (Airport)",
         "line": {
          "color": "#EF553B",
          "dash": "solid"
         },
         "marker": {
          "symbol": "circle"
         },
         "mode": "lines",
         "name": " 2020 Mumbai (Airport)",
         "orientation": "v",
         "showlegend": true,
         "type": "scatter",
         "x": [
          "Canada",
          "United States Of America",
          "Argentina",
          "Brazil",
          "Mexico",
          "Austria",
          "Belgium",
          "Denmark",
          "Finland",
          "France",
          "Germany",
          "Greece",
          "Ireland",
          "Italy",
          "Netherlands",
          "Norway",
          "Portugal",
          "Spain",
          "Sweden",
          "Switzerland",
          "United Kingdom",
          "Czech Rep.",
          "Hungary",
          "Kazakhstan",
          "Poland",
          "Russian Federation",
          "Ukraine",
          "Egypt",
          "Kenya",
          "Mauritius",
          "Nigeria",
          "South Africa",
          "Sudan",
          "Tanzania",
          "Bahrain",
          "Iraq",
          "Israel",
          "Oman",
          "Saudi Arabia",
          "Turkey",
          "United Arab Emirates",
          "Yemen",
          "Afghanistan",
          "Bangladesh",
          "Bhutan",
          "Iran",
          "Maldives",
          "Nepal",
          "Pakistan",
          "Sri Lanka",
          "Indonesia",
          "Malaysia",
          "Myanmar",
          "Philippines",
          "Singapore",
          "Thailand",
          "Vietnam",
          "China",
          "Japan",
          "Korea (Republic Of ",
          "Republic Of China Taiwan",
          "Australia",
          "New Zealand"
         ],
         "xaxis": "x",
         "y": [
          10.5,
          22.3,
          34.7,
          46.1,
          36.3,
          11.7,
          39,
          20.1,
          19.4,
          20.8,
          22.7,
          15.3,
          22.4,
          8,
          27.1,
          25.5,
          10,
          16.6,
          14.4,
          28.4,
          20.6,
          19.4,
          18.5,
          1.4,
          18.7,
          7.6,
          5.9,
          55.1,
          56.1,
          52.3,
          38.6,
          58.9,
          27.7,
          76.9,
          11.6,
          25.6,
          24,
          16.8,
          20.5,
          37.6,
          15.1,
          22.9,
          1.8,
          2.4,
          0.2,
          39.2,
          28.3,
          4.6,
          4.8,
          14.9,
          19.8,
          6,
          2.2,
          15.6,
          13.3,
          21.1,
          8.5,
          19.7,
          26.7,
          21.8,
          20.5,
          13,
          19.5
         ],
         "yaxis": "y"
        },
        {
         "hovertemplate": "variable= 2020 Chennai (Airport)<br>Country of Nationality=%{x}<br>value=%{y}<extra></extra>",
         "legendgroup": " 2020 Chennai (Airport)",
         "line": {
          "color": "#00cc96",
          "dash": "solid"
         },
         "marker": {
          "symbol": "circle"
         },
         "mode": "lines",
         "name": " 2020 Chennai (Airport)",
         "orientation": "v",
         "showlegend": true,
         "type": "scatter",
         "x": [
          "Canada",
          "United States Of America",
          "Argentina",
          "Brazil",
          "Mexico",
          "Austria",
          "Belgium",
          "Denmark",
          "Finland",
          "France",
          "Germany",
          "Greece",
          "Ireland",
          "Italy",
          "Netherlands",
          "Norway",
          "Portugal",
          "Spain",
          "Sweden",
          "Switzerland",
          "United Kingdom",
          "Czech Rep.",
          "Hungary",
          "Kazakhstan",
          "Poland",
          "Russian Federation",
          "Ukraine",
          "Egypt",
          "Kenya",
          "Mauritius",
          "Nigeria",
          "South Africa",
          "Sudan",
          "Tanzania",
          "Bahrain",
          "Iraq",
          "Israel",
          "Oman",
          "Saudi Arabia",
          "Turkey",
          "United Arab Emirates",
          "Yemen",
          "Afghanistan",
          "Bangladesh",
          "Bhutan",
          "Iran",
          "Maldives",
          "Nepal",
          "Pakistan",
          "Sri Lanka",
          "Indonesia",
          "Malaysia",
          "Myanmar",
          "Philippines",
          "Singapore",
          "Thailand",
          "Vietnam",
          "China",
          "Japan",
          "Korea (Republic Of ",
          "Republic Of China Taiwan",
          "Australia",
          "New Zealand"
         ],
         "xaxis": "x",
         "y": [
          2.6,
          7.1,
          6.4,
          4.4,
          7.2,
          3.2,
          5.7,
          8.3,
          5.3,
          9.4,
          5.7,
          2.1,
          5.6,
          1.4,
          7.1,
          5.5,
          1.1,
          2,
          7.5,
          4.3,
          5.9,
          4.5,
          4.9,
          0.5,
          4.7,
          2.6,
          4.7,
          6.2,
          3,
          8.5,
          3.2,
          3.8,
          5.9,
          2.2,
          6.9,
          8.1,
          0.9,
          9.1,
          4.7,
          1.7,
          6.1,
          7.4,
          1.4,
          0.8,
          0,
          0.6,
          4.3,
          0.3,
          0.4,
          37.9,
          9.3,
          22.5,
          2.4,
          13.2,
          21,
          8.4,
          5,
          6.6,
          8.8,
          6,
          12.7,
          7.2,
          5.2
         ],
         "yaxis": "y"
        },
        {
         "hovertemplate": "variable=2020 Calicut (Airport)<br>Country of Nationality=%{x}<br>value=%{y}<extra></extra>",
         "legendgroup": "2020 Calicut (Airport)",
         "line": {
          "color": "#ab63fa",
          "dash": "solid"
         },
         "marker": {
          "symbol": "circle"
         },
         "mode": "lines",
         "name": "2020 Calicut (Airport)",
         "orientation": "v",
         "showlegend": true,
         "type": "scatter",
         "x": [
          "Canada",
          "United States Of America",
          "Argentina",
          "Brazil",
          "Mexico",
          "Austria",
          "Belgium",
          "Denmark",
          "Finland",
          "France",
          "Germany",
          "Greece",
          "Ireland",
          "Italy",
          "Netherlands",
          "Norway",
          "Portugal",
          "Spain",
          "Sweden",
          "Switzerland",
          "United Kingdom",
          "Czech Rep.",
          "Hungary",
          "Kazakhstan",
          "Poland",
          "Russian Federation",
          "Ukraine",
          "Egypt",
          "Kenya",
          "Mauritius",
          "Nigeria",
          "South Africa",
          "Sudan",
          "Tanzania",
          "Bahrain",
          "Iraq",
          "Israel",
          "Oman",
          "Saudi Arabia",
          "Turkey",
          "United Arab Emirates",
          "Yemen",
          "Afghanistan",
          "Bangladesh",
          "Bhutan",
          "Iran",
          "Maldives",
          "Nepal",
          "Pakistan",
          "Sri Lanka",
          "Indonesia",
          "Malaysia",
          "Myanmar",
          "Philippines",
          "Singapore",
          "Thailand",
          "Vietnam",
          "China",
          "Japan",
          "Korea (Republic Of ",
          "Republic Of China Taiwan",
          "Australia",
          "New Zealand"
         ],
         "xaxis": "x",
         "y": [
          0.2,
          0.1,
          0,
          0.1,
          0.1,
          0.9,
          0.25,
          0.1,
          0.4,
          0.2,
          0.4,
          0.1,
          0.5,
          0.1,
          0.2,
          0.2,
          0,
          0.1,
          0.4,
          0.2,
          0.6,
          0.6,
          0.9,
          0.3,
          0.2,
          0.2,
          0.9,
          0.4,
          0.3,
          0,
          0.2,
          0.2,
          1.1,
          0.2,
          15.2,
          1.3,
          1,
          11.2,
          12.9,
          0.1,
          11.3,
          6.3,
          0.7,
          0,
          0.1,
          0.2,
          0,
          0,
          0.1,
          0,
          0.1,
          0,
          0,
          0,
          0,
          0,
          0,
          0,
          0,
          0.1,
          0.1,
          0.1,
          0
         ],
         "yaxis": "y"
        },
        {
         "hovertemplate": "variable=2020 Benguluru (Airport)<br>Country of Nationality=%{x}<br>value=%{y}<extra></extra>",
         "legendgroup": "2020 Benguluru (Airport)",
         "line": {
          "color": "#FFA15A",
          "dash": "solid"
         },
         "marker": {
          "symbol": "circle"
         },
         "mode": "lines",
         "name": "2020 Benguluru (Airport)",
         "orientation": "v",
         "showlegend": true,
         "type": "scatter",
         "x": [
          "Canada",
          "United States Of America",
          "Argentina",
          "Brazil",
          "Mexico",
          "Austria",
          "Belgium",
          "Denmark",
          "Finland",
          "France",
          "Germany",
          "Greece",
          "Ireland",
          "Italy",
          "Netherlands",
          "Norway",
          "Portugal",
          "Spain",
          "Sweden",
          "Switzerland",
          "United Kingdom",
          "Czech Rep.",
          "Hungary",
          "Kazakhstan",
          "Poland",
          "Russian Federation",
          "Ukraine",
          "Egypt",
          "Kenya",
          "Mauritius",
          "Nigeria",
          "South Africa",
          "Sudan",
          "Tanzania",
          "Bahrain",
          "Iraq",
          "Israel",
          "Oman",
          "Saudi Arabia",
          "Turkey",
          "United Arab Emirates",
          "Yemen",
          "Afghanistan",
          "Bangladesh",
          "Bhutan",
          "Iran",
          "Maldives",
          "Nepal",
          "Pakistan",
          "Sri Lanka",
          "Indonesia",
          "Malaysia",
          "Myanmar",
          "Philippines",
          "Singapore",
          "Thailand",
          "Vietnam",
          "China",
          "Japan",
          "Korea (Republic Of ",
          "Republic Of China Taiwan",
          "Australia",
          "New Zealand"
         ],
         "xaxis": "x",
         "y": [
          3.9,
          8.7,
          11.5,
          4.5,
          12.1,
          6.2,
          10.1,
          13.3,
          7.5,
          14.2,
          18,
          3.3,
          19.4,
          4.1,
          19.5,
          11,
          3.3,
          5.6,
          18,
          12.4,
          8.8,
          10.6,
          10,
          0.4,
          9.7,
          1.6,
          1,
          5.1,
          2.7,
          6,
          5.7,
          5.1,
          3.3,
          2.2,
          3,
          1.7,
          0.8,
          2.1,
          3.2,
          3.2,
          3.3,
          5.2,
          0.4,
          0,
          0.1,
          1.5,
          17.6,
          2.8,
          0.1,
          15.9,
          10.3,
          9.6,
          1.3,
          6.6,
          9.2,
          11,
          5.6,
          7.1,
          6.8,
          7.5,
          10.2,
          7.2,
          5.9
         ],
         "yaxis": "y"
        },
        {
         "hovertemplate": "variable=2020 Kolkata (Airport)<br>Country of Nationality=%{x}<br>value=%{y}<extra></extra>",
         "legendgroup": "2020 Kolkata (Airport)",
         "line": {
          "color": "#19d3f3",
          "dash": "solid"
         },
         "marker": {
          "symbol": "circle"
         },
         "mode": "lines",
         "name": "2020 Kolkata (Airport)",
         "orientation": "v",
         "showlegend": true,
         "type": "scatter",
         "x": [
          "Canada",
          "United States Of America",
          "Argentina",
          "Brazil",
          "Mexico",
          "Austria",
          "Belgium",
          "Denmark",
          "Finland",
          "France",
          "Germany",
          "Greece",
          "Ireland",
          "Italy",
          "Netherlands",
          "Norway",
          "Portugal",
          "Spain",
          "Sweden",
          "Switzerland",
          "United Kingdom",
          "Czech Rep.",
          "Hungary",
          "Kazakhstan",
          "Poland",
          "Russian Federation",
          "Ukraine",
          "Egypt",
          "Kenya",
          "Mauritius",
          "Nigeria",
          "South Africa",
          "Sudan",
          "Tanzania",
          "Bahrain",
          "Iraq",
          "Israel",
          "Oman",
          "Saudi Arabia",
          "Turkey",
          "United Arab Emirates",
          "Yemen",
          "Afghanistan",
          "Bangladesh",
          "Bhutan",
          "Iran",
          "Maldives",
          "Nepal",
          "Pakistan",
          "Sri Lanka",
          "Indonesia",
          "Malaysia",
          "Myanmar",
          "Philippines",
          "Singapore",
          "Thailand",
          "Vietnam",
          "China",
          "Japan",
          "Korea (Republic Of ",
          "Republic Of China Taiwan",
          "Australia",
          "New Zealand"
         ],
         "xaxis": "x",
         "y": [
          0.5,
          1.9,
          2,
          0.6,
          1.5,
          1.9,
          1.8,
          2.1,
          1.5,
          1.5,
          1.7,
          2.9,
          0.9,
          0.6,
          2.2,
          3.2,
          0.4,
          0.9,
          2.3,
          2.8,
          2.4,
          2.8,
          1.1,
          0.2,
          0.8,
          1.3,
          0.3,
          1.6,
          0.6,
          0.4,
          1.7,
          1.7,
          1.4,
          0.5,
          0.9,
          1.6,
          1.1,
          0.5,
          1.7,
          0.9,
          1.3,
          0.9,
          2,
          17.4,
          38.1,
          0.4,
          1,
          5.7,
          0,
          1.2,
          8.1,
          6.5,
          71.4,
          4,
          5.4,
          16.1,
          42,
          14.2,
          2.9,
          3.5,
          7.7,
          2.2,
          1.5
         ],
         "yaxis": "y"
        },
        {
         "hovertemplate": "variable=2020 Hyderabad (Airport)<br>Country of Nationality=%{x}<br>value=%{y}<extra></extra>",
         "legendgroup": "2020 Hyderabad (Airport)",
         "line": {
          "color": "#FF6692",
          "dash": "solid"
         },
         "marker": {
          "symbol": "circle"
         },
         "mode": "lines",
         "name": "2020 Hyderabad (Airport)",
         "orientation": "v",
         "showlegend": true,
         "type": "scatter",
         "x": [
          "Canada",
          "United States Of America",
          "Argentina",
          "Brazil",
          "Mexico",
          "Austria",
          "Belgium",
          "Denmark",
          "Finland",
          "France",
          "Germany",
          "Greece",
          "Ireland",
          "Italy",
          "Netherlands",
          "Norway",
          "Portugal",
          "Spain",
          "Sweden",
          "Switzerland",
          "United Kingdom",
          "Czech Rep.",
          "Hungary",
          "Kazakhstan",
          "Poland",
          "Russian Federation",
          "Ukraine",
          "Egypt",
          "Kenya",
          "Mauritius",
          "Nigeria",
          "South Africa",
          "Sudan",
          "Tanzania",
          "Bahrain",
          "Iraq",
          "Israel",
          "Oman",
          "Saudi Arabia",
          "Turkey",
          "United Arab Emirates",
          "Yemen",
          "Afghanistan",
          "Bangladesh",
          "Bhutan",
          "Iran",
          "Maldives",
          "Nepal",
          "Pakistan",
          "Sri Lanka",
          "Indonesia",
          "Malaysia",
          "Myanmar",
          "Philippines",
          "Singapore",
          "Thailand",
          "Vietnam",
          "China",
          "Japan",
          "Korea (Republic Of ",
          "Republic Of China Taiwan",
          "Australia",
          "New Zealand"
         ],
         "xaxis": "x",
         "y": [
          2.6,
          11.7,
          3.7,
          3.1,
          2.8,
          2.4,
          3.7,
          2.5,
          2.7,
          2.6,
          3.4,
          2.9,
          3.9,
          0.6,
          3.6,
          2.3,
          0.8,
          1.3,
          2.9,
          4.7,
          7.1,
          4.7,
          2.4,
          0.4,
          1.6,
          1.1,
          1.6,
          3.2,
          3.3,
          0.5,
          2.1,
          5,
          6,
          3.9,
          7.5,
          6.3,
          1.1,
          6.6,
          10.2,
          1,
          6.3,
          7.6,
          0.9,
          0.1,
          0,
          1.9,
          0.7,
          0,
          0.1,
          3.6,
          6.7,
          4.3,
          1.1,
          7.5,
          3.7,
          2.7,
          2,
          3.5,
          1.9,
          2,
          4.3,
          8.9,
          3.9
         ],
         "yaxis": "y"
        },
        {
         "hovertemplate": "variable=2020 Cochin (Airport)<br>Country of Nationality=%{x}<br>value=%{y}<extra></extra>",
         "legendgroup": "2020 Cochin (Airport)",
         "line": {
          "color": "#B6E880",
          "dash": "solid"
         },
         "marker": {
          "symbol": "circle"
         },
         "mode": "lines",
         "name": "2020 Cochin (Airport)",
         "orientation": "v",
         "showlegend": true,
         "type": "scatter",
         "x": [
          "Canada",
          "United States Of America",
          "Argentina",
          "Brazil",
          "Mexico",
          "Austria",
          "Belgium",
          "Denmark",
          "Finland",
          "France",
          "Germany",
          "Greece",
          "Ireland",
          "Italy",
          "Netherlands",
          "Norway",
          "Portugal",
          "Spain",
          "Sweden",
          "Switzerland",
          "United Kingdom",
          "Czech Rep.",
          "Hungary",
          "Kazakhstan",
          "Poland",
          "Russian Federation",
          "Ukraine",
          "Egypt",
          "Kenya",
          "Mauritius",
          "Nigeria",
          "South Africa",
          "Sudan",
          "Tanzania",
          "Bahrain",
          "Iraq",
          "Israel",
          "Oman",
          "Saudi Arabia",
          "Turkey",
          "United Arab Emirates",
          "Yemen",
          "Afghanistan",
          "Bangladesh",
          "Bhutan",
          "Iran",
          "Maldives",
          "Nepal",
          "Pakistan",
          "Sri Lanka",
          "Indonesia",
          "Malaysia",
          "Myanmar",
          "Philippines",
          "Singapore",
          "Thailand",
          "Vietnam",
          "China",
          "Japan",
          "Korea (Republic Of ",
          "Republic Of China Taiwan",
          "Australia",
          "New Zealand"
         ],
         "xaxis": "x",
         "y": [
          2.5,
          2,
          5.3,
          2.6,
          0.5,
          3.9,
          2.9,
          1.2,
          0.8,
          1.7,
          3.4,
          0.7,
          12.5,
          4.3,
          1.4,
          2.2,
          0.5,
          1.8,
          1.4,
          4.2,
          6.8,
          7.2,
          5,
          1.9,
          1,
          1.3,
          1.4,
          1.8,
          2,
          0.2,
          1.8,
          4.3,
          2.8,
          1.8,
          19.2,
          3.8,
          5.6,
          12.9,
          16.8,
          14.2,
          11.3,
          12.9,
          1,
          0,
          0,
          0.6,
          17.2,
          0.1,
          0.1,
          1.3,
          4.5,
          8.3,
          0.7,
          2.5,
          2.6,
          1.8,
          1.8,
          1.7,
          1.5,
          1.4,
          1.6,
          2.2,
          9
         ],
         "yaxis": "y"
        }
       ],
       "layout": {
        "legend": {
         "title": {
          "text": "variable"
         },
         "tracegroupgap": 0
        },
        "template": {
         "data": {
          "bar": [
           {
            "error_x": {
             "color": "#2a3f5f"
            },
            "error_y": {
             "color": "#2a3f5f"
            },
            "marker": {
             "line": {
              "color": "#E5ECF6",
              "width": 0.5
             },
             "pattern": {
              "fillmode": "overlay",
              "size": 10,
              "solidity": 0.2
             }
            },
            "type": "bar"
           }
          ],
          "barpolar": [
           {
            "marker": {
             "line": {
              "color": "#E5ECF6",
              "width": 0.5
             },
             "pattern": {
              "fillmode": "overlay",
              "size": 10,
              "solidity": 0.2
             }
            },
            "type": "barpolar"
           }
          ],
          "carpet": [
           {
            "aaxis": {
             "endlinecolor": "#2a3f5f",
             "gridcolor": "white",
             "linecolor": "white",
             "minorgridcolor": "white",
             "startlinecolor": "#2a3f5f"
            },
            "baxis": {
             "endlinecolor": "#2a3f5f",
             "gridcolor": "white",
             "linecolor": "white",
             "minorgridcolor": "white",
             "startlinecolor": "#2a3f5f"
            },
            "type": "carpet"
           }
          ],
          "choropleth": [
           {
            "colorbar": {
             "outlinewidth": 0,
             "ticks": ""
            },
            "type": "choropleth"
           }
          ],
          "contour": [
           {
            "colorbar": {
             "outlinewidth": 0,
             "ticks": ""
            },
            "colorscale": [
             [
              0,
              "#0d0887"
             ],
             [
              0.1111111111111111,
              "#46039f"
             ],
             [
              0.2222222222222222,
              "#7201a8"
             ],
             [
              0.3333333333333333,
              "#9c179e"
             ],
             [
              0.4444444444444444,
              "#bd3786"
             ],
             [
              0.5555555555555556,
              "#d8576b"
             ],
             [
              0.6666666666666666,
              "#ed7953"
             ],
             [
              0.7777777777777778,
              "#fb9f3a"
             ],
             [
              0.8888888888888888,
              "#fdca26"
             ],
             [
              1,
              "#f0f921"
             ]
            ],
            "type": "contour"
           }
          ],
          "contourcarpet": [
           {
            "colorbar": {
             "outlinewidth": 0,
             "ticks": ""
            },
            "type": "contourcarpet"
           }
          ],
          "heatmap": [
           {
            "colorbar": {
             "outlinewidth": 0,
             "ticks": ""
            },
            "colorscale": [
             [
              0,
              "#0d0887"
             ],
             [
              0.1111111111111111,
              "#46039f"
             ],
             [
              0.2222222222222222,
              "#7201a8"
             ],
             [
              0.3333333333333333,
              "#9c179e"
             ],
             [
              0.4444444444444444,
              "#bd3786"
             ],
             [
              0.5555555555555556,
              "#d8576b"
             ],
             [
              0.6666666666666666,
              "#ed7953"
             ],
             [
              0.7777777777777778,
              "#fb9f3a"
             ],
             [
              0.8888888888888888,
              "#fdca26"
             ],
             [
              1,
              "#f0f921"
             ]
            ],
            "type": "heatmap"
           }
          ],
          "heatmapgl": [
           {
            "colorbar": {
             "outlinewidth": 0,
             "ticks": ""
            },
            "colorscale": [
             [
              0,
              "#0d0887"
             ],
             [
              0.1111111111111111,
              "#46039f"
             ],
             [
              0.2222222222222222,
              "#7201a8"
             ],
             [
              0.3333333333333333,
              "#9c179e"
             ],
             [
              0.4444444444444444,
              "#bd3786"
             ],
             [
              0.5555555555555556,
              "#d8576b"
             ],
             [
              0.6666666666666666,
              "#ed7953"
             ],
             [
              0.7777777777777778,
              "#fb9f3a"
             ],
             [
              0.8888888888888888,
              "#fdca26"
             ],
             [
              1,
              "#f0f921"
             ]
            ],
            "type": "heatmapgl"
           }
          ],
          "histogram": [
           {
            "marker": {
             "pattern": {
              "fillmode": "overlay",
              "size": 10,
              "solidity": 0.2
             }
            },
            "type": "histogram"
           }
          ],
          "histogram2d": [
           {
            "colorbar": {
             "outlinewidth": 0,
             "ticks": ""
            },
            "colorscale": [
             [
              0,
              "#0d0887"
             ],
             [
              0.1111111111111111,
              "#46039f"
             ],
             [
              0.2222222222222222,
              "#7201a8"
             ],
             [
              0.3333333333333333,
              "#9c179e"
             ],
             [
              0.4444444444444444,
              "#bd3786"
             ],
             [
              0.5555555555555556,
              "#d8576b"
             ],
             [
              0.6666666666666666,
              "#ed7953"
             ],
             [
              0.7777777777777778,
              "#fb9f3a"
             ],
             [
              0.8888888888888888,
              "#fdca26"
             ],
             [
              1,
              "#f0f921"
             ]
            ],
            "type": "histogram2d"
           }
          ],
          "histogram2dcontour": [
           {
            "colorbar": {
             "outlinewidth": 0,
             "ticks": ""
            },
            "colorscale": [
             [
              0,
              "#0d0887"
             ],
             [
              0.1111111111111111,
              "#46039f"
             ],
             [
              0.2222222222222222,
              "#7201a8"
             ],
             [
              0.3333333333333333,
              "#9c179e"
             ],
             [
              0.4444444444444444,
              "#bd3786"
             ],
             [
              0.5555555555555556,
              "#d8576b"
             ],
             [
              0.6666666666666666,
              "#ed7953"
             ],
             [
              0.7777777777777778,
              "#fb9f3a"
             ],
             [
              0.8888888888888888,
              "#fdca26"
             ],
             [
              1,
              "#f0f921"
             ]
            ],
            "type": "histogram2dcontour"
           }
          ],
          "mesh3d": [
           {
            "colorbar": {
             "outlinewidth": 0,
             "ticks": ""
            },
            "type": "mesh3d"
           }
          ],
          "parcoords": [
           {
            "line": {
             "colorbar": {
              "outlinewidth": 0,
              "ticks": ""
             }
            },
            "type": "parcoords"
           }
          ],
          "pie": [
           {
            "automargin": true,
            "type": "pie"
           }
          ],
          "scatter": [
           {
            "fillpattern": {
             "fillmode": "overlay",
             "size": 10,
             "solidity": 0.2
            },
            "type": "scatter"
           }
          ],
          "scatter3d": [
           {
            "line": {
             "colorbar": {
              "outlinewidth": 0,
              "ticks": ""
             }
            },
            "marker": {
             "colorbar": {
              "outlinewidth": 0,
              "ticks": ""
             }
            },
            "type": "scatter3d"
           }
          ],
          "scattercarpet": [
           {
            "marker": {
             "colorbar": {
              "outlinewidth": 0,
              "ticks": ""
             }
            },
            "type": "scattercarpet"
           }
          ],
          "scattergeo": [
           {
            "marker": {
             "colorbar": {
              "outlinewidth": 0,
              "ticks": ""
             }
            },
            "type": "scattergeo"
           }
          ],
          "scattergl": [
           {
            "marker": {
             "colorbar": {
              "outlinewidth": 0,
              "ticks": ""
             }
            },
            "type": "scattergl"
           }
          ],
          "scattermapbox": [
           {
            "marker": {
             "colorbar": {
              "outlinewidth": 0,
              "ticks": ""
             }
            },
            "type": "scattermapbox"
           }
          ],
          "scatterpolar": [
           {
            "marker": {
             "colorbar": {
              "outlinewidth": 0,
              "ticks": ""
             }
            },
            "type": "scatterpolar"
           }
          ],
          "scatterpolargl": [
           {
            "marker": {
             "colorbar": {
              "outlinewidth": 0,
              "ticks": ""
             }
            },
            "type": "scatterpolargl"
           }
          ],
          "scatterternary": [
           {
            "marker": {
             "colorbar": {
              "outlinewidth": 0,
              "ticks": ""
             }
            },
            "type": "scatterternary"
           }
          ],
          "surface": [
           {
            "colorbar": {
             "outlinewidth": 0,
             "ticks": ""
            },
            "colorscale": [
             [
              0,
              "#0d0887"
             ],
             [
              0.1111111111111111,
              "#46039f"
             ],
             [
              0.2222222222222222,
              "#7201a8"
             ],
             [
              0.3333333333333333,
              "#9c179e"
             ],
             [
              0.4444444444444444,
              "#bd3786"
             ],
             [
              0.5555555555555556,
              "#d8576b"
             ],
             [
              0.6666666666666666,
              "#ed7953"
             ],
             [
              0.7777777777777778,
              "#fb9f3a"
             ],
             [
              0.8888888888888888,
              "#fdca26"
             ],
             [
              1,
              "#f0f921"
             ]
            ],
            "type": "surface"
           }
          ],
          "table": [
           {
            "cells": {
             "fill": {
              "color": "#EBF0F8"
             },
             "line": {
              "color": "white"
             }
            },
            "header": {
             "fill": {
              "color": "#C8D4E3"
             },
             "line": {
              "color": "white"
             }
            },
            "type": "table"
           }
          ]
         },
         "layout": {
          "annotationdefaults": {
           "arrowcolor": "#2a3f5f",
           "arrowhead": 0,
           "arrowwidth": 1
          },
          "autotypenumbers": "strict",
          "coloraxis": {
           "colorbar": {
            "outlinewidth": 0,
            "ticks": ""
           }
          },
          "colorscale": {
           "diverging": [
            [
             0,
             "#8e0152"
            ],
            [
             0.1,
             "#c51b7d"
            ],
            [
             0.2,
             "#de77ae"
            ],
            [
             0.3,
             "#f1b6da"
            ],
            [
             0.4,
             "#fde0ef"
            ],
            [
             0.5,
             "#f7f7f7"
            ],
            [
             0.6,
             "#e6f5d0"
            ],
            [
             0.7,
             "#b8e186"
            ],
            [
             0.8,
             "#7fbc41"
            ],
            [
             0.9,
             "#4d9221"
            ],
            [
             1,
             "#276419"
            ]
           ],
           "sequential": [
            [
             0,
             "#0d0887"
            ],
            [
             0.1111111111111111,
             "#46039f"
            ],
            [
             0.2222222222222222,
             "#7201a8"
            ],
            [
             0.3333333333333333,
             "#9c179e"
            ],
            [
             0.4444444444444444,
             "#bd3786"
            ],
            [
             0.5555555555555556,
             "#d8576b"
            ],
            [
             0.6666666666666666,
             "#ed7953"
            ],
            [
             0.7777777777777778,
             "#fb9f3a"
            ],
            [
             0.8888888888888888,
             "#fdca26"
            ],
            [
             1,
             "#f0f921"
            ]
           ],
           "sequentialminus": [
            [
             0,
             "#0d0887"
            ],
            [
             0.1111111111111111,
             "#46039f"
            ],
            [
             0.2222222222222222,
             "#7201a8"
            ],
            [
             0.3333333333333333,
             "#9c179e"
            ],
            [
             0.4444444444444444,
             "#bd3786"
            ],
            [
             0.5555555555555556,
             "#d8576b"
            ],
            [
             0.6666666666666666,
             "#ed7953"
            ],
            [
             0.7777777777777778,
             "#fb9f3a"
            ],
            [
             0.8888888888888888,
             "#fdca26"
            ],
            [
             1,
             "#f0f921"
            ]
           ]
          },
          "colorway": [
           "#636efa",
           "#EF553B",
           "#00cc96",
           "#ab63fa",
           "#FFA15A",
           "#19d3f3",
           "#FF6692",
           "#B6E880",
           "#FF97FF",
           "#FECB52"
          ],
          "font": {
           "color": "#2a3f5f"
          },
          "geo": {
           "bgcolor": "white",
           "lakecolor": "white",
           "landcolor": "#E5ECF6",
           "showlakes": true,
           "showland": true,
           "subunitcolor": "white"
          },
          "hoverlabel": {
           "align": "left"
          },
          "hovermode": "closest",
          "mapbox": {
           "style": "light"
          },
          "paper_bgcolor": "white",
          "plot_bgcolor": "#E5ECF6",
          "polar": {
           "angularaxis": {
            "gridcolor": "white",
            "linecolor": "white",
            "ticks": ""
           },
           "bgcolor": "#E5ECF6",
           "radialaxis": {
            "gridcolor": "white",
            "linecolor": "white",
            "ticks": ""
           }
          },
          "scene": {
           "xaxis": {
            "backgroundcolor": "#E5ECF6",
            "gridcolor": "white",
            "gridwidth": 2,
            "linecolor": "white",
            "showbackground": true,
            "ticks": "",
            "zerolinecolor": "white"
           },
           "yaxis": {
            "backgroundcolor": "#E5ECF6",
            "gridcolor": "white",
            "gridwidth": 2,
            "linecolor": "white",
            "showbackground": true,
            "ticks": "",
            "zerolinecolor": "white"
           },
           "zaxis": {
            "backgroundcolor": "#E5ECF6",
            "gridcolor": "white",
            "gridwidth": 2,
            "linecolor": "white",
            "showbackground": true,
            "ticks": "",
            "zerolinecolor": "white"
           }
          },
          "shapedefaults": {
           "line": {
            "color": "#2a3f5f"
           }
          },
          "ternary": {
           "aaxis": {
            "gridcolor": "white",
            "linecolor": "white",
            "ticks": ""
           },
           "baxis": {
            "gridcolor": "white",
            "linecolor": "white",
            "ticks": ""
           },
           "bgcolor": "#E5ECF6",
           "caxis": {
            "gridcolor": "white",
            "linecolor": "white",
            "ticks": ""
           }
          },
          "title": {
           "x": 0.05
          },
          "xaxis": {
           "automargin": true,
           "gridcolor": "white",
           "linecolor": "white",
           "ticks": "",
           "title": {
            "standoff": 15
           },
           "zerolinecolor": "white",
           "zerolinewidth": 2
          },
          "yaxis": {
           "automargin": true,
           "gridcolor": "white",
           "linecolor": "white",
           "ticks": "",
           "title": {
            "standoff": 15
           },
           "zerolinecolor": "white",
           "zerolinewidth": 2
          }
         }
        },
        "title": {
         "text": "Country wise airport"
        },
        "xaxis": {
         "anchor": "y",
         "domain": [
          0,
          1
         ],
         "title": {
          "text": "Country of Nationality"
         }
        },
        "yaxis": {
         "anchor": "x",
         "domain": [
          0,
          1
         ],
         "title": {
          "text": "value"
         }
        }
       }
      }
     },
     "metadata": {},
     "output_type": "display_data"
    }
   ],
   "source": [
    "px.line(df,df.index,['2020 Delhi (Airport)', ' 2020 Mumbai (Airport)',\n",
    "       ' 2020 Chennai (Airport)', '2020 Calicut (Airport)',\n",
    "       '2020 Benguluru (Airport)', '2020 Kolkata (Airport)',\n",
    "       '2020 Hyderabad (Airport)', '2020 Cochin (Airport)'], title='Country wise airport')"
   ]
  },
  {
   "cell_type": "code",
   "execution_count": null,
   "metadata": {},
   "outputs": [],
   "source": []
  }
 ],
 "metadata": {
  "kernelspec": {
   "display_name": "base",
   "language": "python",
   "name": "python3"
  },
  "language_info": {
   "codemirror_mode": {
    "name": "ipython",
    "version": 3
   },
   "file_extension": ".py",
   "mimetype": "text/x-python",
   "name": "python",
   "nbconvert_exporter": "python",
   "pygments_lexer": "ipython3",
   "version": "3.9.12 (main, Apr  4 2022, 05:22:27) [MSC v.1916 64 bit (AMD64)]"
  },
  "orig_nbformat": 4,
  "vscode": {
   "interpreter": {
    "hash": "9d19b846c981df6691e2bdb59be634a7ebbdaac55797ba17323322a2d3a54045"
   }
  }
 },
 "nbformat": 4,
 "nbformat_minor": 2
}
