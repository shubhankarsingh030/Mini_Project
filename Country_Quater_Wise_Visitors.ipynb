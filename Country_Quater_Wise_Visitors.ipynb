{
 "cells": [
  {
   "cell_type": "code",
   "execution_count": 1,
   "metadata": {},
   "outputs": [],
   "source": [
    "import pandas as pd\n",
    "import numpy as np\n",
    "import matplotlib.pyplot as plt\n",
    "import plotly.express as px"
   ]
  },
  {
   "cell_type": "code",
   "execution_count": 2,
   "metadata": {},
   "outputs": [],
   "source": [
    "df = pd.read_csv(\"Data/Country Quater Wise Visitors.csv\")"
   ]
  },
  {
   "cell_type": "code",
   "execution_count": 3,
   "metadata": {},
   "outputs": [
    {
     "data": {
      "text/html": [
       "<div>\n",
       "<style scoped>\n",
       "    .dataframe tbody tr th:only-of-type {\n",
       "        vertical-align: middle;\n",
       "    }\n",
       "\n",
       "    .dataframe tbody tr th {\n",
       "        vertical-align: top;\n",
       "    }\n",
       "\n",
       "    .dataframe thead th {\n",
       "        text-align: right;\n",
       "    }\n",
       "</style>\n",
       "<table border=\"1\" class=\"dataframe\">\n",
       "  <thead>\n",
       "    <tr style=\"text-align: right;\">\n",
       "      <th></th>\n",
       "      <th>Country of Nationality</th>\n",
       "      <th>2014 1st quarter (Jan-March)</th>\n",
       "      <th>2014 2nd quarter (Apr-June)</th>\n",
       "      <th>2014 3rd quarter (July-Sep)</th>\n",
       "      <th>2014 4th quarter (Oct-Dec))</th>\n",
       "      <th>2015 1st quarter (Jan-March)</th>\n",
       "      <th>2015 2nd quarter (Apr-June)</th>\n",
       "      <th>2015 3rd quarter (July-Sep)</th>\n",
       "      <th>2015 4th quarter (Oct-Dec)</th>\n",
       "      <th>2016 1st quarter (Jan-March)</th>\n",
       "      <th>...</th>\n",
       "      <th>2019 2nd quarter (Apr-June)</th>\n",
       "      <th>2019 3rd quarter (July-Sep)</th>\n",
       "      <th>2019 4th quarter (Oct-Dec)</th>\n",
       "      <th>2020 1st quarter (Jan-March)</th>\n",
       "      <th>Unnamed: 26</th>\n",
       "      <th>2020 2nd quarter (Apr-June)</th>\n",
       "      <th>Unnamed: 28</th>\n",
       "      <th>2020 3rd quarter (July-Sep)</th>\n",
       "      <th>Unnamed: 30</th>\n",
       "      <th>2020 4th quarter (Oct-Dec)</th>\n",
       "    </tr>\n",
       "  </thead>\n",
       "  <tbody>\n",
       "    <tr>\n",
       "      <th>0</th>\n",
       "      <td>Canada</td>\n",
       "      <td>33.1</td>\n",
       "      <td>14.5</td>\n",
       "      <td>15.7</td>\n",
       "      <td>36.7</td>\n",
       "      <td>34.2</td>\n",
       "      <td>14.5</td>\n",
       "      <td>15.9</td>\n",
       "      <td>35.4</td>\n",
       "      <td>34.5</td>\n",
       "      <td>...</td>\n",
       "      <td>14.3</td>\n",
       "      <td>14.8</td>\n",
       "      <td>34.5</td>\n",
       "      <td>88.9</td>\n",
       "      <td>NaN</td>\n",
       "      <td>0.3</td>\n",
       "      <td>NaN</td>\n",
       "      <td>2.0</td>\n",
       "      <td>NaN</td>\n",
       "      <td>8.8</td>\n",
       "    </tr>\n",
       "    <tr>\n",
       "      <th>1</th>\n",
       "      <td>United States Of America</td>\n",
       "      <td>25.7</td>\n",
       "      <td>22.0</td>\n",
       "      <td>20.6</td>\n",
       "      <td>31.7</td>\n",
       "      <td>26.4</td>\n",
       "      <td>22.1</td>\n",
       "      <td>19.6</td>\n",
       "      <td>31.9</td>\n",
       "      <td>25.7</td>\n",
       "      <td>...</td>\n",
       "      <td>21.4</td>\n",
       "      <td>19.3</td>\n",
       "      <td>32.3</td>\n",
       "      <td>84.5</td>\n",
       "      <td>NaN</td>\n",
       "      <td>0.9</td>\n",
       "      <td>NaN</td>\n",
       "      <td>3.8</td>\n",
       "      <td>NaN</td>\n",
       "      <td>10.8</td>\n",
       "    </tr>\n",
       "    <tr>\n",
       "      <th>2</th>\n",
       "      <td>Argentina</td>\n",
       "      <td>46.8</td>\n",
       "      <td>15.6</td>\n",
       "      <td>13.9</td>\n",
       "      <td>23.7</td>\n",
       "      <td>40.6</td>\n",
       "      <td>17.5</td>\n",
       "      <td>14.6</td>\n",
       "      <td>27.3</td>\n",
       "      <td>41.7</td>\n",
       "      <td>...</td>\n",
       "      <td>16.8</td>\n",
       "      <td>16.7</td>\n",
       "      <td>25.1</td>\n",
       "      <td>97.8</td>\n",
       "      <td>NaN</td>\n",
       "      <td>0.2</td>\n",
       "      <td>NaN</td>\n",
       "      <td>0.5</td>\n",
       "      <td>NaN</td>\n",
       "      <td>1.5</td>\n",
       "    </tr>\n",
       "    <tr>\n",
       "      <th>3</th>\n",
       "      <td>Brazil</td>\n",
       "      <td>31.0</td>\n",
       "      <td>18.8</td>\n",
       "      <td>18.7</td>\n",
       "      <td>31.5</td>\n",
       "      <td>34.8</td>\n",
       "      <td>19.0</td>\n",
       "      <td>19.6</td>\n",
       "      <td>26.6</td>\n",
       "      <td>29.7</td>\n",
       "      <td>...</td>\n",
       "      <td>19.5</td>\n",
       "      <td>18.7</td>\n",
       "      <td>29.7</td>\n",
       "      <td>92.6</td>\n",
       "      <td>NaN</td>\n",
       "      <td>0.9</td>\n",
       "      <td>NaN</td>\n",
       "      <td>2.3</td>\n",
       "      <td>NaN</td>\n",
       "      <td>4.1</td>\n",
       "    </tr>\n",
       "    <tr>\n",
       "      <th>4</th>\n",
       "      <td>Mexico</td>\n",
       "      <td>23.6</td>\n",
       "      <td>20.3</td>\n",
       "      <td>26.5</td>\n",
       "      <td>29.6</td>\n",
       "      <td>28.1</td>\n",
       "      <td>21.3</td>\n",
       "      <td>23.4</td>\n",
       "      <td>27.2</td>\n",
       "      <td>25.4</td>\n",
       "      <td>...</td>\n",
       "      <td>21.8</td>\n",
       "      <td>21.9</td>\n",
       "      <td>31.2</td>\n",
       "      <td>95.8</td>\n",
       "      <td>NaN</td>\n",
       "      <td>0.5</td>\n",
       "      <td>NaN</td>\n",
       "      <td>1.2</td>\n",
       "      <td>NaN</td>\n",
       "      <td>2.4</td>\n",
       "    </tr>\n",
       "    <tr>\n",
       "      <th>...</th>\n",
       "      <td>...</td>\n",
       "      <td>...</td>\n",
       "      <td>...</td>\n",
       "      <td>...</td>\n",
       "      <td>...</td>\n",
       "      <td>...</td>\n",
       "      <td>...</td>\n",
       "      <td>...</td>\n",
       "      <td>...</td>\n",
       "      <td>...</td>\n",
       "      <td>...</td>\n",
       "      <td>...</td>\n",
       "      <td>...</td>\n",
       "      <td>...</td>\n",
       "      <td>...</td>\n",
       "      <td>...</td>\n",
       "      <td>...</td>\n",
       "      <td>...</td>\n",
       "      <td>...</td>\n",
       "      <td>...</td>\n",
       "      <td>...</td>\n",
       "    </tr>\n",
       "    <tr>\n",
       "      <th>58</th>\n",
       "      <td>Japan</td>\n",
       "      <td>28.0</td>\n",
       "      <td>19.7</td>\n",
       "      <td>25.1</td>\n",
       "      <td>27.2</td>\n",
       "      <td>NaN</td>\n",
       "      <td>NaN</td>\n",
       "      <td>NaN</td>\n",
       "      <td>NaN</td>\n",
       "      <td>28.6</td>\n",
       "      <td>...</td>\n",
       "      <td>20.9</td>\n",
       "      <td>24.2</td>\n",
       "      <td>26.7</td>\n",
       "      <td>93.4</td>\n",
       "      <td>NaN</td>\n",
       "      <td>0.5</td>\n",
       "      <td>NaN</td>\n",
       "      <td>1.7</td>\n",
       "      <td>NaN</td>\n",
       "      <td>4.3</td>\n",
       "    </tr>\n",
       "    <tr>\n",
       "      <th>59</th>\n",
       "      <td>Korea (Republic Of</td>\n",
       "      <td>32.1</td>\n",
       "      <td>19.1</td>\n",
       "      <td>22.6</td>\n",
       "      <td>26.2</td>\n",
       "      <td>31.1</td>\n",
       "      <td>19.7</td>\n",
       "      <td>23.1</td>\n",
       "      <td>26.1</td>\n",
       "      <td>30.1</td>\n",
       "      <td>...</td>\n",
       "      <td>20.9</td>\n",
       "      <td>22.0</td>\n",
       "      <td>25.3</td>\n",
       "      <td>81.0</td>\n",
       "      <td>NaN</td>\n",
       "      <td>3.2</td>\n",
       "      <td>NaN</td>\n",
       "      <td>6.1</td>\n",
       "      <td>NaN</td>\n",
       "      <td>9.6</td>\n",
       "    </tr>\n",
       "    <tr>\n",
       "      <th>60</th>\n",
       "      <td>Republic Of China Taiwan</td>\n",
       "      <td>29.7</td>\n",
       "      <td>16.8</td>\n",
       "      <td>22.7</td>\n",
       "      <td>30.8</td>\n",
       "      <td>32.8</td>\n",
       "      <td>16.9</td>\n",
       "      <td>22.3</td>\n",
       "      <td>28.0</td>\n",
       "      <td>32.6</td>\n",
       "      <td>...</td>\n",
       "      <td>16.9</td>\n",
       "      <td>25.0</td>\n",
       "      <td>27.2</td>\n",
       "      <td>97.7</td>\n",
       "      <td>NaN</td>\n",
       "      <td>0.0</td>\n",
       "      <td>NaN</td>\n",
       "      <td>0.5</td>\n",
       "      <td>NaN</td>\n",
       "      <td>1.7</td>\n",
       "    </tr>\n",
       "    <tr>\n",
       "      <th>61</th>\n",
       "      <td>Australia</td>\n",
       "      <td>25.2</td>\n",
       "      <td>17.1</td>\n",
       "      <td>18.4</td>\n",
       "      <td>39.3</td>\n",
       "      <td>25.7</td>\n",
       "      <td>16.7</td>\n",
       "      <td>17.6</td>\n",
       "      <td>40.0</td>\n",
       "      <td>26.9</td>\n",
       "      <td>...</td>\n",
       "      <td>17.0</td>\n",
       "      <td>16.9</td>\n",
       "      <td>39.5</td>\n",
       "      <td>95.2</td>\n",
       "      <td>NaN</td>\n",
       "      <td>0.4</td>\n",
       "      <td>NaN</td>\n",
       "      <td>1.2</td>\n",
       "      <td>NaN</td>\n",
       "      <td>3.2</td>\n",
       "    </tr>\n",
       "    <tr>\n",
       "      <th>62</th>\n",
       "      <td>New Zealand</td>\n",
       "      <td>25.5</td>\n",
       "      <td>16.3</td>\n",
       "      <td>18.3</td>\n",
       "      <td>39.9</td>\n",
       "      <td>25.4</td>\n",
       "      <td>16.5</td>\n",
       "      <td>17.9</td>\n",
       "      <td>40.2</td>\n",
       "      <td>25.3</td>\n",
       "      <td>...</td>\n",
       "      <td>17.2</td>\n",
       "      <td>16.6</td>\n",
       "      <td>38.6</td>\n",
       "      <td>94.2</td>\n",
       "      <td>NaN</td>\n",
       "      <td>0.8</td>\n",
       "      <td>NaN</td>\n",
       "      <td>1.5</td>\n",
       "      <td>NaN</td>\n",
       "      <td>3.5</td>\n",
       "    </tr>\n",
       "  </tbody>\n",
       "</table>\n",
       "<p>63 rows × 32 columns</p>\n",
       "</div>"
      ],
      "text/plain": [
       "      Country of Nationality  2014 1st quarter (Jan-March)  \\\n",
       "0                     Canada                          33.1   \n",
       "1   United States Of America                          25.7   \n",
       "2                  Argentina                          46.8   \n",
       "3                     Brazil                          31.0   \n",
       "4                     Mexico                          23.6   \n",
       "..                       ...                           ...   \n",
       "58                     Japan                          28.0   \n",
       "59       Korea (Republic Of                           32.1   \n",
       "60  Republic Of China Taiwan                          29.7   \n",
       "61                 Australia                          25.2   \n",
       "62               New Zealand                          25.5   \n",
       "\n",
       "    2014 2nd quarter (Apr-June)  2014 3rd quarter (July-Sep)  \\\n",
       "0                          14.5                         15.7   \n",
       "1                          22.0                         20.6   \n",
       "2                          15.6                         13.9   \n",
       "3                          18.8                         18.7   \n",
       "4                          20.3                         26.5   \n",
       "..                          ...                          ...   \n",
       "58                         19.7                         25.1   \n",
       "59                         19.1                         22.6   \n",
       "60                         16.8                         22.7   \n",
       "61                         17.1                         18.4   \n",
       "62                         16.3                         18.3   \n",
       "\n",
       "    2014 4th quarter (Oct-Dec))  2015 1st quarter (Jan-March)   \\\n",
       "0                          36.7                           34.2   \n",
       "1                          31.7                           26.4   \n",
       "2                          23.7                           40.6   \n",
       "3                          31.5                           34.8   \n",
       "4                          29.6                           28.1   \n",
       "..                          ...                            ...   \n",
       "58                         27.2                            NaN   \n",
       "59                         26.2                           31.1   \n",
       "60                         30.8                           32.8   \n",
       "61                         39.3                           25.7   \n",
       "62                         39.9                           25.4   \n",
       "\n",
       "    2015 2nd quarter (Apr-June)  2015 3rd quarter (July-Sep)   \\\n",
       "0                          14.5                          15.9   \n",
       "1                          22.1                          19.6   \n",
       "2                          17.5                          14.6   \n",
       "3                          19.0                          19.6   \n",
       "4                          21.3                          23.4   \n",
       "..                          ...                           ...   \n",
       "58                          NaN                           NaN   \n",
       "59                         19.7                          23.1   \n",
       "60                         16.9                          22.3   \n",
       "61                         16.7                          17.6   \n",
       "62                         16.5                          17.9   \n",
       "\n",
       "    2015 4th quarter (Oct-Dec)   2016 1st quarter (Jan-March)   ...  \\\n",
       "0                          35.4                           34.5  ...   \n",
       "1                          31.9                           25.7  ...   \n",
       "2                          27.3                           41.7  ...   \n",
       "3                          26.6                           29.7  ...   \n",
       "4                          27.2                           25.4  ...   \n",
       "..                          ...                            ...  ...   \n",
       "58                          NaN                           28.6  ...   \n",
       "59                         26.1                           30.1  ...   \n",
       "60                         28.0                           32.6  ...   \n",
       "61                         40.0                           26.9  ...   \n",
       "62                         40.2                           25.3  ...   \n",
       "\n",
       "    2019 2nd quarter (Apr-June)  2019 3rd quarter (July-Sep)   \\\n",
       "0                          14.3                          14.8   \n",
       "1                          21.4                          19.3   \n",
       "2                          16.8                          16.7   \n",
       "3                          19.5                          18.7   \n",
       "4                          21.8                          21.9   \n",
       "..                          ...                           ...   \n",
       "58                         20.9                          24.2   \n",
       "59                         20.9                          22.0   \n",
       "60                         16.9                          25.0   \n",
       "61                         17.0                          16.9   \n",
       "62                         17.2                          16.6   \n",
       "\n",
       "    2019 4th quarter (Oct-Dec)  2020 1st quarter (Jan-March)   Unnamed: 26  \\\n",
       "0                          34.5                          88.9          NaN   \n",
       "1                          32.3                          84.5          NaN   \n",
       "2                          25.1                          97.8          NaN   \n",
       "3                          29.7                          92.6          NaN   \n",
       "4                          31.2                          95.8          NaN   \n",
       "..                          ...                           ...          ...   \n",
       "58                         26.7                          93.4          NaN   \n",
       "59                         25.3                          81.0          NaN   \n",
       "60                         27.2                          97.7          NaN   \n",
       "61                         39.5                          95.2          NaN   \n",
       "62                         38.6                          94.2          NaN   \n",
       "\n",
       "    2020 2nd quarter (Apr-June)  Unnamed: 28  2020 3rd quarter (July-Sep)   \\\n",
       "0                           0.3          NaN                           2.0   \n",
       "1                           0.9          NaN                           3.8   \n",
       "2                           0.2          NaN                           0.5   \n",
       "3                           0.9          NaN                           2.3   \n",
       "4                           0.5          NaN                           1.2   \n",
       "..                          ...          ...                           ...   \n",
       "58                          0.5          NaN                           1.7   \n",
       "59                          3.2          NaN                           6.1   \n",
       "60                          0.0          NaN                           0.5   \n",
       "61                          0.4          NaN                           1.2   \n",
       "62                          0.8          NaN                           1.5   \n",
       "\n",
       "    Unnamed: 30  2020 4th quarter (Oct-Dec)   \n",
       "0           NaN                          8.8  \n",
       "1           NaN                         10.8  \n",
       "2           NaN                          1.5  \n",
       "3           NaN                          4.1  \n",
       "4           NaN                          2.4  \n",
       "..          ...                          ...  \n",
       "58          NaN                          4.3  \n",
       "59          NaN                          9.6  \n",
       "60          NaN                          1.7  \n",
       "61          NaN                          3.2  \n",
       "62          NaN                          3.5  \n",
       "\n",
       "[63 rows x 32 columns]"
      ]
     },
     "execution_count": 3,
     "metadata": {},
     "output_type": "execute_result"
    }
   ],
   "source": [
    "df"
   ]
  },
  {
   "cell_type": "code",
   "execution_count": 4,
   "metadata": {},
   "outputs": [],
   "source": [
    "df.set_index('Country of Nationality', inplace=True)"
   ]
  },
  {
   "cell_type": "code",
   "execution_count": 5,
   "metadata": {},
   "outputs": [],
   "source": [
    "df.dropna(axis=1, how='all', inplace=True)"
   ]
  },
  {
   "cell_type": "code",
   "execution_count": 6,
   "metadata": {},
   "outputs": [
    {
     "data": {
      "text/html": [
       "<div>\n",
       "<style scoped>\n",
       "    .dataframe tbody tr th:only-of-type {\n",
       "        vertical-align: middle;\n",
       "    }\n",
       "\n",
       "    .dataframe tbody tr th {\n",
       "        vertical-align: top;\n",
       "    }\n",
       "\n",
       "    .dataframe thead th {\n",
       "        text-align: right;\n",
       "    }\n",
       "</style>\n",
       "<table border=\"1\" class=\"dataframe\">\n",
       "  <thead>\n",
       "    <tr style=\"text-align: right;\">\n",
       "      <th></th>\n",
       "      <th>2014 1st quarter (Jan-March)</th>\n",
       "      <th>2014 2nd quarter (Apr-June)</th>\n",
       "      <th>2014 3rd quarter (July-Sep)</th>\n",
       "      <th>2014 4th quarter (Oct-Dec))</th>\n",
       "      <th>2015 1st quarter (Jan-March)</th>\n",
       "      <th>2015 2nd quarter (Apr-June)</th>\n",
       "      <th>2015 3rd quarter (July-Sep)</th>\n",
       "      <th>2015 4th quarter (Oct-Dec)</th>\n",
       "      <th>2016 1st quarter (Jan-March)</th>\n",
       "      <th>2016 2nd quarter (Apr-June)</th>\n",
       "      <th>...</th>\n",
       "      <th>2018 3rd quarter (July-Sep)</th>\n",
       "      <th>2018 4th quarter (Oct-Dec)</th>\n",
       "      <th>2019 1st quarter (Jan-March)</th>\n",
       "      <th>2019 2nd quarter (Apr-June)</th>\n",
       "      <th>2019 3rd quarter (July-Sep)</th>\n",
       "      <th>2019 4th quarter (Oct-Dec)</th>\n",
       "      <th>2020 1st quarter (Jan-March)</th>\n",
       "      <th>2020 2nd quarter (Apr-June)</th>\n",
       "      <th>2020 3rd quarter (July-Sep)</th>\n",
       "      <th>2020 4th quarter (Oct-Dec)</th>\n",
       "    </tr>\n",
       "    <tr>\n",
       "      <th>Country of Nationality</th>\n",
       "      <th></th>\n",
       "      <th></th>\n",
       "      <th></th>\n",
       "      <th></th>\n",
       "      <th></th>\n",
       "      <th></th>\n",
       "      <th></th>\n",
       "      <th></th>\n",
       "      <th></th>\n",
       "      <th></th>\n",
       "      <th></th>\n",
       "      <th></th>\n",
       "      <th></th>\n",
       "      <th></th>\n",
       "      <th></th>\n",
       "      <th></th>\n",
       "      <th></th>\n",
       "      <th></th>\n",
       "      <th></th>\n",
       "      <th></th>\n",
       "      <th></th>\n",
       "    </tr>\n",
       "  </thead>\n",
       "  <tbody>\n",
       "    <tr>\n",
       "      <th>Canada</th>\n",
       "      <td>33.1</td>\n",
       "      <td>14.5</td>\n",
       "      <td>15.7</td>\n",
       "      <td>36.7</td>\n",
       "      <td>34.2</td>\n",
       "      <td>14.5</td>\n",
       "      <td>15.9</td>\n",
       "      <td>35.4</td>\n",
       "      <td>34.5</td>\n",
       "      <td>14.1</td>\n",
       "      <td>...</td>\n",
       "      <td>16.19</td>\n",
       "      <td>32.94</td>\n",
       "      <td>36.4</td>\n",
       "      <td>14.3</td>\n",
       "      <td>14.8</td>\n",
       "      <td>34.5</td>\n",
       "      <td>88.9</td>\n",
       "      <td>0.3</td>\n",
       "      <td>2.0</td>\n",
       "      <td>8.8</td>\n",
       "    </tr>\n",
       "    <tr>\n",
       "      <th>United States Of America</th>\n",
       "      <td>25.7</td>\n",
       "      <td>22.0</td>\n",
       "      <td>20.6</td>\n",
       "      <td>31.7</td>\n",
       "      <td>26.4</td>\n",
       "      <td>22.1</td>\n",
       "      <td>19.6</td>\n",
       "      <td>31.9</td>\n",
       "      <td>25.7</td>\n",
       "      <td>21.2</td>\n",
       "      <td>...</td>\n",
       "      <td>20.23</td>\n",
       "      <td>31.22</td>\n",
       "      <td>26.9</td>\n",
       "      <td>21.4</td>\n",
       "      <td>19.3</td>\n",
       "      <td>32.3</td>\n",
       "      <td>84.5</td>\n",
       "      <td>0.9</td>\n",
       "      <td>3.8</td>\n",
       "      <td>10.8</td>\n",
       "    </tr>\n",
       "    <tr>\n",
       "      <th>Argentina</th>\n",
       "      <td>46.8</td>\n",
       "      <td>15.6</td>\n",
       "      <td>13.9</td>\n",
       "      <td>23.7</td>\n",
       "      <td>40.6</td>\n",
       "      <td>17.5</td>\n",
       "      <td>14.6</td>\n",
       "      <td>27.3</td>\n",
       "      <td>41.7</td>\n",
       "      <td>14.1</td>\n",
       "      <td>...</td>\n",
       "      <td>15.71</td>\n",
       "      <td>20.22</td>\n",
       "      <td>41.5</td>\n",
       "      <td>16.8</td>\n",
       "      <td>16.7</td>\n",
       "      <td>25.1</td>\n",
       "      <td>97.8</td>\n",
       "      <td>0.2</td>\n",
       "      <td>0.5</td>\n",
       "      <td>1.5</td>\n",
       "    </tr>\n",
       "    <tr>\n",
       "      <th>Brazil</th>\n",
       "      <td>31.0</td>\n",
       "      <td>18.8</td>\n",
       "      <td>18.7</td>\n",
       "      <td>31.5</td>\n",
       "      <td>34.8</td>\n",
       "      <td>19.0</td>\n",
       "      <td>19.6</td>\n",
       "      <td>26.6</td>\n",
       "      <td>29.7</td>\n",
       "      <td>16.7</td>\n",
       "      <td>...</td>\n",
       "      <td>18.95</td>\n",
       "      <td>28.00</td>\n",
       "      <td>32.1</td>\n",
       "      <td>19.5</td>\n",
       "      <td>18.7</td>\n",
       "      <td>29.7</td>\n",
       "      <td>92.6</td>\n",
       "      <td>0.9</td>\n",
       "      <td>2.3</td>\n",
       "      <td>4.1</td>\n",
       "    </tr>\n",
       "    <tr>\n",
       "      <th>Mexico</th>\n",
       "      <td>23.6</td>\n",
       "      <td>20.3</td>\n",
       "      <td>26.5</td>\n",
       "      <td>29.6</td>\n",
       "      <td>28.1</td>\n",
       "      <td>21.3</td>\n",
       "      <td>23.4</td>\n",
       "      <td>27.2</td>\n",
       "      <td>25.4</td>\n",
       "      <td>17.9</td>\n",
       "      <td>...</td>\n",
       "      <td>22.60</td>\n",
       "      <td>31.34</td>\n",
       "      <td>25.0</td>\n",
       "      <td>21.8</td>\n",
       "      <td>21.9</td>\n",
       "      <td>31.2</td>\n",
       "      <td>95.8</td>\n",
       "      <td>0.5</td>\n",
       "      <td>1.2</td>\n",
       "      <td>2.4</td>\n",
       "    </tr>\n",
       "    <tr>\n",
       "      <th>...</th>\n",
       "      <td>...</td>\n",
       "      <td>...</td>\n",
       "      <td>...</td>\n",
       "      <td>...</td>\n",
       "      <td>...</td>\n",
       "      <td>...</td>\n",
       "      <td>...</td>\n",
       "      <td>...</td>\n",
       "      <td>...</td>\n",
       "      <td>...</td>\n",
       "      <td>...</td>\n",
       "      <td>...</td>\n",
       "      <td>...</td>\n",
       "      <td>...</td>\n",
       "      <td>...</td>\n",
       "      <td>...</td>\n",
       "      <td>...</td>\n",
       "      <td>...</td>\n",
       "      <td>...</td>\n",
       "      <td>...</td>\n",
       "      <td>...</td>\n",
       "    </tr>\n",
       "    <tr>\n",
       "      <th>Japan</th>\n",
       "      <td>28.0</td>\n",
       "      <td>19.7</td>\n",
       "      <td>25.1</td>\n",
       "      <td>27.2</td>\n",
       "      <td>NaN</td>\n",
       "      <td>NaN</td>\n",
       "      <td>NaN</td>\n",
       "      <td>NaN</td>\n",
       "      <td>28.6</td>\n",
       "      <td>20.3</td>\n",
       "      <td>...</td>\n",
       "      <td>24.62</td>\n",
       "      <td>27.44</td>\n",
       "      <td>28.2</td>\n",
       "      <td>20.9</td>\n",
       "      <td>24.2</td>\n",
       "      <td>26.7</td>\n",
       "      <td>93.4</td>\n",
       "      <td>0.5</td>\n",
       "      <td>1.7</td>\n",
       "      <td>4.3</td>\n",
       "    </tr>\n",
       "    <tr>\n",
       "      <th>Korea (Republic Of</th>\n",
       "      <td>32.1</td>\n",
       "      <td>19.1</td>\n",
       "      <td>22.6</td>\n",
       "      <td>26.2</td>\n",
       "      <td>31.1</td>\n",
       "      <td>19.7</td>\n",
       "      <td>23.1</td>\n",
       "      <td>26.1</td>\n",
       "      <td>30.1</td>\n",
       "      <td>19.1</td>\n",
       "      <td>...</td>\n",
       "      <td>23.87</td>\n",
       "      <td>27.54</td>\n",
       "      <td>31.9</td>\n",
       "      <td>20.9</td>\n",
       "      <td>22.0</td>\n",
       "      <td>25.3</td>\n",
       "      <td>81.0</td>\n",
       "      <td>3.2</td>\n",
       "      <td>6.1</td>\n",
       "      <td>9.6</td>\n",
       "    </tr>\n",
       "    <tr>\n",
       "      <th>Republic Of China Taiwan</th>\n",
       "      <td>29.7</td>\n",
       "      <td>16.8</td>\n",
       "      <td>22.7</td>\n",
       "      <td>30.8</td>\n",
       "      <td>32.8</td>\n",
       "      <td>16.9</td>\n",
       "      <td>22.3</td>\n",
       "      <td>28.0</td>\n",
       "      <td>32.6</td>\n",
       "      <td>16.8</td>\n",
       "      <td>...</td>\n",
       "      <td>23.75</td>\n",
       "      <td>27.30</td>\n",
       "      <td>30.8</td>\n",
       "      <td>16.9</td>\n",
       "      <td>25.0</td>\n",
       "      <td>27.2</td>\n",
       "      <td>97.7</td>\n",
       "      <td>0.0</td>\n",
       "      <td>0.5</td>\n",
       "      <td>1.7</td>\n",
       "    </tr>\n",
       "    <tr>\n",
       "      <th>Australia</th>\n",
       "      <td>25.2</td>\n",
       "      <td>17.1</td>\n",
       "      <td>18.4</td>\n",
       "      <td>39.3</td>\n",
       "      <td>25.7</td>\n",
       "      <td>16.7</td>\n",
       "      <td>17.6</td>\n",
       "      <td>40.0</td>\n",
       "      <td>26.9</td>\n",
       "      <td>15.3</td>\n",
       "      <td>...</td>\n",
       "      <td>17.67</td>\n",
       "      <td>39.11</td>\n",
       "      <td>26.6</td>\n",
       "      <td>17.0</td>\n",
       "      <td>16.9</td>\n",
       "      <td>39.5</td>\n",
       "      <td>95.2</td>\n",
       "      <td>0.4</td>\n",
       "      <td>1.2</td>\n",
       "      <td>3.2</td>\n",
       "    </tr>\n",
       "    <tr>\n",
       "      <th>New Zealand</th>\n",
       "      <td>25.5</td>\n",
       "      <td>16.3</td>\n",
       "      <td>18.3</td>\n",
       "      <td>39.9</td>\n",
       "      <td>25.4</td>\n",
       "      <td>16.5</td>\n",
       "      <td>17.9</td>\n",
       "      <td>40.2</td>\n",
       "      <td>25.3</td>\n",
       "      <td>14.9</td>\n",
       "      <td>...</td>\n",
       "      <td>17.34</td>\n",
       "      <td>39.06</td>\n",
       "      <td>27.6</td>\n",
       "      <td>17.2</td>\n",
       "      <td>16.6</td>\n",
       "      <td>38.6</td>\n",
       "      <td>94.2</td>\n",
       "      <td>0.8</td>\n",
       "      <td>1.5</td>\n",
       "      <td>3.5</td>\n",
       "    </tr>\n",
       "  </tbody>\n",
       "</table>\n",
       "<p>63 rows × 28 columns</p>\n",
       "</div>"
      ],
      "text/plain": [
       "                          2014 1st quarter (Jan-March)  \\\n",
       "Country of Nationality                                   \n",
       "Canada                                            33.1   \n",
       "United States Of America                          25.7   \n",
       "Argentina                                         46.8   \n",
       "Brazil                                            31.0   \n",
       "Mexico                                            23.6   \n",
       "...                                                ...   \n",
       "Japan                                             28.0   \n",
       "Korea (Republic Of                                32.1   \n",
       "Republic Of China Taiwan                          29.7   \n",
       "Australia                                         25.2   \n",
       "New Zealand                                       25.5   \n",
       "\n",
       "                          2014 2nd quarter (Apr-June)  \\\n",
       "Country of Nationality                                  \n",
       "Canada                                           14.5   \n",
       "United States Of America                         22.0   \n",
       "Argentina                                        15.6   \n",
       "Brazil                                           18.8   \n",
       "Mexico                                           20.3   \n",
       "...                                               ...   \n",
       "Japan                                            19.7   \n",
       "Korea (Republic Of                               19.1   \n",
       "Republic Of China Taiwan                         16.8   \n",
       "Australia                                        17.1   \n",
       "New Zealand                                      16.3   \n",
       "\n",
       "                          2014 3rd quarter (July-Sep)  \\\n",
       "Country of Nationality                                  \n",
       "Canada                                           15.7   \n",
       "United States Of America                         20.6   \n",
       "Argentina                                        13.9   \n",
       "Brazil                                           18.7   \n",
       "Mexico                                           26.5   \n",
       "...                                               ...   \n",
       "Japan                                            25.1   \n",
       "Korea (Republic Of                               22.6   \n",
       "Republic Of China Taiwan                         22.7   \n",
       "Australia                                        18.4   \n",
       "New Zealand                                      18.3   \n",
       "\n",
       "                          2014 4th quarter (Oct-Dec))  \\\n",
       "Country of Nationality                                  \n",
       "Canada                                           36.7   \n",
       "United States Of America                         31.7   \n",
       "Argentina                                        23.7   \n",
       "Brazil                                           31.5   \n",
       "Mexico                                           29.6   \n",
       "...                                               ...   \n",
       "Japan                                            27.2   \n",
       "Korea (Republic Of                               26.2   \n",
       "Republic Of China Taiwan                         30.8   \n",
       "Australia                                        39.3   \n",
       "New Zealand                                      39.9   \n",
       "\n",
       "                          2015 1st quarter (Jan-March)   \\\n",
       "Country of Nationality                                    \n",
       "Canada                                             34.2   \n",
       "United States Of America                           26.4   \n",
       "Argentina                                          40.6   \n",
       "Brazil                                             34.8   \n",
       "Mexico                                             28.1   \n",
       "...                                                 ...   \n",
       "Japan                                               NaN   \n",
       "Korea (Republic Of                                 31.1   \n",
       "Republic Of China Taiwan                           32.8   \n",
       "Australia                                          25.7   \n",
       "New Zealand                                        25.4   \n",
       "\n",
       "                          2015 2nd quarter (Apr-June)  \\\n",
       "Country of Nationality                                  \n",
       "Canada                                           14.5   \n",
       "United States Of America                         22.1   \n",
       "Argentina                                        17.5   \n",
       "Brazil                                           19.0   \n",
       "Mexico                                           21.3   \n",
       "...                                               ...   \n",
       "Japan                                             NaN   \n",
       "Korea (Republic Of                               19.7   \n",
       "Republic Of China Taiwan                         16.9   \n",
       "Australia                                        16.7   \n",
       "New Zealand                                      16.5   \n",
       "\n",
       "                          2015 3rd quarter (July-Sep)   \\\n",
       "Country of Nationality                                   \n",
       "Canada                                            15.9   \n",
       "United States Of America                          19.6   \n",
       "Argentina                                         14.6   \n",
       "Brazil                                            19.6   \n",
       "Mexico                                            23.4   \n",
       "...                                                ...   \n",
       "Japan                                              NaN   \n",
       "Korea (Republic Of                                23.1   \n",
       "Republic Of China Taiwan                          22.3   \n",
       "Australia                                         17.6   \n",
       "New Zealand                                       17.9   \n",
       "\n",
       "                          2015 4th quarter (Oct-Dec)   \\\n",
       "Country of Nationality                                  \n",
       "Canada                                           35.4   \n",
       "United States Of America                         31.9   \n",
       "Argentina                                        27.3   \n",
       "Brazil                                           26.6   \n",
       "Mexico                                           27.2   \n",
       "...                                               ...   \n",
       "Japan                                             NaN   \n",
       "Korea (Republic Of                               26.1   \n",
       "Republic Of China Taiwan                         28.0   \n",
       "Australia                                        40.0   \n",
       "New Zealand                                      40.2   \n",
       "\n",
       "                          2016 1st quarter (Jan-March)   \\\n",
       "Country of Nationality                                    \n",
       "Canada                                             34.5   \n",
       "United States Of America                           25.7   \n",
       "Argentina                                          41.7   \n",
       "Brazil                                             29.7   \n",
       "Mexico                                             25.4   \n",
       "...                                                 ...   \n",
       "Japan                                              28.6   \n",
       "Korea (Republic Of                                 30.1   \n",
       "Republic Of China Taiwan                           32.6   \n",
       "Australia                                          26.9   \n",
       "New Zealand                                        25.3   \n",
       "\n",
       "                          2016 2nd quarter (Apr-June)  ...  \\\n",
       "Country of Nationality                                 ...   \n",
       "Canada                                           14.1  ...   \n",
       "United States Of America                         21.2  ...   \n",
       "Argentina                                        14.1  ...   \n",
       "Brazil                                           16.7  ...   \n",
       "Mexico                                           17.9  ...   \n",
       "...                                               ...  ...   \n",
       "Japan                                            20.3  ...   \n",
       "Korea (Republic Of                               19.1  ...   \n",
       "Republic Of China Taiwan                         16.8  ...   \n",
       "Australia                                        15.3  ...   \n",
       "New Zealand                                      14.9  ...   \n",
       "\n",
       "                          2018 3rd quarter (July-Sep)   \\\n",
       "Country of Nationality                                   \n",
       "Canada                                           16.19   \n",
       "United States Of America                         20.23   \n",
       "Argentina                                        15.71   \n",
       "Brazil                                           18.95   \n",
       "Mexico                                           22.60   \n",
       "...                                                ...   \n",
       "Japan                                            24.62   \n",
       "Korea (Republic Of                               23.87   \n",
       "Republic Of China Taiwan                         23.75   \n",
       "Australia                                        17.67   \n",
       "New Zealand                                      17.34   \n",
       "\n",
       "                          2018 4th quarter (Oct-Dec)   \\\n",
       "Country of Nationality                                  \n",
       "Canada                                          32.94   \n",
       "United States Of America                        31.22   \n",
       "Argentina                                       20.22   \n",
       "Brazil                                          28.00   \n",
       "Mexico                                          31.34   \n",
       "...                                               ...   \n",
       "Japan                                           27.44   \n",
       "Korea (Republic Of                              27.54   \n",
       "Republic Of China Taiwan                        27.30   \n",
       "Australia                                       39.11   \n",
       "New Zealand                                     39.06   \n",
       "\n",
       "                         2019 1st quarter (Jan-March)   \\\n",
       "Country of Nationality                                   \n",
       "Canada                                            36.4   \n",
       "United States Of America                          26.9   \n",
       "Argentina                                         41.5   \n",
       "Brazil                                            32.1   \n",
       "Mexico                                            25.0   \n",
       "...                                                ...   \n",
       "Japan                                             28.2   \n",
       "Korea (Republic Of                                31.9   \n",
       "Republic Of China Taiwan                          30.8   \n",
       "Australia                                         26.6   \n",
       "New Zealand                                       27.6   \n",
       "\n",
       "                          2019 2nd quarter (Apr-June)  \\\n",
       "Country of Nationality                                  \n",
       "Canada                                           14.3   \n",
       "United States Of America                         21.4   \n",
       "Argentina                                        16.8   \n",
       "Brazil                                           19.5   \n",
       "Mexico                                           21.8   \n",
       "...                                               ...   \n",
       "Japan                                            20.9   \n",
       "Korea (Republic Of                               20.9   \n",
       "Republic Of China Taiwan                         16.9   \n",
       "Australia                                        17.0   \n",
       "New Zealand                                      17.2   \n",
       "\n",
       "                          2019 3rd quarter (July-Sep)   \\\n",
       "Country of Nationality                                   \n",
       "Canada                                            14.8   \n",
       "United States Of America                          19.3   \n",
       "Argentina                                         16.7   \n",
       "Brazil                                            18.7   \n",
       "Mexico                                            21.9   \n",
       "...                                                ...   \n",
       "Japan                                             24.2   \n",
       "Korea (Republic Of                                22.0   \n",
       "Republic Of China Taiwan                          25.0   \n",
       "Australia                                         16.9   \n",
       "New Zealand                                       16.6   \n",
       "\n",
       "                          2019 4th quarter (Oct-Dec)   \\\n",
       "Country of Nationality                                  \n",
       "Canada                                           34.5   \n",
       "United States Of America                         32.3   \n",
       "Argentina                                        25.1   \n",
       "Brazil                                           29.7   \n",
       "Mexico                                           31.2   \n",
       "...                                               ...   \n",
       "Japan                                            26.7   \n",
       "Korea (Republic Of                               25.3   \n",
       "Republic Of China Taiwan                         27.2   \n",
       "Australia                                        39.5   \n",
       "New Zealand                                      38.6   \n",
       "\n",
       "                          2020 1st quarter (Jan-March)   \\\n",
       "Country of Nationality                                    \n",
       "Canada                                             88.9   \n",
       "United States Of America                           84.5   \n",
       "Argentina                                          97.8   \n",
       "Brazil                                             92.6   \n",
       "Mexico                                             95.8   \n",
       "...                                                 ...   \n",
       "Japan                                              93.4   \n",
       "Korea (Republic Of                                 81.0   \n",
       "Republic Of China Taiwan                           97.7   \n",
       "Australia                                          95.2   \n",
       "New Zealand                                        94.2   \n",
       "\n",
       "                          2020 2nd quarter (Apr-June)  \\\n",
       "Country of Nationality                                  \n",
       "Canada                                            0.3   \n",
       "United States Of America                          0.9   \n",
       "Argentina                                         0.2   \n",
       "Brazil                                            0.9   \n",
       "Mexico                                            0.5   \n",
       "...                                               ...   \n",
       "Japan                                             0.5   \n",
       "Korea (Republic Of                                3.2   \n",
       "Republic Of China Taiwan                          0.0   \n",
       "Australia                                         0.4   \n",
       "New Zealand                                       0.8   \n",
       "\n",
       "                          2020 3rd quarter (July-Sep)   \\\n",
       "Country of Nationality                                   \n",
       "Canada                                             2.0   \n",
       "United States Of America                           3.8   \n",
       "Argentina                                          0.5   \n",
       "Brazil                                             2.3   \n",
       "Mexico                                             1.2   \n",
       "...                                                ...   \n",
       "Japan                                              1.7   \n",
       "Korea (Republic Of                                 6.1   \n",
       "Republic Of China Taiwan                           0.5   \n",
       "Australia                                          1.2   \n",
       "New Zealand                                        1.5   \n",
       "\n",
       "                          2020 4th quarter (Oct-Dec)   \n",
       "Country of Nationality                                 \n",
       "Canada                                            8.8  \n",
       "United States Of America                         10.8  \n",
       "Argentina                                         1.5  \n",
       "Brazil                                            4.1  \n",
       "Mexico                                            2.4  \n",
       "...                                               ...  \n",
       "Japan                                             4.3  \n",
       "Korea (Republic Of                                9.6  \n",
       "Republic Of China Taiwan                          1.7  \n",
       "Australia                                         3.2  \n",
       "New Zealand                                       3.5  \n",
       "\n",
       "[63 rows x 28 columns]"
      ]
     },
     "execution_count": 6,
     "metadata": {},
     "output_type": "execute_result"
    }
   ],
   "source": [
    "df"
   ]
  },
  {
   "cell_type": "code",
   "execution_count": 7,
   "metadata": {},
   "outputs": [
    {
     "data": {
      "text/plain": [
       "['2014 1st quarter (Jan-March)',\n",
       " '2014 2nd quarter (Apr-June)',\n",
       " '2014 3rd quarter (July-Sep)',\n",
       " '2014 4th quarter (Oct-Dec))',\n",
       " '2015 1st quarter (Jan-March) ',\n",
       " '2015 2nd quarter (Apr-June)',\n",
       " '2015 3rd quarter (July-Sep) ',\n",
       " '2015 4th quarter (Oct-Dec) ',\n",
       " '2016 1st quarter (Jan-March) ',\n",
       " '2016 2nd quarter (Apr-June)',\n",
       " '2016 3rd quarter (July-Sep) ',\n",
       " '2016 4th quarter (Oct-Dec) ',\n",
       " '2017 1st quarter (Jan-March) ',\n",
       " '2017 2nd quarter (Apr-June)',\n",
       " '2017 3rd quarter (July-Sep) ',\n",
       " '2017 4th quarter (Oct-Dec) ',\n",
       " '2018 1st quarter (Jan-March) ',\n",
       " '2018 2nd quarter (Apr-June)',\n",
       " '2018 3rd quarter (July-Sep) ',\n",
       " '2018 4th quarter (Oct-Dec) ',\n",
       " '2019 1st quarter (Jan-March) ',\n",
       " '2019 2nd quarter (Apr-June)',\n",
       " '2019 3rd quarter (July-Sep) ',\n",
       " '2019 4th quarter (Oct-Dec) ',\n",
       " '2020 1st quarter (Jan-March) ',\n",
       " '2020 2nd quarter (Apr-June)',\n",
       " '2020 3rd quarter (July-Sep) ',\n",
       " '2020 4th quarter (Oct-Dec) ']"
      ]
     },
     "execution_count": 7,
     "metadata": {},
     "output_type": "execute_result"
    }
   ],
   "source": [
    "df.columns.to_list()"
   ]
  },
  {
   "cell_type": "code",
   "execution_count": 8,
   "metadata": {},
   "outputs": [
    {
     "data": {
      "application/vnd.plotly.v1+json": {
       "config": {
        "plotlyServerURL": "https://plot.ly"
       },
       "data": [
        {
         "hovertemplate": "variable=2014 1st quarter (Jan-March)<br>Country of Nationality=%{x}<br>value=%{y}<extra></extra>",
         "legendgroup": "2014 1st quarter (Jan-March)",
         "line": {
          "color": "#636efa",
          "dash": "solid"
         },
         "marker": {
          "symbol": "circle"
         },
         "mode": "lines",
         "name": "2014 1st quarter (Jan-March)",
         "orientation": "v",
         "showlegend": true,
         "type": "scatter",
         "x": [
          "Canada",
          "United States Of America",
          "Argentina",
          "Brazil",
          "Mexico",
          "Austria",
          "Belgium",
          "Denmark",
          "Finland",
          "France",
          "Germany",
          "Greece",
          "Ireland",
          "Italy",
          "Netherlands",
          "Norway",
          "Portugal",
          "Spain",
          "Sweden",
          "Switzerland",
          "United Kingdom",
          "Czech Rep.",
          "Hungary",
          "Kazakhstan",
          "Poland",
          "Russian Federation",
          "Ukraine",
          "Egypt",
          "Kenya",
          "Mauritius",
          "Nigeria",
          "South Africa",
          "Sudan",
          "Tanzania",
          "Bahrain",
          "Iraq",
          "Israel",
          "Oman",
          "Saudi Arabia",
          "Turkey",
          "United Arab Emirates",
          "Yemen",
          "Afghanistan",
          "Bangladesh",
          "Bhutan",
          "Iran",
          "Maldives",
          "Nepal",
          "Pakistan",
          "Sri Lanka",
          "Indonesia",
          "Malaysia",
          "Myanmar",
          "Philippines",
          "Singapore",
          "Thailand",
          "Vietnam",
          "China",
          "Japan",
          "Korea (Republic Of ",
          "Republic Of China Taiwan",
          "Australia",
          "New Zealand"
         ],
         "xaxis": "x",
         "y": [
          33.1,
          25.7,
          46.8,
          31,
          23.6,
          33.1,
          28.8,
          40,
          38.6,
          32.3,
          32.1,
          28.9,
          26.1,
          30.2,
          29.2,
          34.7,
          25.5,
          21.3,
          37.5,
          30.6,
          32.3,
          28.4,
          null,
          49.7,
          36.4,
          49.2,
          45,
          25.3,
          25.4,
          26.5,
          27.4,
          27.3,
          21.9,
          26,
          24,
          23.2,
          27.7,
          25,
          23.9,
          28.5,
          18.7,
          24.1,
          34.2,
          40.2,
          21.9,
          24.6,
          24.4,
          22.1,
          28.1,
          26.6,
          26.3,
          26.7,
          34.3,
          25.4,
          23.8,
          37.2,
          26.2,
          28.3,
          28,
          32.1,
          29.7,
          25.2,
          25.5
         ],
         "yaxis": "y"
        },
        {
         "hovertemplate": "variable=2014 2nd quarter (Apr-June)<br>Country of Nationality=%{x}<br>value=%{y}<extra></extra>",
         "legendgroup": "2014 2nd quarter (Apr-June)",
         "line": {
          "color": "#EF553B",
          "dash": "solid"
         },
         "marker": {
          "symbol": "circle"
         },
         "mode": "lines",
         "name": "2014 2nd quarter (Apr-June)",
         "orientation": "v",
         "showlegend": true,
         "type": "scatter",
         "x": [
          "Canada",
          "United States Of America",
          "Argentina",
          "Brazil",
          "Mexico",
          "Austria",
          "Belgium",
          "Denmark",
          "Finland",
          "France",
          "Germany",
          "Greece",
          "Ireland",
          "Italy",
          "Netherlands",
          "Norway",
          "Portugal",
          "Spain",
          "Sweden",
          "Switzerland",
          "United Kingdom",
          "Czech Rep.",
          "Hungary",
          "Kazakhstan",
          "Poland",
          "Russian Federation",
          "Ukraine",
          "Egypt",
          "Kenya",
          "Mauritius",
          "Nigeria",
          "South Africa",
          "Sudan",
          "Tanzania",
          "Bahrain",
          "Iraq",
          "Israel",
          "Oman",
          "Saudi Arabia",
          "Turkey",
          "United Arab Emirates",
          "Yemen",
          "Afghanistan",
          "Bangladesh",
          "Bhutan",
          "Iran",
          "Maldives",
          "Nepal",
          "Pakistan",
          "Sri Lanka",
          "Indonesia",
          "Malaysia",
          "Myanmar",
          "Philippines",
          "Singapore",
          "Thailand",
          "Vietnam",
          "China",
          "Japan",
          "Korea (Republic Of ",
          "Republic Of China Taiwan",
          "Australia",
          "New Zealand"
         ],
         "xaxis": "x",
         "y": [
          14.5,
          22,
          15.6,
          18.8,
          20.3,
          17.1,
          18.5,
          16,
          17.5,
          17.8,
          17.6,
          18.4,
          23.7,
          16.4,
          18.7,
          18.4,
          19.9,
          17.6,
          14,
          17.4,
          16.8,
          18.1,
          null,
          10,
          13.4,
          9.8,
          12.1,
          21.4,
          19.7,
          23.4,
          22.5,
          18,
          24.5,
          21.3,
          20.4,
          24.8,
          18.7,
          26.5,
          23,
          20.8,
          21.1,
          22.3,
          20,
          15,
          24.8,
          20.7,
          23.9,
          23.9,
          20.2,
          19.6,
          21.1,
          20.4,
          13.6,
          23,
          23.2,
          15.6,
          13.5,
          19.8,
          19.7,
          19.1,
          16.8,
          17.1,
          16.3
         ],
         "yaxis": "y"
        },
        {
         "hovertemplate": "variable=2014 3rd quarter (July-Sep)<br>Country of Nationality=%{x}<br>value=%{y}<extra></extra>",
         "legendgroup": "2014 3rd quarter (July-Sep)",
         "line": {
          "color": "#00cc96",
          "dash": "solid"
         },
         "marker": {
          "symbol": "circle"
         },
         "mode": "lines",
         "name": "2014 3rd quarter (July-Sep)",
         "orientation": "v",
         "showlegend": true,
         "type": "scatter",
         "x": [
          "Canada",
          "United States Of America",
          "Argentina",
          "Brazil",
          "Mexico",
          "Austria",
          "Belgium",
          "Denmark",
          "Finland",
          "France",
          "Germany",
          "Greece",
          "Ireland",
          "Italy",
          "Netherlands",
          "Norway",
          "Portugal",
          "Spain",
          "Sweden",
          "Switzerland",
          "United Kingdom",
          "Czech Rep.",
          "Hungary",
          "Kazakhstan",
          "Poland",
          "Russian Federation",
          "Ukraine",
          "Egypt",
          "Kenya",
          "Mauritius",
          "Nigeria",
          "South Africa",
          "Sudan",
          "Tanzania",
          "Bahrain",
          "Iraq",
          "Israel",
          "Oman",
          "Saudi Arabia",
          "Turkey",
          "United Arab Emirates",
          "Yemen",
          "Afghanistan",
          "Bangladesh",
          "Bhutan",
          "Iran",
          "Maldives",
          "Nepal",
          "Pakistan",
          "Sri Lanka",
          "Indonesia",
          "Malaysia",
          "Myanmar",
          "Philippines",
          "Singapore",
          "Thailand",
          "Vietnam",
          "China",
          "Japan",
          "Korea (Republic Of ",
          "Republic Of China Taiwan",
          "Australia",
          "New Zealand"
         ],
         "xaxis": "x",
         "y": [
          15.7,
          20.6,
          13.9,
          18.7,
          26.5,
          20.5,
          22.4,
          16.2,
          13.5,
          22.4,
          19.9,
          22.7,
          21.6,
          23.6,
          22.8,
          17.5,
          20.5,
          35.1,
          12.4,
          19.9,
          20.1,
          22.9,
          null,
          9.7,
          17,
          5.1,
          11,
          26.2,
          20.7,
          22,
          27.3,
          17.4,
          27.8,
          21.2,
          32.8,
          27,
          27.1,
          26.1,
          33.5,
          22.1,
          38.1,
          23.7,
          20.3,
          22.4,
          18.9,
          29.4,
          21.4,
          26.1,
          27.9,
          26.4,
          23,
          22.6,
          8.1,
          23,
          21.6,
          12.5,
          18.9,
          22.4,
          25.1,
          22.6,
          22.7,
          18.4,
          18.3
         ],
         "yaxis": "y"
        },
        {
         "hovertemplate": "variable=2014 4th quarter (Oct-Dec))<br>Country of Nationality=%{x}<br>value=%{y}<extra></extra>",
         "legendgroup": "2014 4th quarter (Oct-Dec))",
         "line": {
          "color": "#ab63fa",
          "dash": "solid"
         },
         "marker": {
          "symbol": "circle"
         },
         "mode": "lines",
         "name": "2014 4th quarter (Oct-Dec))",
         "orientation": "v",
         "showlegend": true,
         "type": "scatter",
         "x": [
          "Canada",
          "United States Of America",
          "Argentina",
          "Brazil",
          "Mexico",
          "Austria",
          "Belgium",
          "Denmark",
          "Finland",
          "France",
          "Germany",
          "Greece",
          "Ireland",
          "Italy",
          "Netherlands",
          "Norway",
          "Portugal",
          "Spain",
          "Sweden",
          "Switzerland",
          "United Kingdom",
          "Czech Rep.",
          "Hungary",
          "Kazakhstan",
          "Poland",
          "Russian Federation",
          "Ukraine",
          "Egypt",
          "Kenya",
          "Mauritius",
          "Nigeria",
          "South Africa",
          "Sudan",
          "Tanzania",
          "Bahrain",
          "Iraq",
          "Israel",
          "Oman",
          "Saudi Arabia",
          "Turkey",
          "United Arab Emirates",
          "Yemen",
          "Afghanistan",
          "Bangladesh",
          "Bhutan",
          "Iran",
          "Maldives",
          "Nepal",
          "Pakistan",
          "Sri Lanka",
          "Indonesia",
          "Malaysia",
          "Myanmar",
          "Philippines",
          "Singapore",
          "Thailand",
          "Vietnam",
          "China",
          "Japan",
          "Korea (Republic Of ",
          "Republic Of China Taiwan",
          "Australia",
          "New Zealand"
         ],
         "xaxis": "x",
         "y": [
          36.7,
          31.7,
          23.7,
          31.5,
          29.6,
          29.3,
          30.3,
          27.8,
          30.4,
          27.5,
          30.4,
          30,
          28.6,
          29.8,
          29.3,
          29.4,
          34.1,
          26,
          36.1,
          32.1,
          30.8,
          30.6,
          null,
          30.6,
          33.2,
          35.9,
          31.9,
          27.1,
          34.2,
          28.1,
          22.8,
          37.3,
          25.8,
          31.5,
          22.8,
          25,
          26.5,
          22.4,
          19.6,
          28.6,
          22.1,
          29.9,
          25.5,
          22.4,
          34.4,
          25.3,
          30.3,
          27.9,
          23.8,
          27.4,
          29.6,
          30.3,
          44,
          28.6,
          31.4,
          34.7,
          41.4,
          29.5,
          27.2,
          26.2,
          30.8,
          39.3,
          39.9
         ],
         "yaxis": "y"
        }
       ],
       "layout": {
        "legend": {
         "title": {
          "text": "variable"
         },
         "tracegroupgap": 0
        },
        "template": {
         "data": {
          "bar": [
           {
            "error_x": {
             "color": "#2a3f5f"
            },
            "error_y": {
             "color": "#2a3f5f"
            },
            "marker": {
             "line": {
              "color": "#E5ECF6",
              "width": 0.5
             },
             "pattern": {
              "fillmode": "overlay",
              "size": 10,
              "solidity": 0.2
             }
            },
            "type": "bar"
           }
          ],
          "barpolar": [
           {
            "marker": {
             "line": {
              "color": "#E5ECF6",
              "width": 0.5
             },
             "pattern": {
              "fillmode": "overlay",
              "size": 10,
              "solidity": 0.2
             }
            },
            "type": "barpolar"
           }
          ],
          "carpet": [
           {
            "aaxis": {
             "endlinecolor": "#2a3f5f",
             "gridcolor": "white",
             "linecolor": "white",
             "minorgridcolor": "white",
             "startlinecolor": "#2a3f5f"
            },
            "baxis": {
             "endlinecolor": "#2a3f5f",
             "gridcolor": "white",
             "linecolor": "white",
             "minorgridcolor": "white",
             "startlinecolor": "#2a3f5f"
            },
            "type": "carpet"
           }
          ],
          "choropleth": [
           {
            "colorbar": {
             "outlinewidth": 0,
             "ticks": ""
            },
            "type": "choropleth"
           }
          ],
          "contour": [
           {
            "colorbar": {
             "outlinewidth": 0,
             "ticks": ""
            },
            "colorscale": [
             [
              0,
              "#0d0887"
             ],
             [
              0.1111111111111111,
              "#46039f"
             ],
             [
              0.2222222222222222,
              "#7201a8"
             ],
             [
              0.3333333333333333,
              "#9c179e"
             ],
             [
              0.4444444444444444,
              "#bd3786"
             ],
             [
              0.5555555555555556,
              "#d8576b"
             ],
             [
              0.6666666666666666,
              "#ed7953"
             ],
             [
              0.7777777777777778,
              "#fb9f3a"
             ],
             [
              0.8888888888888888,
              "#fdca26"
             ],
             [
              1,
              "#f0f921"
             ]
            ],
            "type": "contour"
           }
          ],
          "contourcarpet": [
           {
            "colorbar": {
             "outlinewidth": 0,
             "ticks": ""
            },
            "type": "contourcarpet"
           }
          ],
          "heatmap": [
           {
            "colorbar": {
             "outlinewidth": 0,
             "ticks": ""
            },
            "colorscale": [
             [
              0,
              "#0d0887"
             ],
             [
              0.1111111111111111,
              "#46039f"
             ],
             [
              0.2222222222222222,
              "#7201a8"
             ],
             [
              0.3333333333333333,
              "#9c179e"
             ],
             [
              0.4444444444444444,
              "#bd3786"
             ],
             [
              0.5555555555555556,
              "#d8576b"
             ],
             [
              0.6666666666666666,
              "#ed7953"
             ],
             [
              0.7777777777777778,
              "#fb9f3a"
             ],
             [
              0.8888888888888888,
              "#fdca26"
             ],
             [
              1,
              "#f0f921"
             ]
            ],
            "type": "heatmap"
           }
          ],
          "heatmapgl": [
           {
            "colorbar": {
             "outlinewidth": 0,
             "ticks": ""
            },
            "colorscale": [
             [
              0,
              "#0d0887"
             ],
             [
              0.1111111111111111,
              "#46039f"
             ],
             [
              0.2222222222222222,
              "#7201a8"
             ],
             [
              0.3333333333333333,
              "#9c179e"
             ],
             [
              0.4444444444444444,
              "#bd3786"
             ],
             [
              0.5555555555555556,
              "#d8576b"
             ],
             [
              0.6666666666666666,
              "#ed7953"
             ],
             [
              0.7777777777777778,
              "#fb9f3a"
             ],
             [
              0.8888888888888888,
              "#fdca26"
             ],
             [
              1,
              "#f0f921"
             ]
            ],
            "type": "heatmapgl"
           }
          ],
          "histogram": [
           {
            "marker": {
             "pattern": {
              "fillmode": "overlay",
              "size": 10,
              "solidity": 0.2
             }
            },
            "type": "histogram"
           }
          ],
          "histogram2d": [
           {
            "colorbar": {
             "outlinewidth": 0,
             "ticks": ""
            },
            "colorscale": [
             [
              0,
              "#0d0887"
             ],
             [
              0.1111111111111111,
              "#46039f"
             ],
             [
              0.2222222222222222,
              "#7201a8"
             ],
             [
              0.3333333333333333,
              "#9c179e"
             ],
             [
              0.4444444444444444,
              "#bd3786"
             ],
             [
              0.5555555555555556,
              "#d8576b"
             ],
             [
              0.6666666666666666,
              "#ed7953"
             ],
             [
              0.7777777777777778,
              "#fb9f3a"
             ],
             [
              0.8888888888888888,
              "#fdca26"
             ],
             [
              1,
              "#f0f921"
             ]
            ],
            "type": "histogram2d"
           }
          ],
          "histogram2dcontour": [
           {
            "colorbar": {
             "outlinewidth": 0,
             "ticks": ""
            },
            "colorscale": [
             [
              0,
              "#0d0887"
             ],
             [
              0.1111111111111111,
              "#46039f"
             ],
             [
              0.2222222222222222,
              "#7201a8"
             ],
             [
              0.3333333333333333,
              "#9c179e"
             ],
             [
              0.4444444444444444,
              "#bd3786"
             ],
             [
              0.5555555555555556,
              "#d8576b"
             ],
             [
              0.6666666666666666,
              "#ed7953"
             ],
             [
              0.7777777777777778,
              "#fb9f3a"
             ],
             [
              0.8888888888888888,
              "#fdca26"
             ],
             [
              1,
              "#f0f921"
             ]
            ],
            "type": "histogram2dcontour"
           }
          ],
          "mesh3d": [
           {
            "colorbar": {
             "outlinewidth": 0,
             "ticks": ""
            },
            "type": "mesh3d"
           }
          ],
          "parcoords": [
           {
            "line": {
             "colorbar": {
              "outlinewidth": 0,
              "ticks": ""
             }
            },
            "type": "parcoords"
           }
          ],
          "pie": [
           {
            "automargin": true,
            "type": "pie"
           }
          ],
          "scatter": [
           {
            "fillpattern": {
             "fillmode": "overlay",
             "size": 10,
             "solidity": 0.2
            },
            "type": "scatter"
           }
          ],
          "scatter3d": [
           {
            "line": {
             "colorbar": {
              "outlinewidth": 0,
              "ticks": ""
             }
            },
            "marker": {
             "colorbar": {
              "outlinewidth": 0,
              "ticks": ""
             }
            },
            "type": "scatter3d"
           }
          ],
          "scattercarpet": [
           {
            "marker": {
             "colorbar": {
              "outlinewidth": 0,
              "ticks": ""
             }
            },
            "type": "scattercarpet"
           }
          ],
          "scattergeo": [
           {
            "marker": {
             "colorbar": {
              "outlinewidth": 0,
              "ticks": ""
             }
            },
            "type": "scattergeo"
           }
          ],
          "scattergl": [
           {
            "marker": {
             "colorbar": {
              "outlinewidth": 0,
              "ticks": ""
             }
            },
            "type": "scattergl"
           }
          ],
          "scattermapbox": [
           {
            "marker": {
             "colorbar": {
              "outlinewidth": 0,
              "ticks": ""
             }
            },
            "type": "scattermapbox"
           }
          ],
          "scatterpolar": [
           {
            "marker": {
             "colorbar": {
              "outlinewidth": 0,
              "ticks": ""
             }
            },
            "type": "scatterpolar"
           }
          ],
          "scatterpolargl": [
           {
            "marker": {
             "colorbar": {
              "outlinewidth": 0,
              "ticks": ""
             }
            },
            "type": "scatterpolargl"
           }
          ],
          "scatterternary": [
           {
            "marker": {
             "colorbar": {
              "outlinewidth": 0,
              "ticks": ""
             }
            },
            "type": "scatterternary"
           }
          ],
          "surface": [
           {
            "colorbar": {
             "outlinewidth": 0,
             "ticks": ""
            },
            "colorscale": [
             [
              0,
              "#0d0887"
             ],
             [
              0.1111111111111111,
              "#46039f"
             ],
             [
              0.2222222222222222,
              "#7201a8"
             ],
             [
              0.3333333333333333,
              "#9c179e"
             ],
             [
              0.4444444444444444,
              "#bd3786"
             ],
             [
              0.5555555555555556,
              "#d8576b"
             ],
             [
              0.6666666666666666,
              "#ed7953"
             ],
             [
              0.7777777777777778,
              "#fb9f3a"
             ],
             [
              0.8888888888888888,
              "#fdca26"
             ],
             [
              1,
              "#f0f921"
             ]
            ],
            "type": "surface"
           }
          ],
          "table": [
           {
            "cells": {
             "fill": {
              "color": "#EBF0F8"
             },
             "line": {
              "color": "white"
             }
            },
            "header": {
             "fill": {
              "color": "#C8D4E3"
             },
             "line": {
              "color": "white"
             }
            },
            "type": "table"
           }
          ]
         },
         "layout": {
          "annotationdefaults": {
           "arrowcolor": "#2a3f5f",
           "arrowhead": 0,
           "arrowwidth": 1
          },
          "autotypenumbers": "strict",
          "coloraxis": {
           "colorbar": {
            "outlinewidth": 0,
            "ticks": ""
           }
          },
          "colorscale": {
           "diverging": [
            [
             0,
             "#8e0152"
            ],
            [
             0.1,
             "#c51b7d"
            ],
            [
             0.2,
             "#de77ae"
            ],
            [
             0.3,
             "#f1b6da"
            ],
            [
             0.4,
             "#fde0ef"
            ],
            [
             0.5,
             "#f7f7f7"
            ],
            [
             0.6,
             "#e6f5d0"
            ],
            [
             0.7,
             "#b8e186"
            ],
            [
             0.8,
             "#7fbc41"
            ],
            [
             0.9,
             "#4d9221"
            ],
            [
             1,
             "#276419"
            ]
           ],
           "sequential": [
            [
             0,
             "#0d0887"
            ],
            [
             0.1111111111111111,
             "#46039f"
            ],
            [
             0.2222222222222222,
             "#7201a8"
            ],
            [
             0.3333333333333333,
             "#9c179e"
            ],
            [
             0.4444444444444444,
             "#bd3786"
            ],
            [
             0.5555555555555556,
             "#d8576b"
            ],
            [
             0.6666666666666666,
             "#ed7953"
            ],
            [
             0.7777777777777778,
             "#fb9f3a"
            ],
            [
             0.8888888888888888,
             "#fdca26"
            ],
            [
             1,
             "#f0f921"
            ]
           ],
           "sequentialminus": [
            [
             0,
             "#0d0887"
            ],
            [
             0.1111111111111111,
             "#46039f"
            ],
            [
             0.2222222222222222,
             "#7201a8"
            ],
            [
             0.3333333333333333,
             "#9c179e"
            ],
            [
             0.4444444444444444,
             "#bd3786"
            ],
            [
             0.5555555555555556,
             "#d8576b"
            ],
            [
             0.6666666666666666,
             "#ed7953"
            ],
            [
             0.7777777777777778,
             "#fb9f3a"
            ],
            [
             0.8888888888888888,
             "#fdca26"
            ],
            [
             1,
             "#f0f921"
            ]
           ]
          },
          "colorway": [
           "#636efa",
           "#EF553B",
           "#00cc96",
           "#ab63fa",
           "#FFA15A",
           "#19d3f3",
           "#FF6692",
           "#B6E880",
           "#FF97FF",
           "#FECB52"
          ],
          "font": {
           "color": "#2a3f5f"
          },
          "geo": {
           "bgcolor": "white",
           "lakecolor": "white",
           "landcolor": "#E5ECF6",
           "showlakes": true,
           "showland": true,
           "subunitcolor": "white"
          },
          "hoverlabel": {
           "align": "left"
          },
          "hovermode": "closest",
          "mapbox": {
           "style": "light"
          },
          "paper_bgcolor": "white",
          "plot_bgcolor": "#E5ECF6",
          "polar": {
           "angularaxis": {
            "gridcolor": "white",
            "linecolor": "white",
            "ticks": ""
           },
           "bgcolor": "#E5ECF6",
           "radialaxis": {
            "gridcolor": "white",
            "linecolor": "white",
            "ticks": ""
           }
          },
          "scene": {
           "xaxis": {
            "backgroundcolor": "#E5ECF6",
            "gridcolor": "white",
            "gridwidth": 2,
            "linecolor": "white",
            "showbackground": true,
            "ticks": "",
            "zerolinecolor": "white"
           },
           "yaxis": {
            "backgroundcolor": "#E5ECF6",
            "gridcolor": "white",
            "gridwidth": 2,
            "linecolor": "white",
            "showbackground": true,
            "ticks": "",
            "zerolinecolor": "white"
           },
           "zaxis": {
            "backgroundcolor": "#E5ECF6",
            "gridcolor": "white",
            "gridwidth": 2,
            "linecolor": "white",
            "showbackground": true,
            "ticks": "",
            "zerolinecolor": "white"
           }
          },
          "shapedefaults": {
           "line": {
            "color": "#2a3f5f"
           }
          },
          "ternary": {
           "aaxis": {
            "gridcolor": "white",
            "linecolor": "white",
            "ticks": ""
           },
           "baxis": {
            "gridcolor": "white",
            "linecolor": "white",
            "ticks": ""
           },
           "bgcolor": "#E5ECF6",
           "caxis": {
            "gridcolor": "white",
            "linecolor": "white",
            "ticks": ""
           }
          },
          "title": {
           "x": 0.05
          },
          "xaxis": {
           "automargin": true,
           "gridcolor": "white",
           "linecolor": "white",
           "ticks": "",
           "title": {
            "standoff": 15
           },
           "zerolinecolor": "white",
           "zerolinewidth": 2
          },
          "yaxis": {
           "automargin": true,
           "gridcolor": "white",
           "linecolor": "white",
           "ticks": "",
           "title": {
            "standoff": 15
           },
           "zerolinecolor": "white",
           "zerolinewidth": 2
          }
         }
        },
        "title": {
         "text": "country quarterly wise visiter"
        },
        "xaxis": {
         "anchor": "y",
         "domain": [
          0,
          1
         ],
         "title": {
          "text": "Country of Nationality"
         }
        },
        "yaxis": {
         "anchor": "x",
         "domain": [
          0,
          1
         ],
         "title": {
          "text": "value"
         }
        }
       }
      }
     },
     "metadata": {},
     "output_type": "display_data"
    }
   ],
   "source": [
    "px.line(df, df.index,['2014 1st quarter (Jan-March)','2014 2nd quarter (Apr-June)','2014 3rd quarter (July-Sep)','2014 4th quarter (Oct-Dec))'], title='country quarterly wise visiter')"
   ]
  },
  {
   "cell_type": "code",
   "execution_count": 9,
   "metadata": {},
   "outputs": [
    {
     "data": {
      "application/vnd.plotly.v1+json": {
       "config": {
        "plotlyServerURL": "https://plot.ly"
       },
       "data": [
        {
         "hovertemplate": "variable=2015 1st quarter (Jan-March) <br>Country of Nationality=%{x}<br>value=%{y}<extra></extra>",
         "legendgroup": "2015 1st quarter (Jan-March) ",
         "line": {
          "color": "#636efa",
          "dash": "solid"
         },
         "marker": {
          "symbol": "circle"
         },
         "mode": "lines",
         "name": "2015 1st quarter (Jan-March) ",
         "orientation": "v",
         "showlegend": true,
         "type": "scatter",
         "x": [
          "Canada",
          "United States Of America",
          "Argentina",
          "Brazil",
          "Mexico",
          "Austria",
          "Belgium",
          "Denmark",
          "Finland",
          "France",
          "Germany",
          "Greece",
          "Ireland",
          "Italy",
          "Netherlands",
          "Norway",
          "Portugal",
          "Spain",
          "Sweden",
          "Switzerland",
          "United Kingdom",
          "Czech Rep.",
          "Hungary",
          "Kazakhstan",
          "Poland",
          "Russian Federation",
          "Ukraine",
          "Egypt",
          "Kenya",
          "Mauritius",
          "Nigeria",
          "South Africa",
          "Sudan",
          "Tanzania",
          "Bahrain",
          "Iraq",
          "Israel",
          "Oman",
          "Saudi Arabia",
          "Turkey",
          "United Arab Emirates",
          "Yemen",
          "Afghanistan",
          "Bangladesh",
          "Bhutan",
          "Iran",
          "Maldives",
          "Nepal",
          "Pakistan",
          "Sri Lanka",
          "Indonesia",
          "Malaysia",
          "Myanmar",
          "Philippines",
          "Singapore",
          "Thailand",
          "Vietnam",
          "China",
          "Japan",
          "Korea (Republic Of ",
          "Republic Of China Taiwan",
          "Australia",
          "New Zealand"
         ],
         "xaxis": "x",
         "y": [
          34.2,
          26.4,
          40.6,
          34.8,
          28.1,
          33.6,
          28.5,
          38.1,
          39.1,
          33.2,
          33.6,
          28.9,
          26.3,
          29.3,
          29,
          36.9,
          26.9,
          24.1,
          35.6,
          31,
          32.8,
          28.9,
          null,
          51.5,
          40.5,
          39.1,
          38.1,
          24.4,
          25.3,
          31.2,
          25.6,
          29.9,
          22.7,
          28.6,
          22.7,
          26.3,
          28,
          26.8,
          24.8,
          27.8,
          16.8,
          48.7,
          33.8,
          38.5,
          23.5,
          22.2,
          25.3,
          21.9,
          27.3,
          28.4,
          23.4,
          26.3,
          47.4,
          24.9,
          23.2,
          40.1,
          30.2,
          26.8,
          null,
          31.1,
          32.8,
          25.7,
          25.4
         ],
         "yaxis": "y"
        },
        {
         "hovertemplate": "variable=2015 2nd quarter (Apr-June)<br>Country of Nationality=%{x}<br>value=%{y}<extra></extra>",
         "legendgroup": "2015 2nd quarter (Apr-June)",
         "line": {
          "color": "#EF553B",
          "dash": "solid"
         },
         "marker": {
          "symbol": "circle"
         },
         "mode": "lines",
         "name": "2015 2nd quarter (Apr-June)",
         "orientation": "v",
         "showlegend": true,
         "type": "scatter",
         "x": [
          "Canada",
          "United States Of America",
          "Argentina",
          "Brazil",
          "Mexico",
          "Austria",
          "Belgium",
          "Denmark",
          "Finland",
          "France",
          "Germany",
          "Greece",
          "Ireland",
          "Italy",
          "Netherlands",
          "Norway",
          "Portugal",
          "Spain",
          "Sweden",
          "Switzerland",
          "United Kingdom",
          "Czech Rep.",
          "Hungary",
          "Kazakhstan",
          "Poland",
          "Russian Federation",
          "Ukraine",
          "Egypt",
          "Kenya",
          "Mauritius",
          "Nigeria",
          "South Africa",
          "Sudan",
          "Tanzania",
          "Bahrain",
          "Iraq",
          "Israel",
          "Oman",
          "Saudi Arabia",
          "Turkey",
          "United Arab Emirates",
          "Yemen",
          "Afghanistan",
          "Bangladesh",
          "Bhutan",
          "Iran",
          "Maldives",
          "Nepal",
          "Pakistan",
          "Sri Lanka",
          "Indonesia",
          "Malaysia",
          "Myanmar",
          "Philippines",
          "Singapore",
          "Thailand",
          "Vietnam",
          "China",
          "Japan",
          "Korea (Republic Of ",
          "Republic Of China Taiwan",
          "Australia",
          "New Zealand"
         ],
         "xaxis": "x",
         "y": [
          14.5,
          22.1,
          17.5,
          19,
          21.3,
          16.9,
          18.1,
          15.7,
          16.1,
          17.6,
          16.6,
          20.5,
          22.1,
          16.6,
          18.5,
          15.6,
          19.4,
          17.7,
          14.5,
          16.8,
          15.2,
          20.4,
          null,
          10.4,
          15.9,
          10,
          16.7,
          22.2,
          20.4,
          22.9,
          22.2,
          17.2,
          23.6,
          22.9,
          18,
          24.6,
          17.7,
          22,
          21.8,
          21.3,
          15.1,
          12.8,
          21.9,
          14,
          21.6,
          21.6,
          22.9,
          24,
          19,
          18,
          19,
          20.7,
          14.3,
          23.1,
          23.1,
          14.8,
          16.6,
          19.7,
          null,
          19.7,
          16.9,
          16.7,
          16.5
         ],
         "yaxis": "y"
        },
        {
         "hovertemplate": "variable=2015 3rd quarter (July-Sep) <br>Country of Nationality=%{x}<br>value=%{y}<extra></extra>",
         "legendgroup": "2015 3rd quarter (July-Sep) ",
         "line": {
          "color": "#00cc96",
          "dash": "solid"
         },
         "marker": {
          "symbol": "circle"
         },
         "mode": "lines",
         "name": "2015 3rd quarter (July-Sep) ",
         "orientation": "v",
         "showlegend": true,
         "type": "scatter",
         "x": [
          "Canada",
          "United States Of America",
          "Argentina",
          "Brazil",
          "Mexico",
          "Austria",
          "Belgium",
          "Denmark",
          "Finland",
          "France",
          "Germany",
          "Greece",
          "Ireland",
          "Italy",
          "Netherlands",
          "Norway",
          "Portugal",
          "Spain",
          "Sweden",
          "Switzerland",
          "United Kingdom",
          "Czech Rep.",
          "Hungary",
          "Kazakhstan",
          "Poland",
          "Russian Federation",
          "Ukraine",
          "Egypt",
          "Kenya",
          "Mauritius",
          "Nigeria",
          "South Africa",
          "Sudan",
          "Tanzania",
          "Bahrain",
          "Iraq",
          "Israel",
          "Oman",
          "Saudi Arabia",
          "Turkey",
          "United Arab Emirates",
          "Yemen",
          "Afghanistan",
          "Bangladesh",
          "Bhutan",
          "Iran",
          "Maldives",
          "Nepal",
          "Pakistan",
          "Sri Lanka",
          "Indonesia",
          "Malaysia",
          "Myanmar",
          "Philippines",
          "Singapore",
          "Thailand",
          "Vietnam",
          "China",
          "Japan",
          "Korea (Republic Of ",
          "Republic Of China Taiwan",
          "Australia",
          "New Zealand"
         ],
         "xaxis": "x",
         "y": [
          15.9,
          19.6,
          14.6,
          19.6,
          23.4,
          21.6,
          22.6,
          17.3,
          12.7,
          22.1,
          19.4,
          19.6,
          22.4,
          23.1,
          22.8,
          18.5,
          21.9,
          31.3,
          12.8,
          20.3,
          20.6,
          21,
          null,
          9.9,
          16.2,
          7.2,
          12.9,
          25.2,
          20.6,
          19.6,
          27.7,
          16.9,
          27.4,
          21.2,
          34.7,
          25.1,
          29.7,
          30.1,
          34.6,
          24.3,
          43.5,
          19.6,
          20.7,
          22,
          20.9,
          26,
          22.9,
          26.5,
          30,
          26.3,
          24.6,
          24.8,
          6.4,
          26.1,
          22.5,
          13.3,
          19.9,
          22.9,
          null,
          23.1,
          22.3,
          17.6,
          17.9
         ],
         "yaxis": "y"
        },
        {
         "hovertemplate": "variable=2015 4th quarter (Oct-Dec) <br>Country of Nationality=%{x}<br>value=%{y}<extra></extra>",
         "legendgroup": "2015 4th quarter (Oct-Dec) ",
         "line": {
          "color": "#ab63fa",
          "dash": "solid"
         },
         "marker": {
          "symbol": "circle"
         },
         "mode": "lines",
         "name": "2015 4th quarter (Oct-Dec) ",
         "orientation": "v",
         "showlegend": true,
         "type": "scatter",
         "x": [
          "Canada",
          "United States Of America",
          "Argentina",
          "Brazil",
          "Mexico",
          "Austria",
          "Belgium",
          "Denmark",
          "Finland",
          "France",
          "Germany",
          "Greece",
          "Ireland",
          "Italy",
          "Netherlands",
          "Norway",
          "Portugal",
          "Spain",
          "Sweden",
          "Switzerland",
          "United Kingdom",
          "Czech Rep.",
          "Hungary",
          "Kazakhstan",
          "Poland",
          "Russian Federation",
          "Ukraine",
          "Egypt",
          "Kenya",
          "Mauritius",
          "Nigeria",
          "South Africa",
          "Sudan",
          "Tanzania",
          "Bahrain",
          "Iraq",
          "Israel",
          "Oman",
          "Saudi Arabia",
          "Turkey",
          "United Arab Emirates",
          "Yemen",
          "Afghanistan",
          "Bangladesh",
          "Bhutan",
          "Iran",
          "Maldives",
          "Nepal",
          "Pakistan",
          "Sri Lanka",
          "Indonesia",
          "Malaysia",
          "Myanmar",
          "Philippines",
          "Singapore",
          "Thailand",
          "Vietnam",
          "China",
          "Japan",
          "Korea (Republic Of ",
          "Republic Of China Taiwan",
          "Australia",
          "New Zealand"
         ],
         "xaxis": "x",
         "y": [
          35.4,
          31.9,
          27.3,
          26.6,
          27.2,
          27.9,
          30.8,
          28.9,
          32.1,
          27.1,
          30.4,
          31,
          29.2,
          31,
          29.7,
          29,
          31.8,
          26.9,
          37.1,
          31.9,
          31.4,
          29.7,
          null,
          28.2,
          27.4,
          43.7,
          32.3,
          28.2,
          33.7,
          26.3,
          24.5,
          36,
          26.3,
          27.3,
          24.6,
          24,
          24.6,
          21.1,
          18.8,
          26.6,
          24.6,
          18.9,
          23.6,
          25.6,
          34,
          30.2,
          28.9,
          27.6,
          23.7,
          27.3,
          32.9,
          28.2,
          31.9,
          25.9,
          31.2,
          31.8,
          33.3,
          30.6,
          null,
          26.1,
          28,
          40,
          40.2
         ],
         "yaxis": "y"
        }
       ],
       "layout": {
        "legend": {
         "title": {
          "text": "variable"
         },
         "tracegroupgap": 0
        },
        "margin": {
         "t": 60
        },
        "template": {
         "data": {
          "bar": [
           {
            "error_x": {
             "color": "#2a3f5f"
            },
            "error_y": {
             "color": "#2a3f5f"
            },
            "marker": {
             "line": {
              "color": "#E5ECF6",
              "width": 0.5
             },
             "pattern": {
              "fillmode": "overlay",
              "size": 10,
              "solidity": 0.2
             }
            },
            "type": "bar"
           }
          ],
          "barpolar": [
           {
            "marker": {
             "line": {
              "color": "#E5ECF6",
              "width": 0.5
             },
             "pattern": {
              "fillmode": "overlay",
              "size": 10,
              "solidity": 0.2
             }
            },
            "type": "barpolar"
           }
          ],
          "carpet": [
           {
            "aaxis": {
             "endlinecolor": "#2a3f5f",
             "gridcolor": "white",
             "linecolor": "white",
             "minorgridcolor": "white",
             "startlinecolor": "#2a3f5f"
            },
            "baxis": {
             "endlinecolor": "#2a3f5f",
             "gridcolor": "white",
             "linecolor": "white",
             "minorgridcolor": "white",
             "startlinecolor": "#2a3f5f"
            },
            "type": "carpet"
           }
          ],
          "choropleth": [
           {
            "colorbar": {
             "outlinewidth": 0,
             "ticks": ""
            },
            "type": "choropleth"
           }
          ],
          "contour": [
           {
            "colorbar": {
             "outlinewidth": 0,
             "ticks": ""
            },
            "colorscale": [
             [
              0,
              "#0d0887"
             ],
             [
              0.1111111111111111,
              "#46039f"
             ],
             [
              0.2222222222222222,
              "#7201a8"
             ],
             [
              0.3333333333333333,
              "#9c179e"
             ],
             [
              0.4444444444444444,
              "#bd3786"
             ],
             [
              0.5555555555555556,
              "#d8576b"
             ],
             [
              0.6666666666666666,
              "#ed7953"
             ],
             [
              0.7777777777777778,
              "#fb9f3a"
             ],
             [
              0.8888888888888888,
              "#fdca26"
             ],
             [
              1,
              "#f0f921"
             ]
            ],
            "type": "contour"
           }
          ],
          "contourcarpet": [
           {
            "colorbar": {
             "outlinewidth": 0,
             "ticks": ""
            },
            "type": "contourcarpet"
           }
          ],
          "heatmap": [
           {
            "colorbar": {
             "outlinewidth": 0,
             "ticks": ""
            },
            "colorscale": [
             [
              0,
              "#0d0887"
             ],
             [
              0.1111111111111111,
              "#46039f"
             ],
             [
              0.2222222222222222,
              "#7201a8"
             ],
             [
              0.3333333333333333,
              "#9c179e"
             ],
             [
              0.4444444444444444,
              "#bd3786"
             ],
             [
              0.5555555555555556,
              "#d8576b"
             ],
             [
              0.6666666666666666,
              "#ed7953"
             ],
             [
              0.7777777777777778,
              "#fb9f3a"
             ],
             [
              0.8888888888888888,
              "#fdca26"
             ],
             [
              1,
              "#f0f921"
             ]
            ],
            "type": "heatmap"
           }
          ],
          "heatmapgl": [
           {
            "colorbar": {
             "outlinewidth": 0,
             "ticks": ""
            },
            "colorscale": [
             [
              0,
              "#0d0887"
             ],
             [
              0.1111111111111111,
              "#46039f"
             ],
             [
              0.2222222222222222,
              "#7201a8"
             ],
             [
              0.3333333333333333,
              "#9c179e"
             ],
             [
              0.4444444444444444,
              "#bd3786"
             ],
             [
              0.5555555555555556,
              "#d8576b"
             ],
             [
              0.6666666666666666,
              "#ed7953"
             ],
             [
              0.7777777777777778,
              "#fb9f3a"
             ],
             [
              0.8888888888888888,
              "#fdca26"
             ],
             [
              1,
              "#f0f921"
             ]
            ],
            "type": "heatmapgl"
           }
          ],
          "histogram": [
           {
            "marker": {
             "pattern": {
              "fillmode": "overlay",
              "size": 10,
              "solidity": 0.2
             }
            },
            "type": "histogram"
           }
          ],
          "histogram2d": [
           {
            "colorbar": {
             "outlinewidth": 0,
             "ticks": ""
            },
            "colorscale": [
             [
              0,
              "#0d0887"
             ],
             [
              0.1111111111111111,
              "#46039f"
             ],
             [
              0.2222222222222222,
              "#7201a8"
             ],
             [
              0.3333333333333333,
              "#9c179e"
             ],
             [
              0.4444444444444444,
              "#bd3786"
             ],
             [
              0.5555555555555556,
              "#d8576b"
             ],
             [
              0.6666666666666666,
              "#ed7953"
             ],
             [
              0.7777777777777778,
              "#fb9f3a"
             ],
             [
              0.8888888888888888,
              "#fdca26"
             ],
             [
              1,
              "#f0f921"
             ]
            ],
            "type": "histogram2d"
           }
          ],
          "histogram2dcontour": [
           {
            "colorbar": {
             "outlinewidth": 0,
             "ticks": ""
            },
            "colorscale": [
             [
              0,
              "#0d0887"
             ],
             [
              0.1111111111111111,
              "#46039f"
             ],
             [
              0.2222222222222222,
              "#7201a8"
             ],
             [
              0.3333333333333333,
              "#9c179e"
             ],
             [
              0.4444444444444444,
              "#bd3786"
             ],
             [
              0.5555555555555556,
              "#d8576b"
             ],
             [
              0.6666666666666666,
              "#ed7953"
             ],
             [
              0.7777777777777778,
              "#fb9f3a"
             ],
             [
              0.8888888888888888,
              "#fdca26"
             ],
             [
              1,
              "#f0f921"
             ]
            ],
            "type": "histogram2dcontour"
           }
          ],
          "mesh3d": [
           {
            "colorbar": {
             "outlinewidth": 0,
             "ticks": ""
            },
            "type": "mesh3d"
           }
          ],
          "parcoords": [
           {
            "line": {
             "colorbar": {
              "outlinewidth": 0,
              "ticks": ""
             }
            },
            "type": "parcoords"
           }
          ],
          "pie": [
           {
            "automargin": true,
            "type": "pie"
           }
          ],
          "scatter": [
           {
            "fillpattern": {
             "fillmode": "overlay",
             "size": 10,
             "solidity": 0.2
            },
            "type": "scatter"
           }
          ],
          "scatter3d": [
           {
            "line": {
             "colorbar": {
              "outlinewidth": 0,
              "ticks": ""
             }
            },
            "marker": {
             "colorbar": {
              "outlinewidth": 0,
              "ticks": ""
             }
            },
            "type": "scatter3d"
           }
          ],
          "scattercarpet": [
           {
            "marker": {
             "colorbar": {
              "outlinewidth": 0,
              "ticks": ""
             }
            },
            "type": "scattercarpet"
           }
          ],
          "scattergeo": [
           {
            "marker": {
             "colorbar": {
              "outlinewidth": 0,
              "ticks": ""
             }
            },
            "type": "scattergeo"
           }
          ],
          "scattergl": [
           {
            "marker": {
             "colorbar": {
              "outlinewidth": 0,
              "ticks": ""
             }
            },
            "type": "scattergl"
           }
          ],
          "scattermapbox": [
           {
            "marker": {
             "colorbar": {
              "outlinewidth": 0,
              "ticks": ""
             }
            },
            "type": "scattermapbox"
           }
          ],
          "scatterpolar": [
           {
            "marker": {
             "colorbar": {
              "outlinewidth": 0,
              "ticks": ""
             }
            },
            "type": "scatterpolar"
           }
          ],
          "scatterpolargl": [
           {
            "marker": {
             "colorbar": {
              "outlinewidth": 0,
              "ticks": ""
             }
            },
            "type": "scatterpolargl"
           }
          ],
          "scatterternary": [
           {
            "marker": {
             "colorbar": {
              "outlinewidth": 0,
              "ticks": ""
             }
            },
            "type": "scatterternary"
           }
          ],
          "surface": [
           {
            "colorbar": {
             "outlinewidth": 0,
             "ticks": ""
            },
            "colorscale": [
             [
              0,
              "#0d0887"
             ],
             [
              0.1111111111111111,
              "#46039f"
             ],
             [
              0.2222222222222222,
              "#7201a8"
             ],
             [
              0.3333333333333333,
              "#9c179e"
             ],
             [
              0.4444444444444444,
              "#bd3786"
             ],
             [
              0.5555555555555556,
              "#d8576b"
             ],
             [
              0.6666666666666666,
              "#ed7953"
             ],
             [
              0.7777777777777778,
              "#fb9f3a"
             ],
             [
              0.8888888888888888,
              "#fdca26"
             ],
             [
              1,
              "#f0f921"
             ]
            ],
            "type": "surface"
           }
          ],
          "table": [
           {
            "cells": {
             "fill": {
              "color": "#EBF0F8"
             },
             "line": {
              "color": "white"
             }
            },
            "header": {
             "fill": {
              "color": "#C8D4E3"
             },
             "line": {
              "color": "white"
             }
            },
            "type": "table"
           }
          ]
         },
         "layout": {
          "annotationdefaults": {
           "arrowcolor": "#2a3f5f",
           "arrowhead": 0,
           "arrowwidth": 1
          },
          "autotypenumbers": "strict",
          "coloraxis": {
           "colorbar": {
            "outlinewidth": 0,
            "ticks": ""
           }
          },
          "colorscale": {
           "diverging": [
            [
             0,
             "#8e0152"
            ],
            [
             0.1,
             "#c51b7d"
            ],
            [
             0.2,
             "#de77ae"
            ],
            [
             0.3,
             "#f1b6da"
            ],
            [
             0.4,
             "#fde0ef"
            ],
            [
             0.5,
             "#f7f7f7"
            ],
            [
             0.6,
             "#e6f5d0"
            ],
            [
             0.7,
             "#b8e186"
            ],
            [
             0.8,
             "#7fbc41"
            ],
            [
             0.9,
             "#4d9221"
            ],
            [
             1,
             "#276419"
            ]
           ],
           "sequential": [
            [
             0,
             "#0d0887"
            ],
            [
             0.1111111111111111,
             "#46039f"
            ],
            [
             0.2222222222222222,
             "#7201a8"
            ],
            [
             0.3333333333333333,
             "#9c179e"
            ],
            [
             0.4444444444444444,
             "#bd3786"
            ],
            [
             0.5555555555555556,
             "#d8576b"
            ],
            [
             0.6666666666666666,
             "#ed7953"
            ],
            [
             0.7777777777777778,
             "#fb9f3a"
            ],
            [
             0.8888888888888888,
             "#fdca26"
            ],
            [
             1,
             "#f0f921"
            ]
           ],
           "sequentialminus": [
            [
             0,
             "#0d0887"
            ],
            [
             0.1111111111111111,
             "#46039f"
            ],
            [
             0.2222222222222222,
             "#7201a8"
            ],
            [
             0.3333333333333333,
             "#9c179e"
            ],
            [
             0.4444444444444444,
             "#bd3786"
            ],
            [
             0.5555555555555556,
             "#d8576b"
            ],
            [
             0.6666666666666666,
             "#ed7953"
            ],
            [
             0.7777777777777778,
             "#fb9f3a"
            ],
            [
             0.8888888888888888,
             "#fdca26"
            ],
            [
             1,
             "#f0f921"
            ]
           ]
          },
          "colorway": [
           "#636efa",
           "#EF553B",
           "#00cc96",
           "#ab63fa",
           "#FFA15A",
           "#19d3f3",
           "#FF6692",
           "#B6E880",
           "#FF97FF",
           "#FECB52"
          ],
          "font": {
           "color": "#2a3f5f"
          },
          "geo": {
           "bgcolor": "white",
           "lakecolor": "white",
           "landcolor": "#E5ECF6",
           "showlakes": true,
           "showland": true,
           "subunitcolor": "white"
          },
          "hoverlabel": {
           "align": "left"
          },
          "hovermode": "closest",
          "mapbox": {
           "style": "light"
          },
          "paper_bgcolor": "white",
          "plot_bgcolor": "#E5ECF6",
          "polar": {
           "angularaxis": {
            "gridcolor": "white",
            "linecolor": "white",
            "ticks": ""
           },
           "bgcolor": "#E5ECF6",
           "radialaxis": {
            "gridcolor": "white",
            "linecolor": "white",
            "ticks": ""
           }
          },
          "scene": {
           "xaxis": {
            "backgroundcolor": "#E5ECF6",
            "gridcolor": "white",
            "gridwidth": 2,
            "linecolor": "white",
            "showbackground": true,
            "ticks": "",
            "zerolinecolor": "white"
           },
           "yaxis": {
            "backgroundcolor": "#E5ECF6",
            "gridcolor": "white",
            "gridwidth": 2,
            "linecolor": "white",
            "showbackground": true,
            "ticks": "",
            "zerolinecolor": "white"
           },
           "zaxis": {
            "backgroundcolor": "#E5ECF6",
            "gridcolor": "white",
            "gridwidth": 2,
            "linecolor": "white",
            "showbackground": true,
            "ticks": "",
            "zerolinecolor": "white"
           }
          },
          "shapedefaults": {
           "line": {
            "color": "#2a3f5f"
           }
          },
          "ternary": {
           "aaxis": {
            "gridcolor": "white",
            "linecolor": "white",
            "ticks": ""
           },
           "baxis": {
            "gridcolor": "white",
            "linecolor": "white",
            "ticks": ""
           },
           "bgcolor": "#E5ECF6",
           "caxis": {
            "gridcolor": "white",
            "linecolor": "white",
            "ticks": ""
           }
          },
          "title": {
           "x": 0.05
          },
          "xaxis": {
           "automargin": true,
           "gridcolor": "white",
           "linecolor": "white",
           "ticks": "",
           "title": {
            "standoff": 15
           },
           "zerolinecolor": "white",
           "zerolinewidth": 2
          },
          "yaxis": {
           "automargin": true,
           "gridcolor": "white",
           "linecolor": "white",
           "ticks": "",
           "title": {
            "standoff": 15
           },
           "zerolinecolor": "white",
           "zerolinewidth": 2
          }
         }
        },
        "xaxis": {
         "anchor": "y",
         "domain": [
          0,
          1
         ],
         "title": {
          "text": "Country of Nationality"
         }
        },
        "yaxis": {
         "anchor": "x",
         "domain": [
          0,
          1
         ],
         "title": {
          "text": "value"
         }
        }
       }
      }
     },
     "metadata": {},
     "output_type": "display_data"
    }
   ],
   "source": [
    "cols = ['2015 1st quarter (Jan-March) ','2015 2nd quarter (Apr-June)', '2015 3rd quarter (July-Sep) ', '2015 4th quarter (Oct-Dec) ']\n",
    "px.line(df, df.index, cols)"
   ]
  },
  {
   "cell_type": "code",
   "execution_count": 10,
   "metadata": {},
   "outputs": [
    {
     "data": {
      "application/vnd.plotly.v1+json": {
       "config": {
        "plotlyServerURL": "https://plot.ly"
       },
       "data": [
        {
         "hovertemplate": "variable=2016 1st quarter (Jan-March) <br>Country of Nationality=%{x}<br>value=%{y}<extra></extra>",
         "legendgroup": "2016 1st quarter (Jan-March) ",
         "line": {
          "color": "#636efa",
          "dash": "solid"
         },
         "marker": {
          "symbol": "circle"
         },
         "mode": "lines",
         "name": "2016 1st quarter (Jan-March) ",
         "orientation": "v",
         "showlegend": true,
         "type": "scatter",
         "x": [
          "Canada",
          "United States Of America",
          "Argentina",
          "Brazil",
          "Mexico",
          "Austria",
          "Belgium",
          "Denmark",
          "Finland",
          "France",
          "Germany",
          "Greece",
          "Ireland",
          "Italy",
          "Netherlands",
          "Norway",
          "Portugal",
          "Spain",
          "Sweden",
          "Switzerland",
          "United Kingdom",
          "Czech Rep.",
          "Hungary",
          "Kazakhstan",
          "Poland",
          "Russian Federation",
          "Ukraine",
          "Egypt",
          "Kenya",
          "Mauritius",
          "Nigeria",
          "South Africa",
          "Sudan",
          "Tanzania",
          "Bahrain",
          "Iraq",
          "Israel",
          "Oman",
          "Saudi Arabia",
          "Turkey",
          "United Arab Emirates",
          "Yemen",
          "Afghanistan",
          "Bangladesh",
          "Bhutan",
          "Iran",
          "Maldives",
          "Nepal",
          "Pakistan",
          "Sri Lanka",
          "Indonesia",
          "Malaysia",
          "Myanmar",
          "Philippines",
          "Singapore",
          "Thailand",
          "Vietnam",
          "China",
          "Japan",
          "Korea (Republic Of ",
          "Republic Of China Taiwan",
          "Australia",
          "New Zealand"
         ],
         "xaxis": "x",
         "y": [
          34.5,
          25.7,
          41.7,
          29.7,
          25.4,
          34.4,
          30.2,
          38,
          40.2,
          32.6,
          32.9,
          27.3,
          27.5,
          29.1,
          28.6,
          36.1,
          27.9,
          23.6,
          36.3,
          31.7,
          32.5,
          31.7,
          36.4,
          42.1,
          35.8,
          36.4,
          37.9,
          26.1,
          26.3,
          28.9,
          28,
          27.2,
          21.6,
          26.1,
          24.4,
          22.2,
          24.7,
          26.3,
          24,
          28.1,
          19.9,
          21.1,
          32.2,
          24,
          28.6,
          42.2,
          25.8,
          26.7,
          22.3,
          28.8,
          28.3,
          25.8,
          43.2,
          26.5,
          23.4,
          37.1,
          28.9,
          28.9,
          28.6,
          30.1,
          32.6,
          26.9,
          25.3
         ],
         "yaxis": "y"
        },
        {
         "hovertemplate": "variable=2016 2nd quarter (Apr-June)<br>Country of Nationality=%{x}<br>value=%{y}<extra></extra>",
         "legendgroup": "2016 2nd quarter (Apr-June)",
         "line": {
          "color": "#EF553B",
          "dash": "solid"
         },
         "marker": {
          "symbol": "circle"
         },
         "mode": "lines",
         "name": "2016 2nd quarter (Apr-June)",
         "orientation": "v",
         "showlegend": true,
         "type": "scatter",
         "x": [
          "Canada",
          "United States Of America",
          "Argentina",
          "Brazil",
          "Mexico",
          "Austria",
          "Belgium",
          "Denmark",
          "Finland",
          "France",
          "Germany",
          "Greece",
          "Ireland",
          "Italy",
          "Netherlands",
          "Norway",
          "Portugal",
          "Spain",
          "Sweden",
          "Switzerland",
          "United Kingdom",
          "Czech Rep.",
          "Hungary",
          "Kazakhstan",
          "Poland",
          "Russian Federation",
          "Ukraine",
          "Egypt",
          "Kenya",
          "Mauritius",
          "Nigeria",
          "South Africa",
          "Sudan",
          "Tanzania",
          "Bahrain",
          "Iraq",
          "Israel",
          "Oman",
          "Saudi Arabia",
          "Turkey",
          "United Arab Emirates",
          "Yemen",
          "Afghanistan",
          "Bangladesh",
          "Bhutan",
          "Iran",
          "Maldives",
          "Nepal",
          "Pakistan",
          "Sri Lanka",
          "Indonesia",
          "Malaysia",
          "Myanmar",
          "Philippines",
          "Singapore",
          "Thailand",
          "Vietnam",
          "China",
          "Japan",
          "Korea (Republic Of ",
          "Republic Of China Taiwan",
          "Australia",
          "New Zealand"
         ],
         "xaxis": "x",
         "y": [
          14.1,
          21.2,
          14.1,
          16.7,
          17.9,
          15.6,
          16,
          15,
          15.5,
          17.2,
          16.2,
          18.2,
          21.1,
          15.9,
          18.5,
          15.5,
          18,
          15.1,
          14.4,
          15.5,
          14.2,
          22,
          16,
          9.6,
          15.3,
          11,
          13.5,
          21.6,
          19.7,
          20.7,
          23.8,
          15.6,
          23.9,
          20.8,
          18.6,
          23.1,
          18.2,
          18.8,
          17.3,
          21.2,
          15.5,
          20.3,
          16.6,
          24.1,
          19.9,
          12.6,
          19.9,
          21.6,
          24.7,
          19.2,
          19.4,
          19.8,
          14.5,
          23.1,
          22,
          16.4,
          13.1,
          19.8,
          20.3,
          19.1,
          16.8,
          15.3,
          14.9
         ],
         "yaxis": "y"
        },
        {
         "hovertemplate": "variable=2016 3rd quarter (July-Sep) <br>Country of Nationality=%{x}<br>value=%{y}<extra></extra>",
         "legendgroup": "2016 3rd quarter (July-Sep) ",
         "line": {
          "color": "#00cc96",
          "dash": "solid"
         },
         "marker": {
          "symbol": "circle"
         },
         "mode": "lines",
         "name": "2016 3rd quarter (July-Sep) ",
         "orientation": "v",
         "showlegend": true,
         "type": "scatter",
         "x": [
          "Canada",
          "United States Of America",
          "Argentina",
          "Brazil",
          "Mexico",
          "Austria",
          "Belgium",
          "Denmark",
          "Finland",
          "France",
          "Germany",
          "Greece",
          "Ireland",
          "Italy",
          "Netherlands",
          "Norway",
          "Portugal",
          "Spain",
          "Sweden",
          "Switzerland",
          "United Kingdom",
          "Czech Rep.",
          "Hungary",
          "Kazakhstan",
          "Poland",
          "Russian Federation",
          "Ukraine",
          "Egypt",
          "Kenya",
          "Mauritius",
          "Nigeria",
          "South Africa",
          "Sudan",
          "Tanzania",
          "Bahrain",
          "Iraq",
          "Israel",
          "Oman",
          "Saudi Arabia",
          "Turkey",
          "United Arab Emirates",
          "Yemen",
          "Afghanistan",
          "Bangladesh",
          "Bhutan",
          "Iran",
          "Maldives",
          "Nepal",
          "Pakistan",
          "Sri Lanka",
          "Indonesia",
          "Malaysia",
          "Myanmar",
          "Philippines",
          "Singapore",
          "Thailand",
          "Vietnam",
          "China",
          "Japan",
          "Korea (Republic Of ",
          "Republic Of China Taiwan",
          "Australia",
          "New Zealand"
         ],
         "xaxis": "x",
         "y": [
          16.5,
          20.8,
          16.2,
          19.7,
          23.4,
          20.5,
          22.7,
          17.4,
          12.7,
          22,
          19.1,
          21.2,
          22.4,
          23.1,
          22.6,
          17.5,
          24,
          34,
          13.1,
          19.7,
          21.5,
          18.8,
          18.1,
          10.3,
          17.4,
          6.1,
          12.5,
          26.4,
          21.5,
          19.7,
          26.5,
          18,
          27.6,
          23.1,
          35.6,
          31.2,
          30,
          34.2,
          39.3,
          23,
          45.9,
          33.7,
          22.6,
          26.4,
          24.8,
          20.3,
          23,
          25.3,
          28.5,
          28.3,
          22.2,
          25.8,
          8,
          23.7,
          22.7,
          15.7,
          21.4,
          22.1,
          24.4,
          23.1,
          24.5,
          18,
          18.8
         ],
         "yaxis": "y"
        },
        {
         "hovertemplate": "variable=2016 4th quarter (Oct-Dec) <br>Country of Nationality=%{x}<br>value=%{y}<extra></extra>",
         "legendgroup": "2016 4th quarter (Oct-Dec) ",
         "line": {
          "color": "#ab63fa",
          "dash": "solid"
         },
         "marker": {
          "symbol": "circle"
         },
         "mode": "lines",
         "name": "2016 4th quarter (Oct-Dec) ",
         "orientation": "v",
         "showlegend": true,
         "type": "scatter",
         "x": [
          "Canada",
          "United States Of America",
          "Argentina",
          "Brazil",
          "Mexico",
          "Austria",
          "Belgium",
          "Denmark",
          "Finland",
          "France",
          "Germany",
          "Greece",
          "Ireland",
          "Italy",
          "Netherlands",
          "Norway",
          "Portugal",
          "Spain",
          "Sweden",
          "Switzerland",
          "United Kingdom",
          "Czech Rep.",
          "Hungary",
          "Kazakhstan",
          "Poland",
          "Russian Federation",
          "Ukraine",
          "Egypt",
          "Kenya",
          "Mauritius",
          "Nigeria",
          "South Africa",
          "Sudan",
          "Tanzania",
          "Bahrain",
          "Iraq",
          "Israel",
          "Oman",
          "Saudi Arabia",
          "Turkey",
          "United Arab Emirates",
          "Yemen",
          "Afghanistan",
          "Bangladesh",
          "Bhutan",
          "Iran",
          "Maldives",
          "Nepal",
          "Pakistan",
          "Sri Lanka",
          "Indonesia",
          "Malaysia",
          "Myanmar",
          "Philippines",
          "Singapore",
          "Thailand",
          "Vietnam",
          "China",
          "Japan",
          "Korea (Republic Of ",
          "Republic Of China Taiwan",
          "Australia",
          "New Zealand"
         ],
         "xaxis": "x",
         "y": [
          34.9,
          32.3,
          28,
          33.9,
          33.3,
          29.5,
          31.2,
          29.7,
          31.6,
          28.2,
          31.8,
          33.3,
          29,
          31.9,
          30.2,
          30.9,
          30.2,
          27.4,
          36.2,
          33.1,
          31.9,
          27.6,
          29.6,
          38,
          31.4,
          46.6,
          36.1,
          25.8,
          32.5,
          30.6,
          21.7,
          39.2,
          26.9,
          30,
          21.4,
          23.5,
          27.1,
          20.7,
          19.4,
          27.7,
          18.7,
          24.9,
          28.6,
          25.5,
          26.6,
          25,
          31.3,
          26.4,
          24.6,
          23.7,
          30.1,
          28.5,
          34.3,
          26.7,
          31.8,
          30.7,
          36.6,
          29.2,
          26.7,
          27.7,
          26.1,
          39.8,
          41
         ],
         "yaxis": "y"
        }
       ],
       "layout": {
        "legend": {
         "title": {
          "text": "variable"
         },
         "tracegroupgap": 0
        },
        "template": {
         "data": {
          "bar": [
           {
            "error_x": {
             "color": "#2a3f5f"
            },
            "error_y": {
             "color": "#2a3f5f"
            },
            "marker": {
             "line": {
              "color": "#E5ECF6",
              "width": 0.5
             },
             "pattern": {
              "fillmode": "overlay",
              "size": 10,
              "solidity": 0.2
             }
            },
            "type": "bar"
           }
          ],
          "barpolar": [
           {
            "marker": {
             "line": {
              "color": "#E5ECF6",
              "width": 0.5
             },
             "pattern": {
              "fillmode": "overlay",
              "size": 10,
              "solidity": 0.2
             }
            },
            "type": "barpolar"
           }
          ],
          "carpet": [
           {
            "aaxis": {
             "endlinecolor": "#2a3f5f",
             "gridcolor": "white",
             "linecolor": "white",
             "minorgridcolor": "white",
             "startlinecolor": "#2a3f5f"
            },
            "baxis": {
             "endlinecolor": "#2a3f5f",
             "gridcolor": "white",
             "linecolor": "white",
             "minorgridcolor": "white",
             "startlinecolor": "#2a3f5f"
            },
            "type": "carpet"
           }
          ],
          "choropleth": [
           {
            "colorbar": {
             "outlinewidth": 0,
             "ticks": ""
            },
            "type": "choropleth"
           }
          ],
          "contour": [
           {
            "colorbar": {
             "outlinewidth": 0,
             "ticks": ""
            },
            "colorscale": [
             [
              0,
              "#0d0887"
             ],
             [
              0.1111111111111111,
              "#46039f"
             ],
             [
              0.2222222222222222,
              "#7201a8"
             ],
             [
              0.3333333333333333,
              "#9c179e"
             ],
             [
              0.4444444444444444,
              "#bd3786"
             ],
             [
              0.5555555555555556,
              "#d8576b"
             ],
             [
              0.6666666666666666,
              "#ed7953"
             ],
             [
              0.7777777777777778,
              "#fb9f3a"
             ],
             [
              0.8888888888888888,
              "#fdca26"
             ],
             [
              1,
              "#f0f921"
             ]
            ],
            "type": "contour"
           }
          ],
          "contourcarpet": [
           {
            "colorbar": {
             "outlinewidth": 0,
             "ticks": ""
            },
            "type": "contourcarpet"
           }
          ],
          "heatmap": [
           {
            "colorbar": {
             "outlinewidth": 0,
             "ticks": ""
            },
            "colorscale": [
             [
              0,
              "#0d0887"
             ],
             [
              0.1111111111111111,
              "#46039f"
             ],
             [
              0.2222222222222222,
              "#7201a8"
             ],
             [
              0.3333333333333333,
              "#9c179e"
             ],
             [
              0.4444444444444444,
              "#bd3786"
             ],
             [
              0.5555555555555556,
              "#d8576b"
             ],
             [
              0.6666666666666666,
              "#ed7953"
             ],
             [
              0.7777777777777778,
              "#fb9f3a"
             ],
             [
              0.8888888888888888,
              "#fdca26"
             ],
             [
              1,
              "#f0f921"
             ]
            ],
            "type": "heatmap"
           }
          ],
          "heatmapgl": [
           {
            "colorbar": {
             "outlinewidth": 0,
             "ticks": ""
            },
            "colorscale": [
             [
              0,
              "#0d0887"
             ],
             [
              0.1111111111111111,
              "#46039f"
             ],
             [
              0.2222222222222222,
              "#7201a8"
             ],
             [
              0.3333333333333333,
              "#9c179e"
             ],
             [
              0.4444444444444444,
              "#bd3786"
             ],
             [
              0.5555555555555556,
              "#d8576b"
             ],
             [
              0.6666666666666666,
              "#ed7953"
             ],
             [
              0.7777777777777778,
              "#fb9f3a"
             ],
             [
              0.8888888888888888,
              "#fdca26"
             ],
             [
              1,
              "#f0f921"
             ]
            ],
            "type": "heatmapgl"
           }
          ],
          "histogram": [
           {
            "marker": {
             "pattern": {
              "fillmode": "overlay",
              "size": 10,
              "solidity": 0.2
             }
            },
            "type": "histogram"
           }
          ],
          "histogram2d": [
           {
            "colorbar": {
             "outlinewidth": 0,
             "ticks": ""
            },
            "colorscale": [
             [
              0,
              "#0d0887"
             ],
             [
              0.1111111111111111,
              "#46039f"
             ],
             [
              0.2222222222222222,
              "#7201a8"
             ],
             [
              0.3333333333333333,
              "#9c179e"
             ],
             [
              0.4444444444444444,
              "#bd3786"
             ],
             [
              0.5555555555555556,
              "#d8576b"
             ],
             [
              0.6666666666666666,
              "#ed7953"
             ],
             [
              0.7777777777777778,
              "#fb9f3a"
             ],
             [
              0.8888888888888888,
              "#fdca26"
             ],
             [
              1,
              "#f0f921"
             ]
            ],
            "type": "histogram2d"
           }
          ],
          "histogram2dcontour": [
           {
            "colorbar": {
             "outlinewidth": 0,
             "ticks": ""
            },
            "colorscale": [
             [
              0,
              "#0d0887"
             ],
             [
              0.1111111111111111,
              "#46039f"
             ],
             [
              0.2222222222222222,
              "#7201a8"
             ],
             [
              0.3333333333333333,
              "#9c179e"
             ],
             [
              0.4444444444444444,
              "#bd3786"
             ],
             [
              0.5555555555555556,
              "#d8576b"
             ],
             [
              0.6666666666666666,
              "#ed7953"
             ],
             [
              0.7777777777777778,
              "#fb9f3a"
             ],
             [
              0.8888888888888888,
              "#fdca26"
             ],
             [
              1,
              "#f0f921"
             ]
            ],
            "type": "histogram2dcontour"
           }
          ],
          "mesh3d": [
           {
            "colorbar": {
             "outlinewidth": 0,
             "ticks": ""
            },
            "type": "mesh3d"
           }
          ],
          "parcoords": [
           {
            "line": {
             "colorbar": {
              "outlinewidth": 0,
              "ticks": ""
             }
            },
            "type": "parcoords"
           }
          ],
          "pie": [
           {
            "automargin": true,
            "type": "pie"
           }
          ],
          "scatter": [
           {
            "fillpattern": {
             "fillmode": "overlay",
             "size": 10,
             "solidity": 0.2
            },
            "type": "scatter"
           }
          ],
          "scatter3d": [
           {
            "line": {
             "colorbar": {
              "outlinewidth": 0,
              "ticks": ""
             }
            },
            "marker": {
             "colorbar": {
              "outlinewidth": 0,
              "ticks": ""
             }
            },
            "type": "scatter3d"
           }
          ],
          "scattercarpet": [
           {
            "marker": {
             "colorbar": {
              "outlinewidth": 0,
              "ticks": ""
             }
            },
            "type": "scattercarpet"
           }
          ],
          "scattergeo": [
           {
            "marker": {
             "colorbar": {
              "outlinewidth": 0,
              "ticks": ""
             }
            },
            "type": "scattergeo"
           }
          ],
          "scattergl": [
           {
            "marker": {
             "colorbar": {
              "outlinewidth": 0,
              "ticks": ""
             }
            },
            "type": "scattergl"
           }
          ],
          "scattermapbox": [
           {
            "marker": {
             "colorbar": {
              "outlinewidth": 0,
              "ticks": ""
             }
            },
            "type": "scattermapbox"
           }
          ],
          "scatterpolar": [
           {
            "marker": {
             "colorbar": {
              "outlinewidth": 0,
              "ticks": ""
             }
            },
            "type": "scatterpolar"
           }
          ],
          "scatterpolargl": [
           {
            "marker": {
             "colorbar": {
              "outlinewidth": 0,
              "ticks": ""
             }
            },
            "type": "scatterpolargl"
           }
          ],
          "scatterternary": [
           {
            "marker": {
             "colorbar": {
              "outlinewidth": 0,
              "ticks": ""
             }
            },
            "type": "scatterternary"
           }
          ],
          "surface": [
           {
            "colorbar": {
             "outlinewidth": 0,
             "ticks": ""
            },
            "colorscale": [
             [
              0,
              "#0d0887"
             ],
             [
              0.1111111111111111,
              "#46039f"
             ],
             [
              0.2222222222222222,
              "#7201a8"
             ],
             [
              0.3333333333333333,
              "#9c179e"
             ],
             [
              0.4444444444444444,
              "#bd3786"
             ],
             [
              0.5555555555555556,
              "#d8576b"
             ],
             [
              0.6666666666666666,
              "#ed7953"
             ],
             [
              0.7777777777777778,
              "#fb9f3a"
             ],
             [
              0.8888888888888888,
              "#fdca26"
             ],
             [
              1,
              "#f0f921"
             ]
            ],
            "type": "surface"
           }
          ],
          "table": [
           {
            "cells": {
             "fill": {
              "color": "#EBF0F8"
             },
             "line": {
              "color": "white"
             }
            },
            "header": {
             "fill": {
              "color": "#C8D4E3"
             },
             "line": {
              "color": "white"
             }
            },
            "type": "table"
           }
          ]
         },
         "layout": {
          "annotationdefaults": {
           "arrowcolor": "#2a3f5f",
           "arrowhead": 0,
           "arrowwidth": 1
          },
          "autotypenumbers": "strict",
          "coloraxis": {
           "colorbar": {
            "outlinewidth": 0,
            "ticks": ""
           }
          },
          "colorscale": {
           "diverging": [
            [
             0,
             "#8e0152"
            ],
            [
             0.1,
             "#c51b7d"
            ],
            [
             0.2,
             "#de77ae"
            ],
            [
             0.3,
             "#f1b6da"
            ],
            [
             0.4,
             "#fde0ef"
            ],
            [
             0.5,
             "#f7f7f7"
            ],
            [
             0.6,
             "#e6f5d0"
            ],
            [
             0.7,
             "#b8e186"
            ],
            [
             0.8,
             "#7fbc41"
            ],
            [
             0.9,
             "#4d9221"
            ],
            [
             1,
             "#276419"
            ]
           ],
           "sequential": [
            [
             0,
             "#0d0887"
            ],
            [
             0.1111111111111111,
             "#46039f"
            ],
            [
             0.2222222222222222,
             "#7201a8"
            ],
            [
             0.3333333333333333,
             "#9c179e"
            ],
            [
             0.4444444444444444,
             "#bd3786"
            ],
            [
             0.5555555555555556,
             "#d8576b"
            ],
            [
             0.6666666666666666,
             "#ed7953"
            ],
            [
             0.7777777777777778,
             "#fb9f3a"
            ],
            [
             0.8888888888888888,
             "#fdca26"
            ],
            [
             1,
             "#f0f921"
            ]
           ],
           "sequentialminus": [
            [
             0,
             "#0d0887"
            ],
            [
             0.1111111111111111,
             "#46039f"
            ],
            [
             0.2222222222222222,
             "#7201a8"
            ],
            [
             0.3333333333333333,
             "#9c179e"
            ],
            [
             0.4444444444444444,
             "#bd3786"
            ],
            [
             0.5555555555555556,
             "#d8576b"
            ],
            [
             0.6666666666666666,
             "#ed7953"
            ],
            [
             0.7777777777777778,
             "#fb9f3a"
            ],
            [
             0.8888888888888888,
             "#fdca26"
            ],
            [
             1,
             "#f0f921"
            ]
           ]
          },
          "colorway": [
           "#636efa",
           "#EF553B",
           "#00cc96",
           "#ab63fa",
           "#FFA15A",
           "#19d3f3",
           "#FF6692",
           "#B6E880",
           "#FF97FF",
           "#FECB52"
          ],
          "font": {
           "color": "#2a3f5f"
          },
          "geo": {
           "bgcolor": "white",
           "lakecolor": "white",
           "landcolor": "#E5ECF6",
           "showlakes": true,
           "showland": true,
           "subunitcolor": "white"
          },
          "hoverlabel": {
           "align": "left"
          },
          "hovermode": "closest",
          "mapbox": {
           "style": "light"
          },
          "paper_bgcolor": "white",
          "plot_bgcolor": "#E5ECF6",
          "polar": {
           "angularaxis": {
            "gridcolor": "white",
            "linecolor": "white",
            "ticks": ""
           },
           "bgcolor": "#E5ECF6",
           "radialaxis": {
            "gridcolor": "white",
            "linecolor": "white",
            "ticks": ""
           }
          },
          "scene": {
           "xaxis": {
            "backgroundcolor": "#E5ECF6",
            "gridcolor": "white",
            "gridwidth": 2,
            "linecolor": "white",
            "showbackground": true,
            "ticks": "",
            "zerolinecolor": "white"
           },
           "yaxis": {
            "backgroundcolor": "#E5ECF6",
            "gridcolor": "white",
            "gridwidth": 2,
            "linecolor": "white",
            "showbackground": true,
            "ticks": "",
            "zerolinecolor": "white"
           },
           "zaxis": {
            "backgroundcolor": "#E5ECF6",
            "gridcolor": "white",
            "gridwidth": 2,
            "linecolor": "white",
            "showbackground": true,
            "ticks": "",
            "zerolinecolor": "white"
           }
          },
          "shapedefaults": {
           "line": {
            "color": "#2a3f5f"
           }
          },
          "ternary": {
           "aaxis": {
            "gridcolor": "white",
            "linecolor": "white",
            "ticks": ""
           },
           "baxis": {
            "gridcolor": "white",
            "linecolor": "white",
            "ticks": ""
           },
           "bgcolor": "#E5ECF6",
           "caxis": {
            "gridcolor": "white",
            "linecolor": "white",
            "ticks": ""
           }
          },
          "title": {
           "x": 0.05
          },
          "xaxis": {
           "automargin": true,
           "gridcolor": "white",
           "linecolor": "white",
           "ticks": "",
           "title": {
            "standoff": 15
           },
           "zerolinecolor": "white",
           "zerolinewidth": 2
          },
          "yaxis": {
           "automargin": true,
           "gridcolor": "white",
           "linecolor": "white",
           "ticks": "",
           "title": {
            "standoff": 15
           },
           "zerolinecolor": "white",
           "zerolinewidth": 2
          }
         }
        },
        "title": {
         "text": "country quarterly wise visiter"
        },
        "xaxis": {
         "anchor": "y",
         "domain": [
          0,
          1
         ],
         "title": {
          "text": "Country of Nationality"
         }
        },
        "yaxis": {
         "anchor": "x",
         "domain": [
          0,
          1
         ],
         "title": {
          "text": "value"
         }
        }
       }
      }
     },
     "metadata": {},
     "output_type": "display_data"
    }
   ],
   "source": [
    "cols = ['2016 1st quarter (Jan-March) ','2016 2nd quarter (Apr-June)', '2016 3rd quarter (July-Sep) ', '2016 4th quarter (Oct-Dec) ']\n",
    "px.line(df, df.index, cols, title='country quarterly wise visiter')"
   ]
  },
  {
   "cell_type": "code",
   "execution_count": 11,
   "metadata": {},
   "outputs": [],
   "source": [
    "def clean_2017(x):\n",
    "    if isinstance(x, (int,float)): return x\n",
    "    elif isinstance(x, str): return np.nan\n",
    "    return x\n",
    "\n",
    "df['2017 1st quarter (Jan-March) '] = df['2017 1st quarter (Jan-March) '].apply(clean_2017).astype('float')"
   ]
  },
  {
   "cell_type": "code",
   "execution_count": 12,
   "metadata": {},
   "outputs": [
    {
     "data": {
      "application/vnd.plotly.v1+json": {
       "config": {
        "plotlyServerURL": "https://plot.ly"
       },
       "data": [
        {
         "hovertemplate": "variable=2017 1st quarter (Jan-March) <br>Country of Nationality=%{x}<br>value=%{y}<extra></extra>",
         "legendgroup": "2017 1st quarter (Jan-March) ",
         "line": {
          "color": "#636efa",
          "dash": "solid"
         },
         "marker": {
          "symbol": "circle"
         },
         "mode": "lines",
         "name": "2017 1st quarter (Jan-March) ",
         "orientation": "v",
         "showlegend": true,
         "type": "scatter",
         "x": [
          "Canada",
          "United States Of America",
          "Argentina",
          "Brazil",
          "Mexico",
          "Austria",
          "Belgium",
          "Denmark",
          "Finland",
          "France",
          "Germany",
          "Greece",
          "Ireland",
          "Italy",
          "Netherlands",
          "Norway",
          "Portugal",
          "Spain",
          "Sweden",
          "Switzerland",
          "United Kingdom",
          "Czech Rep.",
          "Hungary",
          "Kazakhstan",
          "Poland",
          "Russian Federation",
          "Ukraine",
          "Egypt",
          "Kenya",
          "Mauritius",
          "Nigeria",
          "South Africa",
          "Sudan",
          "Tanzania",
          "Bahrain",
          "Iraq",
          "Israel",
          "Oman",
          "Saudi Arabia",
          "Turkey",
          "United Arab Emirates",
          "Yemen",
          "Afghanistan",
          "Bangladesh",
          "Bhutan",
          "Iran",
          "Maldives",
          "Nepal",
          "Pakistan",
          "Sri Lanka",
          "Indonesia",
          "Malaysia",
          "Myanmar",
          "Philippines",
          "Singapore",
          "Thailand",
          "Vietnam",
          "China",
          "Japan",
          "Korea (Republic Of ",
          "Republic Of China Taiwan",
          "Australia",
          "New Zealand"
         ],
         "xaxis": "x",
         "y": [
          null,
          null,
          null,
          null,
          null,
          null,
          null,
          null,
          null,
          null,
          null,
          null,
          null,
          null,
          null,
          null,
          null,
          null,
          null,
          null,
          null,
          null,
          null,
          null,
          null,
          null,
          null,
          null,
          null,
          null,
          null,
          null,
          null,
          null,
          null,
          null,
          null,
          null,
          null,
          null,
          null,
          null,
          null,
          null,
          null,
          null,
          null,
          null,
          null,
          null,
          null,
          null,
          null,
          null,
          null,
          null,
          null,
          null,
          null,
          null,
          null,
          null,
          null
         ],
         "yaxis": "y"
        },
        {
         "hovertemplate": "variable=2017 2nd quarter (Apr-June)<br>Country of Nationality=%{x}<br>value=%{y}<extra></extra>",
         "legendgroup": "2017 2nd quarter (Apr-June)",
         "line": {
          "color": "#EF553B",
          "dash": "solid"
         },
         "marker": {
          "symbol": "circle"
         },
         "mode": "lines",
         "name": "2017 2nd quarter (Apr-June)",
         "orientation": "v",
         "showlegend": true,
         "type": "scatter",
         "x": [
          "Canada",
          "United States Of America",
          "Argentina",
          "Brazil",
          "Mexico",
          "Austria",
          "Belgium",
          "Denmark",
          "Finland",
          "France",
          "Germany",
          "Greece",
          "Ireland",
          "Italy",
          "Netherlands",
          "Norway",
          "Portugal",
          "Spain",
          "Sweden",
          "Switzerland",
          "United Kingdom",
          "Czech Rep.",
          "Hungary",
          "Kazakhstan",
          "Poland",
          "Russian Federation",
          "Ukraine",
          "Egypt",
          "Kenya",
          "Mauritius",
          "Nigeria",
          "South Africa",
          "Sudan",
          "Tanzania",
          "Bahrain",
          "Iraq",
          "Israel",
          "Oman",
          "Saudi Arabia",
          "Turkey",
          "United Arab Emirates",
          "Yemen",
          "Afghanistan",
          "Bangladesh",
          "Bhutan",
          "Iran",
          "Maldives",
          "Nepal",
          "Pakistan",
          "Sri Lanka",
          "Indonesia",
          "Malaysia",
          "Myanmar",
          "Philippines",
          "Singapore",
          "Thailand",
          "Vietnam",
          "China",
          "Japan",
          "Korea (Republic Of ",
          "Republic Of China Taiwan",
          "Australia",
          "New Zealand"
         ],
         "xaxis": "x",
         "y": [
          13.9,
          21.6,
          14.3,
          18.5,
          22.6,
          17.1,
          18.3,
          16.2,
          null,
          16.4,
          null,
          18.8,
          24.1,
          15.2,
          17.7,
          17.7,
          20.5,
          17.2,
          14.8,
          17.6,
          16.1,
          18.8,
          15.5,
          7.9,
          16.4,
          10.6,
          14.5,
          21.2,
          20.5,
          19.7,
          23.3,
          18.5,
          21.6,
          null,
          19.8,
          22.3,
          18,
          16,
          18.5,
          20.4,
          14.9,
          21.7,
          19.9,
          25.5,
          null,
          20,
          11.5,
          19,
          21.1,
          20.8,
          17.1,
          19.8,
          21.6,
          11,
          23.6,
          22.7,
          15.8,
          22.7,
          null,
          20.2,
          20.5,
          16.6,
          15.8
         ],
         "yaxis": "y"
        },
        {
         "hovertemplate": "variable=2017 3rd quarter (July-Sep) <br>Country of Nationality=%{x}<br>value=%{y}<extra></extra>",
         "legendgroup": "2017 3rd quarter (July-Sep) ",
         "line": {
          "color": "#00cc96",
          "dash": "solid"
         },
         "marker": {
          "symbol": "circle"
         },
         "mode": "lines",
         "name": "2017 3rd quarter (July-Sep) ",
         "orientation": "v",
         "showlegend": true,
         "type": "scatter",
         "x": [
          "Canada",
          "United States Of America",
          "Argentina",
          "Brazil",
          "Mexico",
          "Austria",
          "Belgium",
          "Denmark",
          "Finland",
          "France",
          "Germany",
          "Greece",
          "Ireland",
          "Italy",
          "Netherlands",
          "Norway",
          "Portugal",
          "Spain",
          "Sweden",
          "Switzerland",
          "United Kingdom",
          "Czech Rep.",
          "Hungary",
          "Kazakhstan",
          "Poland",
          "Russian Federation",
          "Ukraine",
          "Egypt",
          "Kenya",
          "Mauritius",
          "Nigeria",
          "South Africa",
          "Sudan",
          "Tanzania",
          "Bahrain",
          "Iraq",
          "Israel",
          "Oman",
          "Saudi Arabia",
          "Turkey",
          "United Arab Emirates",
          "Yemen",
          "Afghanistan",
          "Bangladesh",
          "Bhutan",
          "Iran",
          "Maldives",
          "Nepal",
          "Pakistan",
          "Sri Lanka",
          "Indonesia",
          "Malaysia",
          "Myanmar",
          "Philippines",
          "Singapore",
          "Thailand",
          "Vietnam",
          "China",
          "Japan",
          "Korea (Republic Of ",
          "Republic Of China Taiwan",
          "Australia",
          "New Zealand"
         ],
         "xaxis": "x",
         "y": [
          16.9,
          20.7,
          14.6,
          19.5,
          21.8,
          20.7,
          22.6,
          16.4,
          null,
          21.9,
          null,
          21.4,
          22.8,
          22.6,
          22.1,
          18.1,
          23,
          32.7,
          12.8,
          19.8,
          20.7,
          20.2,
          16.9,
          8.8,
          17.4,
          5.5,
          14.3,
          27.2,
          22,
          20.5,
          24.6,
          17.6,
          27.8,
          null,
          33.2,
          29.4,
          28.3,
          36,
          35.5,
          24.7,
          44.7,
          29.1,
          20.3,
          24.6,
          null,
          21.3,
          18.3,
          24.2,
          28.1,
          18.6,
          31.4,
          23.4,
          22.5,
          7.6,
          24.8,
          22.8,
          15.7,
          20.2,
          null,
          24.3,
          24.2,
          18.3,
          18.3
         ],
         "yaxis": "y"
        },
        {
         "hovertemplate": "variable=2017 4th quarter (Oct-Dec) <br>Country of Nationality=%{x}<br>value=%{y}<extra></extra>",
         "legendgroup": "2017 4th quarter (Oct-Dec) ",
         "line": {
          "color": "#ab63fa",
          "dash": "solid"
         },
         "marker": {
          "symbol": "circle"
         },
         "mode": "lines",
         "name": "2017 4th quarter (Oct-Dec) ",
         "orientation": "v",
         "showlegend": true,
         "type": "scatter",
         "x": [
          "Canada",
          "United States Of America",
          "Argentina",
          "Brazil",
          "Mexico",
          "Austria",
          "Belgium",
          "Denmark",
          "Finland",
          "France",
          "Germany",
          "Greece",
          "Ireland",
          "Italy",
          "Netherlands",
          "Norway",
          "Portugal",
          "Spain",
          "Sweden",
          "Switzerland",
          "United Kingdom",
          "Czech Rep.",
          "Hungary",
          "Kazakhstan",
          "Poland",
          "Russian Federation",
          "Ukraine",
          "Egypt",
          "Kenya",
          "Mauritius",
          "Nigeria",
          "South Africa",
          "Sudan",
          "Tanzania",
          "Bahrain",
          "Iraq",
          "Israel",
          "Oman",
          "Saudi Arabia",
          "Turkey",
          "United Arab Emirates",
          "Yemen",
          "Afghanistan",
          "Bangladesh",
          "Bhutan",
          "Iran",
          "Maldives",
          "Nepal",
          "Pakistan",
          "Sri Lanka",
          "Indonesia",
          "Malaysia",
          "Myanmar",
          "Philippines",
          "Singapore",
          "Thailand",
          "Vietnam",
          "China",
          "Japan",
          "Korea (Republic Of ",
          "Republic Of China Taiwan",
          "Australia",
          "New Zealand"
         ],
         "xaxis": "x",
         "y": [
          35.3,
          32.5,
          26.8,
          30.1,
          31.3,
          29,
          31.9,
          31.1,
          null,
          28.4,
          null,
          32.5,
          27.9,
          33.7,
          31,
          29.1,
          30.3,
          27.2,
          37.1,
          32.4,
          31.5,
          28.9,
          31.9,
          32.9,
          31.3,
          40.6,
          29.1,
          26.2,
          33,
          32.3,
          24.7,
          37,
          29.6,
          null,
          21.8,
          25.7,
          25.2,
          20.6,
          20.6,
          26.1,
          20.3,
          24.2,
          26.3,
          26.9,
          null,
          24.4,
          19.5,
          32.7,
          24.6,
          32,
          26.3,
          33.7,
          29.7,
          49.2,
          26.9,
          31.2,
          39.8,
          25.7,
          null,
          27.3,
          27.7,
          39.7,
          40.3
         ],
         "yaxis": "y"
        }
       ],
       "layout": {
        "legend": {
         "title": {
          "text": "variable"
         },
         "tracegroupgap": 0
        },
        "margin": {
         "t": 60
        },
        "template": {
         "data": {
          "bar": [
           {
            "error_x": {
             "color": "#2a3f5f"
            },
            "error_y": {
             "color": "#2a3f5f"
            },
            "marker": {
             "line": {
              "color": "#E5ECF6",
              "width": 0.5
             },
             "pattern": {
              "fillmode": "overlay",
              "size": 10,
              "solidity": 0.2
             }
            },
            "type": "bar"
           }
          ],
          "barpolar": [
           {
            "marker": {
             "line": {
              "color": "#E5ECF6",
              "width": 0.5
             },
             "pattern": {
              "fillmode": "overlay",
              "size": 10,
              "solidity": 0.2
             }
            },
            "type": "barpolar"
           }
          ],
          "carpet": [
           {
            "aaxis": {
             "endlinecolor": "#2a3f5f",
             "gridcolor": "white",
             "linecolor": "white",
             "minorgridcolor": "white",
             "startlinecolor": "#2a3f5f"
            },
            "baxis": {
             "endlinecolor": "#2a3f5f",
             "gridcolor": "white",
             "linecolor": "white",
             "minorgridcolor": "white",
             "startlinecolor": "#2a3f5f"
            },
            "type": "carpet"
           }
          ],
          "choropleth": [
           {
            "colorbar": {
             "outlinewidth": 0,
             "ticks": ""
            },
            "type": "choropleth"
           }
          ],
          "contour": [
           {
            "colorbar": {
             "outlinewidth": 0,
             "ticks": ""
            },
            "colorscale": [
             [
              0,
              "#0d0887"
             ],
             [
              0.1111111111111111,
              "#46039f"
             ],
             [
              0.2222222222222222,
              "#7201a8"
             ],
             [
              0.3333333333333333,
              "#9c179e"
             ],
             [
              0.4444444444444444,
              "#bd3786"
             ],
             [
              0.5555555555555556,
              "#d8576b"
             ],
             [
              0.6666666666666666,
              "#ed7953"
             ],
             [
              0.7777777777777778,
              "#fb9f3a"
             ],
             [
              0.8888888888888888,
              "#fdca26"
             ],
             [
              1,
              "#f0f921"
             ]
            ],
            "type": "contour"
           }
          ],
          "contourcarpet": [
           {
            "colorbar": {
             "outlinewidth": 0,
             "ticks": ""
            },
            "type": "contourcarpet"
           }
          ],
          "heatmap": [
           {
            "colorbar": {
             "outlinewidth": 0,
             "ticks": ""
            },
            "colorscale": [
             [
              0,
              "#0d0887"
             ],
             [
              0.1111111111111111,
              "#46039f"
             ],
             [
              0.2222222222222222,
              "#7201a8"
             ],
             [
              0.3333333333333333,
              "#9c179e"
             ],
             [
              0.4444444444444444,
              "#bd3786"
             ],
             [
              0.5555555555555556,
              "#d8576b"
             ],
             [
              0.6666666666666666,
              "#ed7953"
             ],
             [
              0.7777777777777778,
              "#fb9f3a"
             ],
             [
              0.8888888888888888,
              "#fdca26"
             ],
             [
              1,
              "#f0f921"
             ]
            ],
            "type": "heatmap"
           }
          ],
          "heatmapgl": [
           {
            "colorbar": {
             "outlinewidth": 0,
             "ticks": ""
            },
            "colorscale": [
             [
              0,
              "#0d0887"
             ],
             [
              0.1111111111111111,
              "#46039f"
             ],
             [
              0.2222222222222222,
              "#7201a8"
             ],
             [
              0.3333333333333333,
              "#9c179e"
             ],
             [
              0.4444444444444444,
              "#bd3786"
             ],
             [
              0.5555555555555556,
              "#d8576b"
             ],
             [
              0.6666666666666666,
              "#ed7953"
             ],
             [
              0.7777777777777778,
              "#fb9f3a"
             ],
             [
              0.8888888888888888,
              "#fdca26"
             ],
             [
              1,
              "#f0f921"
             ]
            ],
            "type": "heatmapgl"
           }
          ],
          "histogram": [
           {
            "marker": {
             "pattern": {
              "fillmode": "overlay",
              "size": 10,
              "solidity": 0.2
             }
            },
            "type": "histogram"
           }
          ],
          "histogram2d": [
           {
            "colorbar": {
             "outlinewidth": 0,
             "ticks": ""
            },
            "colorscale": [
             [
              0,
              "#0d0887"
             ],
             [
              0.1111111111111111,
              "#46039f"
             ],
             [
              0.2222222222222222,
              "#7201a8"
             ],
             [
              0.3333333333333333,
              "#9c179e"
             ],
             [
              0.4444444444444444,
              "#bd3786"
             ],
             [
              0.5555555555555556,
              "#d8576b"
             ],
             [
              0.6666666666666666,
              "#ed7953"
             ],
             [
              0.7777777777777778,
              "#fb9f3a"
             ],
             [
              0.8888888888888888,
              "#fdca26"
             ],
             [
              1,
              "#f0f921"
             ]
            ],
            "type": "histogram2d"
           }
          ],
          "histogram2dcontour": [
           {
            "colorbar": {
             "outlinewidth": 0,
             "ticks": ""
            },
            "colorscale": [
             [
              0,
              "#0d0887"
             ],
             [
              0.1111111111111111,
              "#46039f"
             ],
             [
              0.2222222222222222,
              "#7201a8"
             ],
             [
              0.3333333333333333,
              "#9c179e"
             ],
             [
              0.4444444444444444,
              "#bd3786"
             ],
             [
              0.5555555555555556,
              "#d8576b"
             ],
             [
              0.6666666666666666,
              "#ed7953"
             ],
             [
              0.7777777777777778,
              "#fb9f3a"
             ],
             [
              0.8888888888888888,
              "#fdca26"
             ],
             [
              1,
              "#f0f921"
             ]
            ],
            "type": "histogram2dcontour"
           }
          ],
          "mesh3d": [
           {
            "colorbar": {
             "outlinewidth": 0,
             "ticks": ""
            },
            "type": "mesh3d"
           }
          ],
          "parcoords": [
           {
            "line": {
             "colorbar": {
              "outlinewidth": 0,
              "ticks": ""
             }
            },
            "type": "parcoords"
           }
          ],
          "pie": [
           {
            "automargin": true,
            "type": "pie"
           }
          ],
          "scatter": [
           {
            "fillpattern": {
             "fillmode": "overlay",
             "size": 10,
             "solidity": 0.2
            },
            "type": "scatter"
           }
          ],
          "scatter3d": [
           {
            "line": {
             "colorbar": {
              "outlinewidth": 0,
              "ticks": ""
             }
            },
            "marker": {
             "colorbar": {
              "outlinewidth": 0,
              "ticks": ""
             }
            },
            "type": "scatter3d"
           }
          ],
          "scattercarpet": [
           {
            "marker": {
             "colorbar": {
              "outlinewidth": 0,
              "ticks": ""
             }
            },
            "type": "scattercarpet"
           }
          ],
          "scattergeo": [
           {
            "marker": {
             "colorbar": {
              "outlinewidth": 0,
              "ticks": ""
             }
            },
            "type": "scattergeo"
           }
          ],
          "scattergl": [
           {
            "marker": {
             "colorbar": {
              "outlinewidth": 0,
              "ticks": ""
             }
            },
            "type": "scattergl"
           }
          ],
          "scattermapbox": [
           {
            "marker": {
             "colorbar": {
              "outlinewidth": 0,
              "ticks": ""
             }
            },
            "type": "scattermapbox"
           }
          ],
          "scatterpolar": [
           {
            "marker": {
             "colorbar": {
              "outlinewidth": 0,
              "ticks": ""
             }
            },
            "type": "scatterpolar"
           }
          ],
          "scatterpolargl": [
           {
            "marker": {
             "colorbar": {
              "outlinewidth": 0,
              "ticks": ""
             }
            },
            "type": "scatterpolargl"
           }
          ],
          "scatterternary": [
           {
            "marker": {
             "colorbar": {
              "outlinewidth": 0,
              "ticks": ""
             }
            },
            "type": "scatterternary"
           }
          ],
          "surface": [
           {
            "colorbar": {
             "outlinewidth": 0,
             "ticks": ""
            },
            "colorscale": [
             [
              0,
              "#0d0887"
             ],
             [
              0.1111111111111111,
              "#46039f"
             ],
             [
              0.2222222222222222,
              "#7201a8"
             ],
             [
              0.3333333333333333,
              "#9c179e"
             ],
             [
              0.4444444444444444,
              "#bd3786"
             ],
             [
              0.5555555555555556,
              "#d8576b"
             ],
             [
              0.6666666666666666,
              "#ed7953"
             ],
             [
              0.7777777777777778,
              "#fb9f3a"
             ],
             [
              0.8888888888888888,
              "#fdca26"
             ],
             [
              1,
              "#f0f921"
             ]
            ],
            "type": "surface"
           }
          ],
          "table": [
           {
            "cells": {
             "fill": {
              "color": "#EBF0F8"
             },
             "line": {
              "color": "white"
             }
            },
            "header": {
             "fill": {
              "color": "#C8D4E3"
             },
             "line": {
              "color": "white"
             }
            },
            "type": "table"
           }
          ]
         },
         "layout": {
          "annotationdefaults": {
           "arrowcolor": "#2a3f5f",
           "arrowhead": 0,
           "arrowwidth": 1
          },
          "autotypenumbers": "strict",
          "coloraxis": {
           "colorbar": {
            "outlinewidth": 0,
            "ticks": ""
           }
          },
          "colorscale": {
           "diverging": [
            [
             0,
             "#8e0152"
            ],
            [
             0.1,
             "#c51b7d"
            ],
            [
             0.2,
             "#de77ae"
            ],
            [
             0.3,
             "#f1b6da"
            ],
            [
             0.4,
             "#fde0ef"
            ],
            [
             0.5,
             "#f7f7f7"
            ],
            [
             0.6,
             "#e6f5d0"
            ],
            [
             0.7,
             "#b8e186"
            ],
            [
             0.8,
             "#7fbc41"
            ],
            [
             0.9,
             "#4d9221"
            ],
            [
             1,
             "#276419"
            ]
           ],
           "sequential": [
            [
             0,
             "#0d0887"
            ],
            [
             0.1111111111111111,
             "#46039f"
            ],
            [
             0.2222222222222222,
             "#7201a8"
            ],
            [
             0.3333333333333333,
             "#9c179e"
            ],
            [
             0.4444444444444444,
             "#bd3786"
            ],
            [
             0.5555555555555556,
             "#d8576b"
            ],
            [
             0.6666666666666666,
             "#ed7953"
            ],
            [
             0.7777777777777778,
             "#fb9f3a"
            ],
            [
             0.8888888888888888,
             "#fdca26"
            ],
            [
             1,
             "#f0f921"
            ]
           ],
           "sequentialminus": [
            [
             0,
             "#0d0887"
            ],
            [
             0.1111111111111111,
             "#46039f"
            ],
            [
             0.2222222222222222,
             "#7201a8"
            ],
            [
             0.3333333333333333,
             "#9c179e"
            ],
            [
             0.4444444444444444,
             "#bd3786"
            ],
            [
             0.5555555555555556,
             "#d8576b"
            ],
            [
             0.6666666666666666,
             "#ed7953"
            ],
            [
             0.7777777777777778,
             "#fb9f3a"
            ],
            [
             0.8888888888888888,
             "#fdca26"
            ],
            [
             1,
             "#f0f921"
            ]
           ]
          },
          "colorway": [
           "#636efa",
           "#EF553B",
           "#00cc96",
           "#ab63fa",
           "#FFA15A",
           "#19d3f3",
           "#FF6692",
           "#B6E880",
           "#FF97FF",
           "#FECB52"
          ],
          "font": {
           "color": "#2a3f5f"
          },
          "geo": {
           "bgcolor": "white",
           "lakecolor": "white",
           "landcolor": "#E5ECF6",
           "showlakes": true,
           "showland": true,
           "subunitcolor": "white"
          },
          "hoverlabel": {
           "align": "left"
          },
          "hovermode": "closest",
          "mapbox": {
           "style": "light"
          },
          "paper_bgcolor": "white",
          "plot_bgcolor": "#E5ECF6",
          "polar": {
           "angularaxis": {
            "gridcolor": "white",
            "linecolor": "white",
            "ticks": ""
           },
           "bgcolor": "#E5ECF6",
           "radialaxis": {
            "gridcolor": "white",
            "linecolor": "white",
            "ticks": ""
           }
          },
          "scene": {
           "xaxis": {
            "backgroundcolor": "#E5ECF6",
            "gridcolor": "white",
            "gridwidth": 2,
            "linecolor": "white",
            "showbackground": true,
            "ticks": "",
            "zerolinecolor": "white"
           },
           "yaxis": {
            "backgroundcolor": "#E5ECF6",
            "gridcolor": "white",
            "gridwidth": 2,
            "linecolor": "white",
            "showbackground": true,
            "ticks": "",
            "zerolinecolor": "white"
           },
           "zaxis": {
            "backgroundcolor": "#E5ECF6",
            "gridcolor": "white",
            "gridwidth": 2,
            "linecolor": "white",
            "showbackground": true,
            "ticks": "",
            "zerolinecolor": "white"
           }
          },
          "shapedefaults": {
           "line": {
            "color": "#2a3f5f"
           }
          },
          "ternary": {
           "aaxis": {
            "gridcolor": "white",
            "linecolor": "white",
            "ticks": ""
           },
           "baxis": {
            "gridcolor": "white",
            "linecolor": "white",
            "ticks": ""
           },
           "bgcolor": "#E5ECF6",
           "caxis": {
            "gridcolor": "white",
            "linecolor": "white",
            "ticks": ""
           }
          },
          "title": {
           "x": 0.05
          },
          "xaxis": {
           "automargin": true,
           "gridcolor": "white",
           "linecolor": "white",
           "ticks": "",
           "title": {
            "standoff": 15
           },
           "zerolinecolor": "white",
           "zerolinewidth": 2
          },
          "yaxis": {
           "automargin": true,
           "gridcolor": "white",
           "linecolor": "white",
           "ticks": "",
           "title": {
            "standoff": 15
           },
           "zerolinecolor": "white",
           "zerolinewidth": 2
          }
         }
        },
        "xaxis": {
         "anchor": "y",
         "domain": [
          0,
          1
         ],
         "title": {
          "text": "Country of Nationality"
         }
        },
        "yaxis": {
         "anchor": "x",
         "domain": [
          0,
          1
         ],
         "title": {
          "text": "value"
         }
        }
       }
      }
     },
     "metadata": {},
     "output_type": "display_data"
    }
   ],
   "source": [
    "cols = ['2017 1st quarter (Jan-March) ','2017 2nd quarter (Apr-June)', '2017 3rd quarter (July-Sep) ', '2017 4th quarter (Oct-Dec) ']\n",
    "px.line(df, df.index, cols)"
   ]
  },
  {
   "cell_type": "code",
   "execution_count": 13,
   "metadata": {},
   "outputs": [
    {
     "data": {
      "application/vnd.plotly.v1+json": {
       "config": {
        "plotlyServerURL": "https://plot.ly"
       },
       "data": [
        {
         "hovertemplate": "variable=2018 1st quarter (Jan-March) <br>Country of Nationality=%{x}<br>value=%{y}<extra></extra>",
         "legendgroup": "2018 1st quarter (Jan-March) ",
         "line": {
          "color": "#636efa",
          "dash": "solid"
         },
         "marker": {
          "symbol": "circle"
         },
         "mode": "lines",
         "name": "2018 1st quarter (Jan-March) ",
         "orientation": "v",
         "showlegend": true,
         "type": "scatter",
         "x": [
          "Canada",
          "United States Of America",
          "Argentina",
          "Brazil",
          "Mexico",
          "Austria",
          "Belgium",
          "Denmark",
          "Finland",
          "France",
          "Germany",
          "Greece",
          "Ireland",
          "Italy",
          "Netherlands",
          "Norway",
          "Portugal",
          "Spain",
          "Sweden",
          "Switzerland",
          "United Kingdom",
          "Czech Rep.",
          "Hungary",
          "Kazakhstan",
          "Poland",
          "Russian Federation",
          "Ukraine",
          "Egypt",
          "Kenya",
          "Mauritius",
          "Nigeria",
          "South Africa",
          "Sudan",
          "Tanzania",
          "Bahrain",
          "Iraq",
          "Israel",
          "Oman",
          "Saudi Arabia",
          "Turkey",
          "United Arab Emirates",
          "Yemen",
          "Afghanistan",
          "Bangladesh",
          "Bhutan",
          "Iran",
          "Maldives",
          "Nepal",
          "Pakistan",
          "Sri Lanka",
          "Indonesia",
          "Malaysia",
          "Myanmar",
          "Philippines",
          "Singapore",
          "Thailand",
          "Vietnam",
          "China",
          "Japan",
          "Korea (Republic Of ",
          "Republic Of China Taiwan",
          "Australia",
          "New Zealand"
         ],
         "xaxis": "x",
         "y": [
          36.72,
          26.72,
          46.65,
          34.25,
          27.04,
          34.82,
          30.49,
          39.12,
          41.88,
          34.22,
          33.76,
          31.16,
          28.36,
          32.54,
          29.5,
          37.01,
          28.95,
          25.31,
          37.79,
          33.06,
          34.54,
          32.68,
          36.81,
          46.34,
          36.97,
          50.05,
          36.69,
          28.38,
          25.76,
          29.66,
          26.71,
          29.27,
          22.37,
          26.71,
          28.83,
          23.96,
          28.12,
          30.59,
          24.88,
          31.73,
          21.67,
          23.83,
          34.6,
          25.13,
          30.76,
          42.46,
          26.86,
          26.27,
          19.88,
          27.11,
          25.68,
          29.81,
          41.05,
          26.85,
          24.45,
          33.75,
          28.12,
          26.84,
          27.75,
          29.43,
          29.73,
          26.71,
          27.26
         ],
         "yaxis": "y"
        },
        {
         "hovertemplate": "variable=2018 2nd quarter (Apr-June)<br>Country of Nationality=%{x}<br>value=%{y}<extra></extra>",
         "legendgroup": "2018 2nd quarter (Apr-June)",
         "line": {
          "color": "#EF553B",
          "dash": "solid"
         },
         "marker": {
          "symbol": "circle"
         },
         "mode": "lines",
         "name": "2018 2nd quarter (Apr-June)",
         "orientation": "v",
         "showlegend": true,
         "type": "scatter",
         "x": [
          "Canada",
          "United States Of America",
          "Argentina",
          "Brazil",
          "Mexico",
          "Austria",
          "Belgium",
          "Denmark",
          "Finland",
          "France",
          "Germany",
          "Greece",
          "Ireland",
          "Italy",
          "Netherlands",
          "Norway",
          "Portugal",
          "Spain",
          "Sweden",
          "Switzerland",
          "United Kingdom",
          "Czech Rep.",
          "Hungary",
          "Kazakhstan",
          "Poland",
          "Russian Federation",
          "Ukraine",
          "Egypt",
          "Kenya",
          "Mauritius",
          "Nigeria",
          "South Africa",
          "Sudan",
          "Tanzania",
          "Bahrain",
          "Iraq",
          "Israel",
          "Oman",
          "Saudi Arabia",
          "Turkey",
          "United Arab Emirates",
          "Yemen",
          "Afghanistan",
          "Bangladesh",
          "Bhutan",
          "Iran",
          "Maldives",
          "Nepal",
          "Pakistan",
          "Sri Lanka",
          "Indonesia",
          "Malaysia",
          "Myanmar",
          "Philippines",
          "Singapore",
          "Thailand",
          "Vietnam",
          "China",
          "Japan",
          "Korea (Republic Of ",
          "Republic Of China Taiwan",
          "Australia",
          "New Zealand"
         ],
         "xaxis": "x",
         "y": [
          14.14,
          21.84,
          17.42,
          18.8,
          19.02,
          16.19,
          17.98,
          14.75,
          15.84,
          16.3,
          16.83,
          19.44,
          21.63,
          14.71,
          18.22,
          14.98,
          19.58,
          15.3,
          14.47,
          16.25,
          14.9,
          17.57,
          17.31,
          9.81,
          16.58,
          9.26,
          16.53,
          20.92,
          20.27,
          20.45,
          22.06,
          18.2,
          25.12,
          19.22,
          22.81,
          22.08,
          17.28,
          17.95,
          21.38,
          20.16,
          15.56,
          21.81,
          20.03,
          23.49,
          18.5,
          14.53,
          18.1,
          21.4,
          19.76,
          16.6,
          19.74,
          20.79,
          12.18,
          22.67,
          22.26,
          16.81,
          12.19,
          19.59,
          20.2,
          19.17,
          19.22,
          16.51,
          16.33
         ],
         "yaxis": "y"
        },
        {
         "hovertemplate": "variable=2018 3rd quarter (July-Sep) <br>Country of Nationality=%{x}<br>value=%{y}<extra></extra>",
         "legendgroup": "2018 3rd quarter (July-Sep) ",
         "line": {
          "color": "#00cc96",
          "dash": "solid"
         },
         "marker": {
          "symbol": "circle"
         },
         "mode": "lines",
         "name": "2018 3rd quarter (July-Sep) ",
         "orientation": "v",
         "showlegend": true,
         "type": "scatter",
         "x": [
          "Canada",
          "United States Of America",
          "Argentina",
          "Brazil",
          "Mexico",
          "Austria",
          "Belgium",
          "Denmark",
          "Finland",
          "France",
          "Germany",
          "Greece",
          "Ireland",
          "Italy",
          "Netherlands",
          "Norway",
          "Portugal",
          "Spain",
          "Sweden",
          "Switzerland",
          "United Kingdom",
          "Czech Rep.",
          "Hungary",
          "Kazakhstan",
          "Poland",
          "Russian Federation",
          "Ukraine",
          "Egypt",
          "Kenya",
          "Mauritius",
          "Nigeria",
          "South Africa",
          "Sudan",
          "Tanzania",
          "Bahrain",
          "Iraq",
          "Israel",
          "Oman",
          "Saudi Arabia",
          "Turkey",
          "United Arab Emirates",
          "Yemen",
          "Afghanistan",
          "Bangladesh",
          "Bhutan",
          "Iran",
          "Maldives",
          "Nepal",
          "Pakistan",
          "Sri Lanka",
          "Indonesia",
          "Malaysia",
          "Myanmar",
          "Philippines",
          "Singapore",
          "Thailand",
          "Vietnam",
          "China",
          "Japan",
          "Korea (Republic Of ",
          "Republic Of China Taiwan",
          "Australia",
          "New Zealand"
         ],
         "xaxis": "x",
         "y": [
          16.19,
          20.23,
          15.71,
          18.95,
          22.6,
          20.48,
          21.37,
          17.25,
          12.68,
          21.8,
          19.32,
          20.89,
          21.98,
          21.82,
          22.14,
          18.45,
          22.21,
          33.44,
          13.39,
          19.17,
          19.96,
          20.2,
          15.93,
          10.61,
          17.87,
          5.56,
          16.02,
          24.72,
          22.8,
          20.51,
          27.09,
          16.88,
          26.23,
          26.39,
          29.06,
          29.53,
          30.64,
          32.75,
          31.88,
          22.66,
          41.74,
          27.42,
          21.98,
          24.55,
          24.34,
          23.23,
          20.69,
          24.35,
          27.42,
          31.65,
          22.23,
          22.99,
          6.2,
          24.32,
          22.33,
          15.09,
          16.03,
          23.57,
          24.62,
          23.87,
          23.75,
          17.67,
          17.34
         ],
         "yaxis": "y"
        },
        {
         "hovertemplate": "variable=2018 4th quarter (Oct-Dec) <br>Country of Nationality=%{x}<br>value=%{y}<extra></extra>",
         "legendgroup": "2018 4th quarter (Oct-Dec) ",
         "line": {
          "color": "#ab63fa",
          "dash": "solid"
         },
         "marker": {
          "symbol": "circle"
         },
         "mode": "lines",
         "name": "2018 4th quarter (Oct-Dec) ",
         "orientation": "v",
         "showlegend": true,
         "type": "scatter",
         "x": [
          "Canada",
          "United States Of America",
          "Argentina",
          "Brazil",
          "Mexico",
          "Austria",
          "Belgium",
          "Denmark",
          "Finland",
          "France",
          "Germany",
          "Greece",
          "Ireland",
          "Italy",
          "Netherlands",
          "Norway",
          "Portugal",
          "Spain",
          "Sweden",
          "Switzerland",
          "United Kingdom",
          "Czech Rep.",
          "Hungary",
          "Kazakhstan",
          "Poland",
          "Russian Federation",
          "Ukraine",
          "Egypt",
          "Kenya",
          "Mauritius",
          "Nigeria",
          "South Africa",
          "Sudan",
          "Tanzania",
          "Bahrain",
          "Iraq",
          "Israel",
          "Oman",
          "Saudi Arabia",
          "Turkey",
          "United Arab Emirates",
          "Yemen",
          "Afghanistan",
          "Bangladesh",
          "Bhutan",
          "Iran",
          "Maldives",
          "Nepal",
          "Pakistan",
          "Sri Lanka",
          "Indonesia",
          "Malaysia",
          "Myanmar",
          "Philippines",
          "Singapore",
          "Thailand",
          "Vietnam",
          "China",
          "Japan",
          "Korea (Republic Of ",
          "Republic Of China Taiwan",
          "Australia",
          "New Zealand"
         ],
         "xaxis": "x",
         "y": [
          32.94,
          31.22,
          20.22,
          28,
          31.34,
          28.52,
          30.15,
          28.88,
          29.6,
          27.69,
          30.09,
          28.51,
          28.04,
          30.93,
          30.14,
          29.55,
          29.26,
          25.95,
          34.34,
          31.51,
          30.61,
          29.55,
          29.94,
          33.24,
          28.57,
          35.14,
          30.76,
          25.98,
          31.17,
          29.38,
          24.14,
          35.65,
          26.28,
          27.68,
          19.3,
          24.42,
          23.96,
          18.7,
          21.85,
          25.45,
          21.03,
          26.94,
          23.4,
          26.83,
          26.4,
          19.78,
          34.35,
          27.97,
          32.94,
          24.64,
          32.35,
          26.4,
          40.58,
          26.15,
          30.96,
          34.35,
          43.66,
          30,
          27.44,
          27.54,
          27.3,
          39.11,
          39.06
         ],
         "yaxis": "y"
        }
       ],
       "layout": {
        "legend": {
         "title": {
          "text": "variable"
         },
         "tracegroupgap": 0
        },
        "margin": {
         "t": 60
        },
        "template": {
         "data": {
          "bar": [
           {
            "error_x": {
             "color": "#2a3f5f"
            },
            "error_y": {
             "color": "#2a3f5f"
            },
            "marker": {
             "line": {
              "color": "#E5ECF6",
              "width": 0.5
             },
             "pattern": {
              "fillmode": "overlay",
              "size": 10,
              "solidity": 0.2
             }
            },
            "type": "bar"
           }
          ],
          "barpolar": [
           {
            "marker": {
             "line": {
              "color": "#E5ECF6",
              "width": 0.5
             },
             "pattern": {
              "fillmode": "overlay",
              "size": 10,
              "solidity": 0.2
             }
            },
            "type": "barpolar"
           }
          ],
          "carpet": [
           {
            "aaxis": {
             "endlinecolor": "#2a3f5f",
             "gridcolor": "white",
             "linecolor": "white",
             "minorgridcolor": "white",
             "startlinecolor": "#2a3f5f"
            },
            "baxis": {
             "endlinecolor": "#2a3f5f",
             "gridcolor": "white",
             "linecolor": "white",
             "minorgridcolor": "white",
             "startlinecolor": "#2a3f5f"
            },
            "type": "carpet"
           }
          ],
          "choropleth": [
           {
            "colorbar": {
             "outlinewidth": 0,
             "ticks": ""
            },
            "type": "choropleth"
           }
          ],
          "contour": [
           {
            "colorbar": {
             "outlinewidth": 0,
             "ticks": ""
            },
            "colorscale": [
             [
              0,
              "#0d0887"
             ],
             [
              0.1111111111111111,
              "#46039f"
             ],
             [
              0.2222222222222222,
              "#7201a8"
             ],
             [
              0.3333333333333333,
              "#9c179e"
             ],
             [
              0.4444444444444444,
              "#bd3786"
             ],
             [
              0.5555555555555556,
              "#d8576b"
             ],
             [
              0.6666666666666666,
              "#ed7953"
             ],
             [
              0.7777777777777778,
              "#fb9f3a"
             ],
             [
              0.8888888888888888,
              "#fdca26"
             ],
             [
              1,
              "#f0f921"
             ]
            ],
            "type": "contour"
           }
          ],
          "contourcarpet": [
           {
            "colorbar": {
             "outlinewidth": 0,
             "ticks": ""
            },
            "type": "contourcarpet"
           }
          ],
          "heatmap": [
           {
            "colorbar": {
             "outlinewidth": 0,
             "ticks": ""
            },
            "colorscale": [
             [
              0,
              "#0d0887"
             ],
             [
              0.1111111111111111,
              "#46039f"
             ],
             [
              0.2222222222222222,
              "#7201a8"
             ],
             [
              0.3333333333333333,
              "#9c179e"
             ],
             [
              0.4444444444444444,
              "#bd3786"
             ],
             [
              0.5555555555555556,
              "#d8576b"
             ],
             [
              0.6666666666666666,
              "#ed7953"
             ],
             [
              0.7777777777777778,
              "#fb9f3a"
             ],
             [
              0.8888888888888888,
              "#fdca26"
             ],
             [
              1,
              "#f0f921"
             ]
            ],
            "type": "heatmap"
           }
          ],
          "heatmapgl": [
           {
            "colorbar": {
             "outlinewidth": 0,
             "ticks": ""
            },
            "colorscale": [
             [
              0,
              "#0d0887"
             ],
             [
              0.1111111111111111,
              "#46039f"
             ],
             [
              0.2222222222222222,
              "#7201a8"
             ],
             [
              0.3333333333333333,
              "#9c179e"
             ],
             [
              0.4444444444444444,
              "#bd3786"
             ],
             [
              0.5555555555555556,
              "#d8576b"
             ],
             [
              0.6666666666666666,
              "#ed7953"
             ],
             [
              0.7777777777777778,
              "#fb9f3a"
             ],
             [
              0.8888888888888888,
              "#fdca26"
             ],
             [
              1,
              "#f0f921"
             ]
            ],
            "type": "heatmapgl"
           }
          ],
          "histogram": [
           {
            "marker": {
             "pattern": {
              "fillmode": "overlay",
              "size": 10,
              "solidity": 0.2
             }
            },
            "type": "histogram"
           }
          ],
          "histogram2d": [
           {
            "colorbar": {
             "outlinewidth": 0,
             "ticks": ""
            },
            "colorscale": [
             [
              0,
              "#0d0887"
             ],
             [
              0.1111111111111111,
              "#46039f"
             ],
             [
              0.2222222222222222,
              "#7201a8"
             ],
             [
              0.3333333333333333,
              "#9c179e"
             ],
             [
              0.4444444444444444,
              "#bd3786"
             ],
             [
              0.5555555555555556,
              "#d8576b"
             ],
             [
              0.6666666666666666,
              "#ed7953"
             ],
             [
              0.7777777777777778,
              "#fb9f3a"
             ],
             [
              0.8888888888888888,
              "#fdca26"
             ],
             [
              1,
              "#f0f921"
             ]
            ],
            "type": "histogram2d"
           }
          ],
          "histogram2dcontour": [
           {
            "colorbar": {
             "outlinewidth": 0,
             "ticks": ""
            },
            "colorscale": [
             [
              0,
              "#0d0887"
             ],
             [
              0.1111111111111111,
              "#46039f"
             ],
             [
              0.2222222222222222,
              "#7201a8"
             ],
             [
              0.3333333333333333,
              "#9c179e"
             ],
             [
              0.4444444444444444,
              "#bd3786"
             ],
             [
              0.5555555555555556,
              "#d8576b"
             ],
             [
              0.6666666666666666,
              "#ed7953"
             ],
             [
              0.7777777777777778,
              "#fb9f3a"
             ],
             [
              0.8888888888888888,
              "#fdca26"
             ],
             [
              1,
              "#f0f921"
             ]
            ],
            "type": "histogram2dcontour"
           }
          ],
          "mesh3d": [
           {
            "colorbar": {
             "outlinewidth": 0,
             "ticks": ""
            },
            "type": "mesh3d"
           }
          ],
          "parcoords": [
           {
            "line": {
             "colorbar": {
              "outlinewidth": 0,
              "ticks": ""
             }
            },
            "type": "parcoords"
           }
          ],
          "pie": [
           {
            "automargin": true,
            "type": "pie"
           }
          ],
          "scatter": [
           {
            "fillpattern": {
             "fillmode": "overlay",
             "size": 10,
             "solidity": 0.2
            },
            "type": "scatter"
           }
          ],
          "scatter3d": [
           {
            "line": {
             "colorbar": {
              "outlinewidth": 0,
              "ticks": ""
             }
            },
            "marker": {
             "colorbar": {
              "outlinewidth": 0,
              "ticks": ""
             }
            },
            "type": "scatter3d"
           }
          ],
          "scattercarpet": [
           {
            "marker": {
             "colorbar": {
              "outlinewidth": 0,
              "ticks": ""
             }
            },
            "type": "scattercarpet"
           }
          ],
          "scattergeo": [
           {
            "marker": {
             "colorbar": {
              "outlinewidth": 0,
              "ticks": ""
             }
            },
            "type": "scattergeo"
           }
          ],
          "scattergl": [
           {
            "marker": {
             "colorbar": {
              "outlinewidth": 0,
              "ticks": ""
             }
            },
            "type": "scattergl"
           }
          ],
          "scattermapbox": [
           {
            "marker": {
             "colorbar": {
              "outlinewidth": 0,
              "ticks": ""
             }
            },
            "type": "scattermapbox"
           }
          ],
          "scatterpolar": [
           {
            "marker": {
             "colorbar": {
              "outlinewidth": 0,
              "ticks": ""
             }
            },
            "type": "scatterpolar"
           }
          ],
          "scatterpolargl": [
           {
            "marker": {
             "colorbar": {
              "outlinewidth": 0,
              "ticks": ""
             }
            },
            "type": "scatterpolargl"
           }
          ],
          "scatterternary": [
           {
            "marker": {
             "colorbar": {
              "outlinewidth": 0,
              "ticks": ""
             }
            },
            "type": "scatterternary"
           }
          ],
          "surface": [
           {
            "colorbar": {
             "outlinewidth": 0,
             "ticks": ""
            },
            "colorscale": [
             [
              0,
              "#0d0887"
             ],
             [
              0.1111111111111111,
              "#46039f"
             ],
             [
              0.2222222222222222,
              "#7201a8"
             ],
             [
              0.3333333333333333,
              "#9c179e"
             ],
             [
              0.4444444444444444,
              "#bd3786"
             ],
             [
              0.5555555555555556,
              "#d8576b"
             ],
             [
              0.6666666666666666,
              "#ed7953"
             ],
             [
              0.7777777777777778,
              "#fb9f3a"
             ],
             [
              0.8888888888888888,
              "#fdca26"
             ],
             [
              1,
              "#f0f921"
             ]
            ],
            "type": "surface"
           }
          ],
          "table": [
           {
            "cells": {
             "fill": {
              "color": "#EBF0F8"
             },
             "line": {
              "color": "white"
             }
            },
            "header": {
             "fill": {
              "color": "#C8D4E3"
             },
             "line": {
              "color": "white"
             }
            },
            "type": "table"
           }
          ]
         },
         "layout": {
          "annotationdefaults": {
           "arrowcolor": "#2a3f5f",
           "arrowhead": 0,
           "arrowwidth": 1
          },
          "autotypenumbers": "strict",
          "coloraxis": {
           "colorbar": {
            "outlinewidth": 0,
            "ticks": ""
           }
          },
          "colorscale": {
           "diverging": [
            [
             0,
             "#8e0152"
            ],
            [
             0.1,
             "#c51b7d"
            ],
            [
             0.2,
             "#de77ae"
            ],
            [
             0.3,
             "#f1b6da"
            ],
            [
             0.4,
             "#fde0ef"
            ],
            [
             0.5,
             "#f7f7f7"
            ],
            [
             0.6,
             "#e6f5d0"
            ],
            [
             0.7,
             "#b8e186"
            ],
            [
             0.8,
             "#7fbc41"
            ],
            [
             0.9,
             "#4d9221"
            ],
            [
             1,
             "#276419"
            ]
           ],
           "sequential": [
            [
             0,
             "#0d0887"
            ],
            [
             0.1111111111111111,
             "#46039f"
            ],
            [
             0.2222222222222222,
             "#7201a8"
            ],
            [
             0.3333333333333333,
             "#9c179e"
            ],
            [
             0.4444444444444444,
             "#bd3786"
            ],
            [
             0.5555555555555556,
             "#d8576b"
            ],
            [
             0.6666666666666666,
             "#ed7953"
            ],
            [
             0.7777777777777778,
             "#fb9f3a"
            ],
            [
             0.8888888888888888,
             "#fdca26"
            ],
            [
             1,
             "#f0f921"
            ]
           ],
           "sequentialminus": [
            [
             0,
             "#0d0887"
            ],
            [
             0.1111111111111111,
             "#46039f"
            ],
            [
             0.2222222222222222,
             "#7201a8"
            ],
            [
             0.3333333333333333,
             "#9c179e"
            ],
            [
             0.4444444444444444,
             "#bd3786"
            ],
            [
             0.5555555555555556,
             "#d8576b"
            ],
            [
             0.6666666666666666,
             "#ed7953"
            ],
            [
             0.7777777777777778,
             "#fb9f3a"
            ],
            [
             0.8888888888888888,
             "#fdca26"
            ],
            [
             1,
             "#f0f921"
            ]
           ]
          },
          "colorway": [
           "#636efa",
           "#EF553B",
           "#00cc96",
           "#ab63fa",
           "#FFA15A",
           "#19d3f3",
           "#FF6692",
           "#B6E880",
           "#FF97FF",
           "#FECB52"
          ],
          "font": {
           "color": "#2a3f5f"
          },
          "geo": {
           "bgcolor": "white",
           "lakecolor": "white",
           "landcolor": "#E5ECF6",
           "showlakes": true,
           "showland": true,
           "subunitcolor": "white"
          },
          "hoverlabel": {
           "align": "left"
          },
          "hovermode": "closest",
          "mapbox": {
           "style": "light"
          },
          "paper_bgcolor": "white",
          "plot_bgcolor": "#E5ECF6",
          "polar": {
           "angularaxis": {
            "gridcolor": "white",
            "linecolor": "white",
            "ticks": ""
           },
           "bgcolor": "#E5ECF6",
           "radialaxis": {
            "gridcolor": "white",
            "linecolor": "white",
            "ticks": ""
           }
          },
          "scene": {
           "xaxis": {
            "backgroundcolor": "#E5ECF6",
            "gridcolor": "white",
            "gridwidth": 2,
            "linecolor": "white",
            "showbackground": true,
            "ticks": "",
            "zerolinecolor": "white"
           },
           "yaxis": {
            "backgroundcolor": "#E5ECF6",
            "gridcolor": "white",
            "gridwidth": 2,
            "linecolor": "white",
            "showbackground": true,
            "ticks": "",
            "zerolinecolor": "white"
           },
           "zaxis": {
            "backgroundcolor": "#E5ECF6",
            "gridcolor": "white",
            "gridwidth": 2,
            "linecolor": "white",
            "showbackground": true,
            "ticks": "",
            "zerolinecolor": "white"
           }
          },
          "shapedefaults": {
           "line": {
            "color": "#2a3f5f"
           }
          },
          "ternary": {
           "aaxis": {
            "gridcolor": "white",
            "linecolor": "white",
            "ticks": ""
           },
           "baxis": {
            "gridcolor": "white",
            "linecolor": "white",
            "ticks": ""
           },
           "bgcolor": "#E5ECF6",
           "caxis": {
            "gridcolor": "white",
            "linecolor": "white",
            "ticks": ""
           }
          },
          "title": {
           "x": 0.05
          },
          "xaxis": {
           "automargin": true,
           "gridcolor": "white",
           "linecolor": "white",
           "ticks": "",
           "title": {
            "standoff": 15
           },
           "zerolinecolor": "white",
           "zerolinewidth": 2
          },
          "yaxis": {
           "automargin": true,
           "gridcolor": "white",
           "linecolor": "white",
           "ticks": "",
           "title": {
            "standoff": 15
           },
           "zerolinecolor": "white",
           "zerolinewidth": 2
          }
         }
        },
        "xaxis": {
         "anchor": "y",
         "domain": [
          0,
          1
         ],
         "title": {
          "text": "Country of Nationality"
         }
        },
        "yaxis": {
         "anchor": "x",
         "domain": [
          0,
          1
         ],
         "title": {
          "text": "value"
         }
        }
       }
      }
     },
     "metadata": {},
     "output_type": "display_data"
    }
   ],
   "source": [
    "cols = ['2018 1st quarter (Jan-March) ','2018 2nd quarter (Apr-June)', '2018 3rd quarter (July-Sep) ', '2018 4th quarter (Oct-Dec) ']\n",
    "px.line(df, df.index, cols)"
   ]
  },
  {
   "cell_type": "code",
   "execution_count": 14,
   "metadata": {},
   "outputs": [
    {
     "data": {
      "application/vnd.plotly.v1+json": {
       "config": {
        "plotlyServerURL": "https://plot.ly"
       },
       "data": [
        {
         "hovertemplate": "variable=2019 1st quarter (Jan-March) <br>Country of Nationality=%{x}<br>value=%{y}<extra></extra>",
         "legendgroup": "2019 1st quarter (Jan-March) ",
         "line": {
          "color": "#636efa",
          "dash": "solid"
         },
         "marker": {
          "symbol": "circle"
         },
         "mode": "lines",
         "name": "2019 1st quarter (Jan-March) ",
         "orientation": "v",
         "showlegend": true,
         "type": "scatter",
         "x": [
          "Canada",
          "United States Of America",
          "Argentina",
          "Brazil",
          "Mexico",
          "Austria",
          "Belgium",
          "Denmark",
          "Finland",
          "France",
          "Germany",
          "Greece",
          "Ireland",
          "Italy",
          "Netherlands",
          "Norway",
          "Portugal",
          "Spain",
          "Sweden",
          "Switzerland",
          "United Kingdom",
          "Czech Rep.",
          "Hungary",
          "Kazakhstan",
          "Poland",
          "Russian Federation",
          "Ukraine",
          "Egypt",
          "Kenya",
          "Mauritius",
          "Nigeria",
          "South Africa",
          "Sudan",
          "Tanzania",
          "Bahrain",
          "Iraq",
          "Israel",
          "Oman",
          "Saudi Arabia",
          "Turkey",
          "United Arab Emirates",
          "Yemen",
          "Afghanistan",
          "Bangladesh",
          "Bhutan",
          "Iran",
          "Maldives",
          "Nepal",
          "Pakistan",
          "Sri Lanka",
          "Indonesia",
          "Malaysia",
          "Myanmar",
          "Philippines",
          "Singapore",
          "Thailand",
          "Vietnam",
          "China",
          "Japan",
          "Korea (Republic Of ",
          "Republic Of China Taiwan",
          "Australia",
          "New Zealand"
         ],
         "xaxis": "x",
         "y": [
          36.4,
          26.9,
          41.5,
          32.1,
          25,
          34.3,
          29.4,
          38,
          41.7,
          34.8,
          32.7,
          30.9,
          26.4,
          33.1,
          30.3,
          34.8,
          27.7,
          24.2,
          36.4,
          30.9,
          34,
          35,
          35.5,
          46.5,
          33.4,
          45.7,
          36.5,
          26,
          25.6,
          29.9,
          22.2,
          32.1,
          25.9,
          25.3,
          22.4,
          24.8,
          25.1,
          32.6,
          22.4,
          30.4,
          21,
          25.4,
          35.9,
          24.2,
          28.6,
          37.6,
          24.2,
          30,
          40.4,
          29.9,
          30.6,
          27.5,
          41.4,
          25.6,
          24.5,
          37,
          28.7,
          27.6,
          28.2,
          31.9,
          30.8,
          26.6,
          27.6
         ],
         "yaxis": "y"
        },
        {
         "hovertemplate": "variable=2019 2nd quarter (Apr-June)<br>Country of Nationality=%{x}<br>value=%{y}<extra></extra>",
         "legendgroup": "2019 2nd quarter (Apr-June)",
         "line": {
          "color": "#EF553B",
          "dash": "solid"
         },
         "marker": {
          "symbol": "circle"
         },
         "mode": "lines",
         "name": "2019 2nd quarter (Apr-June)",
         "orientation": "v",
         "showlegend": true,
         "type": "scatter",
         "x": [
          "Canada",
          "United States Of America",
          "Argentina",
          "Brazil",
          "Mexico",
          "Austria",
          "Belgium",
          "Denmark",
          "Finland",
          "France",
          "Germany",
          "Greece",
          "Ireland",
          "Italy",
          "Netherlands",
          "Norway",
          "Portugal",
          "Spain",
          "Sweden",
          "Switzerland",
          "United Kingdom",
          "Czech Rep.",
          "Hungary",
          "Kazakhstan",
          "Poland",
          "Russian Federation",
          "Ukraine",
          "Egypt",
          "Kenya",
          "Mauritius",
          "Nigeria",
          "South Africa",
          "Sudan",
          "Tanzania",
          "Bahrain",
          "Iraq",
          "Israel",
          "Oman",
          "Saudi Arabia",
          "Turkey",
          "United Arab Emirates",
          "Yemen",
          "Afghanistan",
          "Bangladesh",
          "Bhutan",
          "Iran",
          "Maldives",
          "Nepal",
          "Pakistan",
          "Sri Lanka",
          "Indonesia",
          "Malaysia",
          "Myanmar",
          "Philippines",
          "Singapore",
          "Thailand",
          "Vietnam",
          "China",
          "Japan",
          "Korea (Republic Of ",
          "Republic Of China Taiwan",
          "Australia",
          "New Zealand"
         ],
         "xaxis": "x",
         "y": [
          14.3,
          21.4,
          16.8,
          19.5,
          21.8,
          17.3,
          17.4,
          17.2,
          17.5,
          16.5,
          19,
          18.3,
          24.8,
          15.7,
          17.7,
          17,
          20.3,
          17,
          15.9,
          18.1,
          16.6,
          18.4,
          18,
          7.7,
          15.3,
          8.3,
          17.3,
          20.6,
          19,
          19.5,
          21.7,
          15.7,
          18.7,
          17.6,
          23.1,
          22.2,
          17.6,
          18,
          23.3,
          18.7,
          15.5,
          20.4,
          15.9,
          23.1,
          20.8,
          15.1,
          20.6,
          17.5,
          21.8,
          15.7,
          18.1,
          20.1,
          10.6,
          23.3,
          22.1,
          15.6,
          10.9,
          19.3,
          20.9,
          20.9,
          16.9,
          17,
          17.2
         ],
         "yaxis": "y"
        },
        {
         "hovertemplate": "variable=2019 3rd quarter (July-Sep) <br>Country of Nationality=%{x}<br>value=%{y}<extra></extra>",
         "legendgroup": "2019 3rd quarter (July-Sep) ",
         "line": {
          "color": "#00cc96",
          "dash": "solid"
         },
         "marker": {
          "symbol": "circle"
         },
         "mode": "lines",
         "name": "2019 3rd quarter (July-Sep) ",
         "orientation": "v",
         "showlegend": true,
         "type": "scatter",
         "x": [
          "Canada",
          "United States Of America",
          "Argentina",
          "Brazil",
          "Mexico",
          "Austria",
          "Belgium",
          "Denmark",
          "Finland",
          "France",
          "Germany",
          "Greece",
          "Ireland",
          "Italy",
          "Netherlands",
          "Norway",
          "Portugal",
          "Spain",
          "Sweden",
          "Switzerland",
          "United Kingdom",
          "Czech Rep.",
          "Hungary",
          "Kazakhstan",
          "Poland",
          "Russian Federation",
          "Ukraine",
          "Egypt",
          "Kenya",
          "Mauritius",
          "Nigeria",
          "South Africa",
          "Sudan",
          "Tanzania",
          "Bahrain",
          "Iraq",
          "Israel",
          "Oman",
          "Saudi Arabia",
          "Turkey",
          "United Arab Emirates",
          "Yemen",
          "Afghanistan",
          "Bangladesh",
          "Bhutan",
          "Iran",
          "Maldives",
          "Nepal",
          "Pakistan",
          "Sri Lanka",
          "Indonesia",
          "Malaysia",
          "Myanmar",
          "Philippines",
          "Singapore",
          "Thailand",
          "Vietnam",
          "China",
          "Japan",
          "Korea (Republic Of ",
          "Republic Of China Taiwan",
          "Australia",
          "New Zealand"
         ],
         "xaxis": "x",
         "y": [
          14.8,
          19.3,
          16.7,
          18.7,
          21.9,
          19.8,
          21.9,
          16.3,
          14.7,
          21.2,
          18.5,
          19.3,
          21.4,
          20.6,
          21.4,
          19.1,
          22,
          31.2,
          13,
          19.7,
          19.6,
          18.9,
          15.9,
          10.5,
          17.6,
          5.9,
          16.4,
          26.9,
          21.6,
          20.1,
          29.9,
          16.8,
          25.1,
          24.1,
          29.2,
          30.9,
          26.4,
          28,
          30.3,
          23.1,
          40.2,
          26.7,
          21.7,
          25.4,
          24.2,
          19.5,
          23.8,
          24.7,
          15.1,
          30.5,
          23.3,
          24.8,
          6.7,
          24.2,
          23,
          14.1,
          15.6,
          21.8,
          24.2,
          22,
          25,
          16.9,
          16.6
         ],
         "yaxis": "y"
        },
        {
         "hovertemplate": "variable=2019 4th quarter (Oct-Dec) <br>Country of Nationality=%{x}<br>value=%{y}<extra></extra>",
         "legendgroup": "2019 4th quarter (Oct-Dec) ",
         "line": {
          "color": "#ab63fa",
          "dash": "solid"
         },
         "marker": {
          "symbol": "circle"
         },
         "mode": "lines",
         "name": "2019 4th quarter (Oct-Dec) ",
         "orientation": "v",
         "showlegend": true,
         "type": "scatter",
         "x": [
          "Canada",
          "United States Of America",
          "Argentina",
          "Brazil",
          "Mexico",
          "Austria",
          "Belgium",
          "Denmark",
          "Finland",
          "France",
          "Germany",
          "Greece",
          "Ireland",
          "Italy",
          "Netherlands",
          "Norway",
          "Portugal",
          "Spain",
          "Sweden",
          "Switzerland",
          "United Kingdom",
          "Czech Rep.",
          "Hungary",
          "Kazakhstan",
          "Poland",
          "Russian Federation",
          "Ukraine",
          "Egypt",
          "Kenya",
          "Mauritius",
          "Nigeria",
          "South Africa",
          "Sudan",
          "Tanzania",
          "Bahrain",
          "Iraq",
          "Israel",
          "Oman",
          "Saudi Arabia",
          "Turkey",
          "United Arab Emirates",
          "Yemen",
          "Afghanistan",
          "Bangladesh",
          "Bhutan",
          "Iran",
          "Maldives",
          "Nepal",
          "Pakistan",
          "Sri Lanka",
          "Indonesia",
          "Malaysia",
          "Myanmar",
          "Philippines",
          "Singapore",
          "Thailand",
          "Vietnam",
          "China",
          "Japan",
          "Korea (Republic Of ",
          "Republic Of China Taiwan",
          "Australia",
          "New Zealand"
         ],
         "xaxis": "x",
         "y": [
          34.5,
          32.3,
          25.1,
          29.7,
          31.2,
          28.6,
          31.4,
          28.6,
          26,
          27.4,
          29.7,
          31.6,
          27.5,
          30.6,
          30.6,
          29.1,
          29.9,
          27.6,
          34.7,
          31.4,
          29.8,
          27.7,
          30.5,
          35.3,
          33.8,
          40.1,
          29.8,
          26.5,
          33.8,
          30.5,
          26.1,
          35.4,
          30.3,
          33,
          25.3,
          22.1,
          30.9,
          21.4,
          24,
          27.8,
          23.2,
          27.5,
          26.5,
          27.3,
          26.3,
          27.9,
          31.4,
          27.8,
          22.8,
          23.9,
          28,
          27.6,
          41.3,
          26.9,
          30.4,
          33.4,
          44.8,
          31.3,
          26.7,
          25.3,
          27.2,
          39.5,
          38.6
         ],
         "yaxis": "y"
        }
       ],
       "layout": {
        "legend": {
         "title": {
          "text": "variable"
         },
         "tracegroupgap": 0
        },
        "margin": {
         "t": 60
        },
        "template": {
         "data": {
          "bar": [
           {
            "error_x": {
             "color": "#2a3f5f"
            },
            "error_y": {
             "color": "#2a3f5f"
            },
            "marker": {
             "line": {
              "color": "#E5ECF6",
              "width": 0.5
             },
             "pattern": {
              "fillmode": "overlay",
              "size": 10,
              "solidity": 0.2
             }
            },
            "type": "bar"
           }
          ],
          "barpolar": [
           {
            "marker": {
             "line": {
              "color": "#E5ECF6",
              "width": 0.5
             },
             "pattern": {
              "fillmode": "overlay",
              "size": 10,
              "solidity": 0.2
             }
            },
            "type": "barpolar"
           }
          ],
          "carpet": [
           {
            "aaxis": {
             "endlinecolor": "#2a3f5f",
             "gridcolor": "white",
             "linecolor": "white",
             "minorgridcolor": "white",
             "startlinecolor": "#2a3f5f"
            },
            "baxis": {
             "endlinecolor": "#2a3f5f",
             "gridcolor": "white",
             "linecolor": "white",
             "minorgridcolor": "white",
             "startlinecolor": "#2a3f5f"
            },
            "type": "carpet"
           }
          ],
          "choropleth": [
           {
            "colorbar": {
             "outlinewidth": 0,
             "ticks": ""
            },
            "type": "choropleth"
           }
          ],
          "contour": [
           {
            "colorbar": {
             "outlinewidth": 0,
             "ticks": ""
            },
            "colorscale": [
             [
              0,
              "#0d0887"
             ],
             [
              0.1111111111111111,
              "#46039f"
             ],
             [
              0.2222222222222222,
              "#7201a8"
             ],
             [
              0.3333333333333333,
              "#9c179e"
             ],
             [
              0.4444444444444444,
              "#bd3786"
             ],
             [
              0.5555555555555556,
              "#d8576b"
             ],
             [
              0.6666666666666666,
              "#ed7953"
             ],
             [
              0.7777777777777778,
              "#fb9f3a"
             ],
             [
              0.8888888888888888,
              "#fdca26"
             ],
             [
              1,
              "#f0f921"
             ]
            ],
            "type": "contour"
           }
          ],
          "contourcarpet": [
           {
            "colorbar": {
             "outlinewidth": 0,
             "ticks": ""
            },
            "type": "contourcarpet"
           }
          ],
          "heatmap": [
           {
            "colorbar": {
             "outlinewidth": 0,
             "ticks": ""
            },
            "colorscale": [
             [
              0,
              "#0d0887"
             ],
             [
              0.1111111111111111,
              "#46039f"
             ],
             [
              0.2222222222222222,
              "#7201a8"
             ],
             [
              0.3333333333333333,
              "#9c179e"
             ],
             [
              0.4444444444444444,
              "#bd3786"
             ],
             [
              0.5555555555555556,
              "#d8576b"
             ],
             [
              0.6666666666666666,
              "#ed7953"
             ],
             [
              0.7777777777777778,
              "#fb9f3a"
             ],
             [
              0.8888888888888888,
              "#fdca26"
             ],
             [
              1,
              "#f0f921"
             ]
            ],
            "type": "heatmap"
           }
          ],
          "heatmapgl": [
           {
            "colorbar": {
             "outlinewidth": 0,
             "ticks": ""
            },
            "colorscale": [
             [
              0,
              "#0d0887"
             ],
             [
              0.1111111111111111,
              "#46039f"
             ],
             [
              0.2222222222222222,
              "#7201a8"
             ],
             [
              0.3333333333333333,
              "#9c179e"
             ],
             [
              0.4444444444444444,
              "#bd3786"
             ],
             [
              0.5555555555555556,
              "#d8576b"
             ],
             [
              0.6666666666666666,
              "#ed7953"
             ],
             [
              0.7777777777777778,
              "#fb9f3a"
             ],
             [
              0.8888888888888888,
              "#fdca26"
             ],
             [
              1,
              "#f0f921"
             ]
            ],
            "type": "heatmapgl"
           }
          ],
          "histogram": [
           {
            "marker": {
             "pattern": {
              "fillmode": "overlay",
              "size": 10,
              "solidity": 0.2
             }
            },
            "type": "histogram"
           }
          ],
          "histogram2d": [
           {
            "colorbar": {
             "outlinewidth": 0,
             "ticks": ""
            },
            "colorscale": [
             [
              0,
              "#0d0887"
             ],
             [
              0.1111111111111111,
              "#46039f"
             ],
             [
              0.2222222222222222,
              "#7201a8"
             ],
             [
              0.3333333333333333,
              "#9c179e"
             ],
             [
              0.4444444444444444,
              "#bd3786"
             ],
             [
              0.5555555555555556,
              "#d8576b"
             ],
             [
              0.6666666666666666,
              "#ed7953"
             ],
             [
              0.7777777777777778,
              "#fb9f3a"
             ],
             [
              0.8888888888888888,
              "#fdca26"
             ],
             [
              1,
              "#f0f921"
             ]
            ],
            "type": "histogram2d"
           }
          ],
          "histogram2dcontour": [
           {
            "colorbar": {
             "outlinewidth": 0,
             "ticks": ""
            },
            "colorscale": [
             [
              0,
              "#0d0887"
             ],
             [
              0.1111111111111111,
              "#46039f"
             ],
             [
              0.2222222222222222,
              "#7201a8"
             ],
             [
              0.3333333333333333,
              "#9c179e"
             ],
             [
              0.4444444444444444,
              "#bd3786"
             ],
             [
              0.5555555555555556,
              "#d8576b"
             ],
             [
              0.6666666666666666,
              "#ed7953"
             ],
             [
              0.7777777777777778,
              "#fb9f3a"
             ],
             [
              0.8888888888888888,
              "#fdca26"
             ],
             [
              1,
              "#f0f921"
             ]
            ],
            "type": "histogram2dcontour"
           }
          ],
          "mesh3d": [
           {
            "colorbar": {
             "outlinewidth": 0,
             "ticks": ""
            },
            "type": "mesh3d"
           }
          ],
          "parcoords": [
           {
            "line": {
             "colorbar": {
              "outlinewidth": 0,
              "ticks": ""
             }
            },
            "type": "parcoords"
           }
          ],
          "pie": [
           {
            "automargin": true,
            "type": "pie"
           }
          ],
          "scatter": [
           {
            "fillpattern": {
             "fillmode": "overlay",
             "size": 10,
             "solidity": 0.2
            },
            "type": "scatter"
           }
          ],
          "scatter3d": [
           {
            "line": {
             "colorbar": {
              "outlinewidth": 0,
              "ticks": ""
             }
            },
            "marker": {
             "colorbar": {
              "outlinewidth": 0,
              "ticks": ""
             }
            },
            "type": "scatter3d"
           }
          ],
          "scattercarpet": [
           {
            "marker": {
             "colorbar": {
              "outlinewidth": 0,
              "ticks": ""
             }
            },
            "type": "scattercarpet"
           }
          ],
          "scattergeo": [
           {
            "marker": {
             "colorbar": {
              "outlinewidth": 0,
              "ticks": ""
             }
            },
            "type": "scattergeo"
           }
          ],
          "scattergl": [
           {
            "marker": {
             "colorbar": {
              "outlinewidth": 0,
              "ticks": ""
             }
            },
            "type": "scattergl"
           }
          ],
          "scattermapbox": [
           {
            "marker": {
             "colorbar": {
              "outlinewidth": 0,
              "ticks": ""
             }
            },
            "type": "scattermapbox"
           }
          ],
          "scatterpolar": [
           {
            "marker": {
             "colorbar": {
              "outlinewidth": 0,
              "ticks": ""
             }
            },
            "type": "scatterpolar"
           }
          ],
          "scatterpolargl": [
           {
            "marker": {
             "colorbar": {
              "outlinewidth": 0,
              "ticks": ""
             }
            },
            "type": "scatterpolargl"
           }
          ],
          "scatterternary": [
           {
            "marker": {
             "colorbar": {
              "outlinewidth": 0,
              "ticks": ""
             }
            },
            "type": "scatterternary"
           }
          ],
          "surface": [
           {
            "colorbar": {
             "outlinewidth": 0,
             "ticks": ""
            },
            "colorscale": [
             [
              0,
              "#0d0887"
             ],
             [
              0.1111111111111111,
              "#46039f"
             ],
             [
              0.2222222222222222,
              "#7201a8"
             ],
             [
              0.3333333333333333,
              "#9c179e"
             ],
             [
              0.4444444444444444,
              "#bd3786"
             ],
             [
              0.5555555555555556,
              "#d8576b"
             ],
             [
              0.6666666666666666,
              "#ed7953"
             ],
             [
              0.7777777777777778,
              "#fb9f3a"
             ],
             [
              0.8888888888888888,
              "#fdca26"
             ],
             [
              1,
              "#f0f921"
             ]
            ],
            "type": "surface"
           }
          ],
          "table": [
           {
            "cells": {
             "fill": {
              "color": "#EBF0F8"
             },
             "line": {
              "color": "white"
             }
            },
            "header": {
             "fill": {
              "color": "#C8D4E3"
             },
             "line": {
              "color": "white"
             }
            },
            "type": "table"
           }
          ]
         },
         "layout": {
          "annotationdefaults": {
           "arrowcolor": "#2a3f5f",
           "arrowhead": 0,
           "arrowwidth": 1
          },
          "autotypenumbers": "strict",
          "coloraxis": {
           "colorbar": {
            "outlinewidth": 0,
            "ticks": ""
           }
          },
          "colorscale": {
           "diverging": [
            [
             0,
             "#8e0152"
            ],
            [
             0.1,
             "#c51b7d"
            ],
            [
             0.2,
             "#de77ae"
            ],
            [
             0.3,
             "#f1b6da"
            ],
            [
             0.4,
             "#fde0ef"
            ],
            [
             0.5,
             "#f7f7f7"
            ],
            [
             0.6,
             "#e6f5d0"
            ],
            [
             0.7,
             "#b8e186"
            ],
            [
             0.8,
             "#7fbc41"
            ],
            [
             0.9,
             "#4d9221"
            ],
            [
             1,
             "#276419"
            ]
           ],
           "sequential": [
            [
             0,
             "#0d0887"
            ],
            [
             0.1111111111111111,
             "#46039f"
            ],
            [
             0.2222222222222222,
             "#7201a8"
            ],
            [
             0.3333333333333333,
             "#9c179e"
            ],
            [
             0.4444444444444444,
             "#bd3786"
            ],
            [
             0.5555555555555556,
             "#d8576b"
            ],
            [
             0.6666666666666666,
             "#ed7953"
            ],
            [
             0.7777777777777778,
             "#fb9f3a"
            ],
            [
             0.8888888888888888,
             "#fdca26"
            ],
            [
             1,
             "#f0f921"
            ]
           ],
           "sequentialminus": [
            [
             0,
             "#0d0887"
            ],
            [
             0.1111111111111111,
             "#46039f"
            ],
            [
             0.2222222222222222,
             "#7201a8"
            ],
            [
             0.3333333333333333,
             "#9c179e"
            ],
            [
             0.4444444444444444,
             "#bd3786"
            ],
            [
             0.5555555555555556,
             "#d8576b"
            ],
            [
             0.6666666666666666,
             "#ed7953"
            ],
            [
             0.7777777777777778,
             "#fb9f3a"
            ],
            [
             0.8888888888888888,
             "#fdca26"
            ],
            [
             1,
             "#f0f921"
            ]
           ]
          },
          "colorway": [
           "#636efa",
           "#EF553B",
           "#00cc96",
           "#ab63fa",
           "#FFA15A",
           "#19d3f3",
           "#FF6692",
           "#B6E880",
           "#FF97FF",
           "#FECB52"
          ],
          "font": {
           "color": "#2a3f5f"
          },
          "geo": {
           "bgcolor": "white",
           "lakecolor": "white",
           "landcolor": "#E5ECF6",
           "showlakes": true,
           "showland": true,
           "subunitcolor": "white"
          },
          "hoverlabel": {
           "align": "left"
          },
          "hovermode": "closest",
          "mapbox": {
           "style": "light"
          },
          "paper_bgcolor": "white",
          "plot_bgcolor": "#E5ECF6",
          "polar": {
           "angularaxis": {
            "gridcolor": "white",
            "linecolor": "white",
            "ticks": ""
           },
           "bgcolor": "#E5ECF6",
           "radialaxis": {
            "gridcolor": "white",
            "linecolor": "white",
            "ticks": ""
           }
          },
          "scene": {
           "xaxis": {
            "backgroundcolor": "#E5ECF6",
            "gridcolor": "white",
            "gridwidth": 2,
            "linecolor": "white",
            "showbackground": true,
            "ticks": "",
            "zerolinecolor": "white"
           },
           "yaxis": {
            "backgroundcolor": "#E5ECF6",
            "gridcolor": "white",
            "gridwidth": 2,
            "linecolor": "white",
            "showbackground": true,
            "ticks": "",
            "zerolinecolor": "white"
           },
           "zaxis": {
            "backgroundcolor": "#E5ECF6",
            "gridcolor": "white",
            "gridwidth": 2,
            "linecolor": "white",
            "showbackground": true,
            "ticks": "",
            "zerolinecolor": "white"
           }
          },
          "shapedefaults": {
           "line": {
            "color": "#2a3f5f"
           }
          },
          "ternary": {
           "aaxis": {
            "gridcolor": "white",
            "linecolor": "white",
            "ticks": ""
           },
           "baxis": {
            "gridcolor": "white",
            "linecolor": "white",
            "ticks": ""
           },
           "bgcolor": "#E5ECF6",
           "caxis": {
            "gridcolor": "white",
            "linecolor": "white",
            "ticks": ""
           }
          },
          "title": {
           "x": 0.05
          },
          "xaxis": {
           "automargin": true,
           "gridcolor": "white",
           "linecolor": "white",
           "ticks": "",
           "title": {
            "standoff": 15
           },
           "zerolinecolor": "white",
           "zerolinewidth": 2
          },
          "yaxis": {
           "automargin": true,
           "gridcolor": "white",
           "linecolor": "white",
           "ticks": "",
           "title": {
            "standoff": 15
           },
           "zerolinecolor": "white",
           "zerolinewidth": 2
          }
         }
        },
        "xaxis": {
         "anchor": "y",
         "domain": [
          0,
          1
         ],
         "title": {
          "text": "Country of Nationality"
         }
        },
        "yaxis": {
         "anchor": "x",
         "domain": [
          0,
          1
         ],
         "title": {
          "text": "value"
         }
        }
       }
      }
     },
     "metadata": {},
     "output_type": "display_data"
    }
   ],
   "source": [
    "cols = ['2019 1st quarter (Jan-March) ','2019 2nd quarter (Apr-June)', '2019 3rd quarter (July-Sep) ', '2019 4th quarter (Oct-Dec) ']\n",
    "px.line(df, df.index, cols)"
   ]
  },
  {
   "cell_type": "code",
   "execution_count": 15,
   "metadata": {},
   "outputs": [
    {
     "data": {
      "application/vnd.plotly.v1+json": {
       "config": {
        "plotlyServerURL": "https://plot.ly"
       },
       "data": [
        {
         "hovertemplate": "variable=2020 1st quarter (Jan-March) <br>Country of Nationality=%{x}<br>value=%{y}<extra></extra>",
         "legendgroup": "2020 1st quarter (Jan-March) ",
         "line": {
          "color": "#636efa",
          "dash": "solid"
         },
         "marker": {
          "symbol": "circle"
         },
         "mode": "lines",
         "name": "2020 1st quarter (Jan-March) ",
         "orientation": "v",
         "showlegend": true,
         "type": "scatter",
         "x": [
          "Canada",
          "United States Of America",
          "Argentina",
          "Brazil",
          "Mexico",
          "Austria",
          "Belgium",
          "Denmark",
          "Finland",
          "France",
          "Germany",
          "Greece",
          "Ireland",
          "Italy",
          "Netherlands",
          "Norway",
          "Portugal",
          "Spain",
          "Sweden",
          "Switzerland",
          "United Kingdom",
          "Czech Rep.",
          "Hungary",
          "Kazakhstan",
          "Poland",
          "Russian Federation",
          "Ukraine",
          "Egypt",
          "Kenya",
          "Mauritius",
          "Nigeria",
          "South Africa",
          "Sudan",
          "Tanzania",
          "Bahrain",
          "Iraq",
          "Israel",
          "Oman",
          "Saudi Arabia",
          "Turkey",
          "United Arab Emirates",
          "Yemen",
          "Afghanistan",
          "Bangladesh",
          "Bhutan",
          "Iran",
          "Maldives",
          "Nepal",
          "Pakistan",
          "Sri Lanka",
          "Indonesia",
          "Malaysia",
          "Myanmar",
          "Philippines",
          "Singapore",
          "Thailand",
          "Vietnam",
          "China",
          "Japan",
          "Korea (Republic Of ",
          "Republic Of China Taiwan",
          "Australia",
          "New Zealand"
         ],
         "xaxis": "x",
         "y": [
          88.9,
          84.5,
          97.8,
          92.6,
          95.8,
          91.6,
          84.8,
          96.4,
          95.5,
          88.8,
          88.4,
          87,
          87.1,
          90.8,
          77.7,
          95.3,
          62.5,
          91.2,
          93.1,
          92.6,
          88.6,
          94,
          95.7,
          97.3,
          95.1,
          97.7,
          88.7,
          88.6,
          83.2,
          95.8,
          79.1,
          92,
          87.1,
          83.1,
          93.1,
          59.9,
          96,
          89.4,
          97.4,
          87,
          92.7,
          92.7,
          76.5,
          93.1,
          85.8,
          93.2,
          81.4,
          93.1,
          66.7,
          98.2,
          87.9,
          98,
          97.5,
          72.2,
          94.7,
          97.1,
          95.2,
          94.6,
          93.4,
          81,
          97.7,
          95.2,
          94.2
         ],
         "yaxis": "y"
        },
        {
         "hovertemplate": "variable=2020 2nd quarter (Apr-June)<br>Country of Nationality=%{x}<br>value=%{y}<extra></extra>",
         "legendgroup": "2020 2nd quarter (Apr-June)",
         "line": {
          "color": "#EF553B",
          "dash": "solid"
         },
         "marker": {
          "symbol": "circle"
         },
         "mode": "lines",
         "name": "2020 2nd quarter (Apr-June)",
         "orientation": "v",
         "showlegend": true,
         "type": "scatter",
         "x": [
          "Canada",
          "United States Of America",
          "Argentina",
          "Brazil",
          "Mexico",
          "Austria",
          "Belgium",
          "Denmark",
          "Finland",
          "France",
          "Germany",
          "Greece",
          "Ireland",
          "Italy",
          "Netherlands",
          "Norway",
          "Portugal",
          "Spain",
          "Sweden",
          "Switzerland",
          "United Kingdom",
          "Czech Rep.",
          "Hungary",
          "Kazakhstan",
          "Poland",
          "Russian Federation",
          "Ukraine",
          "Egypt",
          "Kenya",
          "Mauritius",
          "Nigeria",
          "South Africa",
          "Sudan",
          "Tanzania",
          "Bahrain",
          "Iraq",
          "Israel",
          "Oman",
          "Saudi Arabia",
          "Turkey",
          "United Arab Emirates",
          "Yemen",
          "Afghanistan",
          "Bangladesh",
          "Bhutan",
          "Iran",
          "Maldives",
          "Nepal",
          "Pakistan",
          "Sri Lanka",
          "Indonesia",
          "Malaysia",
          "Myanmar",
          "Philippines",
          "Singapore",
          "Thailand",
          "Vietnam",
          "China",
          "Japan",
          "Korea (Republic Of ",
          "Republic Of China Taiwan",
          "Australia",
          "New Zealand"
         ],
         "xaxis": "x",
         "y": [
          0.3,
          0.9,
          0.2,
          0.9,
          0.5,
          0.4,
          0.9,
          0.2,
          0.2,
          0.6,
          0.8,
          0.8,
          0.6,
          0.4,
          3,
          0.3,
          1,
          0.5,
          0.2,
          1,
          0.4,
          0.1,
          0,
          0.2,
          0.6,
          0.2,
          2.2,
          1.8,
          0.7,
          0.3,
          0.1,
          0.9,
          0,
          0.1,
          0.4,
          0,
          0.1,
          0.6,
          0,
          2.8,
          0.5,
          0.3,
          0,
          0,
          0.3,
          0.3,
          0.4,
          0.1,
          0.6,
          0.2,
          3,
          0.6,
          0.7,
          5.4,
          0.4,
          0.8,
          0.9,
          1.1,
          0.5,
          3.2,
          0,
          0.4,
          0.8
         ],
         "yaxis": "y"
        },
        {
         "hovertemplate": "variable=2020 3rd quarter (July-Sep) <br>Country of Nationality=%{x}<br>value=%{y}<extra></extra>",
         "legendgroup": "2020 3rd quarter (July-Sep) ",
         "line": {
          "color": "#00cc96",
          "dash": "solid"
         },
         "marker": {
          "symbol": "circle"
         },
         "mode": "lines",
         "name": "2020 3rd quarter (July-Sep) ",
         "orientation": "v",
         "showlegend": true,
         "type": "scatter",
         "x": [
          "Canada",
          "United States Of America",
          "Argentina",
          "Brazil",
          "Mexico",
          "Austria",
          "Belgium",
          "Denmark",
          "Finland",
          "France",
          "Germany",
          "Greece",
          "Ireland",
          "Italy",
          "Netherlands",
          "Norway",
          "Portugal",
          "Spain",
          "Sweden",
          "Switzerland",
          "United Kingdom",
          "Czech Rep.",
          "Hungary",
          "Kazakhstan",
          "Poland",
          "Russian Federation",
          "Ukraine",
          "Egypt",
          "Kenya",
          "Mauritius",
          "Nigeria",
          "South Africa",
          "Sudan",
          "Tanzania",
          "Bahrain",
          "Iraq",
          "Israel",
          "Oman",
          "Saudi Arabia",
          "Turkey",
          "United Arab Emirates",
          "Yemen",
          "Afghanistan",
          "Bangladesh",
          "Bhutan",
          "Iran",
          "Maldives",
          "Nepal",
          "Pakistan",
          "Sri Lanka",
          "Indonesia",
          "Malaysia",
          "Myanmar",
          "Philippines",
          "Singapore",
          "Thailand",
          "Vietnam",
          "China",
          "Japan",
          "Korea (Republic Of ",
          "Republic Of China Taiwan",
          "Australia",
          "New Zealand"
         ],
         "xaxis": "x",
         "y": [
          2,
          3.8,
          0.5,
          2.3,
          1.2,
          2.7,
          3.2,
          1,
          1,
          4.5,
          4.7,
          3.7,
          3.1,
          2.2,
          8.7,
          1.1,
          10.9,
          1.9,
          1.4,
          1.9,
          2.5,
          1.1,
          1.2,
          0.8,
          1.6,
          0.6,
          3.6,
          3.9,
          2.5,
          1.7,
          1.7,
          1.8,
          0.4,
          2.1,
          0.9,
          3.9,
          1.9,
          1.8,
          1.1,
          4.1,
          1.7,
          1.1,
          2.5,
          0.2,
          2.4,
          1.8,
          3.7,
          0.5,
          9,
          0.5,
          4,
          0.4,
          0.9,
          11.8,
          1.3,
          1,
          1.6,
          1.4,
          1.7,
          6.1,
          0.5,
          1.2,
          1.5
         ],
         "yaxis": "y"
        },
        {
         "hovertemplate": "variable=2020 4th quarter (Oct-Dec) <br>Country of Nationality=%{x}<br>value=%{y}<extra></extra>",
         "legendgroup": "2020 4th quarter (Oct-Dec) ",
         "line": {
          "color": "#ab63fa",
          "dash": "solid"
         },
         "marker": {
          "symbol": "circle"
         },
         "mode": "lines",
         "name": "2020 4th quarter (Oct-Dec) ",
         "orientation": "v",
         "showlegend": true,
         "type": "scatter",
         "x": [
          "Canada",
          "United States Of America",
          "Argentina",
          "Brazil",
          "Mexico",
          "Austria",
          "Belgium",
          "Denmark",
          "Finland",
          "France",
          "Germany",
          "Greece",
          "Ireland",
          "Italy",
          "Netherlands",
          "Norway",
          "Portugal",
          "Spain",
          "Sweden",
          "Switzerland",
          "United Kingdom",
          "Czech Rep.",
          "Hungary",
          "Kazakhstan",
          "Poland",
          "Russian Federation",
          "Ukraine",
          "Egypt",
          "Kenya",
          "Mauritius",
          "Nigeria",
          "South Africa",
          "Sudan",
          "Tanzania",
          "Bahrain",
          "Iraq",
          "Israel",
          "Oman",
          "Saudi Arabia",
          "Turkey",
          "United Arab Emirates",
          "Yemen",
          "Afghanistan",
          "Bangladesh",
          "Bhutan",
          "Iran",
          "Maldives",
          "Nepal",
          "Pakistan",
          "Sri Lanka",
          "Indonesia",
          "Malaysia",
          "Myanmar",
          "Philippines",
          "Singapore",
          "Thailand",
          "Vietnam",
          "China",
          "Japan",
          "Korea (Republic Of ",
          "Republic Of China Taiwan",
          "Australia",
          "New Zealand"
         ],
         "xaxis": "x",
         "y": [
          8.8,
          10.8,
          1.5,
          4.1,
          2.4,
          5.3,
          11,
          2.4,
          3.3,
          6,
          6,
          8.5,
          9.3,
          6.6,
          10.7,
          3.3,
          25.7,
          6.4,
          5.3,
          4.4,
          8.5,
          4.8,
          3,
          1.6,
          2.8,
          1.6,
          5.6,
          5.7,
          13.6,
          2.2,
          19.1,
          5.2,
          12.5,
          14.7,
          5.5,
          36.3,
          2,
          8.2,
          1.5,
          6.1,
          5.1,
          5.9,
          21,
          6.6,
          11.6,
          4.7,
          14.5,
          6.2,
          23.8,
          1.1,
          5.1,
          1.1,
          1,
          10.7,
          3.5,
          1.2,
          2.4,
          2.9,
          4.3,
          9.6,
          1.7,
          3.2,
          3.5
         ],
         "yaxis": "y"
        }
       ],
       "layout": {
        "legend": {
         "title": {
          "text": "variable"
         },
         "tracegroupgap": 0
        },
        "margin": {
         "t": 60
        },
        "template": {
         "data": {
          "bar": [
           {
            "error_x": {
             "color": "#2a3f5f"
            },
            "error_y": {
             "color": "#2a3f5f"
            },
            "marker": {
             "line": {
              "color": "#E5ECF6",
              "width": 0.5
             },
             "pattern": {
              "fillmode": "overlay",
              "size": 10,
              "solidity": 0.2
             }
            },
            "type": "bar"
           }
          ],
          "barpolar": [
           {
            "marker": {
             "line": {
              "color": "#E5ECF6",
              "width": 0.5
             },
             "pattern": {
              "fillmode": "overlay",
              "size": 10,
              "solidity": 0.2
             }
            },
            "type": "barpolar"
           }
          ],
          "carpet": [
           {
            "aaxis": {
             "endlinecolor": "#2a3f5f",
             "gridcolor": "white",
             "linecolor": "white",
             "minorgridcolor": "white",
             "startlinecolor": "#2a3f5f"
            },
            "baxis": {
             "endlinecolor": "#2a3f5f",
             "gridcolor": "white",
             "linecolor": "white",
             "minorgridcolor": "white",
             "startlinecolor": "#2a3f5f"
            },
            "type": "carpet"
           }
          ],
          "choropleth": [
           {
            "colorbar": {
             "outlinewidth": 0,
             "ticks": ""
            },
            "type": "choropleth"
           }
          ],
          "contour": [
           {
            "colorbar": {
             "outlinewidth": 0,
             "ticks": ""
            },
            "colorscale": [
             [
              0,
              "#0d0887"
             ],
             [
              0.1111111111111111,
              "#46039f"
             ],
             [
              0.2222222222222222,
              "#7201a8"
             ],
             [
              0.3333333333333333,
              "#9c179e"
             ],
             [
              0.4444444444444444,
              "#bd3786"
             ],
             [
              0.5555555555555556,
              "#d8576b"
             ],
             [
              0.6666666666666666,
              "#ed7953"
             ],
             [
              0.7777777777777778,
              "#fb9f3a"
             ],
             [
              0.8888888888888888,
              "#fdca26"
             ],
             [
              1,
              "#f0f921"
             ]
            ],
            "type": "contour"
           }
          ],
          "contourcarpet": [
           {
            "colorbar": {
             "outlinewidth": 0,
             "ticks": ""
            },
            "type": "contourcarpet"
           }
          ],
          "heatmap": [
           {
            "colorbar": {
             "outlinewidth": 0,
             "ticks": ""
            },
            "colorscale": [
             [
              0,
              "#0d0887"
             ],
             [
              0.1111111111111111,
              "#46039f"
             ],
             [
              0.2222222222222222,
              "#7201a8"
             ],
             [
              0.3333333333333333,
              "#9c179e"
             ],
             [
              0.4444444444444444,
              "#bd3786"
             ],
             [
              0.5555555555555556,
              "#d8576b"
             ],
             [
              0.6666666666666666,
              "#ed7953"
             ],
             [
              0.7777777777777778,
              "#fb9f3a"
             ],
             [
              0.8888888888888888,
              "#fdca26"
             ],
             [
              1,
              "#f0f921"
             ]
            ],
            "type": "heatmap"
           }
          ],
          "heatmapgl": [
           {
            "colorbar": {
             "outlinewidth": 0,
             "ticks": ""
            },
            "colorscale": [
             [
              0,
              "#0d0887"
             ],
             [
              0.1111111111111111,
              "#46039f"
             ],
             [
              0.2222222222222222,
              "#7201a8"
             ],
             [
              0.3333333333333333,
              "#9c179e"
             ],
             [
              0.4444444444444444,
              "#bd3786"
             ],
             [
              0.5555555555555556,
              "#d8576b"
             ],
             [
              0.6666666666666666,
              "#ed7953"
             ],
             [
              0.7777777777777778,
              "#fb9f3a"
             ],
             [
              0.8888888888888888,
              "#fdca26"
             ],
             [
              1,
              "#f0f921"
             ]
            ],
            "type": "heatmapgl"
           }
          ],
          "histogram": [
           {
            "marker": {
             "pattern": {
              "fillmode": "overlay",
              "size": 10,
              "solidity": 0.2
             }
            },
            "type": "histogram"
           }
          ],
          "histogram2d": [
           {
            "colorbar": {
             "outlinewidth": 0,
             "ticks": ""
            },
            "colorscale": [
             [
              0,
              "#0d0887"
             ],
             [
              0.1111111111111111,
              "#46039f"
             ],
             [
              0.2222222222222222,
              "#7201a8"
             ],
             [
              0.3333333333333333,
              "#9c179e"
             ],
             [
              0.4444444444444444,
              "#bd3786"
             ],
             [
              0.5555555555555556,
              "#d8576b"
             ],
             [
              0.6666666666666666,
              "#ed7953"
             ],
             [
              0.7777777777777778,
              "#fb9f3a"
             ],
             [
              0.8888888888888888,
              "#fdca26"
             ],
             [
              1,
              "#f0f921"
             ]
            ],
            "type": "histogram2d"
           }
          ],
          "histogram2dcontour": [
           {
            "colorbar": {
             "outlinewidth": 0,
             "ticks": ""
            },
            "colorscale": [
             [
              0,
              "#0d0887"
             ],
             [
              0.1111111111111111,
              "#46039f"
             ],
             [
              0.2222222222222222,
              "#7201a8"
             ],
             [
              0.3333333333333333,
              "#9c179e"
             ],
             [
              0.4444444444444444,
              "#bd3786"
             ],
             [
              0.5555555555555556,
              "#d8576b"
             ],
             [
              0.6666666666666666,
              "#ed7953"
             ],
             [
              0.7777777777777778,
              "#fb9f3a"
             ],
             [
              0.8888888888888888,
              "#fdca26"
             ],
             [
              1,
              "#f0f921"
             ]
            ],
            "type": "histogram2dcontour"
           }
          ],
          "mesh3d": [
           {
            "colorbar": {
             "outlinewidth": 0,
             "ticks": ""
            },
            "type": "mesh3d"
           }
          ],
          "parcoords": [
           {
            "line": {
             "colorbar": {
              "outlinewidth": 0,
              "ticks": ""
             }
            },
            "type": "parcoords"
           }
          ],
          "pie": [
           {
            "automargin": true,
            "type": "pie"
           }
          ],
          "scatter": [
           {
            "fillpattern": {
             "fillmode": "overlay",
             "size": 10,
             "solidity": 0.2
            },
            "type": "scatter"
           }
          ],
          "scatter3d": [
           {
            "line": {
             "colorbar": {
              "outlinewidth": 0,
              "ticks": ""
             }
            },
            "marker": {
             "colorbar": {
              "outlinewidth": 0,
              "ticks": ""
             }
            },
            "type": "scatter3d"
           }
          ],
          "scattercarpet": [
           {
            "marker": {
             "colorbar": {
              "outlinewidth": 0,
              "ticks": ""
             }
            },
            "type": "scattercarpet"
           }
          ],
          "scattergeo": [
           {
            "marker": {
             "colorbar": {
              "outlinewidth": 0,
              "ticks": ""
             }
            },
            "type": "scattergeo"
           }
          ],
          "scattergl": [
           {
            "marker": {
             "colorbar": {
              "outlinewidth": 0,
              "ticks": ""
             }
            },
            "type": "scattergl"
           }
          ],
          "scattermapbox": [
           {
            "marker": {
             "colorbar": {
              "outlinewidth": 0,
              "ticks": ""
             }
            },
            "type": "scattermapbox"
           }
          ],
          "scatterpolar": [
           {
            "marker": {
             "colorbar": {
              "outlinewidth": 0,
              "ticks": ""
             }
            },
            "type": "scatterpolar"
           }
          ],
          "scatterpolargl": [
           {
            "marker": {
             "colorbar": {
              "outlinewidth": 0,
              "ticks": ""
             }
            },
            "type": "scatterpolargl"
           }
          ],
          "scatterternary": [
           {
            "marker": {
             "colorbar": {
              "outlinewidth": 0,
              "ticks": ""
             }
            },
            "type": "scatterternary"
           }
          ],
          "surface": [
           {
            "colorbar": {
             "outlinewidth": 0,
             "ticks": ""
            },
            "colorscale": [
             [
              0,
              "#0d0887"
             ],
             [
              0.1111111111111111,
              "#46039f"
             ],
             [
              0.2222222222222222,
              "#7201a8"
             ],
             [
              0.3333333333333333,
              "#9c179e"
             ],
             [
              0.4444444444444444,
              "#bd3786"
             ],
             [
              0.5555555555555556,
              "#d8576b"
             ],
             [
              0.6666666666666666,
              "#ed7953"
             ],
             [
              0.7777777777777778,
              "#fb9f3a"
             ],
             [
              0.8888888888888888,
              "#fdca26"
             ],
             [
              1,
              "#f0f921"
             ]
            ],
            "type": "surface"
           }
          ],
          "table": [
           {
            "cells": {
             "fill": {
              "color": "#EBF0F8"
             },
             "line": {
              "color": "white"
             }
            },
            "header": {
             "fill": {
              "color": "#C8D4E3"
             },
             "line": {
              "color": "white"
             }
            },
            "type": "table"
           }
          ]
         },
         "layout": {
          "annotationdefaults": {
           "arrowcolor": "#2a3f5f",
           "arrowhead": 0,
           "arrowwidth": 1
          },
          "autotypenumbers": "strict",
          "coloraxis": {
           "colorbar": {
            "outlinewidth": 0,
            "ticks": ""
           }
          },
          "colorscale": {
           "diverging": [
            [
             0,
             "#8e0152"
            ],
            [
             0.1,
             "#c51b7d"
            ],
            [
             0.2,
             "#de77ae"
            ],
            [
             0.3,
             "#f1b6da"
            ],
            [
             0.4,
             "#fde0ef"
            ],
            [
             0.5,
             "#f7f7f7"
            ],
            [
             0.6,
             "#e6f5d0"
            ],
            [
             0.7,
             "#b8e186"
            ],
            [
             0.8,
             "#7fbc41"
            ],
            [
             0.9,
             "#4d9221"
            ],
            [
             1,
             "#276419"
            ]
           ],
           "sequential": [
            [
             0,
             "#0d0887"
            ],
            [
             0.1111111111111111,
             "#46039f"
            ],
            [
             0.2222222222222222,
             "#7201a8"
            ],
            [
             0.3333333333333333,
             "#9c179e"
            ],
            [
             0.4444444444444444,
             "#bd3786"
            ],
            [
             0.5555555555555556,
             "#d8576b"
            ],
            [
             0.6666666666666666,
             "#ed7953"
            ],
            [
             0.7777777777777778,
             "#fb9f3a"
            ],
            [
             0.8888888888888888,
             "#fdca26"
            ],
            [
             1,
             "#f0f921"
            ]
           ],
           "sequentialminus": [
            [
             0,
             "#0d0887"
            ],
            [
             0.1111111111111111,
             "#46039f"
            ],
            [
             0.2222222222222222,
             "#7201a8"
            ],
            [
             0.3333333333333333,
             "#9c179e"
            ],
            [
             0.4444444444444444,
             "#bd3786"
            ],
            [
             0.5555555555555556,
             "#d8576b"
            ],
            [
             0.6666666666666666,
             "#ed7953"
            ],
            [
             0.7777777777777778,
             "#fb9f3a"
            ],
            [
             0.8888888888888888,
             "#fdca26"
            ],
            [
             1,
             "#f0f921"
            ]
           ]
          },
          "colorway": [
           "#636efa",
           "#EF553B",
           "#00cc96",
           "#ab63fa",
           "#FFA15A",
           "#19d3f3",
           "#FF6692",
           "#B6E880",
           "#FF97FF",
           "#FECB52"
          ],
          "font": {
           "color": "#2a3f5f"
          },
          "geo": {
           "bgcolor": "white",
           "lakecolor": "white",
           "landcolor": "#E5ECF6",
           "showlakes": true,
           "showland": true,
           "subunitcolor": "white"
          },
          "hoverlabel": {
           "align": "left"
          },
          "hovermode": "closest",
          "mapbox": {
           "style": "light"
          },
          "paper_bgcolor": "white",
          "plot_bgcolor": "#E5ECF6",
          "polar": {
           "angularaxis": {
            "gridcolor": "white",
            "linecolor": "white",
            "ticks": ""
           },
           "bgcolor": "#E5ECF6",
           "radialaxis": {
            "gridcolor": "white",
            "linecolor": "white",
            "ticks": ""
           }
          },
          "scene": {
           "xaxis": {
            "backgroundcolor": "#E5ECF6",
            "gridcolor": "white",
            "gridwidth": 2,
            "linecolor": "white",
            "showbackground": true,
            "ticks": "",
            "zerolinecolor": "white"
           },
           "yaxis": {
            "backgroundcolor": "#E5ECF6",
            "gridcolor": "white",
            "gridwidth": 2,
            "linecolor": "white",
            "showbackground": true,
            "ticks": "",
            "zerolinecolor": "white"
           },
           "zaxis": {
            "backgroundcolor": "#E5ECF6",
            "gridcolor": "white",
            "gridwidth": 2,
            "linecolor": "white",
            "showbackground": true,
            "ticks": "",
            "zerolinecolor": "white"
           }
          },
          "shapedefaults": {
           "line": {
            "color": "#2a3f5f"
           }
          },
          "ternary": {
           "aaxis": {
            "gridcolor": "white",
            "linecolor": "white",
            "ticks": ""
           },
           "baxis": {
            "gridcolor": "white",
            "linecolor": "white",
            "ticks": ""
           },
           "bgcolor": "#E5ECF6",
           "caxis": {
            "gridcolor": "white",
            "linecolor": "white",
            "ticks": ""
           }
          },
          "title": {
           "x": 0.05
          },
          "xaxis": {
           "automargin": true,
           "gridcolor": "white",
           "linecolor": "white",
           "ticks": "",
           "title": {
            "standoff": 15
           },
           "zerolinecolor": "white",
           "zerolinewidth": 2
          },
          "yaxis": {
           "automargin": true,
           "gridcolor": "white",
           "linecolor": "white",
           "ticks": "",
           "title": {
            "standoff": 15
           },
           "zerolinecolor": "white",
           "zerolinewidth": 2
          }
         }
        },
        "xaxis": {
         "anchor": "y",
         "domain": [
          0,
          1
         ],
         "title": {
          "text": "Country of Nationality"
         }
        },
        "yaxis": {
         "anchor": "x",
         "domain": [
          0,
          1
         ],
         "title": {
          "text": "value"
         }
        }
       }
      }
     },
     "metadata": {},
     "output_type": "display_data"
    }
   ],
   "source": [
    "cols = ['2020 1st quarter (Jan-March) ','2020 2nd quarter (Apr-June)', '2020 3rd quarter (July-Sep) ', '2020 4th quarter (Oct-Dec) ']\n",
    "px.line(df, df.index, cols)"
   ]
  },
  {
   "cell_type": "code",
   "execution_count": 16,
   "metadata": {},
   "outputs": [
    {
     "name": "stdout",
     "output_type": "stream",
     "text": [
      "['2014 1st quarter (Jan-March)', '2014 2nd quarter (Apr-June)', '2014 3rd quarter (July-Sep)', '2014 4th quarter (Oct-Dec))', '2015 1st quarter (Jan-March) ', '2015 2nd quarter (Apr-June)', '2015 3rd quarter (July-Sep) ', '2015 4th quarter (Oct-Dec) ', '2016 1st quarter (Jan-March) ', '2016 2nd quarter (Apr-June)', '2016 3rd quarter (July-Sep) ', '2016 4th quarter (Oct-Dec) ', '2017 1st quarter (Jan-March) ', '2017 2nd quarter (Apr-June)', '2017 3rd quarter (July-Sep) ', '2017 4th quarter (Oct-Dec) ', '2018 1st quarter (Jan-March) ', '2018 2nd quarter (Apr-June)', '2018 3rd quarter (July-Sep) ', '2018 4th quarter (Oct-Dec) ', '2019 1st quarter (Jan-March) ', '2019 2nd quarter (Apr-June)', '2019 3rd quarter (July-Sep) ', '2019 4th quarter (Oct-Dec) ', '2020 1st quarter (Jan-March) ', '2020 2nd quarter (Apr-June)', '2020 3rd quarter (July-Sep) ', '2020 4th quarter (Oct-Dec) ']\n"
     ]
    }
   ],
   "source": [
    "print(df.columns.tolist())"
   ]
  },
  {
   "cell_type": "code",
   "execution_count": 17,
   "metadata": {},
   "outputs": [
    {
     "data": {
      "application/vnd.plotly.v1+json": {
       "config": {
        "plotlyServerURL": "https://plot.ly"
       },
       "data": [
        {
         "alignmentgroup": "True",
         "hovertemplate": "Country of Nationality=%{x}<br>2020 2nd quarter (Apr-June)=%{y}<extra></extra>",
         "legendgroup": "",
         "marker": {
          "color": "#636efa",
          "pattern": {
           "shape": ""
          }
         },
         "name": "",
         "offsetgroup": "",
         "orientation": "v",
         "showlegend": false,
         "textposition": "auto",
         "type": "bar",
         "x": [
          "Canada",
          "United States Of America",
          "Argentina",
          "Brazil",
          "Mexico",
          "Austria",
          "Belgium",
          "Denmark",
          "Finland",
          "France",
          "Germany",
          "Greece",
          "Ireland",
          "Italy",
          "Netherlands",
          "Norway",
          "Portugal",
          "Spain",
          "Sweden",
          "Switzerland",
          "United Kingdom",
          "Czech Rep.",
          "Hungary",
          "Kazakhstan",
          "Poland",
          "Russian Federation",
          "Ukraine",
          "Egypt",
          "Kenya",
          "Mauritius",
          "Nigeria",
          "South Africa",
          "Sudan",
          "Tanzania",
          "Bahrain",
          "Iraq",
          "Israel",
          "Oman",
          "Saudi Arabia",
          "Turkey",
          "United Arab Emirates",
          "Yemen",
          "Afghanistan",
          "Bangladesh",
          "Bhutan",
          "Iran",
          "Maldives",
          "Nepal",
          "Pakistan",
          "Sri Lanka",
          "Indonesia",
          "Malaysia",
          "Myanmar",
          "Philippines",
          "Singapore",
          "Thailand",
          "Vietnam",
          "China",
          "Japan",
          "Korea (Republic Of ",
          "Republic Of China Taiwan",
          "Australia",
          "New Zealand"
         ],
         "xaxis": "x",
         "y": [
          0.3,
          0.9,
          0.2,
          0.9,
          0.5,
          0.4,
          0.9,
          0.2,
          0.2,
          0.6,
          0.8,
          0.8,
          0.6,
          0.4,
          3,
          0.3,
          1,
          0.5,
          0.2,
          1,
          0.4,
          0.1,
          0,
          0.2,
          0.6,
          0.2,
          2.2,
          1.8,
          0.7,
          0.3,
          0.1,
          0.9,
          0,
          0.1,
          0.4,
          0,
          0.1,
          0.6,
          0,
          2.8,
          0.5,
          0.3,
          0,
          0,
          0.3,
          0.3,
          0.4,
          0.1,
          0.6,
          0.2,
          3,
          0.6,
          0.7,
          5.4,
          0.4,
          0.8,
          0.9,
          1.1,
          0.5,
          3.2,
          0,
          0.4,
          0.8
         ],
         "yaxis": "y"
        }
       ],
       "layout": {
        "barmode": "relative",
        "legend": {
         "tracegroupgap": 0
        },
        "margin": {
         "t": 60
        },
        "template": {
         "data": {
          "bar": [
           {
            "error_x": {
             "color": "#2a3f5f"
            },
            "error_y": {
             "color": "#2a3f5f"
            },
            "marker": {
             "line": {
              "color": "#E5ECF6",
              "width": 0.5
             },
             "pattern": {
              "fillmode": "overlay",
              "size": 10,
              "solidity": 0.2
             }
            },
            "type": "bar"
           }
          ],
          "barpolar": [
           {
            "marker": {
             "line": {
              "color": "#E5ECF6",
              "width": 0.5
             },
             "pattern": {
              "fillmode": "overlay",
              "size": 10,
              "solidity": 0.2
             }
            },
            "type": "barpolar"
           }
          ],
          "carpet": [
           {
            "aaxis": {
             "endlinecolor": "#2a3f5f",
             "gridcolor": "white",
             "linecolor": "white",
             "minorgridcolor": "white",
             "startlinecolor": "#2a3f5f"
            },
            "baxis": {
             "endlinecolor": "#2a3f5f",
             "gridcolor": "white",
             "linecolor": "white",
             "minorgridcolor": "white",
             "startlinecolor": "#2a3f5f"
            },
            "type": "carpet"
           }
          ],
          "choropleth": [
           {
            "colorbar": {
             "outlinewidth": 0,
             "ticks": ""
            },
            "type": "choropleth"
           }
          ],
          "contour": [
           {
            "colorbar": {
             "outlinewidth": 0,
             "ticks": ""
            },
            "colorscale": [
             [
              0,
              "#0d0887"
             ],
             [
              0.1111111111111111,
              "#46039f"
             ],
             [
              0.2222222222222222,
              "#7201a8"
             ],
             [
              0.3333333333333333,
              "#9c179e"
             ],
             [
              0.4444444444444444,
              "#bd3786"
             ],
             [
              0.5555555555555556,
              "#d8576b"
             ],
             [
              0.6666666666666666,
              "#ed7953"
             ],
             [
              0.7777777777777778,
              "#fb9f3a"
             ],
             [
              0.8888888888888888,
              "#fdca26"
             ],
             [
              1,
              "#f0f921"
             ]
            ],
            "type": "contour"
           }
          ],
          "contourcarpet": [
           {
            "colorbar": {
             "outlinewidth": 0,
             "ticks": ""
            },
            "type": "contourcarpet"
           }
          ],
          "heatmap": [
           {
            "colorbar": {
             "outlinewidth": 0,
             "ticks": ""
            },
            "colorscale": [
             [
              0,
              "#0d0887"
             ],
             [
              0.1111111111111111,
              "#46039f"
             ],
             [
              0.2222222222222222,
              "#7201a8"
             ],
             [
              0.3333333333333333,
              "#9c179e"
             ],
             [
              0.4444444444444444,
              "#bd3786"
             ],
             [
              0.5555555555555556,
              "#d8576b"
             ],
             [
              0.6666666666666666,
              "#ed7953"
             ],
             [
              0.7777777777777778,
              "#fb9f3a"
             ],
             [
              0.8888888888888888,
              "#fdca26"
             ],
             [
              1,
              "#f0f921"
             ]
            ],
            "type": "heatmap"
           }
          ],
          "heatmapgl": [
           {
            "colorbar": {
             "outlinewidth": 0,
             "ticks": ""
            },
            "colorscale": [
             [
              0,
              "#0d0887"
             ],
             [
              0.1111111111111111,
              "#46039f"
             ],
             [
              0.2222222222222222,
              "#7201a8"
             ],
             [
              0.3333333333333333,
              "#9c179e"
             ],
             [
              0.4444444444444444,
              "#bd3786"
             ],
             [
              0.5555555555555556,
              "#d8576b"
             ],
             [
              0.6666666666666666,
              "#ed7953"
             ],
             [
              0.7777777777777778,
              "#fb9f3a"
             ],
             [
              0.8888888888888888,
              "#fdca26"
             ],
             [
              1,
              "#f0f921"
             ]
            ],
            "type": "heatmapgl"
           }
          ],
          "histogram": [
           {
            "marker": {
             "pattern": {
              "fillmode": "overlay",
              "size": 10,
              "solidity": 0.2
             }
            },
            "type": "histogram"
           }
          ],
          "histogram2d": [
           {
            "colorbar": {
             "outlinewidth": 0,
             "ticks": ""
            },
            "colorscale": [
             [
              0,
              "#0d0887"
             ],
             [
              0.1111111111111111,
              "#46039f"
             ],
             [
              0.2222222222222222,
              "#7201a8"
             ],
             [
              0.3333333333333333,
              "#9c179e"
             ],
             [
              0.4444444444444444,
              "#bd3786"
             ],
             [
              0.5555555555555556,
              "#d8576b"
             ],
             [
              0.6666666666666666,
              "#ed7953"
             ],
             [
              0.7777777777777778,
              "#fb9f3a"
             ],
             [
              0.8888888888888888,
              "#fdca26"
             ],
             [
              1,
              "#f0f921"
             ]
            ],
            "type": "histogram2d"
           }
          ],
          "histogram2dcontour": [
           {
            "colorbar": {
             "outlinewidth": 0,
             "ticks": ""
            },
            "colorscale": [
             [
              0,
              "#0d0887"
             ],
             [
              0.1111111111111111,
              "#46039f"
             ],
             [
              0.2222222222222222,
              "#7201a8"
             ],
             [
              0.3333333333333333,
              "#9c179e"
             ],
             [
              0.4444444444444444,
              "#bd3786"
             ],
             [
              0.5555555555555556,
              "#d8576b"
             ],
             [
              0.6666666666666666,
              "#ed7953"
             ],
             [
              0.7777777777777778,
              "#fb9f3a"
             ],
             [
              0.8888888888888888,
              "#fdca26"
             ],
             [
              1,
              "#f0f921"
             ]
            ],
            "type": "histogram2dcontour"
           }
          ],
          "mesh3d": [
           {
            "colorbar": {
             "outlinewidth": 0,
             "ticks": ""
            },
            "type": "mesh3d"
           }
          ],
          "parcoords": [
           {
            "line": {
             "colorbar": {
              "outlinewidth": 0,
              "ticks": ""
             }
            },
            "type": "parcoords"
           }
          ],
          "pie": [
           {
            "automargin": true,
            "type": "pie"
           }
          ],
          "scatter": [
           {
            "fillpattern": {
             "fillmode": "overlay",
             "size": 10,
             "solidity": 0.2
            },
            "type": "scatter"
           }
          ],
          "scatter3d": [
           {
            "line": {
             "colorbar": {
              "outlinewidth": 0,
              "ticks": ""
             }
            },
            "marker": {
             "colorbar": {
              "outlinewidth": 0,
              "ticks": ""
             }
            },
            "type": "scatter3d"
           }
          ],
          "scattercarpet": [
           {
            "marker": {
             "colorbar": {
              "outlinewidth": 0,
              "ticks": ""
             }
            },
            "type": "scattercarpet"
           }
          ],
          "scattergeo": [
           {
            "marker": {
             "colorbar": {
              "outlinewidth": 0,
              "ticks": ""
             }
            },
            "type": "scattergeo"
           }
          ],
          "scattergl": [
           {
            "marker": {
             "colorbar": {
              "outlinewidth": 0,
              "ticks": ""
             }
            },
            "type": "scattergl"
           }
          ],
          "scattermapbox": [
           {
            "marker": {
             "colorbar": {
              "outlinewidth": 0,
              "ticks": ""
             }
            },
            "type": "scattermapbox"
           }
          ],
          "scatterpolar": [
           {
            "marker": {
             "colorbar": {
              "outlinewidth": 0,
              "ticks": ""
             }
            },
            "type": "scatterpolar"
           }
          ],
          "scatterpolargl": [
           {
            "marker": {
             "colorbar": {
              "outlinewidth": 0,
              "ticks": ""
             }
            },
            "type": "scatterpolargl"
           }
          ],
          "scatterternary": [
           {
            "marker": {
             "colorbar": {
              "outlinewidth": 0,
              "ticks": ""
             }
            },
            "type": "scatterternary"
           }
          ],
          "surface": [
           {
            "colorbar": {
             "outlinewidth": 0,
             "ticks": ""
            },
            "colorscale": [
             [
              0,
              "#0d0887"
             ],
             [
              0.1111111111111111,
              "#46039f"
             ],
             [
              0.2222222222222222,
              "#7201a8"
             ],
             [
              0.3333333333333333,
              "#9c179e"
             ],
             [
              0.4444444444444444,
              "#bd3786"
             ],
             [
              0.5555555555555556,
              "#d8576b"
             ],
             [
              0.6666666666666666,
              "#ed7953"
             ],
             [
              0.7777777777777778,
              "#fb9f3a"
             ],
             [
              0.8888888888888888,
              "#fdca26"
             ],
             [
              1,
              "#f0f921"
             ]
            ],
            "type": "surface"
           }
          ],
          "table": [
           {
            "cells": {
             "fill": {
              "color": "#EBF0F8"
             },
             "line": {
              "color": "white"
             }
            },
            "header": {
             "fill": {
              "color": "#C8D4E3"
             },
             "line": {
              "color": "white"
             }
            },
            "type": "table"
           }
          ]
         },
         "layout": {
          "annotationdefaults": {
           "arrowcolor": "#2a3f5f",
           "arrowhead": 0,
           "arrowwidth": 1
          },
          "autotypenumbers": "strict",
          "coloraxis": {
           "colorbar": {
            "outlinewidth": 0,
            "ticks": ""
           }
          },
          "colorscale": {
           "diverging": [
            [
             0,
             "#8e0152"
            ],
            [
             0.1,
             "#c51b7d"
            ],
            [
             0.2,
             "#de77ae"
            ],
            [
             0.3,
             "#f1b6da"
            ],
            [
             0.4,
             "#fde0ef"
            ],
            [
             0.5,
             "#f7f7f7"
            ],
            [
             0.6,
             "#e6f5d0"
            ],
            [
             0.7,
             "#b8e186"
            ],
            [
             0.8,
             "#7fbc41"
            ],
            [
             0.9,
             "#4d9221"
            ],
            [
             1,
             "#276419"
            ]
           ],
           "sequential": [
            [
             0,
             "#0d0887"
            ],
            [
             0.1111111111111111,
             "#46039f"
            ],
            [
             0.2222222222222222,
             "#7201a8"
            ],
            [
             0.3333333333333333,
             "#9c179e"
            ],
            [
             0.4444444444444444,
             "#bd3786"
            ],
            [
             0.5555555555555556,
             "#d8576b"
            ],
            [
             0.6666666666666666,
             "#ed7953"
            ],
            [
             0.7777777777777778,
             "#fb9f3a"
            ],
            [
             0.8888888888888888,
             "#fdca26"
            ],
            [
             1,
             "#f0f921"
            ]
           ],
           "sequentialminus": [
            [
             0,
             "#0d0887"
            ],
            [
             0.1111111111111111,
             "#46039f"
            ],
            [
             0.2222222222222222,
             "#7201a8"
            ],
            [
             0.3333333333333333,
             "#9c179e"
            ],
            [
             0.4444444444444444,
             "#bd3786"
            ],
            [
             0.5555555555555556,
             "#d8576b"
            ],
            [
             0.6666666666666666,
             "#ed7953"
            ],
            [
             0.7777777777777778,
             "#fb9f3a"
            ],
            [
             0.8888888888888888,
             "#fdca26"
            ],
            [
             1,
             "#f0f921"
            ]
           ]
          },
          "colorway": [
           "#636efa",
           "#EF553B",
           "#00cc96",
           "#ab63fa",
           "#FFA15A",
           "#19d3f3",
           "#FF6692",
           "#B6E880",
           "#FF97FF",
           "#FECB52"
          ],
          "font": {
           "color": "#2a3f5f"
          },
          "geo": {
           "bgcolor": "white",
           "lakecolor": "white",
           "landcolor": "#E5ECF6",
           "showlakes": true,
           "showland": true,
           "subunitcolor": "white"
          },
          "hoverlabel": {
           "align": "left"
          },
          "hovermode": "closest",
          "mapbox": {
           "style": "light"
          },
          "paper_bgcolor": "white",
          "plot_bgcolor": "#E5ECF6",
          "polar": {
           "angularaxis": {
            "gridcolor": "white",
            "linecolor": "white",
            "ticks": ""
           },
           "bgcolor": "#E5ECF6",
           "radialaxis": {
            "gridcolor": "white",
            "linecolor": "white",
            "ticks": ""
           }
          },
          "scene": {
           "xaxis": {
            "backgroundcolor": "#E5ECF6",
            "gridcolor": "white",
            "gridwidth": 2,
            "linecolor": "white",
            "showbackground": true,
            "ticks": "",
            "zerolinecolor": "white"
           },
           "yaxis": {
            "backgroundcolor": "#E5ECF6",
            "gridcolor": "white",
            "gridwidth": 2,
            "linecolor": "white",
            "showbackground": true,
            "ticks": "",
            "zerolinecolor": "white"
           },
           "zaxis": {
            "backgroundcolor": "#E5ECF6",
            "gridcolor": "white",
            "gridwidth": 2,
            "linecolor": "white",
            "showbackground": true,
            "ticks": "",
            "zerolinecolor": "white"
           }
          },
          "shapedefaults": {
           "line": {
            "color": "#2a3f5f"
           }
          },
          "ternary": {
           "aaxis": {
            "gridcolor": "white",
            "linecolor": "white",
            "ticks": ""
           },
           "baxis": {
            "gridcolor": "white",
            "linecolor": "white",
            "ticks": ""
           },
           "bgcolor": "#E5ECF6",
           "caxis": {
            "gridcolor": "white",
            "linecolor": "white",
            "ticks": ""
           }
          },
          "title": {
           "x": 0.05
          },
          "xaxis": {
           "automargin": true,
           "gridcolor": "white",
           "linecolor": "white",
           "ticks": "",
           "title": {
            "standoff": 15
           },
           "zerolinecolor": "white",
           "zerolinewidth": 2
          },
          "yaxis": {
           "automargin": true,
           "gridcolor": "white",
           "linecolor": "white",
           "ticks": "",
           "title": {
            "standoff": 15
           },
           "zerolinecolor": "white",
           "zerolinewidth": 2
          }
         }
        },
        "xaxis": {
         "anchor": "y",
         "domain": [
          0,
          1
         ],
         "title": {
          "text": "Country of Nationality"
         }
        },
        "yaxis": {
         "anchor": "x",
         "domain": [
          0,
          1
         ],
         "title": {
          "text": "2020 2nd quarter (Apr-June)"
         }
        }
       }
      }
     },
     "metadata": {},
     "output_type": "display_data"
    }
   ],
   "source": [
    "px.bar(df, df.index,'2020 2nd quarter (Apr-June)')"
   ]
  },
  {
   "cell_type": "code",
   "execution_count": null,
   "metadata": {},
   "outputs": [],
   "source": []
  }
 ],
 "metadata": {
  "kernelspec": {
   "display_name": "base",
   "language": "python",
   "name": "python3"
  },
  "language_info": {
   "codemirror_mode": {
    "name": "ipython",
    "version": 3
   },
   "file_extension": ".py",
   "mimetype": "text/x-python",
   "name": "python",
   "nbconvert_exporter": "python",
   "pygments_lexer": "ipython3",
   "version": "3.9.12 (main, Apr  4 2022, 05:22:27) [MSC v.1916 64 bit (AMD64)]"
  },
  "orig_nbformat": 4,
  "vscode": {
   "interpreter": {
    "hash": "9d19b846c981df6691e2bdb59be634a7ebbdaac55797ba17323322a2d3a54045"
   }
  }
 },
 "nbformat": 4,
 "nbformat_minor": 2
}
