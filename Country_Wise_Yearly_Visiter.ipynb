{
 "cells": [
  {
   "cell_type": "code",
   "execution_count": 116,
   "metadata": {},
   "outputs": [],
   "source": [
    "import pandas as pd\n",
    "import numpy as np\n",
    "import matplotlib.pyplot as plt\n",
    "import plotly.express as px"
   ]
  },
  {
   "cell_type": "code",
   "execution_count": 99,
   "metadata": {},
   "outputs": [
    {
     "data": {
      "text/html": [
       "<div>\n",
       "<style scoped>\n",
       "    .dataframe tbody tr th:only-of-type {\n",
       "        vertical-align: middle;\n",
       "    }\n",
       "\n",
       "    .dataframe tbody tr th {\n",
       "        vertical-align: top;\n",
       "    }\n",
       "\n",
       "    .dataframe thead th {\n",
       "        text-align: right;\n",
       "    }\n",
       "</style>\n",
       "<table border=\"1\" class=\"dataframe\">\n",
       "  <thead>\n",
       "    <tr style=\"text-align: right;\">\n",
       "      <th></th>\n",
       "      <th>Country</th>\n",
       "      <th>2014</th>\n",
       "      <th>2015</th>\n",
       "      <th>2016</th>\n",
       "      <th>2017</th>\n",
       "      <th>2018</th>\n",
       "      <th>2019</th>\n",
       "      <th>2020</th>\n",
       "    </tr>\n",
       "  </thead>\n",
       "  <tbody>\n",
       "    <tr>\n",
       "      <th>0</th>\n",
       "      <td>Canada</td>\n",
       "      <td>268485</td>\n",
       "      <td>281306</td>\n",
       "      <td>317239</td>\n",
       "      <td>335439</td>\n",
       "      <td>351040</td>\n",
       "      <td>351859</td>\n",
       "      <td>122868</td>\n",
       "    </tr>\n",
       "    <tr>\n",
       "      <th>1</th>\n",
       "      <td>U.S.A</td>\n",
       "      <td>1118983</td>\n",
       "      <td>1213624</td>\n",
       "      <td>1296939</td>\n",
       "      <td>1376919</td>\n",
       "      <td>1456678</td>\n",
       "      <td>1512032</td>\n",
       "      <td>394092</td>\n",
       "    </tr>\n",
       "    <tr>\n",
       "      <th>2</th>\n",
       "      <td>Argentina</td>\n",
       "      <td>9731</td>\n",
       "      <td>9351</td>\n",
       "      <td>12308</td>\n",
       "      <td>14875</td>\n",
       "      <td>16345</td>\n",
       "      <td>12844</td>\n",
       "      <td>4294</td>\n",
       "    </tr>\n",
       "    <tr>\n",
       "      <th>3</th>\n",
       "      <td>Brazil</td>\n",
       "      <td>19563</td>\n",
       "      <td>20610</td>\n",
       "      <td>21289</td>\n",
       "      <td>24453</td>\n",
       "      <td>26579</td>\n",
       "      <td>25422</td>\n",
       "      <td>8092</td>\n",
       "    </tr>\n",
       "    <tr>\n",
       "      <th>4</th>\n",
       "      <td>Mexico</td>\n",
       "      <td>13978</td>\n",
       "      <td>14049</td>\n",
       "      <td>15689</td>\n",
       "      <td>18114</td>\n",
       "      <td>19909</td>\n",
       "      <td>20766</td>\n",
       "      <td>4580</td>\n",
       "    </tr>\n",
       "    <tr>\n",
       "      <th>...</th>\n",
       "      <td>...</td>\n",
       "      <td>...</td>\n",
       "      <td>...</td>\n",
       "      <td>...</td>\n",
       "      <td>...</td>\n",
       "      <td>...</td>\n",
       "      <td>...</td>\n",
       "      <td>...</td>\n",
       "    </tr>\n",
       "    <tr>\n",
       "      <th>58</th>\n",
       "      <td>Japan</td>\n",
       "      <td>219516</td>\n",
       "      <td>207415</td>\n",
       "      <td>208847</td>\n",
       "      <td>222527</td>\n",
       "      <td>236236</td>\n",
       "      <td>238903</td>\n",
       "      <td>48191</td>\n",
       "    </tr>\n",
       "    <tr>\n",
       "      <th>59</th>\n",
       "      <td>Rep. of Korea</td>\n",
       "      <td>106870</td>\n",
       "      <td>102993</td>\n",
       "      <td>111076</td>\n",
       "      <td>142383</td>\n",
       "      <td>150536</td>\n",
       "      <td>149445</td>\n",
       "      <td>32302</td>\n",
       "    </tr>\n",
       "    <tr>\n",
       "      <th>60</th>\n",
       "      <td>Taiwan</td>\n",
       "      <td>35857</td>\n",
       "      <td>36349</td>\n",
       "      <td>42327</td>\n",
       "      <td>47043</td>\n",
       "      <td>49457</td>\n",
       "      <td>48195</td>\n",
       "      <td>8969</td>\n",
       "    </tr>\n",
       "    <tr>\n",
       "      <th>61</th>\n",
       "      <td>Australia</td>\n",
       "      <td>239762</td>\n",
       "      <td>263201</td>\n",
       "      <td>293625</td>\n",
       "      <td>324243</td>\n",
       "      <td>346486</td>\n",
       "      <td>367241</td>\n",
       "      <td>86758</td>\n",
       "    </tr>\n",
       "    <tr>\n",
       "      <th>62</th>\n",
       "      <td>New Zealand</td>\n",
       "      <td>42864</td>\n",
       "      <td>45171</td>\n",
       "      <td>50917</td>\n",
       "      <td>56597</td>\n",
       "      <td>60664</td>\n",
       "      <td>65551</td>\n",
       "      <td>16653</td>\n",
       "    </tr>\n",
       "  </tbody>\n",
       "</table>\n",
       "<p>63 rows × 8 columns</p>\n",
       "</div>"
      ],
      "text/plain": [
       "          Country     2014     2015     2016     2017     2018     2019  \\\n",
       "0          Canada   268485   281306   317239   335439   351040   351859   \n",
       "1           U.S.A  1118983  1213624  1296939  1376919  1456678  1512032   \n",
       "2       Argentina     9731     9351    12308    14875    16345    12844   \n",
       "3          Brazil    19563    20610    21289    24453    26579    25422   \n",
       "4          Mexico    13978    14049    15689    18114    19909    20766   \n",
       "..            ...      ...      ...      ...      ...      ...      ...   \n",
       "58          Japan   219516   207415   208847   222527   236236   238903   \n",
       "59  Rep. of Korea   106870   102993   111076   142383   150536   149445   \n",
       "60         Taiwan    35857    36349    42327    47043    49457    48195   \n",
       "61      Australia   239762   263201   293625   324243   346486   367241   \n",
       "62    New Zealand    42864    45171    50917    56597    60664    65551   \n",
       "\n",
       "      2020  \n",
       "0   122868  \n",
       "1   394092  \n",
       "2     4294  \n",
       "3     8092  \n",
       "4     4580  \n",
       "..     ...  \n",
       "58   48191  \n",
       "59   32302  \n",
       "60    8969  \n",
       "61   86758  \n",
       "62   16653  \n",
       "\n",
       "[63 rows x 8 columns]"
      ]
     },
     "execution_count": 99,
     "metadata": {},
     "output_type": "execute_result"
    }
   ],
   "source": [
    "df = pd.read_csv('Data/Country Wise Yearly VIsitors.csv')\n",
    "df"
   ]
  },
  {
   "cell_type": "code",
   "execution_count": 114,
   "metadata": {},
   "outputs": [],
   "source": [
    "df.set_index('Country', inplace=True)"
   ]
  },
  {
   "cell_type": "code",
   "execution_count": 115,
   "metadata": {},
   "outputs": [
    {
     "data": {
      "text/html": [
       "<div>\n",
       "<style scoped>\n",
       "    .dataframe tbody tr th:only-of-type {\n",
       "        vertical-align: middle;\n",
       "    }\n",
       "\n",
       "    .dataframe tbody tr th {\n",
       "        vertical-align: top;\n",
       "    }\n",
       "\n",
       "    .dataframe thead th {\n",
       "        text-align: right;\n",
       "    }\n",
       "</style>\n",
       "<table border=\"1\" class=\"dataframe\">\n",
       "  <thead>\n",
       "    <tr style=\"text-align: right;\">\n",
       "      <th></th>\n",
       "      <th>2014</th>\n",
       "      <th>2015</th>\n",
       "      <th>2016</th>\n",
       "      <th>2017</th>\n",
       "      <th>2018</th>\n",
       "      <th>2019</th>\n",
       "      <th>2020</th>\n",
       "    </tr>\n",
       "    <tr>\n",
       "      <th>Country</th>\n",
       "      <th></th>\n",
       "      <th></th>\n",
       "      <th></th>\n",
       "      <th></th>\n",
       "      <th></th>\n",
       "      <th></th>\n",
       "      <th></th>\n",
       "    </tr>\n",
       "  </thead>\n",
       "  <tbody>\n",
       "    <tr>\n",
       "      <th>Canada</th>\n",
       "      <td>268485</td>\n",
       "      <td>281306</td>\n",
       "      <td>317239</td>\n",
       "      <td>335439</td>\n",
       "      <td>351040</td>\n",
       "      <td>351859</td>\n",
       "      <td>122868</td>\n",
       "    </tr>\n",
       "    <tr>\n",
       "      <th>U.S.A</th>\n",
       "      <td>1118983</td>\n",
       "      <td>1213624</td>\n",
       "      <td>1296939</td>\n",
       "      <td>1376919</td>\n",
       "      <td>1456678</td>\n",
       "      <td>1512032</td>\n",
       "      <td>394092</td>\n",
       "    </tr>\n",
       "    <tr>\n",
       "      <th>Argentina</th>\n",
       "      <td>9731</td>\n",
       "      <td>9351</td>\n",
       "      <td>12308</td>\n",
       "      <td>14875</td>\n",
       "      <td>16345</td>\n",
       "      <td>12844</td>\n",
       "      <td>4294</td>\n",
       "    </tr>\n",
       "    <tr>\n",
       "      <th>Brazil</th>\n",
       "      <td>19563</td>\n",
       "      <td>20610</td>\n",
       "      <td>21289</td>\n",
       "      <td>24453</td>\n",
       "      <td>26579</td>\n",
       "      <td>25422</td>\n",
       "      <td>8092</td>\n",
       "    </tr>\n",
       "    <tr>\n",
       "      <th>Mexico</th>\n",
       "      <td>13978</td>\n",
       "      <td>14049</td>\n",
       "      <td>15689</td>\n",
       "      <td>18114</td>\n",
       "      <td>19909</td>\n",
       "      <td>20766</td>\n",
       "      <td>4580</td>\n",
       "    </tr>\n",
       "    <tr>\n",
       "      <th>...</th>\n",
       "      <td>...</td>\n",
       "      <td>...</td>\n",
       "      <td>...</td>\n",
       "      <td>...</td>\n",
       "      <td>...</td>\n",
       "      <td>...</td>\n",
       "      <td>...</td>\n",
       "    </tr>\n",
       "    <tr>\n",
       "      <th>Japan</th>\n",
       "      <td>219516</td>\n",
       "      <td>207415</td>\n",
       "      <td>208847</td>\n",
       "      <td>222527</td>\n",
       "      <td>236236</td>\n",
       "      <td>238903</td>\n",
       "      <td>48191</td>\n",
       "    </tr>\n",
       "    <tr>\n",
       "      <th>Rep. of Korea</th>\n",
       "      <td>106870</td>\n",
       "      <td>102993</td>\n",
       "      <td>111076</td>\n",
       "      <td>142383</td>\n",
       "      <td>150536</td>\n",
       "      <td>149445</td>\n",
       "      <td>32302</td>\n",
       "    </tr>\n",
       "    <tr>\n",
       "      <th>Taiwan</th>\n",
       "      <td>35857</td>\n",
       "      <td>36349</td>\n",
       "      <td>42327</td>\n",
       "      <td>47043</td>\n",
       "      <td>49457</td>\n",
       "      <td>48195</td>\n",
       "      <td>8969</td>\n",
       "    </tr>\n",
       "    <tr>\n",
       "      <th>Australia</th>\n",
       "      <td>239762</td>\n",
       "      <td>263201</td>\n",
       "      <td>293625</td>\n",
       "      <td>324243</td>\n",
       "      <td>346486</td>\n",
       "      <td>367241</td>\n",
       "      <td>86758</td>\n",
       "    </tr>\n",
       "    <tr>\n",
       "      <th>New Zealand</th>\n",
       "      <td>42864</td>\n",
       "      <td>45171</td>\n",
       "      <td>50917</td>\n",
       "      <td>56597</td>\n",
       "      <td>60664</td>\n",
       "      <td>65551</td>\n",
       "      <td>16653</td>\n",
       "    </tr>\n",
       "  </tbody>\n",
       "</table>\n",
       "<p>63 rows × 7 columns</p>\n",
       "</div>"
      ],
      "text/plain": [
       "                  2014     2015     2016     2017     2018     2019    2020\n",
       "Country                                                                    \n",
       "Canada          268485   281306   317239   335439   351040   351859  122868\n",
       "U.S.A          1118983  1213624  1296939  1376919  1456678  1512032  394092\n",
       "Argentina         9731     9351    12308    14875    16345    12844    4294\n",
       "Brazil           19563    20610    21289    24453    26579    25422    8092\n",
       "Mexico           13978    14049    15689    18114    19909    20766    4580\n",
       "...                ...      ...      ...      ...      ...      ...     ...\n",
       "Japan           219516   207415   208847   222527   236236   238903   48191\n",
       "Rep. of Korea   106870   102993   111076   142383   150536   149445   32302\n",
       "Taiwan           35857    36349    42327    47043    49457    48195    8969\n",
       "Australia       239762   263201   293625   324243   346486   367241   86758\n",
       "New Zealand      42864    45171    50917    56597    60664    65551   16653\n",
       "\n",
       "[63 rows x 7 columns]"
      ]
     },
     "execution_count": 115,
     "metadata": {},
     "output_type": "execute_result"
    }
   ],
   "source": [
    "df"
   ]
  },
  {
   "cell_type": "code",
   "execution_count": 123,
   "metadata": {},
   "outputs": [
    {
     "data": {
      "application/vnd.plotly.v1+json": {
       "config": {
        "plotlyServerURL": "https://plot.ly"
       },
       "data": [
        {
         "hovertemplate": "Country=%{x}<br>2014=%{y}<extra></extra>",
         "legendgroup": "",
         "line": {
          "color": "#636efa",
          "dash": "solid"
         },
         "marker": {
          "symbol": "circle"
         },
         "mode": "lines",
         "name": "",
         "orientation": "v",
         "showlegend": false,
         "type": "scatter",
         "x": [
          "Canada",
          "U.S.A",
          "Argentina",
          "Brazil",
          "Mexico",
          "Austria",
          "Belgium",
          "Denmark",
          "Finland",
          "France",
          "Germany",
          "Greece",
          "Ireland",
          "Italy",
          "Netherlands",
          "Norway",
          "Portugal",
          "Spain",
          "Sweden",
          "Switzerland",
          "U.K.",
          "Czech Rep.",
          "Hungary",
          "Kazakhstan",
          "Poland",
          "Russian Fed",
          "Ukraine",
          "Egypt",
          "Kenya",
          "Mauritius",
          "Nigeria",
          "South Africa",
          "Sudan",
          "Tanzania",
          "Bahrain",
          "Iraq",
          "Israel",
          "Oman",
          "Saudi Arabia",
          "Turkey",
          "U.A.E.",
          "Yemen Arab Rep.",
          "Afghanistan",
          "Bangladesh",
          "Bhutan",
          "Iran",
          "Maldives",
          "Nepal",
          "Pakistan",
          "Sri Lanka",
          "Indonesia",
          "Malaysia",
          "Myanmar",
          "Philippines",
          "Singapore",
          "Thailand",
          "Vietnam",
          "China",
          "Japan",
          "Rep. of Korea",
          "Taiwan",
          "Australia",
          "New Zealand"
         ],
         "xaxis": "x",
         "y": [
          268485,
          1118983,
          9731,
          19563,
          13978,
          34360,
          37441,
          26775,
          18765,
          246101,
          239106,
          8300,
          28978,
          91589,
          67747,
          19690,
          36156,
          66463,
          44948,
          45773,
          838860,
          9878,
          6867,
          16736,
          25205,
          269832,
          29281,
          16715,
          46158,
          27945,
          28314,
          56246,
          11896,
          26284,
          13136,
          48321,
          49321,
          88512,
          55487,
          24294,
          59332,
          34207,
          115569,
          942562,
          16001,
          31222,
          65052,
          126416,
          96434,
          301601,
          32215,
          262026,
          54631,
          43240,
          150731,
          121362,
          15132,
          181020,
          219516,
          106870,
          35857,
          239762,
          42864
         ],
         "yaxis": "y"
        }
       ],
       "layout": {
        "legend": {
         "tracegroupgap": 0
        },
        "margin": {
         "t": 60
        },
        "template": {
         "data": {
          "bar": [
           {
            "error_x": {
             "color": "#2a3f5f"
            },
            "error_y": {
             "color": "#2a3f5f"
            },
            "marker": {
             "line": {
              "color": "#E5ECF6",
              "width": 0.5
             },
             "pattern": {
              "fillmode": "overlay",
              "size": 10,
              "solidity": 0.2
             }
            },
            "type": "bar"
           }
          ],
          "barpolar": [
           {
            "marker": {
             "line": {
              "color": "#E5ECF6",
              "width": 0.5
             },
             "pattern": {
              "fillmode": "overlay",
              "size": 10,
              "solidity": 0.2
             }
            },
            "type": "barpolar"
           }
          ],
          "carpet": [
           {
            "aaxis": {
             "endlinecolor": "#2a3f5f",
             "gridcolor": "white",
             "linecolor": "white",
             "minorgridcolor": "white",
             "startlinecolor": "#2a3f5f"
            },
            "baxis": {
             "endlinecolor": "#2a3f5f",
             "gridcolor": "white",
             "linecolor": "white",
             "minorgridcolor": "white",
             "startlinecolor": "#2a3f5f"
            },
            "type": "carpet"
           }
          ],
          "choropleth": [
           {
            "colorbar": {
             "outlinewidth": 0,
             "ticks": ""
            },
            "type": "choropleth"
           }
          ],
          "contour": [
           {
            "colorbar": {
             "outlinewidth": 0,
             "ticks": ""
            },
            "colorscale": [
             [
              0,
              "#0d0887"
             ],
             [
              0.1111111111111111,
              "#46039f"
             ],
             [
              0.2222222222222222,
              "#7201a8"
             ],
             [
              0.3333333333333333,
              "#9c179e"
             ],
             [
              0.4444444444444444,
              "#bd3786"
             ],
             [
              0.5555555555555556,
              "#d8576b"
             ],
             [
              0.6666666666666666,
              "#ed7953"
             ],
             [
              0.7777777777777778,
              "#fb9f3a"
             ],
             [
              0.8888888888888888,
              "#fdca26"
             ],
             [
              1,
              "#f0f921"
             ]
            ],
            "type": "contour"
           }
          ],
          "contourcarpet": [
           {
            "colorbar": {
             "outlinewidth": 0,
             "ticks": ""
            },
            "type": "contourcarpet"
           }
          ],
          "heatmap": [
           {
            "colorbar": {
             "outlinewidth": 0,
             "ticks": ""
            },
            "colorscale": [
             [
              0,
              "#0d0887"
             ],
             [
              0.1111111111111111,
              "#46039f"
             ],
             [
              0.2222222222222222,
              "#7201a8"
             ],
             [
              0.3333333333333333,
              "#9c179e"
             ],
             [
              0.4444444444444444,
              "#bd3786"
             ],
             [
              0.5555555555555556,
              "#d8576b"
             ],
             [
              0.6666666666666666,
              "#ed7953"
             ],
             [
              0.7777777777777778,
              "#fb9f3a"
             ],
             [
              0.8888888888888888,
              "#fdca26"
             ],
             [
              1,
              "#f0f921"
             ]
            ],
            "type": "heatmap"
           }
          ],
          "heatmapgl": [
           {
            "colorbar": {
             "outlinewidth": 0,
             "ticks": ""
            },
            "colorscale": [
             [
              0,
              "#0d0887"
             ],
             [
              0.1111111111111111,
              "#46039f"
             ],
             [
              0.2222222222222222,
              "#7201a8"
             ],
             [
              0.3333333333333333,
              "#9c179e"
             ],
             [
              0.4444444444444444,
              "#bd3786"
             ],
             [
              0.5555555555555556,
              "#d8576b"
             ],
             [
              0.6666666666666666,
              "#ed7953"
             ],
             [
              0.7777777777777778,
              "#fb9f3a"
             ],
             [
              0.8888888888888888,
              "#fdca26"
             ],
             [
              1,
              "#f0f921"
             ]
            ],
            "type": "heatmapgl"
           }
          ],
          "histogram": [
           {
            "marker": {
             "pattern": {
              "fillmode": "overlay",
              "size": 10,
              "solidity": 0.2
             }
            },
            "type": "histogram"
           }
          ],
          "histogram2d": [
           {
            "colorbar": {
             "outlinewidth": 0,
             "ticks": ""
            },
            "colorscale": [
             [
              0,
              "#0d0887"
             ],
             [
              0.1111111111111111,
              "#46039f"
             ],
             [
              0.2222222222222222,
              "#7201a8"
             ],
             [
              0.3333333333333333,
              "#9c179e"
             ],
             [
              0.4444444444444444,
              "#bd3786"
             ],
             [
              0.5555555555555556,
              "#d8576b"
             ],
             [
              0.6666666666666666,
              "#ed7953"
             ],
             [
              0.7777777777777778,
              "#fb9f3a"
             ],
             [
              0.8888888888888888,
              "#fdca26"
             ],
             [
              1,
              "#f0f921"
             ]
            ],
            "type": "histogram2d"
           }
          ],
          "histogram2dcontour": [
           {
            "colorbar": {
             "outlinewidth": 0,
             "ticks": ""
            },
            "colorscale": [
             [
              0,
              "#0d0887"
             ],
             [
              0.1111111111111111,
              "#46039f"
             ],
             [
              0.2222222222222222,
              "#7201a8"
             ],
             [
              0.3333333333333333,
              "#9c179e"
             ],
             [
              0.4444444444444444,
              "#bd3786"
             ],
             [
              0.5555555555555556,
              "#d8576b"
             ],
             [
              0.6666666666666666,
              "#ed7953"
             ],
             [
              0.7777777777777778,
              "#fb9f3a"
             ],
             [
              0.8888888888888888,
              "#fdca26"
             ],
             [
              1,
              "#f0f921"
             ]
            ],
            "type": "histogram2dcontour"
           }
          ],
          "mesh3d": [
           {
            "colorbar": {
             "outlinewidth": 0,
             "ticks": ""
            },
            "type": "mesh3d"
           }
          ],
          "parcoords": [
           {
            "line": {
             "colorbar": {
              "outlinewidth": 0,
              "ticks": ""
             }
            },
            "type": "parcoords"
           }
          ],
          "pie": [
           {
            "automargin": true,
            "type": "pie"
           }
          ],
          "scatter": [
           {
            "fillpattern": {
             "fillmode": "overlay",
             "size": 10,
             "solidity": 0.2
            },
            "type": "scatter"
           }
          ],
          "scatter3d": [
           {
            "line": {
             "colorbar": {
              "outlinewidth": 0,
              "ticks": ""
             }
            },
            "marker": {
             "colorbar": {
              "outlinewidth": 0,
              "ticks": ""
             }
            },
            "type": "scatter3d"
           }
          ],
          "scattercarpet": [
           {
            "marker": {
             "colorbar": {
              "outlinewidth": 0,
              "ticks": ""
             }
            },
            "type": "scattercarpet"
           }
          ],
          "scattergeo": [
           {
            "marker": {
             "colorbar": {
              "outlinewidth": 0,
              "ticks": ""
             }
            },
            "type": "scattergeo"
           }
          ],
          "scattergl": [
           {
            "marker": {
             "colorbar": {
              "outlinewidth": 0,
              "ticks": ""
             }
            },
            "type": "scattergl"
           }
          ],
          "scattermapbox": [
           {
            "marker": {
             "colorbar": {
              "outlinewidth": 0,
              "ticks": ""
             }
            },
            "type": "scattermapbox"
           }
          ],
          "scatterpolar": [
           {
            "marker": {
             "colorbar": {
              "outlinewidth": 0,
              "ticks": ""
             }
            },
            "type": "scatterpolar"
           }
          ],
          "scatterpolargl": [
           {
            "marker": {
             "colorbar": {
              "outlinewidth": 0,
              "ticks": ""
             }
            },
            "type": "scatterpolargl"
           }
          ],
          "scatterternary": [
           {
            "marker": {
             "colorbar": {
              "outlinewidth": 0,
              "ticks": ""
             }
            },
            "type": "scatterternary"
           }
          ],
          "surface": [
           {
            "colorbar": {
             "outlinewidth": 0,
             "ticks": ""
            },
            "colorscale": [
             [
              0,
              "#0d0887"
             ],
             [
              0.1111111111111111,
              "#46039f"
             ],
             [
              0.2222222222222222,
              "#7201a8"
             ],
             [
              0.3333333333333333,
              "#9c179e"
             ],
             [
              0.4444444444444444,
              "#bd3786"
             ],
             [
              0.5555555555555556,
              "#d8576b"
             ],
             [
              0.6666666666666666,
              "#ed7953"
             ],
             [
              0.7777777777777778,
              "#fb9f3a"
             ],
             [
              0.8888888888888888,
              "#fdca26"
             ],
             [
              1,
              "#f0f921"
             ]
            ],
            "type": "surface"
           }
          ],
          "table": [
           {
            "cells": {
             "fill": {
              "color": "#EBF0F8"
             },
             "line": {
              "color": "white"
             }
            },
            "header": {
             "fill": {
              "color": "#C8D4E3"
             },
             "line": {
              "color": "white"
             }
            },
            "type": "table"
           }
          ]
         },
         "layout": {
          "annotationdefaults": {
           "arrowcolor": "#2a3f5f",
           "arrowhead": 0,
           "arrowwidth": 1
          },
          "autotypenumbers": "strict",
          "coloraxis": {
           "colorbar": {
            "outlinewidth": 0,
            "ticks": ""
           }
          },
          "colorscale": {
           "diverging": [
            [
             0,
             "#8e0152"
            ],
            [
             0.1,
             "#c51b7d"
            ],
            [
             0.2,
             "#de77ae"
            ],
            [
             0.3,
             "#f1b6da"
            ],
            [
             0.4,
             "#fde0ef"
            ],
            [
             0.5,
             "#f7f7f7"
            ],
            [
             0.6,
             "#e6f5d0"
            ],
            [
             0.7,
             "#b8e186"
            ],
            [
             0.8,
             "#7fbc41"
            ],
            [
             0.9,
             "#4d9221"
            ],
            [
             1,
             "#276419"
            ]
           ],
           "sequential": [
            [
             0,
             "#0d0887"
            ],
            [
             0.1111111111111111,
             "#46039f"
            ],
            [
             0.2222222222222222,
             "#7201a8"
            ],
            [
             0.3333333333333333,
             "#9c179e"
            ],
            [
             0.4444444444444444,
             "#bd3786"
            ],
            [
             0.5555555555555556,
             "#d8576b"
            ],
            [
             0.6666666666666666,
             "#ed7953"
            ],
            [
             0.7777777777777778,
             "#fb9f3a"
            ],
            [
             0.8888888888888888,
             "#fdca26"
            ],
            [
             1,
             "#f0f921"
            ]
           ],
           "sequentialminus": [
            [
             0,
             "#0d0887"
            ],
            [
             0.1111111111111111,
             "#46039f"
            ],
            [
             0.2222222222222222,
             "#7201a8"
            ],
            [
             0.3333333333333333,
             "#9c179e"
            ],
            [
             0.4444444444444444,
             "#bd3786"
            ],
            [
             0.5555555555555556,
             "#d8576b"
            ],
            [
             0.6666666666666666,
             "#ed7953"
            ],
            [
             0.7777777777777778,
             "#fb9f3a"
            ],
            [
             0.8888888888888888,
             "#fdca26"
            ],
            [
             1,
             "#f0f921"
            ]
           ]
          },
          "colorway": [
           "#636efa",
           "#EF553B",
           "#00cc96",
           "#ab63fa",
           "#FFA15A",
           "#19d3f3",
           "#FF6692",
           "#B6E880",
           "#FF97FF",
           "#FECB52"
          ],
          "font": {
           "color": "#2a3f5f"
          },
          "geo": {
           "bgcolor": "white",
           "lakecolor": "white",
           "landcolor": "#E5ECF6",
           "showlakes": true,
           "showland": true,
           "subunitcolor": "white"
          },
          "hoverlabel": {
           "align": "left"
          },
          "hovermode": "closest",
          "mapbox": {
           "style": "light"
          },
          "paper_bgcolor": "white",
          "plot_bgcolor": "#E5ECF6",
          "polar": {
           "angularaxis": {
            "gridcolor": "white",
            "linecolor": "white",
            "ticks": ""
           },
           "bgcolor": "#E5ECF6",
           "radialaxis": {
            "gridcolor": "white",
            "linecolor": "white",
            "ticks": ""
           }
          },
          "scene": {
           "xaxis": {
            "backgroundcolor": "#E5ECF6",
            "gridcolor": "white",
            "gridwidth": 2,
            "linecolor": "white",
            "showbackground": true,
            "ticks": "",
            "zerolinecolor": "white"
           },
           "yaxis": {
            "backgroundcolor": "#E5ECF6",
            "gridcolor": "white",
            "gridwidth": 2,
            "linecolor": "white",
            "showbackground": true,
            "ticks": "",
            "zerolinecolor": "white"
           },
           "zaxis": {
            "backgroundcolor": "#E5ECF6",
            "gridcolor": "white",
            "gridwidth": 2,
            "linecolor": "white",
            "showbackground": true,
            "ticks": "",
            "zerolinecolor": "white"
           }
          },
          "shapedefaults": {
           "line": {
            "color": "#2a3f5f"
           }
          },
          "ternary": {
           "aaxis": {
            "gridcolor": "white",
            "linecolor": "white",
            "ticks": ""
           },
           "baxis": {
            "gridcolor": "white",
            "linecolor": "white",
            "ticks": ""
           },
           "bgcolor": "#E5ECF6",
           "caxis": {
            "gridcolor": "white",
            "linecolor": "white",
            "ticks": ""
           }
          },
          "title": {
           "x": 0.05
          },
          "xaxis": {
           "automargin": true,
           "gridcolor": "white",
           "linecolor": "white",
           "ticks": "",
           "title": {
            "standoff": 15
           },
           "zerolinecolor": "white",
           "zerolinewidth": 2
          },
          "yaxis": {
           "automargin": true,
           "gridcolor": "white",
           "linecolor": "white",
           "ticks": "",
           "title": {
            "standoff": 15
           },
           "zerolinecolor": "white",
           "zerolinewidth": 2
          }
         }
        },
        "xaxis": {
         "anchor": "y",
         "domain": [
          0,
          1
         ],
         "title": {
          "text": "Country"
         }
        },
        "yaxis": {
         "anchor": "x",
         "domain": [
          0,
          1
         ],
         "title": {
          "text": "2014"
         }
        }
       }
      }
     },
     "metadata": {},
     "output_type": "display_data"
    }
   ],
   "source": [
    "px.line(df, df.index, '2014')"
   ]
  },
  {
   "cell_type": "code",
   "execution_count": 125,
   "metadata": {},
   "outputs": [
    {
     "data": {
      "application/vnd.plotly.v1+json": {
       "config": {
        "plotlyServerURL": "https://plot.ly"
       },
       "data": [
        {
         "hovertemplate": "variable=2014<br>Country=%{x}<br>value=%{y}<extra></extra>",
         "legendgroup": "2014",
         "marker": {
          "color": "#636efa"
         },
         "name": "2014",
         "orientation": "v",
         "showlegend": true,
         "type": "funnel",
         "x": [
          "Canada",
          "U.S.A",
          "Argentina",
          "Brazil",
          "Mexico",
          "Austria",
          "Belgium",
          "Denmark",
          "Finland",
          "France",
          "Germany",
          "Greece",
          "Ireland",
          "Italy",
          "Netherlands",
          "Norway",
          "Portugal",
          "Spain",
          "Sweden",
          "Switzerland",
          "U.K.",
          "Czech Rep.",
          "Hungary",
          "Kazakhstan",
          "Poland",
          "Russian Fed",
          "Ukraine",
          "Egypt",
          "Kenya",
          "Mauritius",
          "Nigeria",
          "South Africa",
          "Sudan",
          "Tanzania",
          "Bahrain",
          "Iraq",
          "Israel",
          "Oman",
          "Saudi Arabia",
          "Turkey",
          "U.A.E.",
          "Yemen Arab Rep.",
          "Afghanistan",
          "Bangladesh",
          "Bhutan",
          "Iran",
          "Maldives",
          "Nepal",
          "Pakistan",
          "Sri Lanka",
          "Indonesia",
          "Malaysia",
          "Myanmar",
          "Philippines",
          "Singapore",
          "Thailand",
          "Vietnam",
          "China",
          "Japan",
          "Rep. of Korea",
          "Taiwan",
          "Australia",
          "New Zealand"
         ],
         "xaxis": "x",
         "y": [
          268485,
          1118983,
          9731,
          19563,
          13978,
          34360,
          37441,
          26775,
          18765,
          246101,
          239106,
          8300,
          28978,
          91589,
          67747,
          19690,
          36156,
          66463,
          44948,
          45773,
          838860,
          9878,
          6867,
          16736,
          25205,
          269832,
          29281,
          16715,
          46158,
          27945,
          28314,
          56246,
          11896,
          26284,
          13136,
          48321,
          49321,
          88512,
          55487,
          24294,
          59332,
          34207,
          115569,
          942562,
          16001,
          31222,
          65052,
          126416,
          96434,
          301601,
          32215,
          262026,
          54631,
          43240,
          150731,
          121362,
          15132,
          181020,
          219516,
          106870,
          35857,
          239762,
          42864
         ],
         "yaxis": "y"
        },
        {
         "hovertemplate": "variable=2015<br>Country=%{x}<br>value=%{y}<extra></extra>",
         "legendgroup": "2015",
         "marker": {
          "color": "#EF553B"
         },
         "name": "2015",
         "orientation": "v",
         "showlegend": true,
         "type": "funnel",
         "x": [
          "Canada",
          "U.S.A",
          "Argentina",
          "Brazil",
          "Mexico",
          "Austria",
          "Belgium",
          "Denmark",
          "Finland",
          "France",
          "Germany",
          "Greece",
          "Ireland",
          "Italy",
          "Netherlands",
          "Norway",
          "Portugal",
          "Spain",
          "Sweden",
          "Switzerland",
          "U.K.",
          "Czech Rep.",
          "Hungary",
          "Kazakhstan",
          "Poland",
          "Russian Fed",
          "Ukraine",
          "Egypt",
          "Kenya",
          "Mauritius",
          "Nigeria",
          "South Africa",
          "Sudan",
          "Tanzania",
          "Bahrain",
          "Iraq",
          "Israel",
          "Oman",
          "Saudi Arabia",
          "Turkey",
          "U.A.E.",
          "Yemen Arab Rep.",
          "Afghanistan",
          "Bangladesh",
          "Bhutan",
          "Iran",
          "Maldives",
          "Nepal",
          "Pakistan",
          "Sri Lanka",
          "Indonesia",
          "Malaysia",
          "Myanmar",
          "Philippines",
          "Singapore",
          "Thailand",
          "Vietnam",
          "China",
          "Japan",
          "Rep. of Korea",
          "Taiwan",
          "Australia",
          "New Zealand"
         ],
         "xaxis": "x",
         "y": [
          281306,
          1213624,
          9351,
          20610,
          14049,
          33670,
          36684,
          24073,
          18129,
          230854,
          248314,
          8087,
          32973,
          88091,
          66181,
          19757,
          44616,
          65694,
          42626,
          46151,
          867601,
          11441,
          7036,
          14506,
          26499,
          172419,
          23098,
          19168,
          46139,
          32533,
          24292,
          51922,
          13704,
          25488,
          14013,
          42660,
          50134,
          103740,
          63835,
          25670,
          55818,
          20901,
          114406,
          1133879,
          19084,
          30774,
          68907,
          154720,
          124924,
          299513,
          34933,
          272941,
          55341,
          47912,
          152238,
          115860,
          15341,
          206322,
          207415,
          102993,
          36349,
          263201,
          45171
         ],
         "yaxis": "y"
        },
        {
         "hovertemplate": "variable=2016<br>Country=%{x}<br>value=%{y}<extra></extra>",
         "legendgroup": "2016",
         "marker": {
          "color": "#00cc96"
         },
         "name": "2016",
         "orientation": "v",
         "showlegend": true,
         "type": "funnel",
         "x": [
          "Canada",
          "U.S.A",
          "Argentina",
          "Brazil",
          "Mexico",
          "Austria",
          "Belgium",
          "Denmark",
          "Finland",
          "France",
          "Germany",
          "Greece",
          "Ireland",
          "Italy",
          "Netherlands",
          "Norway",
          "Portugal",
          "Spain",
          "Sweden",
          "Switzerland",
          "U.K.",
          "Czech Rep.",
          "Hungary",
          "Kazakhstan",
          "Poland",
          "Russian Fed",
          "Ukraine",
          "Egypt",
          "Kenya",
          "Mauritius",
          "Nigeria",
          "South Africa",
          "Sudan",
          "Tanzania",
          "Bahrain",
          "Iraq",
          "Israel",
          "Oman",
          "Saudi Arabia",
          "Turkey",
          "U.A.E.",
          "Yemen Arab Rep.",
          "Afghanistan",
          "Bangladesh",
          "Bhutan",
          "Iran",
          "Maldives",
          "Nepal",
          "Pakistan",
          "Sri Lanka",
          "Indonesia",
          "Malaysia",
          "Myanmar",
          "Philippines",
          "Singapore",
          "Thailand",
          "Vietnam",
          "China",
          "Japan",
          "Rep. of Korea",
          "Taiwan",
          "Australia",
          "New Zealand"
         ],
         "xaxis": "x",
         "y": [
          317239,
          1296939,
          12308,
          21289,
          15689,
          33089,
          37960,
          24717,
          18371,
          238707,
          265928,
          9048,
          36440,
          95417,
          71840,
          20148,
          54439,
          76342,
          43689,
          48123,
          941883,
          12932,
          7961,
          12979,
          25706,
          227749,
          26753,
          20864,
          44783,
          34280,
          17964,
          52636,
          17093,
          23026,
          17382,
          48227,
          59231,
          105705,
          61605,
          29545,
          67165,
          19383,
          123330,
          1380409,
          20940,
          39184,
          67457,
          161097,
          104720,
          297418,
          35084,
          301961,
          51376,
          52692,
          163688,
          119663,
          16728,
          251313,
          208847,
          111076,
          42327,
          293625,
          50917
         ],
         "yaxis": "y"
        },
        {
         "hovertemplate": "variable=2017<br>Country=%{x}<br>value=%{y}<extra></extra>",
         "legendgroup": "2017",
         "marker": {
          "color": "#ab63fa"
         },
         "name": "2017",
         "orientation": "v",
         "showlegend": true,
         "type": "funnel",
         "x": [
          "Canada",
          "U.S.A",
          "Argentina",
          "Brazil",
          "Mexico",
          "Austria",
          "Belgium",
          "Denmark",
          "Finland",
          "France",
          "Germany",
          "Greece",
          "Ireland",
          "Italy",
          "Netherlands",
          "Norway",
          "Portugal",
          "Spain",
          "Sweden",
          "Switzerland",
          "U.K.",
          "Czech Rep.",
          "Hungary",
          "Kazakhstan",
          "Poland",
          "Russian Fed",
          "Ukraine",
          "Egypt",
          "Kenya",
          "Mauritius",
          "Nigeria",
          "South Africa",
          "Sudan",
          "Tanzania",
          "Bahrain",
          "Iraq",
          "Israel",
          "Oman",
          "Saudi Arabia",
          "Turkey",
          "U.A.E.",
          "Yemen Arab Rep.",
          "Afghanistan",
          "Bangladesh",
          "Bhutan",
          "Iran",
          "Maldives",
          "Nepal",
          "Pakistan",
          "Sri Lanka",
          "Indonesia",
          "Malaysia",
          "Myanmar",
          "Philippines",
          "Singapore",
          "Thailand",
          "Vietnam",
          "China",
          "Japan",
          "Rep. of Korea",
          "Taiwan",
          "Australia",
          "New Zealand"
         ],
         "xaxis": "x",
         "y": [
          335439,
          1376919,
          14875,
          24453,
          18114,
          31832,
          41902,
          26761,
          20384,
          249620,
          269380,
          10286,
          37993,
          111915,
          76652,
          20882,
          66378,
          81442,
          45851,
          49607,
          986296,
          11852,
          9241,
          15421,
          28674,
          278904,
          25988,
          20528,
          46011,
          37706,
          12651,
          57060,
          22762,
          22261,
          16764,
          56230,
          58131,
          107217,
          52976,
          33251,
          67238,
          21695,
          149176,
          2156557,
          25267,
          42641,
          66150,
          164018,
          44266,
          303590,
          43973,
          322126,
          56952,
          53963,
          175852,
          140087,
          23771,
          247235,
          222527,
          142383,
          47043,
          324243,
          56597
         ],
         "yaxis": "y"
        },
        {
         "hovertemplate": "variable=2018<br>Country=%{x}<br>value=%{y}<extra></extra>",
         "legendgroup": "2018",
         "marker": {
          "color": "#FFA15A"
         },
         "name": "2018",
         "orientation": "v",
         "showlegend": true,
         "type": "funnel",
         "x": [
          "Canada",
          "U.S.A",
          "Argentina",
          "Brazil",
          "Mexico",
          "Austria",
          "Belgium",
          "Denmark",
          "Finland",
          "France",
          "Germany",
          "Greece",
          "Ireland",
          "Italy",
          "Netherlands",
          "Norway",
          "Portugal",
          "Spain",
          "Sweden",
          "Switzerland",
          "U.K.",
          "Czech Rep.",
          "Hungary",
          "Kazakhstan",
          "Poland",
          "Russian Fed",
          "Ukraine",
          "Egypt",
          "Kenya",
          "Mauritius",
          "Nigeria",
          "South Africa",
          "Sudan",
          "Tanzania",
          "Bahrain",
          "Iraq",
          "Israel",
          "Oman",
          "Saudi Arabia",
          "Turkey",
          "U.A.E.",
          "Yemen Arab Rep.",
          "Afghanistan",
          "Bangladesh",
          "Bhutan",
          "Iran",
          "Maldives",
          "Nepal",
          "Pakistan",
          "Sri Lanka",
          "Indonesia",
          "Malaysia",
          "Myanmar",
          "Philippines",
          "Singapore",
          "Thailand",
          "Vietnam",
          "China",
          "Japan",
          "Rep. of Korea",
          "Taiwan",
          "Australia",
          "New Zealand"
         ],
         "xaxis": "x",
         "y": [
          351040,
          1456678,
          16345,
          26579,
          19909,
          33200,
          44086,
          28195,
          21239,
          261653,
          274087,
          10656,
          39276,
          126931,
          81615,
          22631,
          74492,
          84356,
          46743,
          49322,
          1029757,
          13413,
          9201,
          13314,
          31555,
          262309,
          26260,
          20486,
          48845,
          42096,
          12067,
          58613,
          34712,
          23443,
          13915,
          68462,
          67366,
          95160,
          47546,
          33825,
          59971,
          21674,
          153905,
          2256675,
          26470,
          35596,
          62337,
          174096,
          41659,
          353684,
          46867,
          319172,
          75773,
          53473,
          183581,
          166293,
          31427,
          281768,
          236236,
          150536,
          49457,
          346486,
          60664
         ],
         "yaxis": "y"
        },
        {
         "hovertemplate": "variable=2019<br>Country=%{x}<br>value=%{y}<extra></extra>",
         "legendgroup": "2019",
         "marker": {
          "color": "#19d3f3"
         },
         "name": "2019",
         "orientation": "v",
         "showlegend": true,
         "type": "funnel",
         "x": [
          "Canada",
          "U.S.A",
          "Argentina",
          "Brazil",
          "Mexico",
          "Austria",
          "Belgium",
          "Denmark",
          "Finland",
          "France",
          "Germany",
          "Greece",
          "Ireland",
          "Italy",
          "Netherlands",
          "Norway",
          "Portugal",
          "Spain",
          "Sweden",
          "Switzerland",
          "U.K.",
          "Czech Rep.",
          "Hungary",
          "Kazakhstan",
          "Poland",
          "Russian Fed",
          "Ukraine",
          "Egypt",
          "Kenya",
          "Mauritius",
          "Nigeria",
          "South Africa",
          "Sudan",
          "Tanzania",
          "Bahrain",
          "Iraq",
          "Israel",
          "Oman",
          "Saudi Arabia",
          "Turkey",
          "U.A.E.",
          "Yemen Arab Rep.",
          "Afghanistan",
          "Bangladesh",
          "Bhutan",
          "Iran",
          "Maldives",
          "Nepal",
          "Pakistan",
          "Sri Lanka",
          "Indonesia",
          "Malaysia",
          "Myanmar",
          "Philippines",
          "Singapore",
          "Thailand",
          "Vietnam",
          "China",
          "Japan",
          "Rep. of Korea",
          "Taiwan",
          "Australia",
          "New Zealand"
         ],
         "xaxis": "x",
         "y": [
          351859,
          1512032,
          12844,
          25422,
          20766,
          32332,
          39263,
          26492,
          18945,
          247238,
          264973,
          10317,
          41183,
          128572,
          80313,
          21898,
          74743,
          83322,
          42318,
          46826,
          1000292,
          13290,
          9788,
          15709,
          33687,
          251319,
          29468,
          21538,
          48639,
          46814,
          14033,
          57274,
          34003,
          23774,
          15128,
          61907,
          73137,
          74564,
          48526,
          35113,
          55413,
          26065,
          124120,
          2577727,
          28178,
          33288,
          78587,
          164040,
          39018,
          330861,
          50177,
          334579,
          86842,
          56393,
          190089,
          169956,
          33636,
          339442,
          238903,
          149445,
          48195,
          367241,
          65551
         ],
         "yaxis": "y"
        },
        {
         "hovertemplate": "variable=2020<br>Country=%{x}<br>value=%{y}<extra></extra>",
         "legendgroup": "2020",
         "marker": {
          "color": "#FF6692"
         },
         "name": "2020",
         "orientation": "v",
         "showlegend": true,
         "type": "funnel",
         "x": [
          "Canada",
          "U.S.A",
          "Argentina",
          "Brazil",
          "Mexico",
          "Austria",
          "Belgium",
          "Denmark",
          "Finland",
          "France",
          "Germany",
          "Greece",
          "Ireland",
          "Italy",
          "Netherlands",
          "Norway",
          "Portugal",
          "Spain",
          "Sweden",
          "Switzerland",
          "U.K.",
          "Czech Rep.",
          "Hungary",
          "Kazakhstan",
          "Poland",
          "Russian Fed",
          "Ukraine",
          "Egypt",
          "Kenya",
          "Mauritius",
          "Nigeria",
          "South Africa",
          "Sudan",
          "Tanzania",
          "Bahrain",
          "Iraq",
          "Israel",
          "Oman",
          "Saudi Arabia",
          "Turkey",
          "U.A.E.",
          "Yemen Arab Rep.",
          "Afghanistan",
          "Bangladesh",
          "Bhutan",
          "Iran",
          "Maldives",
          "Nepal",
          "Pakistan",
          "Sri Lanka",
          "Indonesia",
          "Malaysia",
          "Myanmar",
          "Philippines",
          "Singapore",
          "Thailand",
          "Vietnam",
          "China",
          "Japan",
          "Rep. of Korea",
          "Taiwan",
          "Australia",
          "New Zealand"
         ],
         "xaxis": "x",
         "y": [
          122868,
          394092,
          4294,
          8092,
          4580,
          9182,
          11022,
          8252,
          4310,
          74243,
          72558,
          2854,
          9708,
          31186,
          26258,
          6224,
          31005,
          16335,
          11992,
          12675,
          291874,
          3607,
          2964,
          5918,
          12161,
          102166,
          10619,
          4886,
          12779,
          11410,
          3819,
          12561,
          9114,
          6501,
          3429,
          17823,
          17444,
          15430,
          10423,
          10853,
          7387,
          5882,
          47561,
          549273,
          7901,
          7090,
          14536,
          40822,
          14232,
          68646,
          11795,
          69897,
          35291,
          16052,
          33747,
          52626,
          8828,
          39586,
          48191,
          32302,
          8969,
          86758,
          16653
         ],
         "yaxis": "y"
        }
       ],
       "layout": {
        "legend": {
         "title": {
          "text": "variable"
         },
         "tracegroupgap": 0
        },
        "margin": {
         "t": 60
        },
        "template": {
         "data": {
          "bar": [
           {
            "error_x": {
             "color": "#2a3f5f"
            },
            "error_y": {
             "color": "#2a3f5f"
            },
            "marker": {
             "line": {
              "color": "#E5ECF6",
              "width": 0.5
             },
             "pattern": {
              "fillmode": "overlay",
              "size": 10,
              "solidity": 0.2
             }
            },
            "type": "bar"
           }
          ],
          "barpolar": [
           {
            "marker": {
             "line": {
              "color": "#E5ECF6",
              "width": 0.5
             },
             "pattern": {
              "fillmode": "overlay",
              "size": 10,
              "solidity": 0.2
             }
            },
            "type": "barpolar"
           }
          ],
          "carpet": [
           {
            "aaxis": {
             "endlinecolor": "#2a3f5f",
             "gridcolor": "white",
             "linecolor": "white",
             "minorgridcolor": "white",
             "startlinecolor": "#2a3f5f"
            },
            "baxis": {
             "endlinecolor": "#2a3f5f",
             "gridcolor": "white",
             "linecolor": "white",
             "minorgridcolor": "white",
             "startlinecolor": "#2a3f5f"
            },
            "type": "carpet"
           }
          ],
          "choropleth": [
           {
            "colorbar": {
             "outlinewidth": 0,
             "ticks": ""
            },
            "type": "choropleth"
           }
          ],
          "contour": [
           {
            "colorbar": {
             "outlinewidth": 0,
             "ticks": ""
            },
            "colorscale": [
             [
              0,
              "#0d0887"
             ],
             [
              0.1111111111111111,
              "#46039f"
             ],
             [
              0.2222222222222222,
              "#7201a8"
             ],
             [
              0.3333333333333333,
              "#9c179e"
             ],
             [
              0.4444444444444444,
              "#bd3786"
             ],
             [
              0.5555555555555556,
              "#d8576b"
             ],
             [
              0.6666666666666666,
              "#ed7953"
             ],
             [
              0.7777777777777778,
              "#fb9f3a"
             ],
             [
              0.8888888888888888,
              "#fdca26"
             ],
             [
              1,
              "#f0f921"
             ]
            ],
            "type": "contour"
           }
          ],
          "contourcarpet": [
           {
            "colorbar": {
             "outlinewidth": 0,
             "ticks": ""
            },
            "type": "contourcarpet"
           }
          ],
          "heatmap": [
           {
            "colorbar": {
             "outlinewidth": 0,
             "ticks": ""
            },
            "colorscale": [
             [
              0,
              "#0d0887"
             ],
             [
              0.1111111111111111,
              "#46039f"
             ],
             [
              0.2222222222222222,
              "#7201a8"
             ],
             [
              0.3333333333333333,
              "#9c179e"
             ],
             [
              0.4444444444444444,
              "#bd3786"
             ],
             [
              0.5555555555555556,
              "#d8576b"
             ],
             [
              0.6666666666666666,
              "#ed7953"
             ],
             [
              0.7777777777777778,
              "#fb9f3a"
             ],
             [
              0.8888888888888888,
              "#fdca26"
             ],
             [
              1,
              "#f0f921"
             ]
            ],
            "type": "heatmap"
           }
          ],
          "heatmapgl": [
           {
            "colorbar": {
             "outlinewidth": 0,
             "ticks": ""
            },
            "colorscale": [
             [
              0,
              "#0d0887"
             ],
             [
              0.1111111111111111,
              "#46039f"
             ],
             [
              0.2222222222222222,
              "#7201a8"
             ],
             [
              0.3333333333333333,
              "#9c179e"
             ],
             [
              0.4444444444444444,
              "#bd3786"
             ],
             [
              0.5555555555555556,
              "#d8576b"
             ],
             [
              0.6666666666666666,
              "#ed7953"
             ],
             [
              0.7777777777777778,
              "#fb9f3a"
             ],
             [
              0.8888888888888888,
              "#fdca26"
             ],
             [
              1,
              "#f0f921"
             ]
            ],
            "type": "heatmapgl"
           }
          ],
          "histogram": [
           {
            "marker": {
             "pattern": {
              "fillmode": "overlay",
              "size": 10,
              "solidity": 0.2
             }
            },
            "type": "histogram"
           }
          ],
          "histogram2d": [
           {
            "colorbar": {
             "outlinewidth": 0,
             "ticks": ""
            },
            "colorscale": [
             [
              0,
              "#0d0887"
             ],
             [
              0.1111111111111111,
              "#46039f"
             ],
             [
              0.2222222222222222,
              "#7201a8"
             ],
             [
              0.3333333333333333,
              "#9c179e"
             ],
             [
              0.4444444444444444,
              "#bd3786"
             ],
             [
              0.5555555555555556,
              "#d8576b"
             ],
             [
              0.6666666666666666,
              "#ed7953"
             ],
             [
              0.7777777777777778,
              "#fb9f3a"
             ],
             [
              0.8888888888888888,
              "#fdca26"
             ],
             [
              1,
              "#f0f921"
             ]
            ],
            "type": "histogram2d"
           }
          ],
          "histogram2dcontour": [
           {
            "colorbar": {
             "outlinewidth": 0,
             "ticks": ""
            },
            "colorscale": [
             [
              0,
              "#0d0887"
             ],
             [
              0.1111111111111111,
              "#46039f"
             ],
             [
              0.2222222222222222,
              "#7201a8"
             ],
             [
              0.3333333333333333,
              "#9c179e"
             ],
             [
              0.4444444444444444,
              "#bd3786"
             ],
             [
              0.5555555555555556,
              "#d8576b"
             ],
             [
              0.6666666666666666,
              "#ed7953"
             ],
             [
              0.7777777777777778,
              "#fb9f3a"
             ],
             [
              0.8888888888888888,
              "#fdca26"
             ],
             [
              1,
              "#f0f921"
             ]
            ],
            "type": "histogram2dcontour"
           }
          ],
          "mesh3d": [
           {
            "colorbar": {
             "outlinewidth": 0,
             "ticks": ""
            },
            "type": "mesh3d"
           }
          ],
          "parcoords": [
           {
            "line": {
             "colorbar": {
              "outlinewidth": 0,
              "ticks": ""
             }
            },
            "type": "parcoords"
           }
          ],
          "pie": [
           {
            "automargin": true,
            "type": "pie"
           }
          ],
          "scatter": [
           {
            "fillpattern": {
             "fillmode": "overlay",
             "size": 10,
             "solidity": 0.2
            },
            "type": "scatter"
           }
          ],
          "scatter3d": [
           {
            "line": {
             "colorbar": {
              "outlinewidth": 0,
              "ticks": ""
             }
            },
            "marker": {
             "colorbar": {
              "outlinewidth": 0,
              "ticks": ""
             }
            },
            "type": "scatter3d"
           }
          ],
          "scattercarpet": [
           {
            "marker": {
             "colorbar": {
              "outlinewidth": 0,
              "ticks": ""
             }
            },
            "type": "scattercarpet"
           }
          ],
          "scattergeo": [
           {
            "marker": {
             "colorbar": {
              "outlinewidth": 0,
              "ticks": ""
             }
            },
            "type": "scattergeo"
           }
          ],
          "scattergl": [
           {
            "marker": {
             "colorbar": {
              "outlinewidth": 0,
              "ticks": ""
             }
            },
            "type": "scattergl"
           }
          ],
          "scattermapbox": [
           {
            "marker": {
             "colorbar": {
              "outlinewidth": 0,
              "ticks": ""
             }
            },
            "type": "scattermapbox"
           }
          ],
          "scatterpolar": [
           {
            "marker": {
             "colorbar": {
              "outlinewidth": 0,
              "ticks": ""
             }
            },
            "type": "scatterpolar"
           }
          ],
          "scatterpolargl": [
           {
            "marker": {
             "colorbar": {
              "outlinewidth": 0,
              "ticks": ""
             }
            },
            "type": "scatterpolargl"
           }
          ],
          "scatterternary": [
           {
            "marker": {
             "colorbar": {
              "outlinewidth": 0,
              "ticks": ""
             }
            },
            "type": "scatterternary"
           }
          ],
          "surface": [
           {
            "colorbar": {
             "outlinewidth": 0,
             "ticks": ""
            },
            "colorscale": [
             [
              0,
              "#0d0887"
             ],
             [
              0.1111111111111111,
              "#46039f"
             ],
             [
              0.2222222222222222,
              "#7201a8"
             ],
             [
              0.3333333333333333,
              "#9c179e"
             ],
             [
              0.4444444444444444,
              "#bd3786"
             ],
             [
              0.5555555555555556,
              "#d8576b"
             ],
             [
              0.6666666666666666,
              "#ed7953"
             ],
             [
              0.7777777777777778,
              "#fb9f3a"
             ],
             [
              0.8888888888888888,
              "#fdca26"
             ],
             [
              1,
              "#f0f921"
             ]
            ],
            "type": "surface"
           }
          ],
          "table": [
           {
            "cells": {
             "fill": {
              "color": "#EBF0F8"
             },
             "line": {
              "color": "white"
             }
            },
            "header": {
             "fill": {
              "color": "#C8D4E3"
             },
             "line": {
              "color": "white"
             }
            },
            "type": "table"
           }
          ]
         },
         "layout": {
          "annotationdefaults": {
           "arrowcolor": "#2a3f5f",
           "arrowhead": 0,
           "arrowwidth": 1
          },
          "autotypenumbers": "strict",
          "coloraxis": {
           "colorbar": {
            "outlinewidth": 0,
            "ticks": ""
           }
          },
          "colorscale": {
           "diverging": [
            [
             0,
             "#8e0152"
            ],
            [
             0.1,
             "#c51b7d"
            ],
            [
             0.2,
             "#de77ae"
            ],
            [
             0.3,
             "#f1b6da"
            ],
            [
             0.4,
             "#fde0ef"
            ],
            [
             0.5,
             "#f7f7f7"
            ],
            [
             0.6,
             "#e6f5d0"
            ],
            [
             0.7,
             "#b8e186"
            ],
            [
             0.8,
             "#7fbc41"
            ],
            [
             0.9,
             "#4d9221"
            ],
            [
             1,
             "#276419"
            ]
           ],
           "sequential": [
            [
             0,
             "#0d0887"
            ],
            [
             0.1111111111111111,
             "#46039f"
            ],
            [
             0.2222222222222222,
             "#7201a8"
            ],
            [
             0.3333333333333333,
             "#9c179e"
            ],
            [
             0.4444444444444444,
             "#bd3786"
            ],
            [
             0.5555555555555556,
             "#d8576b"
            ],
            [
             0.6666666666666666,
             "#ed7953"
            ],
            [
             0.7777777777777778,
             "#fb9f3a"
            ],
            [
             0.8888888888888888,
             "#fdca26"
            ],
            [
             1,
             "#f0f921"
            ]
           ],
           "sequentialminus": [
            [
             0,
             "#0d0887"
            ],
            [
             0.1111111111111111,
             "#46039f"
            ],
            [
             0.2222222222222222,
             "#7201a8"
            ],
            [
             0.3333333333333333,
             "#9c179e"
            ],
            [
             0.4444444444444444,
             "#bd3786"
            ],
            [
             0.5555555555555556,
             "#d8576b"
            ],
            [
             0.6666666666666666,
             "#ed7953"
            ],
            [
             0.7777777777777778,
             "#fb9f3a"
            ],
            [
             0.8888888888888888,
             "#fdca26"
            ],
            [
             1,
             "#f0f921"
            ]
           ]
          },
          "colorway": [
           "#636efa",
           "#EF553B",
           "#00cc96",
           "#ab63fa",
           "#FFA15A",
           "#19d3f3",
           "#FF6692",
           "#B6E880",
           "#FF97FF",
           "#FECB52"
          ],
          "font": {
           "color": "#2a3f5f"
          },
          "geo": {
           "bgcolor": "white",
           "lakecolor": "white",
           "landcolor": "#E5ECF6",
           "showlakes": true,
           "showland": true,
           "subunitcolor": "white"
          },
          "hoverlabel": {
           "align": "left"
          },
          "hovermode": "closest",
          "mapbox": {
           "style": "light"
          },
          "paper_bgcolor": "white",
          "plot_bgcolor": "#E5ECF6",
          "polar": {
           "angularaxis": {
            "gridcolor": "white",
            "linecolor": "white",
            "ticks": ""
           },
           "bgcolor": "#E5ECF6",
           "radialaxis": {
            "gridcolor": "white",
            "linecolor": "white",
            "ticks": ""
           }
          },
          "scene": {
           "xaxis": {
            "backgroundcolor": "#E5ECF6",
            "gridcolor": "white",
            "gridwidth": 2,
            "linecolor": "white",
            "showbackground": true,
            "ticks": "",
            "zerolinecolor": "white"
           },
           "yaxis": {
            "backgroundcolor": "#E5ECF6",
            "gridcolor": "white",
            "gridwidth": 2,
            "linecolor": "white",
            "showbackground": true,
            "ticks": "",
            "zerolinecolor": "white"
           },
           "zaxis": {
            "backgroundcolor": "#E5ECF6",
            "gridcolor": "white",
            "gridwidth": 2,
            "linecolor": "white",
            "showbackground": true,
            "ticks": "",
            "zerolinecolor": "white"
           }
          },
          "shapedefaults": {
           "line": {
            "color": "#2a3f5f"
           }
          },
          "ternary": {
           "aaxis": {
            "gridcolor": "white",
            "linecolor": "white",
            "ticks": ""
           },
           "baxis": {
            "gridcolor": "white",
            "linecolor": "white",
            "ticks": ""
           },
           "bgcolor": "#E5ECF6",
           "caxis": {
            "gridcolor": "white",
            "linecolor": "white",
            "ticks": ""
           }
          },
          "title": {
           "x": 0.05
          },
          "xaxis": {
           "automargin": true,
           "gridcolor": "white",
           "linecolor": "white",
           "ticks": "",
           "title": {
            "standoff": 15
           },
           "zerolinecolor": "white",
           "zerolinewidth": 2
          },
          "yaxis": {
           "automargin": true,
           "gridcolor": "white",
           "linecolor": "white",
           "ticks": "",
           "title": {
            "standoff": 15
           },
           "zerolinecolor": "white",
           "zerolinewidth": 2
          }
         }
        },
        "xaxis": {
         "anchor": "y",
         "domain": [
          0,
          1
         ],
         "title": {
          "text": "Country"
         }
        },
        "yaxis": {
         "anchor": "x",
         "domain": [
          0,
          1
         ],
         "title": {
          "text": "value"
         }
        }
       }
      }
     },
     "metadata": {},
     "output_type": "display_data"
    }
   ],
   "source": [
    "px.funnel(df, df.index,['2014','2015','2016','2017','2018','2019','2020'])"
   ]
  },
  {
   "cell_type": "code",
   "execution_count": 126,
   "metadata": {},
   "outputs": [
    {
     "data": {
      "application/vnd.plotly.v1+json": {
       "config": {
        "plotlyServerURL": "https://plot.ly"
       },
       "data": [
        {
         "alignmentgroup": "True",
         "hovertemplate": "variable=2014<br>Country=%{x}<br>value=%{y}<extra></extra>",
         "legendgroup": "2014",
         "marker": {
          "color": "#636efa",
          "pattern": {
           "shape": ""
          }
         },
         "name": "2014",
         "offsetgroup": "2014",
         "orientation": "v",
         "showlegend": true,
         "textposition": "auto",
         "type": "bar",
         "x": [
          "Canada",
          "U.S.A",
          "Argentina",
          "Brazil",
          "Mexico",
          "Austria",
          "Belgium",
          "Denmark",
          "Finland",
          "France",
          "Germany",
          "Greece",
          "Ireland",
          "Italy",
          "Netherlands",
          "Norway",
          "Portugal",
          "Spain",
          "Sweden",
          "Switzerland",
          "U.K.",
          "Czech Rep.",
          "Hungary",
          "Kazakhstan",
          "Poland",
          "Russian Fed",
          "Ukraine",
          "Egypt",
          "Kenya",
          "Mauritius",
          "Nigeria",
          "South Africa",
          "Sudan",
          "Tanzania",
          "Bahrain",
          "Iraq",
          "Israel",
          "Oman",
          "Saudi Arabia",
          "Turkey",
          "U.A.E.",
          "Yemen Arab Rep.",
          "Afghanistan",
          "Bangladesh",
          "Bhutan",
          "Iran",
          "Maldives",
          "Nepal",
          "Pakistan",
          "Sri Lanka",
          "Indonesia",
          "Malaysia",
          "Myanmar",
          "Philippines",
          "Singapore",
          "Thailand",
          "Vietnam",
          "China",
          "Japan",
          "Rep. of Korea",
          "Taiwan",
          "Australia",
          "New Zealand"
         ],
         "xaxis": "x",
         "y": [
          268485,
          1118983,
          9731,
          19563,
          13978,
          34360,
          37441,
          26775,
          18765,
          246101,
          239106,
          8300,
          28978,
          91589,
          67747,
          19690,
          36156,
          66463,
          44948,
          45773,
          838860,
          9878,
          6867,
          16736,
          25205,
          269832,
          29281,
          16715,
          46158,
          27945,
          28314,
          56246,
          11896,
          26284,
          13136,
          48321,
          49321,
          88512,
          55487,
          24294,
          59332,
          34207,
          115569,
          942562,
          16001,
          31222,
          65052,
          126416,
          96434,
          301601,
          32215,
          262026,
          54631,
          43240,
          150731,
          121362,
          15132,
          181020,
          219516,
          106870,
          35857,
          239762,
          42864
         ],
         "yaxis": "y"
        },
        {
         "alignmentgroup": "True",
         "hovertemplate": "variable=2015<br>Country=%{x}<br>value=%{y}<extra></extra>",
         "legendgroup": "2015",
         "marker": {
          "color": "#EF553B",
          "pattern": {
           "shape": ""
          }
         },
         "name": "2015",
         "offsetgroup": "2015",
         "orientation": "v",
         "showlegend": true,
         "textposition": "auto",
         "type": "bar",
         "x": [
          "Canada",
          "U.S.A",
          "Argentina",
          "Brazil",
          "Mexico",
          "Austria",
          "Belgium",
          "Denmark",
          "Finland",
          "France",
          "Germany",
          "Greece",
          "Ireland",
          "Italy",
          "Netherlands",
          "Norway",
          "Portugal",
          "Spain",
          "Sweden",
          "Switzerland",
          "U.K.",
          "Czech Rep.",
          "Hungary",
          "Kazakhstan",
          "Poland",
          "Russian Fed",
          "Ukraine",
          "Egypt",
          "Kenya",
          "Mauritius",
          "Nigeria",
          "South Africa",
          "Sudan",
          "Tanzania",
          "Bahrain",
          "Iraq",
          "Israel",
          "Oman",
          "Saudi Arabia",
          "Turkey",
          "U.A.E.",
          "Yemen Arab Rep.",
          "Afghanistan",
          "Bangladesh",
          "Bhutan",
          "Iran",
          "Maldives",
          "Nepal",
          "Pakistan",
          "Sri Lanka",
          "Indonesia",
          "Malaysia",
          "Myanmar",
          "Philippines",
          "Singapore",
          "Thailand",
          "Vietnam",
          "China",
          "Japan",
          "Rep. of Korea",
          "Taiwan",
          "Australia",
          "New Zealand"
         ],
         "xaxis": "x",
         "y": [
          281306,
          1213624,
          9351,
          20610,
          14049,
          33670,
          36684,
          24073,
          18129,
          230854,
          248314,
          8087,
          32973,
          88091,
          66181,
          19757,
          44616,
          65694,
          42626,
          46151,
          867601,
          11441,
          7036,
          14506,
          26499,
          172419,
          23098,
          19168,
          46139,
          32533,
          24292,
          51922,
          13704,
          25488,
          14013,
          42660,
          50134,
          103740,
          63835,
          25670,
          55818,
          20901,
          114406,
          1133879,
          19084,
          30774,
          68907,
          154720,
          124924,
          299513,
          34933,
          272941,
          55341,
          47912,
          152238,
          115860,
          15341,
          206322,
          207415,
          102993,
          36349,
          263201,
          45171
         ],
         "yaxis": "y"
        },
        {
         "alignmentgroup": "True",
         "hovertemplate": "variable=2016<br>Country=%{x}<br>value=%{y}<extra></extra>",
         "legendgroup": "2016",
         "marker": {
          "color": "#00cc96",
          "pattern": {
           "shape": ""
          }
         },
         "name": "2016",
         "offsetgroup": "2016",
         "orientation": "v",
         "showlegend": true,
         "textposition": "auto",
         "type": "bar",
         "x": [
          "Canada",
          "U.S.A",
          "Argentina",
          "Brazil",
          "Mexico",
          "Austria",
          "Belgium",
          "Denmark",
          "Finland",
          "France",
          "Germany",
          "Greece",
          "Ireland",
          "Italy",
          "Netherlands",
          "Norway",
          "Portugal",
          "Spain",
          "Sweden",
          "Switzerland",
          "U.K.",
          "Czech Rep.",
          "Hungary",
          "Kazakhstan",
          "Poland",
          "Russian Fed",
          "Ukraine",
          "Egypt",
          "Kenya",
          "Mauritius",
          "Nigeria",
          "South Africa",
          "Sudan",
          "Tanzania",
          "Bahrain",
          "Iraq",
          "Israel",
          "Oman",
          "Saudi Arabia",
          "Turkey",
          "U.A.E.",
          "Yemen Arab Rep.",
          "Afghanistan",
          "Bangladesh",
          "Bhutan",
          "Iran",
          "Maldives",
          "Nepal",
          "Pakistan",
          "Sri Lanka",
          "Indonesia",
          "Malaysia",
          "Myanmar",
          "Philippines",
          "Singapore",
          "Thailand",
          "Vietnam",
          "China",
          "Japan",
          "Rep. of Korea",
          "Taiwan",
          "Australia",
          "New Zealand"
         ],
         "xaxis": "x",
         "y": [
          317239,
          1296939,
          12308,
          21289,
          15689,
          33089,
          37960,
          24717,
          18371,
          238707,
          265928,
          9048,
          36440,
          95417,
          71840,
          20148,
          54439,
          76342,
          43689,
          48123,
          941883,
          12932,
          7961,
          12979,
          25706,
          227749,
          26753,
          20864,
          44783,
          34280,
          17964,
          52636,
          17093,
          23026,
          17382,
          48227,
          59231,
          105705,
          61605,
          29545,
          67165,
          19383,
          123330,
          1380409,
          20940,
          39184,
          67457,
          161097,
          104720,
          297418,
          35084,
          301961,
          51376,
          52692,
          163688,
          119663,
          16728,
          251313,
          208847,
          111076,
          42327,
          293625,
          50917
         ],
         "yaxis": "y"
        },
        {
         "alignmentgroup": "True",
         "hovertemplate": "variable=2017<br>Country=%{x}<br>value=%{y}<extra></extra>",
         "legendgroup": "2017",
         "marker": {
          "color": "#ab63fa",
          "pattern": {
           "shape": ""
          }
         },
         "name": "2017",
         "offsetgroup": "2017",
         "orientation": "v",
         "showlegend": true,
         "textposition": "auto",
         "type": "bar",
         "x": [
          "Canada",
          "U.S.A",
          "Argentina",
          "Brazil",
          "Mexico",
          "Austria",
          "Belgium",
          "Denmark",
          "Finland",
          "France",
          "Germany",
          "Greece",
          "Ireland",
          "Italy",
          "Netherlands",
          "Norway",
          "Portugal",
          "Spain",
          "Sweden",
          "Switzerland",
          "U.K.",
          "Czech Rep.",
          "Hungary",
          "Kazakhstan",
          "Poland",
          "Russian Fed",
          "Ukraine",
          "Egypt",
          "Kenya",
          "Mauritius",
          "Nigeria",
          "South Africa",
          "Sudan",
          "Tanzania",
          "Bahrain",
          "Iraq",
          "Israel",
          "Oman",
          "Saudi Arabia",
          "Turkey",
          "U.A.E.",
          "Yemen Arab Rep.",
          "Afghanistan",
          "Bangladesh",
          "Bhutan",
          "Iran",
          "Maldives",
          "Nepal",
          "Pakistan",
          "Sri Lanka",
          "Indonesia",
          "Malaysia",
          "Myanmar",
          "Philippines",
          "Singapore",
          "Thailand",
          "Vietnam",
          "China",
          "Japan",
          "Rep. of Korea",
          "Taiwan",
          "Australia",
          "New Zealand"
         ],
         "xaxis": "x",
         "y": [
          335439,
          1376919,
          14875,
          24453,
          18114,
          31832,
          41902,
          26761,
          20384,
          249620,
          269380,
          10286,
          37993,
          111915,
          76652,
          20882,
          66378,
          81442,
          45851,
          49607,
          986296,
          11852,
          9241,
          15421,
          28674,
          278904,
          25988,
          20528,
          46011,
          37706,
          12651,
          57060,
          22762,
          22261,
          16764,
          56230,
          58131,
          107217,
          52976,
          33251,
          67238,
          21695,
          149176,
          2156557,
          25267,
          42641,
          66150,
          164018,
          44266,
          303590,
          43973,
          322126,
          56952,
          53963,
          175852,
          140087,
          23771,
          247235,
          222527,
          142383,
          47043,
          324243,
          56597
         ],
         "yaxis": "y"
        },
        {
         "alignmentgroup": "True",
         "hovertemplate": "variable=2018<br>Country=%{x}<br>value=%{y}<extra></extra>",
         "legendgroup": "2018",
         "marker": {
          "color": "#FFA15A",
          "pattern": {
           "shape": ""
          }
         },
         "name": "2018",
         "offsetgroup": "2018",
         "orientation": "v",
         "showlegend": true,
         "textposition": "auto",
         "type": "bar",
         "x": [
          "Canada",
          "U.S.A",
          "Argentina",
          "Brazil",
          "Mexico",
          "Austria",
          "Belgium",
          "Denmark",
          "Finland",
          "France",
          "Germany",
          "Greece",
          "Ireland",
          "Italy",
          "Netherlands",
          "Norway",
          "Portugal",
          "Spain",
          "Sweden",
          "Switzerland",
          "U.K.",
          "Czech Rep.",
          "Hungary",
          "Kazakhstan",
          "Poland",
          "Russian Fed",
          "Ukraine",
          "Egypt",
          "Kenya",
          "Mauritius",
          "Nigeria",
          "South Africa",
          "Sudan",
          "Tanzania",
          "Bahrain",
          "Iraq",
          "Israel",
          "Oman",
          "Saudi Arabia",
          "Turkey",
          "U.A.E.",
          "Yemen Arab Rep.",
          "Afghanistan",
          "Bangladesh",
          "Bhutan",
          "Iran",
          "Maldives",
          "Nepal",
          "Pakistan",
          "Sri Lanka",
          "Indonesia",
          "Malaysia",
          "Myanmar",
          "Philippines",
          "Singapore",
          "Thailand",
          "Vietnam",
          "China",
          "Japan",
          "Rep. of Korea",
          "Taiwan",
          "Australia",
          "New Zealand"
         ],
         "xaxis": "x",
         "y": [
          351040,
          1456678,
          16345,
          26579,
          19909,
          33200,
          44086,
          28195,
          21239,
          261653,
          274087,
          10656,
          39276,
          126931,
          81615,
          22631,
          74492,
          84356,
          46743,
          49322,
          1029757,
          13413,
          9201,
          13314,
          31555,
          262309,
          26260,
          20486,
          48845,
          42096,
          12067,
          58613,
          34712,
          23443,
          13915,
          68462,
          67366,
          95160,
          47546,
          33825,
          59971,
          21674,
          153905,
          2256675,
          26470,
          35596,
          62337,
          174096,
          41659,
          353684,
          46867,
          319172,
          75773,
          53473,
          183581,
          166293,
          31427,
          281768,
          236236,
          150536,
          49457,
          346486,
          60664
         ],
         "yaxis": "y"
        },
        {
         "alignmentgroup": "True",
         "hovertemplate": "variable=2019<br>Country=%{x}<br>value=%{y}<extra></extra>",
         "legendgroup": "2019",
         "marker": {
          "color": "#19d3f3",
          "pattern": {
           "shape": ""
          }
         },
         "name": "2019",
         "offsetgroup": "2019",
         "orientation": "v",
         "showlegend": true,
         "textposition": "auto",
         "type": "bar",
         "x": [
          "Canada",
          "U.S.A",
          "Argentina",
          "Brazil",
          "Mexico",
          "Austria",
          "Belgium",
          "Denmark",
          "Finland",
          "France",
          "Germany",
          "Greece",
          "Ireland",
          "Italy",
          "Netherlands",
          "Norway",
          "Portugal",
          "Spain",
          "Sweden",
          "Switzerland",
          "U.K.",
          "Czech Rep.",
          "Hungary",
          "Kazakhstan",
          "Poland",
          "Russian Fed",
          "Ukraine",
          "Egypt",
          "Kenya",
          "Mauritius",
          "Nigeria",
          "South Africa",
          "Sudan",
          "Tanzania",
          "Bahrain",
          "Iraq",
          "Israel",
          "Oman",
          "Saudi Arabia",
          "Turkey",
          "U.A.E.",
          "Yemen Arab Rep.",
          "Afghanistan",
          "Bangladesh",
          "Bhutan",
          "Iran",
          "Maldives",
          "Nepal",
          "Pakistan",
          "Sri Lanka",
          "Indonesia",
          "Malaysia",
          "Myanmar",
          "Philippines",
          "Singapore",
          "Thailand",
          "Vietnam",
          "China",
          "Japan",
          "Rep. of Korea",
          "Taiwan",
          "Australia",
          "New Zealand"
         ],
         "xaxis": "x",
         "y": [
          351859,
          1512032,
          12844,
          25422,
          20766,
          32332,
          39263,
          26492,
          18945,
          247238,
          264973,
          10317,
          41183,
          128572,
          80313,
          21898,
          74743,
          83322,
          42318,
          46826,
          1000292,
          13290,
          9788,
          15709,
          33687,
          251319,
          29468,
          21538,
          48639,
          46814,
          14033,
          57274,
          34003,
          23774,
          15128,
          61907,
          73137,
          74564,
          48526,
          35113,
          55413,
          26065,
          124120,
          2577727,
          28178,
          33288,
          78587,
          164040,
          39018,
          330861,
          50177,
          334579,
          86842,
          56393,
          190089,
          169956,
          33636,
          339442,
          238903,
          149445,
          48195,
          367241,
          65551
         ],
         "yaxis": "y"
        },
        {
         "alignmentgroup": "True",
         "hovertemplate": "variable=2020<br>Country=%{x}<br>value=%{y}<extra></extra>",
         "legendgroup": "2020",
         "marker": {
          "color": "#FF6692",
          "pattern": {
           "shape": ""
          }
         },
         "name": "2020",
         "offsetgroup": "2020",
         "orientation": "v",
         "showlegend": true,
         "textposition": "auto",
         "type": "bar",
         "x": [
          "Canada",
          "U.S.A",
          "Argentina",
          "Brazil",
          "Mexico",
          "Austria",
          "Belgium",
          "Denmark",
          "Finland",
          "France",
          "Germany",
          "Greece",
          "Ireland",
          "Italy",
          "Netherlands",
          "Norway",
          "Portugal",
          "Spain",
          "Sweden",
          "Switzerland",
          "U.K.",
          "Czech Rep.",
          "Hungary",
          "Kazakhstan",
          "Poland",
          "Russian Fed",
          "Ukraine",
          "Egypt",
          "Kenya",
          "Mauritius",
          "Nigeria",
          "South Africa",
          "Sudan",
          "Tanzania",
          "Bahrain",
          "Iraq",
          "Israel",
          "Oman",
          "Saudi Arabia",
          "Turkey",
          "U.A.E.",
          "Yemen Arab Rep.",
          "Afghanistan",
          "Bangladesh",
          "Bhutan",
          "Iran",
          "Maldives",
          "Nepal",
          "Pakistan",
          "Sri Lanka",
          "Indonesia",
          "Malaysia",
          "Myanmar",
          "Philippines",
          "Singapore",
          "Thailand",
          "Vietnam",
          "China",
          "Japan",
          "Rep. of Korea",
          "Taiwan",
          "Australia",
          "New Zealand"
         ],
         "xaxis": "x",
         "y": [
          122868,
          394092,
          4294,
          8092,
          4580,
          9182,
          11022,
          8252,
          4310,
          74243,
          72558,
          2854,
          9708,
          31186,
          26258,
          6224,
          31005,
          16335,
          11992,
          12675,
          291874,
          3607,
          2964,
          5918,
          12161,
          102166,
          10619,
          4886,
          12779,
          11410,
          3819,
          12561,
          9114,
          6501,
          3429,
          17823,
          17444,
          15430,
          10423,
          10853,
          7387,
          5882,
          47561,
          549273,
          7901,
          7090,
          14536,
          40822,
          14232,
          68646,
          11795,
          69897,
          35291,
          16052,
          33747,
          52626,
          8828,
          39586,
          48191,
          32302,
          8969,
          86758,
          16653
         ],
         "yaxis": "y"
        }
       ],
       "layout": {
        "barmode": "relative",
        "legend": {
         "title": {
          "text": "variable"
         },
         "tracegroupgap": 0
        },
        "margin": {
         "t": 60
        },
        "template": {
         "data": {
          "bar": [
           {
            "error_x": {
             "color": "#2a3f5f"
            },
            "error_y": {
             "color": "#2a3f5f"
            },
            "marker": {
             "line": {
              "color": "#E5ECF6",
              "width": 0.5
             },
             "pattern": {
              "fillmode": "overlay",
              "size": 10,
              "solidity": 0.2
             }
            },
            "type": "bar"
           }
          ],
          "barpolar": [
           {
            "marker": {
             "line": {
              "color": "#E5ECF6",
              "width": 0.5
             },
             "pattern": {
              "fillmode": "overlay",
              "size": 10,
              "solidity": 0.2
             }
            },
            "type": "barpolar"
           }
          ],
          "carpet": [
           {
            "aaxis": {
             "endlinecolor": "#2a3f5f",
             "gridcolor": "white",
             "linecolor": "white",
             "minorgridcolor": "white",
             "startlinecolor": "#2a3f5f"
            },
            "baxis": {
             "endlinecolor": "#2a3f5f",
             "gridcolor": "white",
             "linecolor": "white",
             "minorgridcolor": "white",
             "startlinecolor": "#2a3f5f"
            },
            "type": "carpet"
           }
          ],
          "choropleth": [
           {
            "colorbar": {
             "outlinewidth": 0,
             "ticks": ""
            },
            "type": "choropleth"
           }
          ],
          "contour": [
           {
            "colorbar": {
             "outlinewidth": 0,
             "ticks": ""
            },
            "colorscale": [
             [
              0,
              "#0d0887"
             ],
             [
              0.1111111111111111,
              "#46039f"
             ],
             [
              0.2222222222222222,
              "#7201a8"
             ],
             [
              0.3333333333333333,
              "#9c179e"
             ],
             [
              0.4444444444444444,
              "#bd3786"
             ],
             [
              0.5555555555555556,
              "#d8576b"
             ],
             [
              0.6666666666666666,
              "#ed7953"
             ],
             [
              0.7777777777777778,
              "#fb9f3a"
             ],
             [
              0.8888888888888888,
              "#fdca26"
             ],
             [
              1,
              "#f0f921"
             ]
            ],
            "type": "contour"
           }
          ],
          "contourcarpet": [
           {
            "colorbar": {
             "outlinewidth": 0,
             "ticks": ""
            },
            "type": "contourcarpet"
           }
          ],
          "heatmap": [
           {
            "colorbar": {
             "outlinewidth": 0,
             "ticks": ""
            },
            "colorscale": [
             [
              0,
              "#0d0887"
             ],
             [
              0.1111111111111111,
              "#46039f"
             ],
             [
              0.2222222222222222,
              "#7201a8"
             ],
             [
              0.3333333333333333,
              "#9c179e"
             ],
             [
              0.4444444444444444,
              "#bd3786"
             ],
             [
              0.5555555555555556,
              "#d8576b"
             ],
             [
              0.6666666666666666,
              "#ed7953"
             ],
             [
              0.7777777777777778,
              "#fb9f3a"
             ],
             [
              0.8888888888888888,
              "#fdca26"
             ],
             [
              1,
              "#f0f921"
             ]
            ],
            "type": "heatmap"
           }
          ],
          "heatmapgl": [
           {
            "colorbar": {
             "outlinewidth": 0,
             "ticks": ""
            },
            "colorscale": [
             [
              0,
              "#0d0887"
             ],
             [
              0.1111111111111111,
              "#46039f"
             ],
             [
              0.2222222222222222,
              "#7201a8"
             ],
             [
              0.3333333333333333,
              "#9c179e"
             ],
             [
              0.4444444444444444,
              "#bd3786"
             ],
             [
              0.5555555555555556,
              "#d8576b"
             ],
             [
              0.6666666666666666,
              "#ed7953"
             ],
             [
              0.7777777777777778,
              "#fb9f3a"
             ],
             [
              0.8888888888888888,
              "#fdca26"
             ],
             [
              1,
              "#f0f921"
             ]
            ],
            "type": "heatmapgl"
           }
          ],
          "histogram": [
           {
            "marker": {
             "pattern": {
              "fillmode": "overlay",
              "size": 10,
              "solidity": 0.2
             }
            },
            "type": "histogram"
           }
          ],
          "histogram2d": [
           {
            "colorbar": {
             "outlinewidth": 0,
             "ticks": ""
            },
            "colorscale": [
             [
              0,
              "#0d0887"
             ],
             [
              0.1111111111111111,
              "#46039f"
             ],
             [
              0.2222222222222222,
              "#7201a8"
             ],
             [
              0.3333333333333333,
              "#9c179e"
             ],
             [
              0.4444444444444444,
              "#bd3786"
             ],
             [
              0.5555555555555556,
              "#d8576b"
             ],
             [
              0.6666666666666666,
              "#ed7953"
             ],
             [
              0.7777777777777778,
              "#fb9f3a"
             ],
             [
              0.8888888888888888,
              "#fdca26"
             ],
             [
              1,
              "#f0f921"
             ]
            ],
            "type": "histogram2d"
           }
          ],
          "histogram2dcontour": [
           {
            "colorbar": {
             "outlinewidth": 0,
             "ticks": ""
            },
            "colorscale": [
             [
              0,
              "#0d0887"
             ],
             [
              0.1111111111111111,
              "#46039f"
             ],
             [
              0.2222222222222222,
              "#7201a8"
             ],
             [
              0.3333333333333333,
              "#9c179e"
             ],
             [
              0.4444444444444444,
              "#bd3786"
             ],
             [
              0.5555555555555556,
              "#d8576b"
             ],
             [
              0.6666666666666666,
              "#ed7953"
             ],
             [
              0.7777777777777778,
              "#fb9f3a"
             ],
             [
              0.8888888888888888,
              "#fdca26"
             ],
             [
              1,
              "#f0f921"
             ]
            ],
            "type": "histogram2dcontour"
           }
          ],
          "mesh3d": [
           {
            "colorbar": {
             "outlinewidth": 0,
             "ticks": ""
            },
            "type": "mesh3d"
           }
          ],
          "parcoords": [
           {
            "line": {
             "colorbar": {
              "outlinewidth": 0,
              "ticks": ""
             }
            },
            "type": "parcoords"
           }
          ],
          "pie": [
           {
            "automargin": true,
            "type": "pie"
           }
          ],
          "scatter": [
           {
            "fillpattern": {
             "fillmode": "overlay",
             "size": 10,
             "solidity": 0.2
            },
            "type": "scatter"
           }
          ],
          "scatter3d": [
           {
            "line": {
             "colorbar": {
              "outlinewidth": 0,
              "ticks": ""
             }
            },
            "marker": {
             "colorbar": {
              "outlinewidth": 0,
              "ticks": ""
             }
            },
            "type": "scatter3d"
           }
          ],
          "scattercarpet": [
           {
            "marker": {
             "colorbar": {
              "outlinewidth": 0,
              "ticks": ""
             }
            },
            "type": "scattercarpet"
           }
          ],
          "scattergeo": [
           {
            "marker": {
             "colorbar": {
              "outlinewidth": 0,
              "ticks": ""
             }
            },
            "type": "scattergeo"
           }
          ],
          "scattergl": [
           {
            "marker": {
             "colorbar": {
              "outlinewidth": 0,
              "ticks": ""
             }
            },
            "type": "scattergl"
           }
          ],
          "scattermapbox": [
           {
            "marker": {
             "colorbar": {
              "outlinewidth": 0,
              "ticks": ""
             }
            },
            "type": "scattermapbox"
           }
          ],
          "scatterpolar": [
           {
            "marker": {
             "colorbar": {
              "outlinewidth": 0,
              "ticks": ""
             }
            },
            "type": "scatterpolar"
           }
          ],
          "scatterpolargl": [
           {
            "marker": {
             "colorbar": {
              "outlinewidth": 0,
              "ticks": ""
             }
            },
            "type": "scatterpolargl"
           }
          ],
          "scatterternary": [
           {
            "marker": {
             "colorbar": {
              "outlinewidth": 0,
              "ticks": ""
             }
            },
            "type": "scatterternary"
           }
          ],
          "surface": [
           {
            "colorbar": {
             "outlinewidth": 0,
             "ticks": ""
            },
            "colorscale": [
             [
              0,
              "#0d0887"
             ],
             [
              0.1111111111111111,
              "#46039f"
             ],
             [
              0.2222222222222222,
              "#7201a8"
             ],
             [
              0.3333333333333333,
              "#9c179e"
             ],
             [
              0.4444444444444444,
              "#bd3786"
             ],
             [
              0.5555555555555556,
              "#d8576b"
             ],
             [
              0.6666666666666666,
              "#ed7953"
             ],
             [
              0.7777777777777778,
              "#fb9f3a"
             ],
             [
              0.8888888888888888,
              "#fdca26"
             ],
             [
              1,
              "#f0f921"
             ]
            ],
            "type": "surface"
           }
          ],
          "table": [
           {
            "cells": {
             "fill": {
              "color": "#EBF0F8"
             },
             "line": {
              "color": "white"
             }
            },
            "header": {
             "fill": {
              "color": "#C8D4E3"
             },
             "line": {
              "color": "white"
             }
            },
            "type": "table"
           }
          ]
         },
         "layout": {
          "annotationdefaults": {
           "arrowcolor": "#2a3f5f",
           "arrowhead": 0,
           "arrowwidth": 1
          },
          "autotypenumbers": "strict",
          "coloraxis": {
           "colorbar": {
            "outlinewidth": 0,
            "ticks": ""
           }
          },
          "colorscale": {
           "diverging": [
            [
             0,
             "#8e0152"
            ],
            [
             0.1,
             "#c51b7d"
            ],
            [
             0.2,
             "#de77ae"
            ],
            [
             0.3,
             "#f1b6da"
            ],
            [
             0.4,
             "#fde0ef"
            ],
            [
             0.5,
             "#f7f7f7"
            ],
            [
             0.6,
             "#e6f5d0"
            ],
            [
             0.7,
             "#b8e186"
            ],
            [
             0.8,
             "#7fbc41"
            ],
            [
             0.9,
             "#4d9221"
            ],
            [
             1,
             "#276419"
            ]
           ],
           "sequential": [
            [
             0,
             "#0d0887"
            ],
            [
             0.1111111111111111,
             "#46039f"
            ],
            [
             0.2222222222222222,
             "#7201a8"
            ],
            [
             0.3333333333333333,
             "#9c179e"
            ],
            [
             0.4444444444444444,
             "#bd3786"
            ],
            [
             0.5555555555555556,
             "#d8576b"
            ],
            [
             0.6666666666666666,
             "#ed7953"
            ],
            [
             0.7777777777777778,
             "#fb9f3a"
            ],
            [
             0.8888888888888888,
             "#fdca26"
            ],
            [
             1,
             "#f0f921"
            ]
           ],
           "sequentialminus": [
            [
             0,
             "#0d0887"
            ],
            [
             0.1111111111111111,
             "#46039f"
            ],
            [
             0.2222222222222222,
             "#7201a8"
            ],
            [
             0.3333333333333333,
             "#9c179e"
            ],
            [
             0.4444444444444444,
             "#bd3786"
            ],
            [
             0.5555555555555556,
             "#d8576b"
            ],
            [
             0.6666666666666666,
             "#ed7953"
            ],
            [
             0.7777777777777778,
             "#fb9f3a"
            ],
            [
             0.8888888888888888,
             "#fdca26"
            ],
            [
             1,
             "#f0f921"
            ]
           ]
          },
          "colorway": [
           "#636efa",
           "#EF553B",
           "#00cc96",
           "#ab63fa",
           "#FFA15A",
           "#19d3f3",
           "#FF6692",
           "#B6E880",
           "#FF97FF",
           "#FECB52"
          ],
          "font": {
           "color": "#2a3f5f"
          },
          "geo": {
           "bgcolor": "white",
           "lakecolor": "white",
           "landcolor": "#E5ECF6",
           "showlakes": true,
           "showland": true,
           "subunitcolor": "white"
          },
          "hoverlabel": {
           "align": "left"
          },
          "hovermode": "closest",
          "mapbox": {
           "style": "light"
          },
          "paper_bgcolor": "white",
          "plot_bgcolor": "#E5ECF6",
          "polar": {
           "angularaxis": {
            "gridcolor": "white",
            "linecolor": "white",
            "ticks": ""
           },
           "bgcolor": "#E5ECF6",
           "radialaxis": {
            "gridcolor": "white",
            "linecolor": "white",
            "ticks": ""
           }
          },
          "scene": {
           "xaxis": {
            "backgroundcolor": "#E5ECF6",
            "gridcolor": "white",
            "gridwidth": 2,
            "linecolor": "white",
            "showbackground": true,
            "ticks": "",
            "zerolinecolor": "white"
           },
           "yaxis": {
            "backgroundcolor": "#E5ECF6",
            "gridcolor": "white",
            "gridwidth": 2,
            "linecolor": "white",
            "showbackground": true,
            "ticks": "",
            "zerolinecolor": "white"
           },
           "zaxis": {
            "backgroundcolor": "#E5ECF6",
            "gridcolor": "white",
            "gridwidth": 2,
            "linecolor": "white",
            "showbackground": true,
            "ticks": "",
            "zerolinecolor": "white"
           }
          },
          "shapedefaults": {
           "line": {
            "color": "#2a3f5f"
           }
          },
          "ternary": {
           "aaxis": {
            "gridcolor": "white",
            "linecolor": "white",
            "ticks": ""
           },
           "baxis": {
            "gridcolor": "white",
            "linecolor": "white",
            "ticks": ""
           },
           "bgcolor": "#E5ECF6",
           "caxis": {
            "gridcolor": "white",
            "linecolor": "white",
            "ticks": ""
           }
          },
          "title": {
           "x": 0.05
          },
          "xaxis": {
           "automargin": true,
           "gridcolor": "white",
           "linecolor": "white",
           "ticks": "",
           "title": {
            "standoff": 15
           },
           "zerolinecolor": "white",
           "zerolinewidth": 2
          },
          "yaxis": {
           "automargin": true,
           "gridcolor": "white",
           "linecolor": "white",
           "ticks": "",
           "title": {
            "standoff": 15
           },
           "zerolinecolor": "white",
           "zerolinewidth": 2
          }
         }
        },
        "xaxis": {
         "anchor": "y",
         "domain": [
          0,
          1
         ],
         "title": {
          "text": "Country"
         }
        },
        "yaxis": {
         "anchor": "x",
         "domain": [
          0,
          1
         ],
         "title": {
          "text": "value"
         }
        }
       }
      }
     },
     "metadata": {},
     "output_type": "display_data"
    }
   ],
   "source": [
    "px.bar(df, df.index,['2014','2015','2016','2017','2018','2019','2020'])"
   ]
  },
  {
   "cell_type": "code",
   "execution_count": null,
   "metadata": {},
   "outputs": [],
   "source": []
  }
 ],
 "metadata": {
  "kernelspec": {
   "display_name": "base",
   "language": "python",
   "name": "python3"
  },
  "language_info": {
   "codemirror_mode": {
    "name": "ipython",
    "version": 3
   },
   "file_extension": ".py",
   "mimetype": "text/x-python",
   "name": "python",
   "nbconvert_exporter": "python",
   "pygments_lexer": "ipython3",
   "version": "3.9.12 (main, Apr  4 2022, 05:22:27) [MSC v.1916 64 bit (AMD64)]"
  },
  "orig_nbformat": 4,
  "vscode": {
   "interpreter": {
    "hash": "9d19b846c981df6691e2bdb59be634a7ebbdaac55797ba17323322a2d3a54045"
   }
  }
 },
 "nbformat": 4,
 "nbformat_minor": 2
}
