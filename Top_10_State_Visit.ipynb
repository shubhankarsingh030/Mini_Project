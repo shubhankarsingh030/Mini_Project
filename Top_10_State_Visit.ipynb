{
 "cells": [
  {
   "cell_type": "code",
   "execution_count": 1,
   "metadata": {},
   "outputs": [],
   "source": [
    "import pandas as pd\n",
    "import numpy as np\n",
    "import matplotlib.pyplot as plt\n",
    "import plotly.express as px"
   ]
  },
  {
   "cell_type": "code",
   "execution_count": 2,
   "metadata": {},
   "outputs": [],
   "source": [
    "df = pd.read_csv('Data/Top 10 State Visit.csv')"
   ]
  },
  {
   "cell_type": "code",
   "execution_count": 3,
   "metadata": {},
   "outputs": [
    {
     "data": {
      "text/html": [
       "<div>\n",
       "<style scoped>\n",
       "    .dataframe tbody tr th:only-of-type {\n",
       "        vertical-align: middle;\n",
       "    }\n",
       "\n",
       "    .dataframe tbody tr th {\n",
       "        vertical-align: top;\n",
       "    }\n",
       "\n",
       "    .dataframe thead th {\n",
       "        text-align: right;\n",
       "    }\n",
       "</style>\n",
       "<table border=\"1\" class=\"dataframe\">\n",
       "  <thead>\n",
       "    <tr style=\"text-align: right;\">\n",
       "      <th></th>\n",
       "      <th>year</th>\n",
       "      <th>top1_state</th>\n",
       "      <th>top1_ftv</th>\n",
       "      <th>top2_state</th>\n",
       "      <th>top2_ftv</th>\n",
       "      <th>top3_state</th>\n",
       "      <th>top3_ftv</th>\n",
       "      <th>top4_state</th>\n",
       "      <th>top4_ftv</th>\n",
       "      <th>top5_state</th>\n",
       "      <th>...</th>\n",
       "      <th>top6_state</th>\n",
       "      <th>top6_ftv</th>\n",
       "      <th>top7_state</th>\n",
       "      <th>top7_ftv</th>\n",
       "      <th>top8_state</th>\n",
       "      <th>top8_ftv</th>\n",
       "      <th>top9_state</th>\n",
       "      <th>top9_ftv</th>\n",
       "      <th>top10_state</th>\n",
       "      <th>top10_ftv</th>\n",
       "    </tr>\n",
       "  </thead>\n",
       "  <tbody>\n",
       "    <tr>\n",
       "      <th>0</th>\n",
       "      <td>2014.0</td>\n",
       "      <td>Tamil Nadu</td>\n",
       "      <td>327555233</td>\n",
       "      <td>Uttar Pradesh</td>\n",
       "      <td>182820108</td>\n",
       "      <td>Karnataka</td>\n",
       "      <td>118283220</td>\n",
       "      <td>Maharashtra</td>\n",
       "      <td>94127124</td>\n",
       "      <td>Andhra Pradesh</td>\n",
       "      <td>...</td>\n",
       "      <td>Telengana</td>\n",
       "      <td>72399113</td>\n",
       "      <td>Madhya Pradesh</td>\n",
       "      <td>63614525</td>\n",
       "      <td>West Bengal</td>\n",
       "      <td>49029590</td>\n",
       "      <td>Jharkhand</td>\n",
       "      <td>33427144</td>\n",
       "      <td>Rajasthan</td>\n",
       "      <td>33076491</td>\n",
       "    </tr>\n",
       "    <tr>\n",
       "      <th>1</th>\n",
       "      <td>2015.0</td>\n",
       "      <td>Tamil Nadu</td>\n",
       "      <td>333459047</td>\n",
       "      <td>Uttar Pradesh</td>\n",
       "      <td>204888457</td>\n",
       "      <td>Andhra Pradesh</td>\n",
       "      <td>121591054</td>\n",
       "      <td>Karnataka</td>\n",
       "      <td>119863942</td>\n",
       "      <td>Maharashtra</td>\n",
       "      <td>...</td>\n",
       "      <td>Telengana</td>\n",
       "      <td>94516316</td>\n",
       "      <td>Madhya Pradesh</td>\n",
       "      <td>77975738</td>\n",
       "      <td>West Bengal</td>\n",
       "      <td>70193450</td>\n",
       "      <td>Gujarat</td>\n",
       "      <td>36288463</td>\n",
       "      <td>Rajasthan</td>\n",
       "      <td>35187573</td>\n",
       "    </tr>\n",
       "    <tr>\n",
       "      <th>2</th>\n",
       "      <td>2016.0</td>\n",
       "      <td>Tamil Nadu</td>\n",
       "      <td>343812413</td>\n",
       "      <td>Uttar Pradesh</td>\n",
       "      <td>211707090</td>\n",
       "      <td>Andhra Pradesh</td>\n",
       "      <td>153163352</td>\n",
       "      <td>Madhya Pradesh</td>\n",
       "      <td>150490339</td>\n",
       "      <td>Karnataka</td>\n",
       "      <td>...</td>\n",
       "      <td>Maharashtra</td>\n",
       "      <td>116515801</td>\n",
       "      <td>Telengana</td>\n",
       "      <td>95160830</td>\n",
       "      <td>West Bengal</td>\n",
       "      <td>74460250</td>\n",
       "      <td>Gujarat</td>\n",
       "      <td>42252909</td>\n",
       "      <td>Rajasthan</td>\n",
       "      <td>41495115</td>\n",
       "    </tr>\n",
       "    <tr>\n",
       "      <th>3</th>\n",
       "      <td>2017.0</td>\n",
       "      <td>Tamil Nadu</td>\n",
       "      <td>385909376</td>\n",
       "      <td>Uttar Pradesh</td>\n",
       "      <td>233977619</td>\n",
       "      <td>Karnataka</td>\n",
       "      <td>179980191</td>\n",
       "      <td>Andhra Pradesh</td>\n",
       "      <td>165433898</td>\n",
       "      <td>Maharashtra</td>\n",
       "      <td>...</td>\n",
       "      <td>Telengana</td>\n",
       "      <td>85266596</td>\n",
       "      <td>West Bengal</td>\n",
       "      <td>79687645</td>\n",
       "      <td>Madhya Pradesh</td>\n",
       "      <td>78038522</td>\n",
       "      <td>Gujarat</td>\n",
       "      <td>48343121</td>\n",
       "      <td>Rajasthan</td>\n",
       "      <td>45916573</td>\n",
       "    </tr>\n",
       "    <tr>\n",
       "      <th>4</th>\n",
       "      <td>2018.0</td>\n",
       "      <td>Tamil Nadu</td>\n",
       "      <td>385909376</td>\n",
       "      <td>Uttar Pradesh</td>\n",
       "      <td>285079848</td>\n",
       "      <td>Karnataka</td>\n",
       "      <td>214306456</td>\n",
       "      <td>Andhra Pradesh</td>\n",
       "      <td>194767874</td>\n",
       "      <td>Maharashtra</td>\n",
       "      <td>...</td>\n",
       "      <td>Telengana</td>\n",
       "      <td>92878329</td>\n",
       "      <td>West Bengal</td>\n",
       "      <td>85657365</td>\n",
       "      <td>Madhya Pradesh</td>\n",
       "      <td>83969799</td>\n",
       "      <td>Gujarat</td>\n",
       "      <td>54369873</td>\n",
       "      <td>Rajasthan</td>\n",
       "      <td>50235643</td>\n",
       "    </tr>\n",
       "    <tr>\n",
       "      <th>5</th>\n",
       "      <td>2019.0</td>\n",
       "      <td>Uttar Pradesh</td>\n",
       "      <td>535855162</td>\n",
       "      <td>Tamil Nadu</td>\n",
       "      <td>494865257</td>\n",
       "      <td>Andhra Pradesh</td>\n",
       "      <td>237051508</td>\n",
       "      <td>Karnataka</td>\n",
       "      <td>227934714</td>\n",
       "      <td>Maharashtra</td>\n",
       "      <td>...</td>\n",
       "      <td>West Bengal</td>\n",
       "      <td>92366025</td>\n",
       "      <td>Madhya Pradesh</td>\n",
       "      <td>88707139</td>\n",
       "      <td>Telengana</td>\n",
       "      <td>83035894</td>\n",
       "      <td>Gujarat</td>\n",
       "      <td>58864661</td>\n",
       "      <td>Rajasthan</td>\n",
       "      <td>52220431</td>\n",
       "    </tr>\n",
       "    <tr>\n",
       "      <th>6</th>\n",
       "      <td>2020.0</td>\n",
       "      <td>Tamil Nadu</td>\n",
       "      <td>140651241</td>\n",
       "      <td>Uttar Pradesh</td>\n",
       "      <td>86122293</td>\n",
       "      <td>Karnataka</td>\n",
       "      <td>77453339</td>\n",
       "      <td>Andhra Pradesh</td>\n",
       "      <td>70828590</td>\n",
       "      <td>Telengana</td>\n",
       "      <td>...</td>\n",
       "      <td>Maharashtra</td>\n",
       "      <td>39234591</td>\n",
       "      <td>West Bengal</td>\n",
       "      <td>28841732</td>\n",
       "      <td>Madhya Pradesh</td>\n",
       "      <td>23519632</td>\n",
       "      <td>Gujarat</td>\n",
       "      <td>19464517</td>\n",
       "      <td>Punjab</td>\n",
       "      <td>16692197</td>\n",
       "    </tr>\n",
       "  </tbody>\n",
       "</table>\n",
       "<p>7 rows × 21 columns</p>\n",
       "</div>"
      ],
      "text/plain": [
       "     year     top1_state   top1_ftv     top2_state   top2_ftv      top3_state  \\\n",
       "0  2014.0     Tamil Nadu  327555233  Uttar Pradesh  182820108       Karnataka   \n",
       "1  2015.0     Tamil Nadu  333459047  Uttar Pradesh  204888457  Andhra Pradesh   \n",
       "2  2016.0     Tamil Nadu  343812413  Uttar Pradesh  211707090  Andhra Pradesh   \n",
       "3  2017.0     Tamil Nadu  385909376  Uttar Pradesh  233977619       Karnataka   \n",
       "4  2018.0     Tamil Nadu  385909376  Uttar Pradesh  285079848       Karnataka   \n",
       "5  2019.0  Uttar Pradesh  535855162     Tamil Nadu  494865257  Andhra Pradesh   \n",
       "6  2020.0     Tamil Nadu  140651241  Uttar Pradesh   86122293       Karnataka   \n",
       "\n",
       "    top3_ftv      top4_state   top4_ftv      top5_state  ...   top6_state  \\\n",
       "0  118283220     Maharashtra   94127124  Andhra Pradesh  ...    Telengana   \n",
       "1  121591054       Karnataka  119863942     Maharashtra  ...    Telengana   \n",
       "2  153163352  Madhya Pradesh  150490339       Karnataka  ...  Maharashtra   \n",
       "3  179980191  Andhra Pradesh  165433898     Maharashtra  ...    Telengana   \n",
       "4  214306456  Andhra Pradesh  194767874     Maharashtra  ...    Telengana   \n",
       "5  237051508       Karnataka  227934714     Maharashtra  ...  West Bengal   \n",
       "6   77453339  Andhra Pradesh   70828590       Telengana  ...  Maharashtra   \n",
       "\n",
       "    top6_ftv      top7_state  top7_ftv      top8_state  top8_ftv  top9_state  \\\n",
       "0   72399113  Madhya Pradesh  63614525     West Bengal  49029590   Jharkhand   \n",
       "1   94516316  Madhya Pradesh  77975738     West Bengal  70193450     Gujarat   \n",
       "2  116515801       Telengana  95160830     West Bengal  74460250     Gujarat   \n",
       "3   85266596     West Bengal  79687645  Madhya Pradesh  78038522     Gujarat   \n",
       "4   92878329     West Bengal  85657365  Madhya Pradesh  83969799     Gujarat   \n",
       "5   92366025  Madhya Pradesh  88707139       Telengana  83035894     Gujarat   \n",
       "6   39234591     West Bengal  28841732  Madhya Pradesh  23519632     Gujarat   \n",
       "\n",
       "   top9_ftv  top10_state top10_ftv  \n",
       "0  33427144    Rajasthan  33076491  \n",
       "1  36288463    Rajasthan  35187573  \n",
       "2  42252909    Rajasthan  41495115  \n",
       "3  48343121    Rajasthan  45916573  \n",
       "4  54369873    Rajasthan  50235643  \n",
       "5  58864661    Rajasthan  52220431  \n",
       "6  19464517       Punjab  16692197  \n",
       "\n",
       "[7 rows x 21 columns]"
      ]
     },
     "execution_count": 3,
     "metadata": {},
     "output_type": "execute_result"
    }
   ],
   "source": [
    "df"
   ]
  },
  {
   "cell_type": "code",
   "execution_count": 4,
   "metadata": {},
   "outputs": [],
   "source": [
    "df.set_index('year', inplace=True)"
   ]
  },
  {
   "cell_type": "code",
   "execution_count": 30,
   "metadata": {},
   "outputs": [
    {
     "data": {
      "text/html": [
       "<div>\n",
       "<style scoped>\n",
       "    .dataframe tbody tr th:only-of-type {\n",
       "        vertical-align: middle;\n",
       "    }\n",
       "\n",
       "    .dataframe tbody tr th {\n",
       "        vertical-align: top;\n",
       "    }\n",
       "\n",
       "    .dataframe thead th {\n",
       "        text-align: right;\n",
       "    }\n",
       "</style>\n",
       "<table border=\"1\" class=\"dataframe\">\n",
       "  <thead>\n",
       "    <tr style=\"text-align: right;\">\n",
       "      <th></th>\n",
       "      <th>top1_state</th>\n",
       "      <th>top1_ftv</th>\n",
       "      <th>top2_state</th>\n",
       "      <th>top2_ftv</th>\n",
       "      <th>top3_state</th>\n",
       "      <th>top3_ftv</th>\n",
       "      <th>top4_state</th>\n",
       "      <th>top4_ftv</th>\n",
       "      <th>top5_state</th>\n",
       "      <th>top5_ftv</th>\n",
       "      <th>top6_state</th>\n",
       "      <th>top6_ftv</th>\n",
       "      <th>top7_state</th>\n",
       "      <th>top7_ftv</th>\n",
       "      <th>top8_state</th>\n",
       "      <th>top8_ftv</th>\n",
       "      <th>top9_state</th>\n",
       "      <th>top9_ftv</th>\n",
       "      <th>top10_state</th>\n",
       "      <th>top10_ftv</th>\n",
       "    </tr>\n",
       "    <tr>\n",
       "      <th>year</th>\n",
       "      <th></th>\n",
       "      <th></th>\n",
       "      <th></th>\n",
       "      <th></th>\n",
       "      <th></th>\n",
       "      <th></th>\n",
       "      <th></th>\n",
       "      <th></th>\n",
       "      <th></th>\n",
       "      <th></th>\n",
       "      <th></th>\n",
       "      <th></th>\n",
       "      <th></th>\n",
       "      <th></th>\n",
       "      <th></th>\n",
       "      <th></th>\n",
       "      <th></th>\n",
       "      <th></th>\n",
       "      <th></th>\n",
       "      <th></th>\n",
       "    </tr>\n",
       "  </thead>\n",
       "  <tbody>\n",
       "    <tr>\n",
       "      <th>2014.0</th>\n",
       "      <td>Tamil Nadu</td>\n",
       "      <td>327555233</td>\n",
       "      <td>Uttar Pradesh</td>\n",
       "      <td>182820108</td>\n",
       "      <td>Karnataka</td>\n",
       "      <td>118283220</td>\n",
       "      <td>Maharashtra</td>\n",
       "      <td>94127124</td>\n",
       "      <td>Andhra Pradesh</td>\n",
       "      <td>93306974</td>\n",
       "      <td>Telengana</td>\n",
       "      <td>72399113</td>\n",
       "      <td>Madhya Pradesh</td>\n",
       "      <td>63614525</td>\n",
       "      <td>West Bengal</td>\n",
       "      <td>49029590</td>\n",
       "      <td>Jharkhand</td>\n",
       "      <td>33427144</td>\n",
       "      <td>Rajasthan</td>\n",
       "      <td>33076491</td>\n",
       "    </tr>\n",
       "    <tr>\n",
       "      <th>2015.0</th>\n",
       "      <td>Tamil Nadu</td>\n",
       "      <td>333459047</td>\n",
       "      <td>Uttar Pradesh</td>\n",
       "      <td>204888457</td>\n",
       "      <td>Andhra Pradesh</td>\n",
       "      <td>121591054</td>\n",
       "      <td>Karnataka</td>\n",
       "      <td>119863942</td>\n",
       "      <td>Maharashtra</td>\n",
       "      <td>103403934</td>\n",
       "      <td>Telengana</td>\n",
       "      <td>94516316</td>\n",
       "      <td>Madhya Pradesh</td>\n",
       "      <td>77975738</td>\n",
       "      <td>West Bengal</td>\n",
       "      <td>70193450</td>\n",
       "      <td>Gujarat</td>\n",
       "      <td>36288463</td>\n",
       "      <td>Rajasthan</td>\n",
       "      <td>35187573</td>\n",
       "    </tr>\n",
       "    <tr>\n",
       "      <th>2016.0</th>\n",
       "      <td>Tamil Nadu</td>\n",
       "      <td>343812413</td>\n",
       "      <td>Uttar Pradesh</td>\n",
       "      <td>211707090</td>\n",
       "      <td>Andhra Pradesh</td>\n",
       "      <td>153163352</td>\n",
       "      <td>Madhya Pradesh</td>\n",
       "      <td>150490339</td>\n",
       "      <td>Karnataka</td>\n",
       "      <td>129762600</td>\n",
       "      <td>Maharashtra</td>\n",
       "      <td>116515801</td>\n",
       "      <td>Telengana</td>\n",
       "      <td>95160830</td>\n",
       "      <td>West Bengal</td>\n",
       "      <td>74460250</td>\n",
       "      <td>Gujarat</td>\n",
       "      <td>42252909</td>\n",
       "      <td>Rajasthan</td>\n",
       "      <td>41495115</td>\n",
       "    </tr>\n",
       "    <tr>\n",
       "      <th>2017.0</th>\n",
       "      <td>Tamil Nadu</td>\n",
       "      <td>385909376</td>\n",
       "      <td>Uttar Pradesh</td>\n",
       "      <td>233977619</td>\n",
       "      <td>Karnataka</td>\n",
       "      <td>179980191</td>\n",
       "      <td>Andhra Pradesh</td>\n",
       "      <td>165433898</td>\n",
       "      <td>Maharashtra</td>\n",
       "      <td>119191539</td>\n",
       "      <td>Telengana</td>\n",
       "      <td>85266596</td>\n",
       "      <td>West Bengal</td>\n",
       "      <td>79687645</td>\n",
       "      <td>Madhya Pradesh</td>\n",
       "      <td>78038522</td>\n",
       "      <td>Gujarat</td>\n",
       "      <td>48343121</td>\n",
       "      <td>Rajasthan</td>\n",
       "      <td>45916573</td>\n",
       "    </tr>\n",
       "    <tr>\n",
       "      <th>2018.0</th>\n",
       "      <td>Tamil Nadu</td>\n",
       "      <td>385909376</td>\n",
       "      <td>Uttar Pradesh</td>\n",
       "      <td>285079848</td>\n",
       "      <td>Karnataka</td>\n",
       "      <td>214306456</td>\n",
       "      <td>Andhra Pradesh</td>\n",
       "      <td>194767874</td>\n",
       "      <td>Maharashtra</td>\n",
       "      <td>119191539</td>\n",
       "      <td>Telengana</td>\n",
       "      <td>92878329</td>\n",
       "      <td>West Bengal</td>\n",
       "      <td>85657365</td>\n",
       "      <td>Madhya Pradesh</td>\n",
       "      <td>83969799</td>\n",
       "      <td>Gujarat</td>\n",
       "      <td>54369873</td>\n",
       "      <td>Rajasthan</td>\n",
       "      <td>50235643</td>\n",
       "    </tr>\n",
       "    <tr>\n",
       "      <th>2019.0</th>\n",
       "      <td>Uttar Pradesh</td>\n",
       "      <td>535855162</td>\n",
       "      <td>Tamil Nadu</td>\n",
       "      <td>494865257</td>\n",
       "      <td>Andhra Pradesh</td>\n",
       "      <td>237051508</td>\n",
       "      <td>Karnataka</td>\n",
       "      <td>227934714</td>\n",
       "      <td>Maharashtra</td>\n",
       "      <td>149294703</td>\n",
       "      <td>West Bengal</td>\n",
       "      <td>92366025</td>\n",
       "      <td>Madhya Pradesh</td>\n",
       "      <td>88707139</td>\n",
       "      <td>Telengana</td>\n",
       "      <td>83035894</td>\n",
       "      <td>Gujarat</td>\n",
       "      <td>58864661</td>\n",
       "      <td>Rajasthan</td>\n",
       "      <td>52220431</td>\n",
       "    </tr>\n",
       "    <tr>\n",
       "      <th>2020.0</th>\n",
       "      <td>Tamil Nadu</td>\n",
       "      <td>140651241</td>\n",
       "      <td>Uttar Pradesh</td>\n",
       "      <td>86122293</td>\n",
       "      <td>Karnataka</td>\n",
       "      <td>77453339</td>\n",
       "      <td>Andhra Pradesh</td>\n",
       "      <td>70828590</td>\n",
       "      <td>Telengana</td>\n",
       "      <td>39997001</td>\n",
       "      <td>Maharashtra</td>\n",
       "      <td>39234591</td>\n",
       "      <td>West Bengal</td>\n",
       "      <td>28841732</td>\n",
       "      <td>Madhya Pradesh</td>\n",
       "      <td>23519632</td>\n",
       "      <td>Gujarat</td>\n",
       "      <td>19464517</td>\n",
       "      <td>Punjab</td>\n",
       "      <td>16692197</td>\n",
       "    </tr>\n",
       "  </tbody>\n",
       "</table>\n",
       "</div>"
      ],
      "text/plain": [
       "           top1_state   top1_ftv     top2_state   top2_ftv      top3_state  \\\n",
       "year                                                                         \n",
       "2014.0     Tamil Nadu  327555233  Uttar Pradesh  182820108       Karnataka   \n",
       "2015.0     Tamil Nadu  333459047  Uttar Pradesh  204888457  Andhra Pradesh   \n",
       "2016.0     Tamil Nadu  343812413  Uttar Pradesh  211707090  Andhra Pradesh   \n",
       "2017.0     Tamil Nadu  385909376  Uttar Pradesh  233977619       Karnataka   \n",
       "2018.0     Tamil Nadu  385909376  Uttar Pradesh  285079848       Karnataka   \n",
       "2019.0  Uttar Pradesh  535855162     Tamil Nadu  494865257  Andhra Pradesh   \n",
       "2020.0     Tamil Nadu  140651241  Uttar Pradesh   86122293       Karnataka   \n",
       "\n",
       "         top3_ftv      top4_state   top4_ftv      top5_state   top5_ftv  \\\n",
       "year                                                                      \n",
       "2014.0  118283220     Maharashtra   94127124  Andhra Pradesh   93306974   \n",
       "2015.0  121591054       Karnataka  119863942     Maharashtra  103403934   \n",
       "2016.0  153163352  Madhya Pradesh  150490339       Karnataka  129762600   \n",
       "2017.0  179980191  Andhra Pradesh  165433898     Maharashtra  119191539   \n",
       "2018.0  214306456  Andhra Pradesh  194767874     Maharashtra  119191539   \n",
       "2019.0  237051508       Karnataka  227934714     Maharashtra  149294703   \n",
       "2020.0   77453339  Andhra Pradesh   70828590       Telengana   39997001   \n",
       "\n",
       "         top6_state   top6_ftv      top7_state  top7_ftv      top8_state  \\\n",
       "year                                                                       \n",
       "2014.0    Telengana   72399113  Madhya Pradesh  63614525     West Bengal   \n",
       "2015.0    Telengana   94516316  Madhya Pradesh  77975738     West Bengal   \n",
       "2016.0  Maharashtra  116515801       Telengana  95160830     West Bengal   \n",
       "2017.0    Telengana   85266596     West Bengal  79687645  Madhya Pradesh   \n",
       "2018.0    Telengana   92878329     West Bengal  85657365  Madhya Pradesh   \n",
       "2019.0  West Bengal   92366025  Madhya Pradesh  88707139       Telengana   \n",
       "2020.0  Maharashtra   39234591     West Bengal  28841732  Madhya Pradesh   \n",
       "\n",
       "        top8_ftv top9_state  top9_ftv top10_state  top10_ftv  \n",
       "year                                                          \n",
       "2014.0  49029590  Jharkhand  33427144   Rajasthan   33076491  \n",
       "2015.0  70193450    Gujarat  36288463   Rajasthan   35187573  \n",
       "2016.0  74460250    Gujarat  42252909   Rajasthan   41495115  \n",
       "2017.0  78038522    Gujarat  48343121   Rajasthan   45916573  \n",
       "2018.0  83969799    Gujarat  54369873   Rajasthan   50235643  \n",
       "2019.0  83035894    Gujarat  58864661   Rajasthan   52220431  \n",
       "2020.0  23519632    Gujarat  19464517      Punjab   16692197  "
      ]
     },
     "execution_count": 30,
     "metadata": {},
     "output_type": "execute_result"
    }
   ],
   "source": [
    "df"
   ]
  },
  {
   "cell_type": "code",
   "execution_count": 5,
   "metadata": {},
   "outputs": [
    {
     "data": {
      "application/vnd.plotly.v1+json": {
       "config": {
        "plotlyServerURL": "https://plot.ly"
       },
       "data": [
        {
         "alignmentgroup": "True",
         "hovertemplate": "year=%{x}<br>top1_ftv=%{y}<extra></extra>",
         "legendgroup": "",
         "marker": {
          "color": "#636efa",
          "pattern": {
           "shape": ""
          }
         },
         "name": "",
         "offsetgroup": "",
         "orientation": "v",
         "showlegend": false,
         "textposition": "auto",
         "type": "bar",
         "x": [
          2014,
          2015,
          2016,
          2017,
          2018,
          2019,
          2020
         ],
         "xaxis": "x",
         "y": [
          327555233,
          333459047,
          343812413,
          385909376,
          385909376,
          535855162,
          140651241
         ],
         "yaxis": "y"
        }
       ],
       "layout": {
        "barmode": "relative",
        "legend": {
         "tracegroupgap": 0
        },
        "margin": {
         "t": 60
        },
        "template": {
         "data": {
          "bar": [
           {
            "error_x": {
             "color": "#2a3f5f"
            },
            "error_y": {
             "color": "#2a3f5f"
            },
            "marker": {
             "line": {
              "color": "#E5ECF6",
              "width": 0.5
             },
             "pattern": {
              "fillmode": "overlay",
              "size": 10,
              "solidity": 0.2
             }
            },
            "type": "bar"
           }
          ],
          "barpolar": [
           {
            "marker": {
             "line": {
              "color": "#E5ECF6",
              "width": 0.5
             },
             "pattern": {
              "fillmode": "overlay",
              "size": 10,
              "solidity": 0.2
             }
            },
            "type": "barpolar"
           }
          ],
          "carpet": [
           {
            "aaxis": {
             "endlinecolor": "#2a3f5f",
             "gridcolor": "white",
             "linecolor": "white",
             "minorgridcolor": "white",
             "startlinecolor": "#2a3f5f"
            },
            "baxis": {
             "endlinecolor": "#2a3f5f",
             "gridcolor": "white",
             "linecolor": "white",
             "minorgridcolor": "white",
             "startlinecolor": "#2a3f5f"
            },
            "type": "carpet"
           }
          ],
          "choropleth": [
           {
            "colorbar": {
             "outlinewidth": 0,
             "ticks": ""
            },
            "type": "choropleth"
           }
          ],
          "contour": [
           {
            "colorbar": {
             "outlinewidth": 0,
             "ticks": ""
            },
            "colorscale": [
             [
              0,
              "#0d0887"
             ],
             [
              0.1111111111111111,
              "#46039f"
             ],
             [
              0.2222222222222222,
              "#7201a8"
             ],
             [
              0.3333333333333333,
              "#9c179e"
             ],
             [
              0.4444444444444444,
              "#bd3786"
             ],
             [
              0.5555555555555556,
              "#d8576b"
             ],
             [
              0.6666666666666666,
              "#ed7953"
             ],
             [
              0.7777777777777778,
              "#fb9f3a"
             ],
             [
              0.8888888888888888,
              "#fdca26"
             ],
             [
              1,
              "#f0f921"
             ]
            ],
            "type": "contour"
           }
          ],
          "contourcarpet": [
           {
            "colorbar": {
             "outlinewidth": 0,
             "ticks": ""
            },
            "type": "contourcarpet"
           }
          ],
          "heatmap": [
           {
            "colorbar": {
             "outlinewidth": 0,
             "ticks": ""
            },
            "colorscale": [
             [
              0,
              "#0d0887"
             ],
             [
              0.1111111111111111,
              "#46039f"
             ],
             [
              0.2222222222222222,
              "#7201a8"
             ],
             [
              0.3333333333333333,
              "#9c179e"
             ],
             [
              0.4444444444444444,
              "#bd3786"
             ],
             [
              0.5555555555555556,
              "#d8576b"
             ],
             [
              0.6666666666666666,
              "#ed7953"
             ],
             [
              0.7777777777777778,
              "#fb9f3a"
             ],
             [
              0.8888888888888888,
              "#fdca26"
             ],
             [
              1,
              "#f0f921"
             ]
            ],
            "type": "heatmap"
           }
          ],
          "heatmapgl": [
           {
            "colorbar": {
             "outlinewidth": 0,
             "ticks": ""
            },
            "colorscale": [
             [
              0,
              "#0d0887"
             ],
             [
              0.1111111111111111,
              "#46039f"
             ],
             [
              0.2222222222222222,
              "#7201a8"
             ],
             [
              0.3333333333333333,
              "#9c179e"
             ],
             [
              0.4444444444444444,
              "#bd3786"
             ],
             [
              0.5555555555555556,
              "#d8576b"
             ],
             [
              0.6666666666666666,
              "#ed7953"
             ],
             [
              0.7777777777777778,
              "#fb9f3a"
             ],
             [
              0.8888888888888888,
              "#fdca26"
             ],
             [
              1,
              "#f0f921"
             ]
            ],
            "type": "heatmapgl"
           }
          ],
          "histogram": [
           {
            "marker": {
             "pattern": {
              "fillmode": "overlay",
              "size": 10,
              "solidity": 0.2
             }
            },
            "type": "histogram"
           }
          ],
          "histogram2d": [
           {
            "colorbar": {
             "outlinewidth": 0,
             "ticks": ""
            },
            "colorscale": [
             [
              0,
              "#0d0887"
             ],
             [
              0.1111111111111111,
              "#46039f"
             ],
             [
              0.2222222222222222,
              "#7201a8"
             ],
             [
              0.3333333333333333,
              "#9c179e"
             ],
             [
              0.4444444444444444,
              "#bd3786"
             ],
             [
              0.5555555555555556,
              "#d8576b"
             ],
             [
              0.6666666666666666,
              "#ed7953"
             ],
             [
              0.7777777777777778,
              "#fb9f3a"
             ],
             [
              0.8888888888888888,
              "#fdca26"
             ],
             [
              1,
              "#f0f921"
             ]
            ],
            "type": "histogram2d"
           }
          ],
          "histogram2dcontour": [
           {
            "colorbar": {
             "outlinewidth": 0,
             "ticks": ""
            },
            "colorscale": [
             [
              0,
              "#0d0887"
             ],
             [
              0.1111111111111111,
              "#46039f"
             ],
             [
              0.2222222222222222,
              "#7201a8"
             ],
             [
              0.3333333333333333,
              "#9c179e"
             ],
             [
              0.4444444444444444,
              "#bd3786"
             ],
             [
              0.5555555555555556,
              "#d8576b"
             ],
             [
              0.6666666666666666,
              "#ed7953"
             ],
             [
              0.7777777777777778,
              "#fb9f3a"
             ],
             [
              0.8888888888888888,
              "#fdca26"
             ],
             [
              1,
              "#f0f921"
             ]
            ],
            "type": "histogram2dcontour"
           }
          ],
          "mesh3d": [
           {
            "colorbar": {
             "outlinewidth": 0,
             "ticks": ""
            },
            "type": "mesh3d"
           }
          ],
          "parcoords": [
           {
            "line": {
             "colorbar": {
              "outlinewidth": 0,
              "ticks": ""
             }
            },
            "type": "parcoords"
           }
          ],
          "pie": [
           {
            "automargin": true,
            "type": "pie"
           }
          ],
          "scatter": [
           {
            "fillpattern": {
             "fillmode": "overlay",
             "size": 10,
             "solidity": 0.2
            },
            "type": "scatter"
           }
          ],
          "scatter3d": [
           {
            "line": {
             "colorbar": {
              "outlinewidth": 0,
              "ticks": ""
             }
            },
            "marker": {
             "colorbar": {
              "outlinewidth": 0,
              "ticks": ""
             }
            },
            "type": "scatter3d"
           }
          ],
          "scattercarpet": [
           {
            "marker": {
             "colorbar": {
              "outlinewidth": 0,
              "ticks": ""
             }
            },
            "type": "scattercarpet"
           }
          ],
          "scattergeo": [
           {
            "marker": {
             "colorbar": {
              "outlinewidth": 0,
              "ticks": ""
             }
            },
            "type": "scattergeo"
           }
          ],
          "scattergl": [
           {
            "marker": {
             "colorbar": {
              "outlinewidth": 0,
              "ticks": ""
             }
            },
            "type": "scattergl"
           }
          ],
          "scattermapbox": [
           {
            "marker": {
             "colorbar": {
              "outlinewidth": 0,
              "ticks": ""
             }
            },
            "type": "scattermapbox"
           }
          ],
          "scatterpolar": [
           {
            "marker": {
             "colorbar": {
              "outlinewidth": 0,
              "ticks": ""
             }
            },
            "type": "scatterpolar"
           }
          ],
          "scatterpolargl": [
           {
            "marker": {
             "colorbar": {
              "outlinewidth": 0,
              "ticks": ""
             }
            },
            "type": "scatterpolargl"
           }
          ],
          "scatterternary": [
           {
            "marker": {
             "colorbar": {
              "outlinewidth": 0,
              "ticks": ""
             }
            },
            "type": "scatterternary"
           }
          ],
          "surface": [
           {
            "colorbar": {
             "outlinewidth": 0,
             "ticks": ""
            },
            "colorscale": [
             [
              0,
              "#0d0887"
             ],
             [
              0.1111111111111111,
              "#46039f"
             ],
             [
              0.2222222222222222,
              "#7201a8"
             ],
             [
              0.3333333333333333,
              "#9c179e"
             ],
             [
              0.4444444444444444,
              "#bd3786"
             ],
             [
              0.5555555555555556,
              "#d8576b"
             ],
             [
              0.6666666666666666,
              "#ed7953"
             ],
             [
              0.7777777777777778,
              "#fb9f3a"
             ],
             [
              0.8888888888888888,
              "#fdca26"
             ],
             [
              1,
              "#f0f921"
             ]
            ],
            "type": "surface"
           }
          ],
          "table": [
           {
            "cells": {
             "fill": {
              "color": "#EBF0F8"
             },
             "line": {
              "color": "white"
             }
            },
            "header": {
             "fill": {
              "color": "#C8D4E3"
             },
             "line": {
              "color": "white"
             }
            },
            "type": "table"
           }
          ]
         },
         "layout": {
          "annotationdefaults": {
           "arrowcolor": "#2a3f5f",
           "arrowhead": 0,
           "arrowwidth": 1
          },
          "autotypenumbers": "strict",
          "coloraxis": {
           "colorbar": {
            "outlinewidth": 0,
            "ticks": ""
           }
          },
          "colorscale": {
           "diverging": [
            [
             0,
             "#8e0152"
            ],
            [
             0.1,
             "#c51b7d"
            ],
            [
             0.2,
             "#de77ae"
            ],
            [
             0.3,
             "#f1b6da"
            ],
            [
             0.4,
             "#fde0ef"
            ],
            [
             0.5,
             "#f7f7f7"
            ],
            [
             0.6,
             "#e6f5d0"
            ],
            [
             0.7,
             "#b8e186"
            ],
            [
             0.8,
             "#7fbc41"
            ],
            [
             0.9,
             "#4d9221"
            ],
            [
             1,
             "#276419"
            ]
           ],
           "sequential": [
            [
             0,
             "#0d0887"
            ],
            [
             0.1111111111111111,
             "#46039f"
            ],
            [
             0.2222222222222222,
             "#7201a8"
            ],
            [
             0.3333333333333333,
             "#9c179e"
            ],
            [
             0.4444444444444444,
             "#bd3786"
            ],
            [
             0.5555555555555556,
             "#d8576b"
            ],
            [
             0.6666666666666666,
             "#ed7953"
            ],
            [
             0.7777777777777778,
             "#fb9f3a"
            ],
            [
             0.8888888888888888,
             "#fdca26"
            ],
            [
             1,
             "#f0f921"
            ]
           ],
           "sequentialminus": [
            [
             0,
             "#0d0887"
            ],
            [
             0.1111111111111111,
             "#46039f"
            ],
            [
             0.2222222222222222,
             "#7201a8"
            ],
            [
             0.3333333333333333,
             "#9c179e"
            ],
            [
             0.4444444444444444,
             "#bd3786"
            ],
            [
             0.5555555555555556,
             "#d8576b"
            ],
            [
             0.6666666666666666,
             "#ed7953"
            ],
            [
             0.7777777777777778,
             "#fb9f3a"
            ],
            [
             0.8888888888888888,
             "#fdca26"
            ],
            [
             1,
             "#f0f921"
            ]
           ]
          },
          "colorway": [
           "#636efa",
           "#EF553B",
           "#00cc96",
           "#ab63fa",
           "#FFA15A",
           "#19d3f3",
           "#FF6692",
           "#B6E880",
           "#FF97FF",
           "#FECB52"
          ],
          "font": {
           "color": "#2a3f5f"
          },
          "geo": {
           "bgcolor": "white",
           "lakecolor": "white",
           "landcolor": "#E5ECF6",
           "showlakes": true,
           "showland": true,
           "subunitcolor": "white"
          },
          "hoverlabel": {
           "align": "left"
          },
          "hovermode": "closest",
          "mapbox": {
           "style": "light"
          },
          "paper_bgcolor": "white",
          "plot_bgcolor": "#E5ECF6",
          "polar": {
           "angularaxis": {
            "gridcolor": "white",
            "linecolor": "white",
            "ticks": ""
           },
           "bgcolor": "#E5ECF6",
           "radialaxis": {
            "gridcolor": "white",
            "linecolor": "white",
            "ticks": ""
           }
          },
          "scene": {
           "xaxis": {
            "backgroundcolor": "#E5ECF6",
            "gridcolor": "white",
            "gridwidth": 2,
            "linecolor": "white",
            "showbackground": true,
            "ticks": "",
            "zerolinecolor": "white"
           },
           "yaxis": {
            "backgroundcolor": "#E5ECF6",
            "gridcolor": "white",
            "gridwidth": 2,
            "linecolor": "white",
            "showbackground": true,
            "ticks": "",
            "zerolinecolor": "white"
           },
           "zaxis": {
            "backgroundcolor": "#E5ECF6",
            "gridcolor": "white",
            "gridwidth": 2,
            "linecolor": "white",
            "showbackground": true,
            "ticks": "",
            "zerolinecolor": "white"
           }
          },
          "shapedefaults": {
           "line": {
            "color": "#2a3f5f"
           }
          },
          "ternary": {
           "aaxis": {
            "gridcolor": "white",
            "linecolor": "white",
            "ticks": ""
           },
           "baxis": {
            "gridcolor": "white",
            "linecolor": "white",
            "ticks": ""
           },
           "bgcolor": "#E5ECF6",
           "caxis": {
            "gridcolor": "white",
            "linecolor": "white",
            "ticks": ""
           }
          },
          "title": {
           "x": 0.05
          },
          "xaxis": {
           "automargin": true,
           "gridcolor": "white",
           "linecolor": "white",
           "ticks": "",
           "title": {
            "standoff": 15
           },
           "zerolinecolor": "white",
           "zerolinewidth": 2
          },
          "yaxis": {
           "automargin": true,
           "gridcolor": "white",
           "linecolor": "white",
           "ticks": "",
           "title": {
            "standoff": 15
           },
           "zerolinecolor": "white",
           "zerolinewidth": 2
          }
         }
        },
        "xaxis": {
         "anchor": "y",
         "domain": [
          0,
          1
         ],
         "title": {
          "text": "year"
         }
        },
        "yaxis": {
         "anchor": "x",
         "domain": [
          0,
          1
         ],
         "title": {
          "text": "top1_ftv"
         }
        }
       }
      }
     },
     "metadata": {},
     "output_type": "display_data"
    }
   ],
   "source": [
    "px.bar(df, df.index, 'top1_ftv')"
   ]
  },
  {
   "cell_type": "code",
   "execution_count": 22,
   "metadata": {},
   "outputs": [
    {
     "data": {
      "application/vnd.plotly.v1+json": {
       "config": {
        "plotlyServerURL": "https://plot.ly"
       },
       "data": [
        {
         "alignmentgroup": "True",
         "hovertemplate": "variable=top1_ftv<br>year=%{x}<br>value=%{y}<extra></extra>",
         "legendgroup": "top1_ftv",
         "marker": {
          "color": "#636efa",
          "pattern": {
           "shape": ""
          }
         },
         "name": "top1_ftv",
         "offsetgroup": "top1_ftv",
         "orientation": "v",
         "showlegend": true,
         "textposition": "auto",
         "type": "bar",
         "x": [
          2014,
          2015,
          2016,
          2017,
          2018,
          2019,
          2020
         ],
         "xaxis": "x",
         "y": [
          327555233,
          333459047,
          343812413,
          385909376,
          385909376,
          535855162,
          140651241
         ],
         "yaxis": "y"
        },
        {
         "alignmentgroup": "True",
         "hovertemplate": "variable=top2_ftv<br>year=%{x}<br>value=%{y}<extra></extra>",
         "legendgroup": "top2_ftv",
         "marker": {
          "color": "#EF553B",
          "pattern": {
           "shape": ""
          }
         },
         "name": "top2_ftv",
         "offsetgroup": "top2_ftv",
         "orientation": "v",
         "showlegend": true,
         "textposition": "auto",
         "type": "bar",
         "x": [
          2014,
          2015,
          2016,
          2017,
          2018,
          2019,
          2020
         ],
         "xaxis": "x",
         "y": [
          182820108,
          204888457,
          211707090,
          233977619,
          285079848,
          494865257,
          86122293
         ],
         "yaxis": "y"
        },
        {
         "alignmentgroup": "True",
         "hovertemplate": "variable=top3_ftv<br>year=%{x}<br>value=%{y}<extra></extra>",
         "legendgroup": "top3_ftv",
         "marker": {
          "color": "#00cc96",
          "pattern": {
           "shape": ""
          }
         },
         "name": "top3_ftv",
         "offsetgroup": "top3_ftv",
         "orientation": "v",
         "showlegend": true,
         "textposition": "auto",
         "type": "bar",
         "x": [
          2014,
          2015,
          2016,
          2017,
          2018,
          2019,
          2020
         ],
         "xaxis": "x",
         "y": [
          118283220,
          121591054,
          153163352,
          179980191,
          214306456,
          237051508,
          77453339
         ],
         "yaxis": "y"
        },
        {
         "alignmentgroup": "True",
         "hovertemplate": "variable=top4_ftv<br>year=%{x}<br>value=%{y}<extra></extra>",
         "legendgroup": "top4_ftv",
         "marker": {
          "color": "#ab63fa",
          "pattern": {
           "shape": ""
          }
         },
         "name": "top4_ftv",
         "offsetgroup": "top4_ftv",
         "orientation": "v",
         "showlegend": true,
         "textposition": "auto",
         "type": "bar",
         "x": [
          2014,
          2015,
          2016,
          2017,
          2018,
          2019,
          2020
         ],
         "xaxis": "x",
         "y": [
          94127124,
          119863942,
          150490339,
          165433898,
          194767874,
          227934714,
          70828590
         ],
         "yaxis": "y"
        },
        {
         "alignmentgroup": "True",
         "hovertemplate": "variable=top5_ftv<br>year=%{x}<br>value=%{y}<extra></extra>",
         "legendgroup": "top5_ftv",
         "marker": {
          "color": "#FFA15A",
          "pattern": {
           "shape": ""
          }
         },
         "name": "top5_ftv",
         "offsetgroup": "top5_ftv",
         "orientation": "v",
         "showlegend": true,
         "textposition": "auto",
         "type": "bar",
         "x": [
          2014,
          2015,
          2016,
          2017,
          2018,
          2019,
          2020
         ],
         "xaxis": "x",
         "y": [
          93306974,
          103403934,
          129762600,
          119191539,
          119191539,
          149294703,
          39997001
         ],
         "yaxis": "y"
        },
        {
         "alignmentgroup": "True",
         "hovertemplate": "variable=top6_ftv<br>year=%{x}<br>value=%{y}<extra></extra>",
         "legendgroup": "top6_ftv",
         "marker": {
          "color": "#19d3f3",
          "pattern": {
           "shape": ""
          }
         },
         "name": "top6_ftv",
         "offsetgroup": "top6_ftv",
         "orientation": "v",
         "showlegend": true,
         "textposition": "auto",
         "type": "bar",
         "x": [
          2014,
          2015,
          2016,
          2017,
          2018,
          2019,
          2020
         ],
         "xaxis": "x",
         "y": [
          72399113,
          94516316,
          116515801,
          85266596,
          92878329,
          92366025,
          39234591
         ],
         "yaxis": "y"
        },
        {
         "alignmentgroup": "True",
         "hovertemplate": "variable=top7_ftv<br>year=%{x}<br>value=%{y}<extra></extra>",
         "legendgroup": "top7_ftv",
         "marker": {
          "color": "#FF6692",
          "pattern": {
           "shape": ""
          }
         },
         "name": "top7_ftv",
         "offsetgroup": "top7_ftv",
         "orientation": "v",
         "showlegend": true,
         "textposition": "auto",
         "type": "bar",
         "x": [
          2014,
          2015,
          2016,
          2017,
          2018,
          2019,
          2020
         ],
         "xaxis": "x",
         "y": [
          63614525,
          77975738,
          95160830,
          79687645,
          85657365,
          88707139,
          28841732
         ],
         "yaxis": "y"
        },
        {
         "alignmentgroup": "True",
         "hovertemplate": "variable=top8_ftv<br>year=%{x}<br>value=%{y}<extra></extra>",
         "legendgroup": "top8_ftv",
         "marker": {
          "color": "#B6E880",
          "pattern": {
           "shape": ""
          }
         },
         "name": "top8_ftv",
         "offsetgroup": "top8_ftv",
         "orientation": "v",
         "showlegend": true,
         "textposition": "auto",
         "type": "bar",
         "x": [
          2014,
          2015,
          2016,
          2017,
          2018,
          2019,
          2020
         ],
         "xaxis": "x",
         "y": [
          49029590,
          70193450,
          74460250,
          78038522,
          83969799,
          83035894,
          23519632
         ],
         "yaxis": "y"
        },
        {
         "alignmentgroup": "True",
         "hovertemplate": "variable=top9_ftv<br>year=%{x}<br>value=%{y}<extra></extra>",
         "legendgroup": "top9_ftv",
         "marker": {
          "color": "#FF97FF",
          "pattern": {
           "shape": ""
          }
         },
         "name": "top9_ftv",
         "offsetgroup": "top9_ftv",
         "orientation": "v",
         "showlegend": true,
         "textposition": "auto",
         "type": "bar",
         "x": [
          2014,
          2015,
          2016,
          2017,
          2018,
          2019,
          2020
         ],
         "xaxis": "x",
         "y": [
          33427144,
          36288463,
          42252909,
          48343121,
          54369873,
          58864661,
          19464517
         ],
         "yaxis": "y"
        },
        {
         "alignmentgroup": "True",
         "hovertemplate": "variable=top10_ftv<br>year=%{x}<br>value=%{y}<extra></extra>",
         "legendgroup": "top10_ftv",
         "marker": {
          "color": "#FECB52",
          "pattern": {
           "shape": ""
          }
         },
         "name": "top10_ftv",
         "offsetgroup": "top10_ftv",
         "orientation": "v",
         "showlegend": true,
         "textposition": "auto",
         "type": "bar",
         "x": [
          2014,
          2015,
          2016,
          2017,
          2018,
          2019,
          2020
         ],
         "xaxis": "x",
         "y": [
          33076491,
          35187573,
          41495115,
          45916573,
          50235643,
          52220431,
          16692197
         ],
         "yaxis": "y"
        }
       ],
       "layout": {
        "barmode": "relative",
        "legend": {
         "title": {
          "text": "variable"
         },
         "tracegroupgap": 0
        },
        "template": {
         "data": {
          "bar": [
           {
            "error_x": {
             "color": "#2a3f5f"
            },
            "error_y": {
             "color": "#2a3f5f"
            },
            "marker": {
             "line": {
              "color": "#E5ECF6",
              "width": 0.5
             },
             "pattern": {
              "fillmode": "overlay",
              "size": 10,
              "solidity": 0.2
             }
            },
            "type": "bar"
           }
          ],
          "barpolar": [
           {
            "marker": {
             "line": {
              "color": "#E5ECF6",
              "width": 0.5
             },
             "pattern": {
              "fillmode": "overlay",
              "size": 10,
              "solidity": 0.2
             }
            },
            "type": "barpolar"
           }
          ],
          "carpet": [
           {
            "aaxis": {
             "endlinecolor": "#2a3f5f",
             "gridcolor": "white",
             "linecolor": "white",
             "minorgridcolor": "white",
             "startlinecolor": "#2a3f5f"
            },
            "baxis": {
             "endlinecolor": "#2a3f5f",
             "gridcolor": "white",
             "linecolor": "white",
             "minorgridcolor": "white",
             "startlinecolor": "#2a3f5f"
            },
            "type": "carpet"
           }
          ],
          "choropleth": [
           {
            "colorbar": {
             "outlinewidth": 0,
             "ticks": ""
            },
            "type": "choropleth"
           }
          ],
          "contour": [
           {
            "colorbar": {
             "outlinewidth": 0,
             "ticks": ""
            },
            "colorscale": [
             [
              0,
              "#0d0887"
             ],
             [
              0.1111111111111111,
              "#46039f"
             ],
             [
              0.2222222222222222,
              "#7201a8"
             ],
             [
              0.3333333333333333,
              "#9c179e"
             ],
             [
              0.4444444444444444,
              "#bd3786"
             ],
             [
              0.5555555555555556,
              "#d8576b"
             ],
             [
              0.6666666666666666,
              "#ed7953"
             ],
             [
              0.7777777777777778,
              "#fb9f3a"
             ],
             [
              0.8888888888888888,
              "#fdca26"
             ],
             [
              1,
              "#f0f921"
             ]
            ],
            "type": "contour"
           }
          ],
          "contourcarpet": [
           {
            "colorbar": {
             "outlinewidth": 0,
             "ticks": ""
            },
            "type": "contourcarpet"
           }
          ],
          "heatmap": [
           {
            "colorbar": {
             "outlinewidth": 0,
             "ticks": ""
            },
            "colorscale": [
             [
              0,
              "#0d0887"
             ],
             [
              0.1111111111111111,
              "#46039f"
             ],
             [
              0.2222222222222222,
              "#7201a8"
             ],
             [
              0.3333333333333333,
              "#9c179e"
             ],
             [
              0.4444444444444444,
              "#bd3786"
             ],
             [
              0.5555555555555556,
              "#d8576b"
             ],
             [
              0.6666666666666666,
              "#ed7953"
             ],
             [
              0.7777777777777778,
              "#fb9f3a"
             ],
             [
              0.8888888888888888,
              "#fdca26"
             ],
             [
              1,
              "#f0f921"
             ]
            ],
            "type": "heatmap"
           }
          ],
          "heatmapgl": [
           {
            "colorbar": {
             "outlinewidth": 0,
             "ticks": ""
            },
            "colorscale": [
             [
              0,
              "#0d0887"
             ],
             [
              0.1111111111111111,
              "#46039f"
             ],
             [
              0.2222222222222222,
              "#7201a8"
             ],
             [
              0.3333333333333333,
              "#9c179e"
             ],
             [
              0.4444444444444444,
              "#bd3786"
             ],
             [
              0.5555555555555556,
              "#d8576b"
             ],
             [
              0.6666666666666666,
              "#ed7953"
             ],
             [
              0.7777777777777778,
              "#fb9f3a"
             ],
             [
              0.8888888888888888,
              "#fdca26"
             ],
             [
              1,
              "#f0f921"
             ]
            ],
            "type": "heatmapgl"
           }
          ],
          "histogram": [
           {
            "marker": {
             "pattern": {
              "fillmode": "overlay",
              "size": 10,
              "solidity": 0.2
             }
            },
            "type": "histogram"
           }
          ],
          "histogram2d": [
           {
            "colorbar": {
             "outlinewidth": 0,
             "ticks": ""
            },
            "colorscale": [
             [
              0,
              "#0d0887"
             ],
             [
              0.1111111111111111,
              "#46039f"
             ],
             [
              0.2222222222222222,
              "#7201a8"
             ],
             [
              0.3333333333333333,
              "#9c179e"
             ],
             [
              0.4444444444444444,
              "#bd3786"
             ],
             [
              0.5555555555555556,
              "#d8576b"
             ],
             [
              0.6666666666666666,
              "#ed7953"
             ],
             [
              0.7777777777777778,
              "#fb9f3a"
             ],
             [
              0.8888888888888888,
              "#fdca26"
             ],
             [
              1,
              "#f0f921"
             ]
            ],
            "type": "histogram2d"
           }
          ],
          "histogram2dcontour": [
           {
            "colorbar": {
             "outlinewidth": 0,
             "ticks": ""
            },
            "colorscale": [
             [
              0,
              "#0d0887"
             ],
             [
              0.1111111111111111,
              "#46039f"
             ],
             [
              0.2222222222222222,
              "#7201a8"
             ],
             [
              0.3333333333333333,
              "#9c179e"
             ],
             [
              0.4444444444444444,
              "#bd3786"
             ],
             [
              0.5555555555555556,
              "#d8576b"
             ],
             [
              0.6666666666666666,
              "#ed7953"
             ],
             [
              0.7777777777777778,
              "#fb9f3a"
             ],
             [
              0.8888888888888888,
              "#fdca26"
             ],
             [
              1,
              "#f0f921"
             ]
            ],
            "type": "histogram2dcontour"
           }
          ],
          "mesh3d": [
           {
            "colorbar": {
             "outlinewidth": 0,
             "ticks": ""
            },
            "type": "mesh3d"
           }
          ],
          "parcoords": [
           {
            "line": {
             "colorbar": {
              "outlinewidth": 0,
              "ticks": ""
             }
            },
            "type": "parcoords"
           }
          ],
          "pie": [
           {
            "automargin": true,
            "type": "pie"
           }
          ],
          "scatter": [
           {
            "fillpattern": {
             "fillmode": "overlay",
             "size": 10,
             "solidity": 0.2
            },
            "type": "scatter"
           }
          ],
          "scatter3d": [
           {
            "line": {
             "colorbar": {
              "outlinewidth": 0,
              "ticks": ""
             }
            },
            "marker": {
             "colorbar": {
              "outlinewidth": 0,
              "ticks": ""
             }
            },
            "type": "scatter3d"
           }
          ],
          "scattercarpet": [
           {
            "marker": {
             "colorbar": {
              "outlinewidth": 0,
              "ticks": ""
             }
            },
            "type": "scattercarpet"
           }
          ],
          "scattergeo": [
           {
            "marker": {
             "colorbar": {
              "outlinewidth": 0,
              "ticks": ""
             }
            },
            "type": "scattergeo"
           }
          ],
          "scattergl": [
           {
            "marker": {
             "colorbar": {
              "outlinewidth": 0,
              "ticks": ""
             }
            },
            "type": "scattergl"
           }
          ],
          "scattermapbox": [
           {
            "marker": {
             "colorbar": {
              "outlinewidth": 0,
              "ticks": ""
             }
            },
            "type": "scattermapbox"
           }
          ],
          "scatterpolar": [
           {
            "marker": {
             "colorbar": {
              "outlinewidth": 0,
              "ticks": ""
             }
            },
            "type": "scatterpolar"
           }
          ],
          "scatterpolargl": [
           {
            "marker": {
             "colorbar": {
              "outlinewidth": 0,
              "ticks": ""
             }
            },
            "type": "scatterpolargl"
           }
          ],
          "scatterternary": [
           {
            "marker": {
             "colorbar": {
              "outlinewidth": 0,
              "ticks": ""
             }
            },
            "type": "scatterternary"
           }
          ],
          "surface": [
           {
            "colorbar": {
             "outlinewidth": 0,
             "ticks": ""
            },
            "colorscale": [
             [
              0,
              "#0d0887"
             ],
             [
              0.1111111111111111,
              "#46039f"
             ],
             [
              0.2222222222222222,
              "#7201a8"
             ],
             [
              0.3333333333333333,
              "#9c179e"
             ],
             [
              0.4444444444444444,
              "#bd3786"
             ],
             [
              0.5555555555555556,
              "#d8576b"
             ],
             [
              0.6666666666666666,
              "#ed7953"
             ],
             [
              0.7777777777777778,
              "#fb9f3a"
             ],
             [
              0.8888888888888888,
              "#fdca26"
             ],
             [
              1,
              "#f0f921"
             ]
            ],
            "type": "surface"
           }
          ],
          "table": [
           {
            "cells": {
             "fill": {
              "color": "#EBF0F8"
             },
             "line": {
              "color": "white"
             }
            },
            "header": {
             "fill": {
              "color": "#C8D4E3"
             },
             "line": {
              "color": "white"
             }
            },
            "type": "table"
           }
          ]
         },
         "layout": {
          "annotationdefaults": {
           "arrowcolor": "#2a3f5f",
           "arrowhead": 0,
           "arrowwidth": 1
          },
          "autotypenumbers": "strict",
          "coloraxis": {
           "colorbar": {
            "outlinewidth": 0,
            "ticks": ""
           }
          },
          "colorscale": {
           "diverging": [
            [
             0,
             "#8e0152"
            ],
            [
             0.1,
             "#c51b7d"
            ],
            [
             0.2,
             "#de77ae"
            ],
            [
             0.3,
             "#f1b6da"
            ],
            [
             0.4,
             "#fde0ef"
            ],
            [
             0.5,
             "#f7f7f7"
            ],
            [
             0.6,
             "#e6f5d0"
            ],
            [
             0.7,
             "#b8e186"
            ],
            [
             0.8,
             "#7fbc41"
            ],
            [
             0.9,
             "#4d9221"
            ],
            [
             1,
             "#276419"
            ]
           ],
           "sequential": [
            [
             0,
             "#0d0887"
            ],
            [
             0.1111111111111111,
             "#46039f"
            ],
            [
             0.2222222222222222,
             "#7201a8"
            ],
            [
             0.3333333333333333,
             "#9c179e"
            ],
            [
             0.4444444444444444,
             "#bd3786"
            ],
            [
             0.5555555555555556,
             "#d8576b"
            ],
            [
             0.6666666666666666,
             "#ed7953"
            ],
            [
             0.7777777777777778,
             "#fb9f3a"
            ],
            [
             0.8888888888888888,
             "#fdca26"
            ],
            [
             1,
             "#f0f921"
            ]
           ],
           "sequentialminus": [
            [
             0,
             "#0d0887"
            ],
            [
             0.1111111111111111,
             "#46039f"
            ],
            [
             0.2222222222222222,
             "#7201a8"
            ],
            [
             0.3333333333333333,
             "#9c179e"
            ],
            [
             0.4444444444444444,
             "#bd3786"
            ],
            [
             0.5555555555555556,
             "#d8576b"
            ],
            [
             0.6666666666666666,
             "#ed7953"
            ],
            [
             0.7777777777777778,
             "#fb9f3a"
            ],
            [
             0.8888888888888888,
             "#fdca26"
            ],
            [
             1,
             "#f0f921"
            ]
           ]
          },
          "colorway": [
           "#636efa",
           "#EF553B",
           "#00cc96",
           "#ab63fa",
           "#FFA15A",
           "#19d3f3",
           "#FF6692",
           "#B6E880",
           "#FF97FF",
           "#FECB52"
          ],
          "font": {
           "color": "#2a3f5f"
          },
          "geo": {
           "bgcolor": "white",
           "lakecolor": "white",
           "landcolor": "#E5ECF6",
           "showlakes": true,
           "showland": true,
           "subunitcolor": "white"
          },
          "hoverlabel": {
           "align": "left"
          },
          "hovermode": "closest",
          "mapbox": {
           "style": "light"
          },
          "paper_bgcolor": "white",
          "plot_bgcolor": "#E5ECF6",
          "polar": {
           "angularaxis": {
            "gridcolor": "white",
            "linecolor": "white",
            "ticks": ""
           },
           "bgcolor": "#E5ECF6",
           "radialaxis": {
            "gridcolor": "white",
            "linecolor": "white",
            "ticks": ""
           }
          },
          "scene": {
           "xaxis": {
            "backgroundcolor": "#E5ECF6",
            "gridcolor": "white",
            "gridwidth": 2,
            "linecolor": "white",
            "showbackground": true,
            "ticks": "",
            "zerolinecolor": "white"
           },
           "yaxis": {
            "backgroundcolor": "#E5ECF6",
            "gridcolor": "white",
            "gridwidth": 2,
            "linecolor": "white",
            "showbackground": true,
            "ticks": "",
            "zerolinecolor": "white"
           },
           "zaxis": {
            "backgroundcolor": "#E5ECF6",
            "gridcolor": "white",
            "gridwidth": 2,
            "linecolor": "white",
            "showbackground": true,
            "ticks": "",
            "zerolinecolor": "white"
           }
          },
          "shapedefaults": {
           "line": {
            "color": "#2a3f5f"
           }
          },
          "ternary": {
           "aaxis": {
            "gridcolor": "white",
            "linecolor": "white",
            "ticks": ""
           },
           "baxis": {
            "gridcolor": "white",
            "linecolor": "white",
            "ticks": ""
           },
           "bgcolor": "#E5ECF6",
           "caxis": {
            "gridcolor": "white",
            "linecolor": "white",
            "ticks": ""
           }
          },
          "title": {
           "x": 0.05
          },
          "xaxis": {
           "automargin": true,
           "gridcolor": "white",
           "linecolor": "white",
           "ticks": "",
           "title": {
            "standoff": 15
           },
           "zerolinecolor": "white",
           "zerolinewidth": 2
          },
          "yaxis": {
           "automargin": true,
           "gridcolor": "white",
           "linecolor": "white",
           "ticks": "",
           "title": {
            "standoff": 15
           },
           "zerolinecolor": "white",
           "zerolinewidth": 2
          }
         }
        },
        "title": {
         "text": "Tourist visit in India per Year 2014-2020"
        },
        "xaxis": {
         "anchor": "y",
         "domain": [
          0,
          1
         ],
         "title": {
          "text": "year"
         }
        },
        "yaxis": {
         "anchor": "x",
         "domain": [
          0,
          1
         ],
         "title": {
          "text": "value"
         }
        }
       }
      }
     },
     "metadata": {},
     "output_type": "display_data"
    }
   ],
   "source": [
    "px.bar(df, df.index, ['top1_ftv', 'top2_ftv','top3_ftv', 'top4_ftv','top5_ftv', 'top6_ftv','top7_ftv', 'top8_ftv','top9_ftv', 'top10_ftv'], title='Tourist visit in India per Year 2014-2020')"
   ]
  },
  {
   "cell_type": "code",
   "execution_count": 26,
   "metadata": {},
   "outputs": [
    {
     "name": "stderr",
     "output_type": "stream",
     "text": [
      "C:\\Users\\Hp\\AppData\\Local\\Temp\\ipykernel_25928\\3177139207.py:1: FutureWarning:\n",
      "\n",
      "The default value of numeric_only in DataFrameGroupBy.sum is deprecated. In a future version, numeric_only will default to False. Either specify numeric_only or select only columns which should be valid for the function.\n",
      "\n"
     ]
    },
    {
     "data": {
      "application/vnd.plotly.v1+json": {
       "config": {
        "plotlyServerURL": "https://plot.ly"
       },
       "data": [
        {
         "hovertemplate": "variable=top1_ftv<br>top1_state=%{x}<br>value=%{y}<extra></extra>",
         "legendgroup": "top1_ftv",
         "marker": {
          "color": "#636efa"
         },
         "name": "top1_ftv",
         "orientation": "v",
         "showlegend": true,
         "type": "funnel",
         "x": [
          "Tamil Nadu",
          "Uttar Pradesh"
         ],
         "xaxis": "x",
         "y": [
          1917296686,
          535855162
         ],
         "yaxis": "y"
        },
        {
         "hovertemplate": "variable=top2_ftv<br>top1_state=%{x}<br>value=%{y}<extra></extra>",
         "legendgroup": "top2_ftv",
         "marker": {
          "color": "#EF553B"
         },
         "name": "top2_ftv",
         "orientation": "v",
         "showlegend": true,
         "type": "funnel",
         "x": [
          "Tamil Nadu",
          "Uttar Pradesh"
         ],
         "xaxis": "x",
         "y": [
          1204595415,
          494865257
         ],
         "yaxis": "y"
        },
        {
         "hovertemplate": "variable=top3_ftv<br>top1_state=%{x}<br>value=%{y}<extra></extra>",
         "legendgroup": "top3_ftv",
         "marker": {
          "color": "#00cc96"
         },
         "name": "top3_ftv",
         "orientation": "v",
         "showlegend": true,
         "type": "funnel",
         "x": [
          "Tamil Nadu",
          "Uttar Pradesh"
         ],
         "xaxis": "x",
         "y": [
          864777612,
          237051508
         ],
         "yaxis": "y"
        },
        {
         "hovertemplate": "variable=top4_ftv<br>top1_state=%{x}<br>value=%{y}<extra></extra>",
         "legendgroup": "top4_ftv",
         "marker": {
          "color": "#ab63fa"
         },
         "name": "top4_ftv",
         "orientation": "v",
         "showlegend": true,
         "type": "funnel",
         "x": [
          "Tamil Nadu",
          "Uttar Pradesh"
         ],
         "xaxis": "x",
         "y": [
          795511767,
          227934714
         ],
         "yaxis": "y"
        },
        {
         "hovertemplate": "variable=top5_ftv<br>top1_state=%{x}<br>value=%{y}<extra></extra>",
         "legendgroup": "top5_ftv",
         "marker": {
          "color": "#FFA15A"
         },
         "name": "top5_ftv",
         "orientation": "v",
         "showlegend": true,
         "type": "funnel",
         "x": [
          "Tamil Nadu",
          "Uttar Pradesh"
         ],
         "xaxis": "x",
         "y": [
          604853587,
          149294703
         ],
         "yaxis": "y"
        },
        {
         "hovertemplate": "variable=top6_ftv<br>top1_state=%{x}<br>value=%{y}<extra></extra>",
         "legendgroup": "top6_ftv",
         "marker": {
          "color": "#19d3f3"
         },
         "name": "top6_ftv",
         "orientation": "v",
         "showlegend": true,
         "type": "funnel",
         "x": [
          "Tamil Nadu",
          "Uttar Pradesh"
         ],
         "xaxis": "x",
         "y": [
          500810746,
          92366025
         ],
         "yaxis": "y"
        },
        {
         "hovertemplate": "variable=top7_ftv<br>top1_state=%{x}<br>value=%{y}<extra></extra>",
         "legendgroup": "top7_ftv",
         "marker": {
          "color": "#FF6692"
         },
         "name": "top7_ftv",
         "orientation": "v",
         "showlegend": true,
         "type": "funnel",
         "x": [
          "Tamil Nadu",
          "Uttar Pradesh"
         ],
         "xaxis": "x",
         "y": [
          430937835,
          88707139
         ],
         "yaxis": "y"
        },
        {
         "hovertemplate": "variable=top8_ftv<br>top1_state=%{x}<br>value=%{y}<extra></extra>",
         "legendgroup": "top8_ftv",
         "marker": {
          "color": "#B6E880"
         },
         "name": "top8_ftv",
         "orientation": "v",
         "showlegend": true,
         "type": "funnel",
         "x": [
          "Tamil Nadu",
          "Uttar Pradesh"
         ],
         "xaxis": "x",
         "y": [
          379211243,
          83035894
         ],
         "yaxis": "y"
        },
        {
         "hovertemplate": "variable=top9_ftv<br>top1_state=%{x}<br>value=%{y}<extra></extra>",
         "legendgroup": "top9_ftv",
         "marker": {
          "color": "#FF97FF"
         },
         "name": "top9_ftv",
         "orientation": "v",
         "showlegend": true,
         "type": "funnel",
         "x": [
          "Tamil Nadu",
          "Uttar Pradesh"
         ],
         "xaxis": "x",
         "y": [
          234146027,
          58864661
         ],
         "yaxis": "y"
        },
        {
         "hovertemplate": "variable=top10_ftv<br>top1_state=%{x}<br>value=%{y}<extra></extra>",
         "legendgroup": "top10_ftv",
         "marker": {
          "color": "#FECB52"
         },
         "name": "top10_ftv",
         "orientation": "v",
         "showlegend": true,
         "type": "funnel",
         "x": [
          "Tamil Nadu",
          "Uttar Pradesh"
         ],
         "xaxis": "x",
         "y": [
          222603592,
          52220431
         ],
         "yaxis": "y"
        }
       ],
       "layout": {
        "legend": {
         "title": {
          "text": "variable"
         },
         "tracegroupgap": 0
        },
        "margin": {
         "t": 60
        },
        "template": {
         "data": {
          "bar": [
           {
            "error_x": {
             "color": "#2a3f5f"
            },
            "error_y": {
             "color": "#2a3f5f"
            },
            "marker": {
             "line": {
              "color": "#E5ECF6",
              "width": 0.5
             },
             "pattern": {
              "fillmode": "overlay",
              "size": 10,
              "solidity": 0.2
             }
            },
            "type": "bar"
           }
          ],
          "barpolar": [
           {
            "marker": {
             "line": {
              "color": "#E5ECF6",
              "width": 0.5
             },
             "pattern": {
              "fillmode": "overlay",
              "size": 10,
              "solidity": 0.2
             }
            },
            "type": "barpolar"
           }
          ],
          "carpet": [
           {
            "aaxis": {
             "endlinecolor": "#2a3f5f",
             "gridcolor": "white",
             "linecolor": "white",
             "minorgridcolor": "white",
             "startlinecolor": "#2a3f5f"
            },
            "baxis": {
             "endlinecolor": "#2a3f5f",
             "gridcolor": "white",
             "linecolor": "white",
             "minorgridcolor": "white",
             "startlinecolor": "#2a3f5f"
            },
            "type": "carpet"
           }
          ],
          "choropleth": [
           {
            "colorbar": {
             "outlinewidth": 0,
             "ticks": ""
            },
            "type": "choropleth"
           }
          ],
          "contour": [
           {
            "colorbar": {
             "outlinewidth": 0,
             "ticks": ""
            },
            "colorscale": [
             [
              0,
              "#0d0887"
             ],
             [
              0.1111111111111111,
              "#46039f"
             ],
             [
              0.2222222222222222,
              "#7201a8"
             ],
             [
              0.3333333333333333,
              "#9c179e"
             ],
             [
              0.4444444444444444,
              "#bd3786"
             ],
             [
              0.5555555555555556,
              "#d8576b"
             ],
             [
              0.6666666666666666,
              "#ed7953"
             ],
             [
              0.7777777777777778,
              "#fb9f3a"
             ],
             [
              0.8888888888888888,
              "#fdca26"
             ],
             [
              1,
              "#f0f921"
             ]
            ],
            "type": "contour"
           }
          ],
          "contourcarpet": [
           {
            "colorbar": {
             "outlinewidth": 0,
             "ticks": ""
            },
            "type": "contourcarpet"
           }
          ],
          "heatmap": [
           {
            "colorbar": {
             "outlinewidth": 0,
             "ticks": ""
            },
            "colorscale": [
             [
              0,
              "#0d0887"
             ],
             [
              0.1111111111111111,
              "#46039f"
             ],
             [
              0.2222222222222222,
              "#7201a8"
             ],
             [
              0.3333333333333333,
              "#9c179e"
             ],
             [
              0.4444444444444444,
              "#bd3786"
             ],
             [
              0.5555555555555556,
              "#d8576b"
             ],
             [
              0.6666666666666666,
              "#ed7953"
             ],
             [
              0.7777777777777778,
              "#fb9f3a"
             ],
             [
              0.8888888888888888,
              "#fdca26"
             ],
             [
              1,
              "#f0f921"
             ]
            ],
            "type": "heatmap"
           }
          ],
          "heatmapgl": [
           {
            "colorbar": {
             "outlinewidth": 0,
             "ticks": ""
            },
            "colorscale": [
             [
              0,
              "#0d0887"
             ],
             [
              0.1111111111111111,
              "#46039f"
             ],
             [
              0.2222222222222222,
              "#7201a8"
             ],
             [
              0.3333333333333333,
              "#9c179e"
             ],
             [
              0.4444444444444444,
              "#bd3786"
             ],
             [
              0.5555555555555556,
              "#d8576b"
             ],
             [
              0.6666666666666666,
              "#ed7953"
             ],
             [
              0.7777777777777778,
              "#fb9f3a"
             ],
             [
              0.8888888888888888,
              "#fdca26"
             ],
             [
              1,
              "#f0f921"
             ]
            ],
            "type": "heatmapgl"
           }
          ],
          "histogram": [
           {
            "marker": {
             "pattern": {
              "fillmode": "overlay",
              "size": 10,
              "solidity": 0.2
             }
            },
            "type": "histogram"
           }
          ],
          "histogram2d": [
           {
            "colorbar": {
             "outlinewidth": 0,
             "ticks": ""
            },
            "colorscale": [
             [
              0,
              "#0d0887"
             ],
             [
              0.1111111111111111,
              "#46039f"
             ],
             [
              0.2222222222222222,
              "#7201a8"
             ],
             [
              0.3333333333333333,
              "#9c179e"
             ],
             [
              0.4444444444444444,
              "#bd3786"
             ],
             [
              0.5555555555555556,
              "#d8576b"
             ],
             [
              0.6666666666666666,
              "#ed7953"
             ],
             [
              0.7777777777777778,
              "#fb9f3a"
             ],
             [
              0.8888888888888888,
              "#fdca26"
             ],
             [
              1,
              "#f0f921"
             ]
            ],
            "type": "histogram2d"
           }
          ],
          "histogram2dcontour": [
           {
            "colorbar": {
             "outlinewidth": 0,
             "ticks": ""
            },
            "colorscale": [
             [
              0,
              "#0d0887"
             ],
             [
              0.1111111111111111,
              "#46039f"
             ],
             [
              0.2222222222222222,
              "#7201a8"
             ],
             [
              0.3333333333333333,
              "#9c179e"
             ],
             [
              0.4444444444444444,
              "#bd3786"
             ],
             [
              0.5555555555555556,
              "#d8576b"
             ],
             [
              0.6666666666666666,
              "#ed7953"
             ],
             [
              0.7777777777777778,
              "#fb9f3a"
             ],
             [
              0.8888888888888888,
              "#fdca26"
             ],
             [
              1,
              "#f0f921"
             ]
            ],
            "type": "histogram2dcontour"
           }
          ],
          "mesh3d": [
           {
            "colorbar": {
             "outlinewidth": 0,
             "ticks": ""
            },
            "type": "mesh3d"
           }
          ],
          "parcoords": [
           {
            "line": {
             "colorbar": {
              "outlinewidth": 0,
              "ticks": ""
             }
            },
            "type": "parcoords"
           }
          ],
          "pie": [
           {
            "automargin": true,
            "type": "pie"
           }
          ],
          "scatter": [
           {
            "fillpattern": {
             "fillmode": "overlay",
             "size": 10,
             "solidity": 0.2
            },
            "type": "scatter"
           }
          ],
          "scatter3d": [
           {
            "line": {
             "colorbar": {
              "outlinewidth": 0,
              "ticks": ""
             }
            },
            "marker": {
             "colorbar": {
              "outlinewidth": 0,
              "ticks": ""
             }
            },
            "type": "scatter3d"
           }
          ],
          "scattercarpet": [
           {
            "marker": {
             "colorbar": {
              "outlinewidth": 0,
              "ticks": ""
             }
            },
            "type": "scattercarpet"
           }
          ],
          "scattergeo": [
           {
            "marker": {
             "colorbar": {
              "outlinewidth": 0,
              "ticks": ""
             }
            },
            "type": "scattergeo"
           }
          ],
          "scattergl": [
           {
            "marker": {
             "colorbar": {
              "outlinewidth": 0,
              "ticks": ""
             }
            },
            "type": "scattergl"
           }
          ],
          "scattermapbox": [
           {
            "marker": {
             "colorbar": {
              "outlinewidth": 0,
              "ticks": ""
             }
            },
            "type": "scattermapbox"
           }
          ],
          "scatterpolar": [
           {
            "marker": {
             "colorbar": {
              "outlinewidth": 0,
              "ticks": ""
             }
            },
            "type": "scatterpolar"
           }
          ],
          "scatterpolargl": [
           {
            "marker": {
             "colorbar": {
              "outlinewidth": 0,
              "ticks": ""
             }
            },
            "type": "scatterpolargl"
           }
          ],
          "scatterternary": [
           {
            "marker": {
             "colorbar": {
              "outlinewidth": 0,
              "ticks": ""
             }
            },
            "type": "scatterternary"
           }
          ],
          "surface": [
           {
            "colorbar": {
             "outlinewidth": 0,
             "ticks": ""
            },
            "colorscale": [
             [
              0,
              "#0d0887"
             ],
             [
              0.1111111111111111,
              "#46039f"
             ],
             [
              0.2222222222222222,
              "#7201a8"
             ],
             [
              0.3333333333333333,
              "#9c179e"
             ],
             [
              0.4444444444444444,
              "#bd3786"
             ],
             [
              0.5555555555555556,
              "#d8576b"
             ],
             [
              0.6666666666666666,
              "#ed7953"
             ],
             [
              0.7777777777777778,
              "#fb9f3a"
             ],
             [
              0.8888888888888888,
              "#fdca26"
             ],
             [
              1,
              "#f0f921"
             ]
            ],
            "type": "surface"
           }
          ],
          "table": [
           {
            "cells": {
             "fill": {
              "color": "#EBF0F8"
             },
             "line": {
              "color": "white"
             }
            },
            "header": {
             "fill": {
              "color": "#C8D4E3"
             },
             "line": {
              "color": "white"
             }
            },
            "type": "table"
           }
          ]
         },
         "layout": {
          "annotationdefaults": {
           "arrowcolor": "#2a3f5f",
           "arrowhead": 0,
           "arrowwidth": 1
          },
          "autotypenumbers": "strict",
          "coloraxis": {
           "colorbar": {
            "outlinewidth": 0,
            "ticks": ""
           }
          },
          "colorscale": {
           "diverging": [
            [
             0,
             "#8e0152"
            ],
            [
             0.1,
             "#c51b7d"
            ],
            [
             0.2,
             "#de77ae"
            ],
            [
             0.3,
             "#f1b6da"
            ],
            [
             0.4,
             "#fde0ef"
            ],
            [
             0.5,
             "#f7f7f7"
            ],
            [
             0.6,
             "#e6f5d0"
            ],
            [
             0.7,
             "#b8e186"
            ],
            [
             0.8,
             "#7fbc41"
            ],
            [
             0.9,
             "#4d9221"
            ],
            [
             1,
             "#276419"
            ]
           ],
           "sequential": [
            [
             0,
             "#0d0887"
            ],
            [
             0.1111111111111111,
             "#46039f"
            ],
            [
             0.2222222222222222,
             "#7201a8"
            ],
            [
             0.3333333333333333,
             "#9c179e"
            ],
            [
             0.4444444444444444,
             "#bd3786"
            ],
            [
             0.5555555555555556,
             "#d8576b"
            ],
            [
             0.6666666666666666,
             "#ed7953"
            ],
            [
             0.7777777777777778,
             "#fb9f3a"
            ],
            [
             0.8888888888888888,
             "#fdca26"
            ],
            [
             1,
             "#f0f921"
            ]
           ],
           "sequentialminus": [
            [
             0,
             "#0d0887"
            ],
            [
             0.1111111111111111,
             "#46039f"
            ],
            [
             0.2222222222222222,
             "#7201a8"
            ],
            [
             0.3333333333333333,
             "#9c179e"
            ],
            [
             0.4444444444444444,
             "#bd3786"
            ],
            [
             0.5555555555555556,
             "#d8576b"
            ],
            [
             0.6666666666666666,
             "#ed7953"
            ],
            [
             0.7777777777777778,
             "#fb9f3a"
            ],
            [
             0.8888888888888888,
             "#fdca26"
            ],
            [
             1,
             "#f0f921"
            ]
           ]
          },
          "colorway": [
           "#636efa",
           "#EF553B",
           "#00cc96",
           "#ab63fa",
           "#FFA15A",
           "#19d3f3",
           "#FF6692",
           "#B6E880",
           "#FF97FF",
           "#FECB52"
          ],
          "font": {
           "color": "#2a3f5f"
          },
          "geo": {
           "bgcolor": "white",
           "lakecolor": "white",
           "landcolor": "#E5ECF6",
           "showlakes": true,
           "showland": true,
           "subunitcolor": "white"
          },
          "hoverlabel": {
           "align": "left"
          },
          "hovermode": "closest",
          "mapbox": {
           "style": "light"
          },
          "paper_bgcolor": "white",
          "plot_bgcolor": "#E5ECF6",
          "polar": {
           "angularaxis": {
            "gridcolor": "white",
            "linecolor": "white",
            "ticks": ""
           },
           "bgcolor": "#E5ECF6",
           "radialaxis": {
            "gridcolor": "white",
            "linecolor": "white",
            "ticks": ""
           }
          },
          "scene": {
           "xaxis": {
            "backgroundcolor": "#E5ECF6",
            "gridcolor": "white",
            "gridwidth": 2,
            "linecolor": "white",
            "showbackground": true,
            "ticks": "",
            "zerolinecolor": "white"
           },
           "yaxis": {
            "backgroundcolor": "#E5ECF6",
            "gridcolor": "white",
            "gridwidth": 2,
            "linecolor": "white",
            "showbackground": true,
            "ticks": "",
            "zerolinecolor": "white"
           },
           "zaxis": {
            "backgroundcolor": "#E5ECF6",
            "gridcolor": "white",
            "gridwidth": 2,
            "linecolor": "white",
            "showbackground": true,
            "ticks": "",
            "zerolinecolor": "white"
           }
          },
          "shapedefaults": {
           "line": {
            "color": "#2a3f5f"
           }
          },
          "ternary": {
           "aaxis": {
            "gridcolor": "white",
            "linecolor": "white",
            "ticks": ""
           },
           "baxis": {
            "gridcolor": "white",
            "linecolor": "white",
            "ticks": ""
           },
           "bgcolor": "#E5ECF6",
           "caxis": {
            "gridcolor": "white",
            "linecolor": "white",
            "ticks": ""
           }
          },
          "title": {
           "x": 0.05
          },
          "xaxis": {
           "automargin": true,
           "gridcolor": "white",
           "linecolor": "white",
           "ticks": "",
           "title": {
            "standoff": 15
           },
           "zerolinecolor": "white",
           "zerolinewidth": 2
          },
          "yaxis": {
           "automargin": true,
           "gridcolor": "white",
           "linecolor": "white",
           "ticks": "",
           "title": {
            "standoff": 15
           },
           "zerolinecolor": "white",
           "zerolinewidth": 2
          }
         }
        },
        "xaxis": {
         "anchor": "y",
         "domain": [
          0,
          1
         ],
         "title": {
          "text": "top1_state"
         }
        },
        "yaxis": {
         "anchor": "x",
         "domain": [
          0,
          1
         ],
         "title": {
          "text": "value"
         }
        }
       }
      }
     },
     "metadata": {},
     "output_type": "display_data"
    }
   ],
   "source": [
    "top1 = df.groupby('top1_state').sum()\n",
    "px.funnel(top1, top1.index, top1.columns)"
   ]
  },
  {
   "cell_type": "code",
   "execution_count": 29,
   "metadata": {},
   "outputs": [
    {
     "name": "stderr",
     "output_type": "stream",
     "text": [
      "C:\\Users\\Hp\\AppData\\Local\\Temp\\ipykernel_25928\\3039450284.py:1: FutureWarning:\n",
      "\n",
      "The default value of numeric_only in DataFrameGroupBy.sum is deprecated. In a future version, numeric_only will default to False. Either specify numeric_only or select only columns which should be valid for the function.\n",
      "\n"
     ]
    },
    {
     "data": {
      "application/vnd.plotly.v1+json": {
       "config": {
        "plotlyServerURL": "https://plot.ly"
       },
       "data": [
        {
         "hovertemplate": "variable=top1_ftv<br>top3_state=%{x}<br>value=%{y}<extra></extra>",
         "legendgroup": "top1_ftv",
         "marker": {
          "color": "#636efa"
         },
         "name": "top1_ftv",
         "orientation": "v",
         "showlegend": true,
         "type": "funnel",
         "x": [
          "Andhra Pradesh",
          "Karnataka"
         ],
         "xaxis": "x",
         "y": [
          1213126622,
          1240025226
         ],
         "yaxis": "y"
        },
        {
         "hovertemplate": "variable=top2_ftv<br>top3_state=%{x}<br>value=%{y}<extra></extra>",
         "legendgroup": "top2_ftv",
         "marker": {
          "color": "#EF553B"
         },
         "name": "top2_ftv",
         "orientation": "v",
         "showlegend": true,
         "type": "funnel",
         "x": [
          "Andhra Pradesh",
          "Karnataka"
         ],
         "xaxis": "x",
         "y": [
          911460804,
          787999868
         ],
         "yaxis": "y"
        },
        {
         "hovertemplate": "variable=top3_ftv<br>top3_state=%{x}<br>value=%{y}<extra></extra>",
         "legendgroup": "top3_ftv",
         "marker": {
          "color": "#00cc96"
         },
         "name": "top3_ftv",
         "orientation": "v",
         "showlegend": true,
         "type": "funnel",
         "x": [
          "Andhra Pradesh",
          "Karnataka"
         ],
         "xaxis": "x",
         "y": [
          511805914,
          590023206
         ],
         "yaxis": "y"
        },
        {
         "hovertemplate": "variable=top4_ftv<br>top3_state=%{x}<br>value=%{y}<extra></extra>",
         "legendgroup": "top4_ftv",
         "marker": {
          "color": "#ab63fa"
         },
         "name": "top4_ftv",
         "orientation": "v",
         "showlegend": true,
         "type": "funnel",
         "x": [
          "Andhra Pradesh",
          "Karnataka"
         ],
         "xaxis": "x",
         "y": [
          498288995,
          525157486
         ],
         "yaxis": "y"
        },
        {
         "hovertemplate": "variable=top5_ftv<br>top3_state=%{x}<br>value=%{y}<extra></extra>",
         "legendgroup": "top5_ftv",
         "marker": {
          "color": "#FFA15A"
         },
         "name": "top5_ftv",
         "orientation": "v",
         "showlegend": true,
         "type": "funnel",
         "x": [
          "Andhra Pradesh",
          "Karnataka"
         ],
         "xaxis": "x",
         "y": [
          382461237,
          371687053
         ],
         "yaxis": "y"
        },
        {
         "hovertemplate": "variable=top6_ftv<br>top3_state=%{x}<br>value=%{y}<extra></extra>",
         "legendgroup": "top6_ftv",
         "marker": {
          "color": "#19d3f3"
         },
         "name": "top6_ftv",
         "orientation": "v",
         "showlegend": true,
         "type": "funnel",
         "x": [
          "Andhra Pradesh",
          "Karnataka"
         ],
         "xaxis": "x",
         "y": [
          303398142,
          289778629
         ],
         "yaxis": "y"
        },
        {
         "hovertemplate": "variable=top7_ftv<br>top3_state=%{x}<br>value=%{y}<extra></extra>",
         "legendgroup": "top7_ftv",
         "marker": {
          "color": "#FF6692"
         },
         "name": "top7_ftv",
         "orientation": "v",
         "showlegend": true,
         "type": "funnel",
         "x": [
          "Andhra Pradesh",
          "Karnataka"
         ],
         "xaxis": "x",
         "y": [
          261843707,
          257801267
         ],
         "yaxis": "y"
        },
        {
         "hovertemplate": "variable=top8_ftv<br>top3_state=%{x}<br>value=%{y}<extra></extra>",
         "legendgroup": "top8_ftv",
         "marker": {
          "color": "#B6E880"
         },
         "name": "top8_ftv",
         "orientation": "v",
         "showlegend": true,
         "type": "funnel",
         "x": [
          "Andhra Pradesh",
          "Karnataka"
         ],
         "xaxis": "x",
         "y": [
          227689594,
          234557543
         ],
         "yaxis": "y"
        },
        {
         "hovertemplate": "variable=top9_ftv<br>top3_state=%{x}<br>value=%{y}<extra></extra>",
         "legendgroup": "top9_ftv",
         "marker": {
          "color": "#FF97FF"
         },
         "name": "top9_ftv",
         "orientation": "v",
         "showlegend": true,
         "type": "funnel",
         "x": [
          "Andhra Pradesh",
          "Karnataka"
         ],
         "xaxis": "x",
         "y": [
          137406033,
          155604655
         ],
         "yaxis": "y"
        },
        {
         "hovertemplate": "variable=top10_ftv<br>top3_state=%{x}<br>value=%{y}<extra></extra>",
         "legendgroup": "top10_ftv",
         "marker": {
          "color": "#FECB52"
         },
         "name": "top10_ftv",
         "orientation": "v",
         "showlegend": true,
         "type": "funnel",
         "x": [
          "Andhra Pradesh",
          "Karnataka"
         ],
         "xaxis": "x",
         "y": [
          128903119,
          145920904
         ],
         "yaxis": "y"
        }
       ],
       "layout": {
        "legend": {
         "title": {
          "text": "variable"
         },
         "tracegroupgap": 0
        },
        "margin": {
         "t": 60
        },
        "template": {
         "data": {
          "bar": [
           {
            "error_x": {
             "color": "#2a3f5f"
            },
            "error_y": {
             "color": "#2a3f5f"
            },
            "marker": {
             "line": {
              "color": "#E5ECF6",
              "width": 0.5
             },
             "pattern": {
              "fillmode": "overlay",
              "size": 10,
              "solidity": 0.2
             }
            },
            "type": "bar"
           }
          ],
          "barpolar": [
           {
            "marker": {
             "line": {
              "color": "#E5ECF6",
              "width": 0.5
             },
             "pattern": {
              "fillmode": "overlay",
              "size": 10,
              "solidity": 0.2
             }
            },
            "type": "barpolar"
           }
          ],
          "carpet": [
           {
            "aaxis": {
             "endlinecolor": "#2a3f5f",
             "gridcolor": "white",
             "linecolor": "white",
             "minorgridcolor": "white",
             "startlinecolor": "#2a3f5f"
            },
            "baxis": {
             "endlinecolor": "#2a3f5f",
             "gridcolor": "white",
             "linecolor": "white",
             "minorgridcolor": "white",
             "startlinecolor": "#2a3f5f"
            },
            "type": "carpet"
           }
          ],
          "choropleth": [
           {
            "colorbar": {
             "outlinewidth": 0,
             "ticks": ""
            },
            "type": "choropleth"
           }
          ],
          "contour": [
           {
            "colorbar": {
             "outlinewidth": 0,
             "ticks": ""
            },
            "colorscale": [
             [
              0,
              "#0d0887"
             ],
             [
              0.1111111111111111,
              "#46039f"
             ],
             [
              0.2222222222222222,
              "#7201a8"
             ],
             [
              0.3333333333333333,
              "#9c179e"
             ],
             [
              0.4444444444444444,
              "#bd3786"
             ],
             [
              0.5555555555555556,
              "#d8576b"
             ],
             [
              0.6666666666666666,
              "#ed7953"
             ],
             [
              0.7777777777777778,
              "#fb9f3a"
             ],
             [
              0.8888888888888888,
              "#fdca26"
             ],
             [
              1,
              "#f0f921"
             ]
            ],
            "type": "contour"
           }
          ],
          "contourcarpet": [
           {
            "colorbar": {
             "outlinewidth": 0,
             "ticks": ""
            },
            "type": "contourcarpet"
           }
          ],
          "heatmap": [
           {
            "colorbar": {
             "outlinewidth": 0,
             "ticks": ""
            },
            "colorscale": [
             [
              0,
              "#0d0887"
             ],
             [
              0.1111111111111111,
              "#46039f"
             ],
             [
              0.2222222222222222,
              "#7201a8"
             ],
             [
              0.3333333333333333,
              "#9c179e"
             ],
             [
              0.4444444444444444,
              "#bd3786"
             ],
             [
              0.5555555555555556,
              "#d8576b"
             ],
             [
              0.6666666666666666,
              "#ed7953"
             ],
             [
              0.7777777777777778,
              "#fb9f3a"
             ],
             [
              0.8888888888888888,
              "#fdca26"
             ],
             [
              1,
              "#f0f921"
             ]
            ],
            "type": "heatmap"
           }
          ],
          "heatmapgl": [
           {
            "colorbar": {
             "outlinewidth": 0,
             "ticks": ""
            },
            "colorscale": [
             [
              0,
              "#0d0887"
             ],
             [
              0.1111111111111111,
              "#46039f"
             ],
             [
              0.2222222222222222,
              "#7201a8"
             ],
             [
              0.3333333333333333,
              "#9c179e"
             ],
             [
              0.4444444444444444,
              "#bd3786"
             ],
             [
              0.5555555555555556,
              "#d8576b"
             ],
             [
              0.6666666666666666,
              "#ed7953"
             ],
             [
              0.7777777777777778,
              "#fb9f3a"
             ],
             [
              0.8888888888888888,
              "#fdca26"
             ],
             [
              1,
              "#f0f921"
             ]
            ],
            "type": "heatmapgl"
           }
          ],
          "histogram": [
           {
            "marker": {
             "pattern": {
              "fillmode": "overlay",
              "size": 10,
              "solidity": 0.2
             }
            },
            "type": "histogram"
           }
          ],
          "histogram2d": [
           {
            "colorbar": {
             "outlinewidth": 0,
             "ticks": ""
            },
            "colorscale": [
             [
              0,
              "#0d0887"
             ],
             [
              0.1111111111111111,
              "#46039f"
             ],
             [
              0.2222222222222222,
              "#7201a8"
             ],
             [
              0.3333333333333333,
              "#9c179e"
             ],
             [
              0.4444444444444444,
              "#bd3786"
             ],
             [
              0.5555555555555556,
              "#d8576b"
             ],
             [
              0.6666666666666666,
              "#ed7953"
             ],
             [
              0.7777777777777778,
              "#fb9f3a"
             ],
             [
              0.8888888888888888,
              "#fdca26"
             ],
             [
              1,
              "#f0f921"
             ]
            ],
            "type": "histogram2d"
           }
          ],
          "histogram2dcontour": [
           {
            "colorbar": {
             "outlinewidth": 0,
             "ticks": ""
            },
            "colorscale": [
             [
              0,
              "#0d0887"
             ],
             [
              0.1111111111111111,
              "#46039f"
             ],
             [
              0.2222222222222222,
              "#7201a8"
             ],
             [
              0.3333333333333333,
              "#9c179e"
             ],
             [
              0.4444444444444444,
              "#bd3786"
             ],
             [
              0.5555555555555556,
              "#d8576b"
             ],
             [
              0.6666666666666666,
              "#ed7953"
             ],
             [
              0.7777777777777778,
              "#fb9f3a"
             ],
             [
              0.8888888888888888,
              "#fdca26"
             ],
             [
              1,
              "#f0f921"
             ]
            ],
            "type": "histogram2dcontour"
           }
          ],
          "mesh3d": [
           {
            "colorbar": {
             "outlinewidth": 0,
             "ticks": ""
            },
            "type": "mesh3d"
           }
          ],
          "parcoords": [
           {
            "line": {
             "colorbar": {
              "outlinewidth": 0,
              "ticks": ""
             }
            },
            "type": "parcoords"
           }
          ],
          "pie": [
           {
            "automargin": true,
            "type": "pie"
           }
          ],
          "scatter": [
           {
            "fillpattern": {
             "fillmode": "overlay",
             "size": 10,
             "solidity": 0.2
            },
            "type": "scatter"
           }
          ],
          "scatter3d": [
           {
            "line": {
             "colorbar": {
              "outlinewidth": 0,
              "ticks": ""
             }
            },
            "marker": {
             "colorbar": {
              "outlinewidth": 0,
              "ticks": ""
             }
            },
            "type": "scatter3d"
           }
          ],
          "scattercarpet": [
           {
            "marker": {
             "colorbar": {
              "outlinewidth": 0,
              "ticks": ""
             }
            },
            "type": "scattercarpet"
           }
          ],
          "scattergeo": [
           {
            "marker": {
             "colorbar": {
              "outlinewidth": 0,
              "ticks": ""
             }
            },
            "type": "scattergeo"
           }
          ],
          "scattergl": [
           {
            "marker": {
             "colorbar": {
              "outlinewidth": 0,
              "ticks": ""
             }
            },
            "type": "scattergl"
           }
          ],
          "scattermapbox": [
           {
            "marker": {
             "colorbar": {
              "outlinewidth": 0,
              "ticks": ""
             }
            },
            "type": "scattermapbox"
           }
          ],
          "scatterpolar": [
           {
            "marker": {
             "colorbar": {
              "outlinewidth": 0,
              "ticks": ""
             }
            },
            "type": "scatterpolar"
           }
          ],
          "scatterpolargl": [
           {
            "marker": {
             "colorbar": {
              "outlinewidth": 0,
              "ticks": ""
             }
            },
            "type": "scatterpolargl"
           }
          ],
          "scatterternary": [
           {
            "marker": {
             "colorbar": {
              "outlinewidth": 0,
              "ticks": ""
             }
            },
            "type": "scatterternary"
           }
          ],
          "surface": [
           {
            "colorbar": {
             "outlinewidth": 0,
             "ticks": ""
            },
            "colorscale": [
             [
              0,
              "#0d0887"
             ],
             [
              0.1111111111111111,
              "#46039f"
             ],
             [
              0.2222222222222222,
              "#7201a8"
             ],
             [
              0.3333333333333333,
              "#9c179e"
             ],
             [
              0.4444444444444444,
              "#bd3786"
             ],
             [
              0.5555555555555556,
              "#d8576b"
             ],
             [
              0.6666666666666666,
              "#ed7953"
             ],
             [
              0.7777777777777778,
              "#fb9f3a"
             ],
             [
              0.8888888888888888,
              "#fdca26"
             ],
             [
              1,
              "#f0f921"
             ]
            ],
            "type": "surface"
           }
          ],
          "table": [
           {
            "cells": {
             "fill": {
              "color": "#EBF0F8"
             },
             "line": {
              "color": "white"
             }
            },
            "header": {
             "fill": {
              "color": "#C8D4E3"
             },
             "line": {
              "color": "white"
             }
            },
            "type": "table"
           }
          ]
         },
         "layout": {
          "annotationdefaults": {
           "arrowcolor": "#2a3f5f",
           "arrowhead": 0,
           "arrowwidth": 1
          },
          "autotypenumbers": "strict",
          "coloraxis": {
           "colorbar": {
            "outlinewidth": 0,
            "ticks": ""
           }
          },
          "colorscale": {
           "diverging": [
            [
             0,
             "#8e0152"
            ],
            [
             0.1,
             "#c51b7d"
            ],
            [
             0.2,
             "#de77ae"
            ],
            [
             0.3,
             "#f1b6da"
            ],
            [
             0.4,
             "#fde0ef"
            ],
            [
             0.5,
             "#f7f7f7"
            ],
            [
             0.6,
             "#e6f5d0"
            ],
            [
             0.7,
             "#b8e186"
            ],
            [
             0.8,
             "#7fbc41"
            ],
            [
             0.9,
             "#4d9221"
            ],
            [
             1,
             "#276419"
            ]
           ],
           "sequential": [
            [
             0,
             "#0d0887"
            ],
            [
             0.1111111111111111,
             "#46039f"
            ],
            [
             0.2222222222222222,
             "#7201a8"
            ],
            [
             0.3333333333333333,
             "#9c179e"
            ],
            [
             0.4444444444444444,
             "#bd3786"
            ],
            [
             0.5555555555555556,
             "#d8576b"
            ],
            [
             0.6666666666666666,
             "#ed7953"
            ],
            [
             0.7777777777777778,
             "#fb9f3a"
            ],
            [
             0.8888888888888888,
             "#fdca26"
            ],
            [
             1,
             "#f0f921"
            ]
           ],
           "sequentialminus": [
            [
             0,
             "#0d0887"
            ],
            [
             0.1111111111111111,
             "#46039f"
            ],
            [
             0.2222222222222222,
             "#7201a8"
            ],
            [
             0.3333333333333333,
             "#9c179e"
            ],
            [
             0.4444444444444444,
             "#bd3786"
            ],
            [
             0.5555555555555556,
             "#d8576b"
            ],
            [
             0.6666666666666666,
             "#ed7953"
            ],
            [
             0.7777777777777778,
             "#fb9f3a"
            ],
            [
             0.8888888888888888,
             "#fdca26"
            ],
            [
             1,
             "#f0f921"
            ]
           ]
          },
          "colorway": [
           "#636efa",
           "#EF553B",
           "#00cc96",
           "#ab63fa",
           "#FFA15A",
           "#19d3f3",
           "#FF6692",
           "#B6E880",
           "#FF97FF",
           "#FECB52"
          ],
          "font": {
           "color": "#2a3f5f"
          },
          "geo": {
           "bgcolor": "white",
           "lakecolor": "white",
           "landcolor": "#E5ECF6",
           "showlakes": true,
           "showland": true,
           "subunitcolor": "white"
          },
          "hoverlabel": {
           "align": "left"
          },
          "hovermode": "closest",
          "mapbox": {
           "style": "light"
          },
          "paper_bgcolor": "white",
          "plot_bgcolor": "#E5ECF6",
          "polar": {
           "angularaxis": {
            "gridcolor": "white",
            "linecolor": "white",
            "ticks": ""
           },
           "bgcolor": "#E5ECF6",
           "radialaxis": {
            "gridcolor": "white",
            "linecolor": "white",
            "ticks": ""
           }
          },
          "scene": {
           "xaxis": {
            "backgroundcolor": "#E5ECF6",
            "gridcolor": "white",
            "gridwidth": 2,
            "linecolor": "white",
            "showbackground": true,
            "ticks": "",
            "zerolinecolor": "white"
           },
           "yaxis": {
            "backgroundcolor": "#E5ECF6",
            "gridcolor": "white",
            "gridwidth": 2,
            "linecolor": "white",
            "showbackground": true,
            "ticks": "",
            "zerolinecolor": "white"
           },
           "zaxis": {
            "backgroundcolor": "#E5ECF6",
            "gridcolor": "white",
            "gridwidth": 2,
            "linecolor": "white",
            "showbackground": true,
            "ticks": "",
            "zerolinecolor": "white"
           }
          },
          "shapedefaults": {
           "line": {
            "color": "#2a3f5f"
           }
          },
          "ternary": {
           "aaxis": {
            "gridcolor": "white",
            "linecolor": "white",
            "ticks": ""
           },
           "baxis": {
            "gridcolor": "white",
            "linecolor": "white",
            "ticks": ""
           },
           "bgcolor": "#E5ECF6",
           "caxis": {
            "gridcolor": "white",
            "linecolor": "white",
            "ticks": ""
           }
          },
          "title": {
           "x": 0.05
          },
          "xaxis": {
           "automargin": true,
           "gridcolor": "white",
           "linecolor": "white",
           "ticks": "",
           "title": {
            "standoff": 15
           },
           "zerolinecolor": "white",
           "zerolinewidth": 2
          },
          "yaxis": {
           "automargin": true,
           "gridcolor": "white",
           "linecolor": "white",
           "ticks": "",
           "title": {
            "standoff": 15
           },
           "zerolinecolor": "white",
           "zerolinewidth": 2
          }
         }
        },
        "xaxis": {
         "anchor": "y",
         "domain": [
          0,
          1
         ],
         "title": {
          "text": "top3_state"
         }
        },
        "yaxis": {
         "anchor": "x",
         "domain": [
          0,
          1
         ],
         "title": {
          "text": "value"
         }
        }
       }
      }
     },
     "metadata": {},
     "output_type": "display_data"
    }
   ],
   "source": [
    "top3 = df.groupby('top3_state').sum()\n",
    "px.funnel(top3, top3.index, top3.columns)"
   ]
  },
  {
   "cell_type": "code",
   "execution_count": null,
   "metadata": {},
   "outputs": [],
   "source": []
  }
 ],
 "metadata": {
  "kernelspec": {
   "display_name": "base",
   "language": "python",
   "name": "python3"
  },
  "language_info": {
   "codemirror_mode": {
    "name": "ipython",
    "version": 3
   },
   "file_extension": ".py",
   "mimetype": "text/x-python",
   "name": "python",
   "nbconvert_exporter": "python",
   "pygments_lexer": "ipython3",
   "version": "3.9.12 (main, Apr  4 2022, 05:22:27) [MSC v.1916 64 bit (AMD64)]"
  },
  "orig_nbformat": 4,
  "vscode": {
   "interpreter": {
    "hash": "9d19b846c981df6691e2bdb59be634a7ebbdaac55797ba17323322a2d3a54045"
   }
  }
 },
 "nbformat": 4,
 "nbformat_minor": 2
}
